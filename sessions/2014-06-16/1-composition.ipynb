{
 "metadata": {
  "name": "",
  "signature": "sha256:2d03dbf04e4bbe88ba03eebca8e5b9a05ed9a4ae8eed0dfff31bf1f7a3b623f4"
 },
 "nbformat": 3,
 "nbformat_minor": 0,
 "worksheets": [
  {
   "cells": [
    {
     "cell_type": "markdown",
     "metadata": {},
     "source": [
      "Functional programming\n",
      "===\n",
      "\n",
      "*Again, I'm using material derived from someone else's tutorial.\n",
      "This time, thanks are due to Matthew Rocklin for his tutorial at the 2013 PyData conference.\n",
      "His original materials are available on github:*\n",
      "\n",
      "    cd ~/repos/external  # simply where I choose to download stuff\n",
      "    git clone git@github.com:mrocklin/pydata-toolz\n",
      "    \n",
      "*... and the tutorial itself is viewable on Vimeo:*"
     ]
    },
    {
     "cell_type": "code",
     "collapsed": false,
     "input": [
      "from IPython.display import VimeoVideo\n",
      "\n",
      "VimeoVideo(80096814)"
     ],
     "language": "python",
     "metadata": {},
     "outputs": []
    },
    {
     "cell_type": "markdown",
     "metadata": {},
     "source": [
      "We will use a bit from Rocklin's package `toolz`, so let's install it, and in the process review how to install packages.\n",
      "\n",
      "**1: Try `conda`.**\n",
      "The most straightforward way to install a package is through `conda`:\n",
      "\n",
      "    conda install <package-name> -n <env-name>\n",
      "    \n",
      "So in this case you would try (assuming you named your environment `python3` as I suggested at one of thie first sessions)\n",
      "\n",
      "    conda install toolz -n python3\n",
      "    \n",
      "Unfortunately, this package is not on `conda`:\n",
      "\n",
      "    Fetching package metadata: ...\n",
      "    Error: No packages found matching: toolz\n",
      "    \n",
      "**2: Try `pip`.**\n",
      "`pip` is the built-in Python package installer.\n",
      "\n",
      "*Side note:*\n",
      "The reason we prefer `conda` is that `pip` can only handle source code, not compiled binaries.\n",
      "Your system (especially if it's Windows) may not be set up to compile C code, which a lot of scientific Python packages include.\n",
      "`conda`, on the other hand, downloads binaries that are already compiled.\n",
      "However, many packages, including `toolz`, don't include C code, and so will install fine from `pip` on any machine.\n",
      "\n",
      "Another reason to prefer `conda` is that it has this handy `-n` option that lets us specify which environment to install into.\n",
      "To use `pip` with a specific environment we either have to find that environment's `pip` executable, or activate the environment.\n",
      "We've been doing the former for the most part.\n",
      "\n",
      "    /path/to/env/pip install toolz\n",
      "    \n",
      "On Windows this is probably:\n",
      "\n",
      "    ~/Anaconda/envs/python3/scripts/pip install toolz\n",
      "    \n",
      "and on OSX/Linux:\n",
      "\n",
      "    ~/anaconda/envs/python3/bin/pip install toolz\n",
      "    \n",
      "*Alternatively, use activation.*\n",
      "Activating an environment is handy.\n",
      "It means you don't have to find the explicit path to `pip`, `ipython`, and other executables.\n",
      "\n",
      "On OSX/Linux:\n",
      "\n",
      "    source activate python3\n",
      "    pip install toolz\n",
      "    \n",
      "If `source activate` doesn't work for you, most likely you didn't read the setup instructions carefully enough and chose the default \"No\" when Anaconda asked if it could change your path.\n",
      "Instead you need to specify the explicit path of `activate` (and if it doesn't work explore your filesystem to find where it lives):\n",
      "\n",
      "    source ~/anaconda/bin/activate python3\n",
      "    \n",
      "On Windows activation unfortunately does not work from Bash.\n",
      "Instead you would need to use the Anaconda Command Prompt which you should be able to find in your Start menu.\n",
      "(Alternatively, if you followed my advice and installed ConEmu, you can start Anaconda Command Prompt in a new tab).\n",
      "Anaconda Command Prompt uses Windows syntax, not Bash.\n",
      "It will work for running `conda`, `pip`, `python`, `ipython`, but not `hg`, `git`, or any of the Bash commands we learned back on day one.\n",
      "Even navigating directories uses different commands.\n",
      "So, you may find it to be convenient for managing your `conda` environments and launching the IPython Notebook.\n",
      "*Note that activation only affects one terminal window.\n",
      "Activating an environment in Anaconda Command Prompt will not also activate it in a Bash terminal you have open.*\n",
      "\n",
      "So to sum up, this should work on Windows in the Anaconda Command Prompt:\n",
      "\n",
      "    activate python3\n",
      "    pip install toolz\n",
      "    \n",
      "Similarly, you could launch `ipython notebook` this way if you prefer.\n",
      "\n",
      "**3: Install from source.**\n",
      "We won't actually do it here (because `pip` should work), but for completeness, this is the last-resort way to install something that's not even on `pip`, or if you need the absolute latest version.\n",
      "\n",
      " 1. Download the source code.\n",
      "    There should be instructions on the website but most likely you will do either `git clone <url>` or `hg clone <url>`.\n",
      "    \n",
      " 2. `cd` into the downloaded directory.\n",
      " \n",
      " 3. Run `pip install .`\n",
      "    (note that there is a `.` in the command).\n",
      "    Remember that `.` means \"this directory\" so this telling `pip` to install from the current directory rather than from its usual internet repositories.\n",
      "    All the caveats above about using the full path to the environment's `pip` (or activating the environment) still apply."
     ]
    },
    {
     "cell_type": "markdown",
     "metadata": {},
     "source": [
      "### What is functional programming?\n",
      "Functional programming is a paradigm that is contrasted with *imperative* programming.\n",
      "You may here people say things like \"you shouldn't do functional programming with Python,\" and they are probably right.\n",
      "What we are not really discussing *pure* functional programming, but rather some aspects of it that are useful for data analysis in Python.\n",
      "\n",
      "**Signs of functional programming in Python**\n",
      " - passing functions to other functions (higher order functions)\n",
      " - composition of functions\n",
      " - more generally, functions as data\n",
      " - laziness\n",
      " - purity--avoidance of state, side effects, and mutation\n",
      " \n",
      "**Why?**\n",
      " - Productivity increase?\n",
      " - Easy transition to parallel processing\n",
      " - More testable and reliable (provable if you're a CS academic)\n",
      " - In data analysis you end up doing a lot of functional stuff anyway\n",
      " \n",
      "**Why not?**\n",
      " - Inaccessible\n",
      " \n",
      "In my opinion, using bits and pieces of functional programming can still be Pythonic (i.e. accessible), and in fact a lot of Python code has functional elements whether or not it knows it.\n",
      "\n",
      "\n",
      "**Interface**\n",
      "For functional programming, we are going to use the standard Python data structures.\n",
      "Functional programming is also about standardization.\n",
      "```python\n",
      "tuple\n",
      "list\n",
      "dict\n",
      "set\n",
      "function\n",
      "generator\n",
      "```\n",
      "\n",
      "We aren't going to make custom interfasces using classes.\n",
      "Object-oriented programming is at odds with functional programming."
     ]
    },
    {
     "cell_type": "markdown",
     "metadata": {},
     "source": [
      "### Book example\n",
      "*Object-oriented*"
     ]
    },
    {
     "cell_type": "code",
     "collapsed": false,
     "input": [
      "class JournalArticle:\n",
      "    def __init__(self, authors, title, year, journal):\n",
      "        self.authors = authors\n",
      "        self.title = title\n",
      "        self.year = year\n",
      "        self.journal = journal\n",
      "        \n",
      "        \n",
      "article = JournalArticle(\n",
      "    ['C. Vesper', 'M. J. Richardson'],\n",
      "    'Strategic communication and behavioral coupling in asymmetric joint action',\n",
      "    2014,\n",
      "    'Experimental Brain Research'\n",
      ")"
     ],
     "language": "python",
     "metadata": {},
     "outputs": []
    },
    {
     "cell_type": "markdown",
     "metadata": {},
     "source": [
      "*Just a dictionary*"
     ]
    },
    {
     "cell_type": "code",
     "collapsed": false,
     "input": [
      "article = {\n",
      "    'authors': ['C. Vesper', 'M. J. Richardson'],\n",
      "    'title': 'Strategic communication and behavioral coupling in asymmetric joint action',\n",
      "    'year': 2014,\n",
      "    'journal': 'Experimental Brain Research',\n",
      "}"
     ],
     "language": "python",
     "metadata": {},
     "outputs": []
    },
    {
     "cell_type": "markdown",
     "metadata": {},
     "source": [
      "The former can be nice, you can make a method to make it print nicer, for example.\n",
      "On the other hand, pretty much any Python library can do something with the latter, and you don't need to look up how `JournalArticle` works to do something with  dictionary.\n",
      "Don't use objects until you absolutely have to."
     ]
    },
    {
     "cell_type": "markdown",
     "metadata": {},
     "source": [
      "# Composition"
     ]
    },
    {
     "cell_type": "code",
     "collapsed": false,
     "input": [
      "from IPython.display import Image\n",
      "\n",
      "Image('wrench-hammer.png')"
     ],
     "language": "python",
     "metadata": {},
     "outputs": []
    },
    {
     "cell_type": "markdown",
     "metadata": {},
     "source": [
      "Because the hammer has a very general design (apply percussive force), it can be used with something it was not originally designed to work with. This is called *composition*.\n",
      "\n",
      "Over the years a standard library of tools has converged across many langauges.\n",
      "Python has many of them, especially in the modules `itertools` and `functools`.\n",
      "The library `toolz` is an attempt to implement some of the tools that are missing."
     ]
    },
    {
     "cell_type": "markdown",
     "metadata": {},
     "source": [
      "### Functions as data"
     ]
    },
    {
     "cell_type": "code",
     "collapsed": false,
     "input": [
      "def square(x):\n",
      "    return x ** 2\n",
      "\n",
      "def iseven(n):\n",
      "    return n % 2 == 0\n",
      "\n",
      "def add(x, y):\n",
      "    return x + y\n",
      "\n",
      "def mul(x, y):\n",
      "    return x * y\n",
      "\n",
      "def lesser(x, y):\n",
      "    if x < y:\n",
      "        return x\n",
      "    else:\n",
      "        return y\n",
      "\n",
      "def greater(x, y):\n",
      "    if x > y:\n",
      "        return x\n",
      "    else:\n",
      "        return y"
     ],
     "language": "python",
     "metadata": {},
     "outputs": []
    },
    {
     "cell_type": "markdown",
     "metadata": {},
     "source": [
      "We can treat functions like variables."
     ]
    },
    {
     "cell_type": "code",
     "collapsed": false,
     "input": [
      "chosen_transformation = square"
     ],
     "language": "python",
     "metadata": {},
     "outputs": []
    },
    {
     "cell_type": "markdown",
     "metadata": {},
     "source": [
      "Functions are objects just like everything else in Python (they are first-class objects)."
     ]
    },
    {
     "cell_type": "code",
     "collapsed": false,
     "input": [
      "type(square)"
     ],
     "language": "python",
     "metadata": {},
     "outputs": []
    },
    {
     "cell_type": "code",
     "collapsed": false,
     "input": [
      "type(type(square))"
     ],
     "language": "python",
     "metadata": {},
     "outputs": []
    },
    {
     "cell_type": "code",
     "collapsed": false,
     "input": [
      "dir(square)"
     ],
     "language": "python",
     "metadata": {},
     "outputs": []
    },
    {
     "cell_type": "markdown",
     "metadata": {},
     "source": [
      "We can use functions as arguments to other functions."
     ]
    },
    {
     "cell_type": "code",
     "collapsed": false,
     "input": [
      "list(map(squared, range(10)))"
     ],
     "language": "python",
     "metadata": {},
     "outputs": []
    },
    {
     "cell_type": "markdown",
     "metadata": {},
     "source": [
      "We can make functions that make other functions.\n",
      "\n",
      "```python\n",
      "f = make_func(...)\n",
      "```\n",
      "\n",
      "Functions that consume or produce functions are *higher-order* functions."
     ]
    },
    {
     "cell_type": "code",
     "collapsed": false,
     "input": [
      "# Example: Iterate over a list of functions\n",
      "\n",
      "data = [5, 2, 7, 3, 9]\n",
      "functions = [len, sum, min, max, all]\n",
      "for f in functions:\n",
      "    print(f.__name__, '=', f(data))"
     ],
     "language": "python",
     "metadata": {},
     "outputs": []
    },
    {
     "cell_type": "markdown",
     "metadata": {},
     "source": [
      "### A common Python pattern"
     ]
    },
    {
     "cell_type": "code",
     "collapsed": false,
     "input": [
      "print(data)\n",
      "\n",
      "results = []\n",
      "for item in data:\n",
      "    results.append(square(item))\n",
      "    \n",
      "print(results)"
     ],
     "language": "python",
     "metadata": {},
     "outputs": []
    },
    {
     "cell_type": "code",
     "collapsed": false,
     "input": [
      "def fib(n):\n",
      "    a = 0\n",
      "    b = 1\n",
      "    for i in range(n):\n",
      "        a, b = b, a + b\n",
      "    return a\n",
      "\n",
      "integers = [1, 2, 3, 4, 5, 6]\n",
      "\n",
      "results = []\n",
      "for item in integers:\n",
      "    results.append(fib(item))\n",
      "\n",
      "print(results)"
     ],
     "language": "python",
     "metadata": {},
     "outputs": []
    },
    {
     "cell_type": "markdown",
     "metadata": {},
     "source": [
      "We should hate writing the same code twice.\n",
      "Whenever we write the same code twice we should make a function.\n",
      "\n",
      "So let's make a function.\n",
      "What should the inputs be?\n",
      "What are the things that change between the two above examples?"
     ]
    },
    {
     "cell_type": "markdown",
     "metadata": {},
     "source": [
      "1. The data\n",
      "2. The function\n",
      "\n",
      "So we want a function that takes two things: a list and a function."
     ]
    },
    {
     "cell_type": "markdown",
     "metadata": {},
     "source": [
      "### `map`"
     ]
    },
    {
     "cell_type": "code",
     "collapsed": false,
     "input": [
      "# Underscore so as not to override the builtin map\n",
      "# (which does the same thing)\n",
      "def map_(function, sequence):  \n",
      "    result = []\n",
      "    for item in sequence:\n",
      "        result.append(function(item))\n",
      "    return result\n",
      "\n",
      "map_(fib, integers)"
     ],
     "language": "python",
     "metadata": {},
     "outputs": []
    },
    {
     "cell_type": "code",
     "collapsed": false,
     "input": [
      "map_(square, data)"
     ],
     "language": "python",
     "metadata": {},
     "outputs": []
    },
    {
     "cell_type": "code",
     "collapsed": false,
     "input": [
      "map(square, data)"
     ],
     "language": "python",
     "metadata": {},
     "outputs": []
    },
    {
     "cell_type": "code",
     "collapsed": false,
     "input": [
      "list(map(square, data))"
     ],
     "language": "python",
     "metadata": {},
     "outputs": []
    },
    {
     "cell_type": "markdown",
     "metadata": {},
     "source": [
      "This pattern is so important it has been elevated to standard language syntax: the list comprehension."
     ]
    },
    {
     "cell_type": "code",
     "collapsed": false,
     "input": [
      "[fib(item) for item in integers]"
     ],
     "language": "python",
     "metadata": {},
     "outputs": []
    },
    {
     "cell_type": "markdown",
     "metadata": {},
     "source": [
      "Object methods are perfectly valid functions:"
     ]
    },
    {
     "cell_type": "code",
     "collapsed": false,
     "input": [
      "names = ['Alice', 'Bob', 'Charlie']\n",
      "list(map(str.upper, names))"
     ],
     "language": "python",
     "metadata": {},
     "outputs": []
    },
    {
     "cell_type": "code",
     "collapsed": false,
     "input": [
      "[name.upper() for name in names]"
     ],
     "language": "python",
     "metadata": {},
     "outputs": []
    },
    {
     "cell_type": "markdown",
     "metadata": {},
     "source": [
      "### `filter`\n",
      "\n",
      "Look at my data, only select the ones where some function returns True."
     ]
    },
    {
     "cell_type": "code",
     "collapsed": false,
     "input": [
      "def iseven(n):\n",
      "    return n % 2 == 0\n",
      "\n",
      "\n",
      "filter(iseven, integers)"
     ],
     "language": "python",
     "metadata": {},
     "outputs": []
    },
    {
     "cell_type": "code",
     "collapsed": false,
     "input": [
      "list(filter(iseven, integers))"
     ],
     "language": "python",
     "metadata": {},
     "outputs": []
    },
    {
     "cell_type": "code",
     "collapsed": false,
     "input": [
      "[item for item in integers if iseven(item)]"
     ],
     "language": "python",
     "metadata": {},
     "outputs": []
    },
    {
     "cell_type": "code",
     "collapsed": false,
     "input": [
      "from sympy import isprime\n",
      "\n",
      "[i for i in range(50) if isprime(i)]"
     ],
     "language": "python",
     "metadata": {},
     "outputs": []
    },
    {
     "cell_type": "markdown",
     "metadata": {},
     "source": [
      "### `reduce`"
     ]
    },
    {
     "cell_type": "code",
     "collapsed": false,
     "input": [
      "def add(x, y):\n",
      "    return x + y"
     ],
     "language": "python",
     "metadata": {},
     "outputs": []
    },
    {
     "cell_type": "code",
     "collapsed": false,
     "input": [
      "def sum_(data):\n",
      "    result = 0\n",
      "    for x in data:\n",
      "        result = add(result, x)\n",
      "    return result"
     ],
     "language": "python",
     "metadata": {},
     "outputs": []
    },
    {
     "cell_type": "code",
     "collapsed": false,
     "input": [
      "print(data, sum_(data))"
     ],
     "language": "python",
     "metadata": {},
     "outputs": []
    },
    {
     "cell_type": "code",
     "collapsed": false,
     "input": [
      "def lesser(x, y):\n",
      "    return x if x < y else y"
     ],
     "language": "python",
     "metadata": {},
     "outputs": []
    },
    {
     "cell_type": "code",
     "collapsed": false,
     "input": [
      "def min_(data):\n",
      "    result = 99999999999\n",
      "    for x in data:\n",
      "        result = lesser(result, x)\n",
      "    return result"
     ],
     "language": "python",
     "metadata": {},
     "outputs": []
    },
    {
     "cell_type": "code",
     "collapsed": false,
     "input": [
      "print(data, min_(data))"
     ],
     "language": "python",
     "metadata": {},
     "outputs": []
    },
    {
     "cell_type": "markdown",
     "metadata": {},
     "source": [
      "Both `sum` and `min` take a large dataset and give you a single number.\n",
      "\n",
      "They also take a starting value, and a binary operator (two inputs).\n",
      "\n",
      "This defines a family of functions.\n",
      "\n",
      "```\n",
      "add     --> sum\n",
      "mul     --> prod\n",
      "lesser  --> min\n",
      "greater --> max\n",
      "...\n",
      "```"
     ]
    },
    {
     "cell_type": "markdown",
     "metadata": {},
     "source": [
      "`reduce` was actually taken out of the Python built-ins and is now in `functools`.\n",
      "Usually a `for` loops is more readable.\n",
      "But the concept is interesting."
     ]
    },
    {
     "cell_type": "code",
     "collapsed": false,
     "input": [
      "from functools import reduce\n",
      "\n",
      "print(data, reduce(min, data, 999999))"
     ],
     "language": "python",
     "metadata": {},
     "outputs": []
    },
    {
     "cell_type": "markdown",
     "metadata": {},
     "source": [
      "###lambda\n",
      "\n",
      "Sometimes when we're manipulating tiny functions it's convenient to use the `lambda` keyword.\n",
      "This simply defines a function on one line.\n",
      "What follows is exactly equivalent to the `squared` we defined above."
     ]
    },
    {
     "cell_type": "code",
     "collapsed": false,
     "input": [
      "squared = lambda x: x**2"
     ],
     "language": "python",
     "metadata": {},
     "outputs": []
    },
    {
     "cell_type": "code",
     "collapsed": false,
     "input": [
      "squared(10)"
     ],
     "language": "python",
     "metadata": {},
     "outputs": []
    },
    {
     "cell_type": "markdown",
     "metadata": {},
     "source": [
      "It is useful for making tiny functions on the fly."
     ]
    },
    {
     "cell_type": "code",
     "collapsed": false,
     "input": [
      "reduce(lambda x, y: x + y, data, 0)"
     ],
     "language": "python",
     "metadata": {},
     "outputs": []
    },
    {
     "cell_type": "markdown",
     "metadata": {},
     "source": [
      "We can also use `lambda` to easily specify functions as specific cases of more general ones."
     ]
    },
    {
     "cell_type": "code",
     "collapsed": false,
     "input": [
      "sum_ = lambda data: reduce(add, data, 0)\n",
      "min_ = lambda data: reduce(lesser, data, 99999999)\n",
      "\n",
      "sum_(integers)"
     ],
     "language": "python",
     "metadata": {},
     "outputs": []
    },
    {
     "cell_type": "markdown",
     "metadata": {},
     "source": [
      "###`groupby`\n",
      "Sort of like `filter` but way more powerful.\n",
      "Rather than give you a subset of the dataset it divides the data into relevant subsets."
     ]
    },
    {
     "cell_type": "code",
     "collapsed": false,
     "input": [
      "list(filter(iseven, data))"
     ],
     "language": "python",
     "metadata": {},
     "outputs": []
    },
    {
     "cell_type": "code",
     "collapsed": false,
     "input": [
      "from toolz import groupby\n",
      "\n",
      "groupby(iseven, data)"
     ],
     "language": "python",
     "metadata": {},
     "outputs": []
    },
    {
     "cell_type": "code",
     "collapsed": false,
     "input": [
      "groupby(isprime, range(10))"
     ],
     "language": "python",
     "metadata": {},
     "outputs": []
    },
    {
     "cell_type": "markdown",
     "metadata": {},
     "source": [
      "`groupby` is not restricted to functions that return True or False."
     ]
    },
    {
     "cell_type": "code",
     "collapsed": false,
     "input": [
      "groupby(lambda n: n % 3, range(12))"
     ],
     "language": "python",
     "metadata": {},
     "outputs": []
    },
    {
     "cell_type": "code",
     "collapsed": false,
     "input": [
      "groupby(len, ['Alice', 'Bob', 'Charlie', 'Don', 'Edith', 'Frank'])"
     ],
     "language": "python",
     "metadata": {},
     "outputs": []
    },
    {
     "cell_type": "markdown",
     "metadata": {},
     "source": [
      "There is also a `groupby` in `itertools` which works with any stream of data.\n",
      "The difference is, in order to support streams, it only considers items equivalent back-to-back.\n",
      "(It's the same if the data is already sorted)"
     ]
    },
    {
     "cell_type": "markdown",
     "metadata": {},
     "source": [
      "###`accumulate`"
     ]
    },
    {
     "cell_type": "code",
     "collapsed": false,
     "input": [
      "data = range(10, 20)\n",
      "print(data)"
     ],
     "language": "python",
     "metadata": {},
     "outputs": []
    },
    {
     "cell_type": "code",
     "collapsed": false,
     "input": [
      "from toolz import accumulate\n",
      "accumulate(add, data)"
     ],
     "language": "python",
     "metadata": {},
     "outputs": []
    },
    {
     "cell_type": "code",
     "collapsed": false,
     "input": [
      "list(accumulate(add, data))"
     ],
     "language": "python",
     "metadata": {},
     "outputs": []
    },
    {
     "cell_type": "code",
     "collapsed": false,
     "input": [
      "cumsum = lambda x: accumulate(add, x)"
     ],
     "language": "python",
     "metadata": {},
     "outputs": []
    },
    {
     "cell_type": "code",
     "collapsed": false,
     "input": [
      "list(cumsum(data))"
     ],
     "language": "python",
     "metadata": {},
     "outputs": []
    }
   ],
   "metadata": {}
  }
 ]
}