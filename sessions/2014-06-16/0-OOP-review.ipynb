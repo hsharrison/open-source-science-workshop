{
 "metadata": {
  "name": "",
  "signature": "sha256:781c864414d4da4b0d87820bd9ddba87e87faedfe3312b3b7d57ec74c746cadd"
 },
 "nbformat": 3,
 "nbformat_minor": 0,
 "worksheets": [
  {
   "cells": [
    {
     "cell_type": "markdown",
     "metadata": {},
     "source": [
      "Object-Oriented Programming review\n",
      "===\n",
      "\n",
      "There is a dichotomy in programming between *state* and *behavior*.\n",
      "In Python, in our root namespace, we typically have two sorts of things, data structures and functions, that correspond to this dichotomy.\n",
      "\n",
      "An *object* is a way to encapsulate some behavior and some state into one bundle.\n",
      "In Python, everything is an object.\n",
      "A `list`, for example, is a data structure with some state, but it also has behavior, in the form of its *methods* like `list.append`.\n",
      "\n",
      "A Python object has two sorts of things you can access following the dot:\n",
      "\n",
      " - *attributes* are variables that are attached to an object.\n",
      " - *methods* are functions attached to an object.\n",
      " \n",
      "For example, we made a `Rocket` class:"
     ]
    },
    {
     "cell_type": "code",
     "collapsed": false,
     "input": [
      "class Rocket:\n",
      "    def __init__(self, x0):\n",
      "        self.x = x0\n",
      "        self.y = 0\n",
      "        \n",
      "    def move_up(self, distance=1):\n",
      "        self.y += distance"
     ],
     "language": "python",
     "metadata": {},
     "outputs": []
    },
    {
     "cell_type": "markdown",
     "metadata": {},
     "source": [
      "A class is a thing that makes objects.\n",
      "It's callable, like a function.\n",
      "Every time you call it you get a specific *instance* of that class.\n",
      "Think of it in the same category as the builtins `list`, `dict`, `set`, etc.\n",
      "\n",
      "Each `Rocket` has two attributes, `x` and `y`, and one method, `move_up`."
     ]
    },
    {
     "cell_type": "code",
     "collapsed": false,
     "input": [
      "my_rocket = Rocket(1)\n",
      "print('x:', my_rocket.x, 'y:', my_rocket.y)"
     ],
     "language": "python",
     "metadata": {},
     "outputs": []
    },
    {
     "cell_type": "code",
     "collapsed": false,
     "input": [
      "my_rocket.move_up()\n",
      "print('x:', my_rocket.x, 'y:', my_rocket.y)"
     ],
     "language": "python",
     "metadata": {},
     "outputs": []
    },
    {
     "cell_type": "markdown",
     "metadata": {},
     "source": [
      "Finally, we might say that an object has affordances, or perhaps effectivities, which are given by the \"dunder\" methods that start and end with two underscores (also called *magic methods*).\n",
      "Each magic method tells Python how the object should behave in a certain situation.\n",
      "Here are some magic methods:\n",
      "\n",
      " - `__init__`: how to initialize me\n",
      " - `__str__`: how to print me (more generally, how to get a string from me)\n",
      " - `__bool_`: how to know if I am True or False (e.g. if used in an `if` statement)\n",
      " - `__add__`, `__sub__`, `__mul__`, etc.: how to use arithmetic on me\n",
      " - `__iadd__`, `__isub__`, etc.: how to use in-place arithmetic on me\n",
      " - `__radd__`, `__rsub__`, etc.: how to add (etc.) me on the right (if the object on the left has no `__add__` method.\n",
      " - `__eq__`: how to know if I am equal to some other thing\n",
      " - `__len__`: how long am I\n",
      " - `__getitem__`: how to index into me using square brackets\n",
      " - `__iter__`: how to get an iterator from me. If I have `__iter__`, I am an *iterable*. (Often `__iter__` just returns `self`, in which case the object is its own iterator)\n",
      " - `__next__`: how to get the next item from me. If I have `__next__`, I am an *iterator*.\n",
      " - `__call__`: how to call me (i.e. putting parentheses after me). If I have `__call__`, I am a *callable*.\n",
      " \n",
      "There are also magic attributes, though they are less common.\n",
      "For example here are two that a function will have:\n",
      "\n",
      " - `__name__`: the name of the function\n",
      " - `__doc__`: its docstring"
     ]
    },
    {
     "cell_type": "markdown",
     "metadata": {},
     "source": [
      "## Code reading exercise\n",
      "\n",
      "You won't often make many classes, although there may be times when putting in a bit of effort upfront will make your life easier for many future projects.\n",
      "However, understanding objects is key to developing your intuitions with Python.\n",
      "So, let's do a code-*reading* exercise."
     ]
    },
    {
     "cell_type": "markdown",
     "metadata": {},
     "source": [
      "### A class for autoregressive models:\n",
      "\n",
      "http://en.wikipedia.org/wiki/Autoregressive_model\n",
      "\n",
      "$$\n",
      "X_t = \\sum_{i=1}^p a_i X_{t-i} + \\epsilon(t)\n",
      "$$\n",
      "\n",
      "where $a_1,\\cdots,a_p$ are the model parameters, and $\\epsilon(t)$ is white noise with mean 0 and standard deviation $\\sigma$.\n",
      "\n",
      "In short, each successive element of $a$ gets multiplied by a lagged value of $X$: $a_1$ is multiplied by $X_{t-1}$, $a_2$ is multiplied by $X_{t-2}$, etc., and then a random value is added.\n",
      "The order $p$ of the model is the number of parameters in $a$.\n",
      "An $AR(1)$ model has only $a_1$, and it's current value is only affected by the history at lag-1, for example."
     ]
    },
    {
     "cell_type": "markdown",
     "metadata": {},
     "source": [
      "For the exercise, see if you can figure out what's going on; where you can't, ask questions and we'll discuss it with each other. You may need to look up in the Python documentation `deque` and `islice`."
     ]
    },
    {
     "cell_type": "code",
     "collapsed": false,
     "input": [
      "from collections import deque\n",
      "from itertools import islice\n",
      "from numpy.random import randn  # Random from normal distribution.\n",
      "\n",
      "\n",
      "class AR:\n",
      "    \"\"\"Autoregressive model.\n",
      "    \n",
      "    Parameters\n",
      "    ----------\n",
      "    a : list\n",
      "        Autoregressive parameters.\n",
      "        len(a) is the order p of the AR model.\n",
      "    \n",
      "    x_init : list, optional\n",
      "        History at t=0.\n",
      "      \n",
      "    sigma, optional : float\n",
      "        Standard deviation of white noise in model.\n",
      "      \n",
      "    \"\"\"\n",
      "    def __init__(self, a, x_init=None, sigma=1):\n",
      "        self.p = len(a)\n",
      "        self.a = a\n",
      "        self.sigma = sigma\n",
      "        \n",
      "        self.x = deque(x_init or [0], maxlen=self.p)\n",
      "\n",
      "        # An AR model must begin with a history.\n",
      "        while len(self.x) < self.p:\n",
      "            self.x.append(self.x[-1])\n",
      "            \n",
      "    def __iter__(self):\n",
      "        return self\n",
      "    \n",
      "    def __next__(self):\n",
      "        deterministic = sum(a*x for a, x in zip(self.a, reversed(self.x)))\n",
      "        noise = randn() * self.sigma\n",
      "        self.x.append(deterministic + noise)\n",
      "        return self.x[-1]\n",
      "    \n",
      "    def simulate(self, n):\n",
      "        \"\"\"Simulate model.\n",
      "        \n",
      "        Parameters\n",
      "        ----------\n",
      "        n : int\n",
      "            Number of steps to stimulate.\n",
      "            \n",
      "        \"\"\"\n",
      "        return list(islice(self, n))"
     ],
     "language": "python",
     "metadata": {},
     "outputs": []
    },
    {
     "cell_type": "markdown",
     "metadata": {},
     "source": [
      "To test, we can plot it.\n",
      "We'll go over the details of plotting in a later session."
     ]
    },
    {
     "cell_type": "code",
     "collapsed": false,
     "input": [
      "import matplotlib.pyplot as plt\n",
      "%matplotlib inline"
     ],
     "language": "python",
     "metadata": {},
     "outputs": []
    },
    {
     "cell_type": "code",
     "collapsed": false,
     "input": [
      "plt.plot(AR([0.4, -0.7]).simulate(100))"
     ],
     "language": "python",
     "metadata": {},
     "outputs": []
    },
    {
     "cell_type": "code",
     "collapsed": false,
     "input": [
      "plt.plot(AR([-0.4, 0.7]).simulate(100))"
     ],
     "language": "python",
     "metadata": {},
     "outputs": []
    }
   ],
   "metadata": {}
  }
 ]
}