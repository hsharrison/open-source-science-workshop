{
 "metadata": {
  "name": "",
  "signature": "sha256:8c75e8a6914009d6599773eb4a880e8b4c077d8ddbc6e63372468009fd69e697"
 },
 "nbformat": 3,
 "nbformat_minor": 0,
 "worksheets": [
  {
   "cells": [
    {
     "cell_type": "markdown",
     "metadata": {},
     "source": [
      "Partial evaluation and currying\n",
      "===\n",
      "\n",
      "Often when program we want to only partially evaluate a function.\n",
      "\n",
      "```python\n",
      "def cumsum(data):\n",
      "    return accumulate(add, data)\n",
      "    \n",
      "def fib_many(data):\n",
      "    return map(fib, data)\n",
      "    ```\n",
      "Both of these examples use a higher-order function (`map` and `accumulate`) with a single specific argument, and leave the second argument open for arbitrary future use.\n",
      "\n",
      "This is like putting a bit into a power drill.\n",
      "We're composing two things to make a more specific thing, but we're not actually using it yet."
     ]
    },
    {
     "cell_type": "code",
     "collapsed": false,
     "input": [
      "from toolz import accumulate\n",
      "\n",
      "def square(x):\n",
      "    return x ** 2\n",
      "\n",
      "def iseven(n):\n",
      "    return n % 2 == 0\n",
      "\n",
      "def add(x, y):\n",
      "    return x + y\n",
      "\n",
      "def mul(x, y):\n",
      "    return x * y\n",
      "\n",
      "def lesser(x, y):\n",
      "    if x < y:\n",
      "        return x\n",
      "    else:\n",
      "        return y\n",
      "\n",
      "def greater(x, y):\n",
      "    if x > y:\n",
      "        return x\n",
      "    else:\n",
      "        return y\n",
      "    \n",
      "def fib(n):\n",
      "    a, b = 0, 1\n",
      "    for i in range(n):\n",
      "        a, b = b, a + b\n",
      "    return b"
     ],
     "language": "python",
     "metadata": {},
     "outputs": []
    },
    {
     "cell_type": "markdown",
     "metadata": {},
     "source": [
      "We have already used lambas to do this."
     ]
    },
    {
     "cell_type": "code",
     "collapsed": false,
     "input": [
      "cumsum = lambda data: accumulate(add, data)\n",
      "\n",
      "# Equivalently:\n",
      "def cumsum(data):\n",
      "    return accumulate(add, data)\n",
      "\n",
      "\n",
      "list(cumsum(range(10)))"
     ],
     "language": "python",
     "metadata": {},
     "outputs": []
    },
    {
     "cell_type": "markdown",
     "metadata": {},
     "source": [
      "Or we can use the function `partial` in `functools`.\n",
      "\n",
      "`partial` takes a function and returns a *partial function*, a function with some of the inputs pre-set."
     ]
    },
    {
     "cell_type": "code",
     "collapsed": false,
     "input": [
      "from functools import partial\n",
      "\n",
      "cumsum = partial(accumulate, add)"
     ],
     "language": "python",
     "metadata": {},
     "outputs": []
    },
    {
     "cell_type": "code",
     "collapsed": false,
     "input": [
      "list(cumsum(range(10)))"
     ],
     "language": "python",
     "metadata": {},
     "outputs": []
    },
    {
     "cell_type": "markdown",
     "metadata": {},
     "source": [
      "### Exercise\n",
      "\n",
      "Partially evaluate the `mul` function to create a new function `double`."
     ]
    },
    {
     "cell_type": "code",
     "collapsed": false,
     "input": [
      "double = ...\n",
      "assert double(5) == 10"
     ],
     "language": "python",
     "metadata": {},
     "outputs": []
    },
    {
     "cell_type": "markdown",
     "metadata": {},
     "source": [
      "## Currying\n",
      "\n",
      "Currying is the idea that all functions can be partially evaluated.\n",
      "If we call a function with not enough arguments, we get an error."
     ]
    },
    {
     "cell_type": "code",
     "collapsed": false,
     "input": [
      "double = mul(2)"
     ],
     "language": "python",
     "metadata": {},
     "outputs": []
    },
    {
     "cell_type": "markdown",
     "metadata": {},
     "source": [
      "Currying a function allows us to call a function with only some arguments, and hold on to those arguments until we need them later."
     ]
    },
    {
     "cell_type": "code",
     "collapsed": false,
     "input": [
      "from toolz import curry\n",
      "\n",
      "mul = curry(mul)\n",
      "double = mul(2)\n",
      "double(5)"
     ],
     "language": "python",
     "metadata": {},
     "outputs": []
    },
    {
     "cell_type": "markdown",
     "metadata": {},
     "source": [
      "This allows for idiomatic expression of functional statements."
     ]
    },
    {
     "cell_type": "code",
     "collapsed": false,
     "input": [
      "accumulate = curry(accumulate)\n",
      "map = curry(map)\n",
      "\n",
      "cumsum = accumulate(add)\n",
      "cumprod = accumulate(mul)\n",
      "\n",
      "fib_many = map(fib)\n",
      "list(fib_many(range(10)))"
     ],
     "language": "python",
     "metadata": {},
     "outputs": []
    }
   ],
   "metadata": {}
  }
 ]
}