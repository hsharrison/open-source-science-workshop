{
 "metadata": {
  "name": "",
  "signature": "sha256:e73bd0aa0b5bf3f8bd75e5bbb11dee496e0003011addea4893a970b873c99288"
 },
 "nbformat": 3,
 "nbformat_minor": 0,
 "worksheets": [
  {
   "cells": [
    {
     "cell_type": "markdown",
     "metadata": {},
     "source": [
      "Recursion\n",
      "===\n",
      "\n",
      "**The fibonacci sequence**\n",
      "\n",
      "$$  x_n = x_{n-1} + x_{n-2}  $$\n",
      "\n",
      "\n",
      "Construct a function `fib(n)` that computes $x_n$ when passed $n$, a position in the fibonacci sequence.\n",
      "\n",
      "Use the form of the definition above.\n",
      "This is a recursive definition, because $x_n$ is defined in terms of $x_{n-1}$ and $x_{n-2}$.\n",
      "Construct a recursive function, that defines `fib(n)` in terms of `fib(n-1)` and `fib(n-2)`.\n",
      "\n",
      "In order to get the sequence started, assume if $n < 2$, $x_n = n$."
     ]
    },
    {
     "cell_type": "code",
     "collapsed": false,
     "input": [
      "def fib(n):\n",
      "    ..."
     ],
     "language": "python",
     "metadata": {},
     "outputs": []
    },
    {
     "cell_type": "code",
     "collapsed": false,
     "input": [
      "assert [fib(n) for n in range(10)] == [0, 1, 1, 2, 3, 5, 8, 13, 21, 34]"
     ],
     "language": "python",
     "metadata": {},
     "outputs": []
    },
    {
     "cell_type": "markdown",
     "metadata": {},
     "source": [
      ".\n",
      "\n",
      ".\n",
      "\n",
      ".\n",
      "\n",
      ".\n",
      "\n",
      ".\n",
      "\n",
      ".\n",
      "\n",
      ".\n",
      "\n",
      ".\n",
      "\n",
      ".\n",
      "\n",
      ".\n",
      "\n",
      ".\n",
      "\n",
      ".\n",
      "\n",
      ".\n",
      "\n",
      ".\n",
      "\n",
      ".\n",
      "\n",
      ".\n",
      "\n",
      ".\n",
      "\n",
      ".\n",
      "\n",
      ".\n",
      "\n",
      "."
     ]
    },
    {
     "cell_type": "code",
     "collapsed": false,
     "input": [
      "def fib(n):\n",
      "    if n < 2:\n",
      "        return n\n",
      "    \n",
      "    else:\n",
      "        return fib(n-1) + fib(n-2)"
     ],
     "language": "python",
     "metadata": {},
     "outputs": []
    },
    {
     "cell_type": "code",
     "collapsed": false,
     "input": [
      "[fib(n) for n in range(1, 30)] "
     ],
     "language": "python",
     "metadata": {},
     "outputs": []
    },
    {
     "cell_type": "markdown",
     "metadata": {},
     "source": [
      "Let's compare this to a more standard way to program `fib`:"
     ]
    },
    {
     "cell_type": "code",
     "collapsed": false,
     "input": [
      "def standard_fib(n):\n",
      "    a, b = 0, 1\n",
      "    for _ in range(n):\n",
      "        a, b = b, a + b\n",
      "    return a\n",
      "\n",
      "[standard_fib(n) for n in range(1, 30)]"
     ],
     "language": "python",
     "metadata": {},
     "outputs": []
    },
    {
     "cell_type": "markdown",
     "metadata": {},
     "source": [
      "If we compare the two implementations in an abstract sense, the first more closely matches up with the mathematical definitions.\n",
      "It tells us *what* `fib` is, but doesn't really say how to compute it.\n",
      "The second version, however, focuses on the `what`.\n",
      "\n",
      "In my opinion, the first way is more elegant and intuitive, especailly in cases where we already have some inuition about the math involved.\n",
      "\n",
      "But is there a cost?"
     ]
    },
    {
     "cell_type": "code",
     "collapsed": false,
     "input": [
      "%%time\n",
      "fib(32)"
     ],
     "language": "python",
     "metadata": {},
     "outputs": []
    },
    {
     "cell_type": "code",
     "collapsed": false,
     "input": [
      "%%time\n",
      "standard_fib(32)"
     ],
     "language": "python",
     "metadata": {},
     "outputs": []
    },
    {
     "cell_type": "markdown",
     "metadata": {},
     "source": [
      "You might have already figured out why the recursive method is slower.\n",
      "We'll go through some steps in order to confirm that conclusion, and then figure out what to do about it.\n",
      "\n",
      "Let's make our function always print out its call, so we can keep track of how often it's getting called."
     ]
    },
    {
     "cell_type": "code",
     "collapsed": false,
     "input": [
      "def fib(n):\n",
      "    print('fib({})'.format(n))\n",
      "    if n < 2:\n",
      "        return n\n",
      "    \n",
      "    else:\n",
      "        return fib(n-1) + fib(n-2)\n",
      "    \n",
      "fib(10)"
     ],
     "language": "python",
     "metadata": {},
     "outputs": []
    },
    {
     "cell_type": "markdown",
     "metadata": {},
     "source": [
      "Can we generalize this?\n",
      "\n",
      "Let's make a function that takes a function, changes it somehow, then gives it back.\n",
      "In this case, the change is that whenever the function is called, it will print its call signature."
     ]
    },
    {
     "cell_type": "code",
     "collapsed": false,
     "input": [
      "def print_signature(function):\n",
      "    \"\"\"\n",
      "    Modify a function so that it prints its signature whenever it is called.\n",
      "    \n",
      "    \"\"\"\n",
      "    def new_version_of_function(n):\n",
      "        print('{}({})'.format(function.__name__, n))\n",
      "        return function(n)\n",
      "    \n",
      "    # Give back the new function.\n",
      "    return new_version_of_function"
     ],
     "language": "python",
     "metadata": {},
     "outputs": []
    },
    {
     "cell_type": "code",
     "collapsed": false,
     "input": [
      "# To test it, we need the original fib.\n",
      "def fib(n):\n",
      "    if n < 2:\n",
      "        return n\n",
      "    \n",
      "    else:\n",
      "        return fib(n-1) + fib(n-2)\n",
      "    \n",
      "# Apply our modification.\n",
      "fib = print_signature(fib)\n",
      "\n",
      "# Test.\n",
      "fib(10)"
     ],
     "language": "python",
     "metadata": {},
     "outputs": []
    },
    {
     "cell_type": "markdown",
     "metadata": {},
     "source": [
      "This technique if wrapping one function in another is called a closure.\n",
      "I think the wrapping metaphor makes it seem too complicated, though.\n",
      "It may be easier to thinking of it as a function that modifies some other function, most commonly by adding some new functionality."
     ]
    },
    {
     "cell_type": "markdown",
     "metadata": {},
     "source": [
      "So let's do another one, this time let's keep track of the input calls.\n",
      "\n",
      "This is a little tricker, since now we're not only adding behavior but adding state.\n",
      "Though this possible without using a` class`, I think using a `class` is more clear."
     ]
    },
    {
     "cell_type": "code",
     "collapsed": false,
     "input": [
      "from collections import Counter\n",
      "\n",
      "class FunctionWithTracking:\n",
      "    \"\"\"\n",
      "    Keeps track of how many times a function is called, by input.\n",
      "    \n",
      "    \"\"\"\n",
      "    def __init__(self, function):\n",
      "        self.function = function\n",
      "        self.calls_by_input = Counter()\n",
      "        \n",
      "    def __call__(self, n):\n",
      "        self.calls_by_input[n] += 1\n",
      "        return self.function(n)"
     ],
     "language": "python",
     "metadata": {},
     "outputs": []
    },
    {
     "cell_type": "code",
     "collapsed": false,
     "input": [
      "inputs = Counter()\n",
      "\n",
      "def track_inputs(function):\n",
      "    def new_version_of_function(n):\n",
      "        inputs[n] += 1\n",
      "        return function(n)\n",
      "    return new_version_of_function"
     ],
     "language": "python",
     "metadata": {},
     "outputs": []
    },
    {
     "cell_type": "code",
     "collapsed": false,
     "input": [
      "def fib(n):\n",
      "    if n in (1, 2):\n",
      "        return 1\n",
      "    \n",
      "    else:\n",
      "        return fib(n-1) + fib(n-2)\n",
      "    \n",
      "fib = track_inputs(fib)\n",
      "\n",
      "fib(10)\n",
      "\n",
      "for n, calls in inputs.items():\n",
      "    print('{:2}: {:2}'.format(n, calls))"
     ],
     "language": "python",
     "metadata": {},
     "outputs": []
    },
    {
     "cell_type": "code",
     "collapsed": false,
     "input": [
      "import matplotlib.pyplot as plt\n",
      "%matplotlib inline"
     ],
     "language": "python",
     "metadata": {},
     "outputs": []
    },
    {
     "cell_type": "code",
     "collapsed": false,
     "input": [
      "ns, frequencies = zip(*fib.calls_by_input.items())\n",
      "plt.bar(ns, frequencies, align='center')"
     ],
     "language": "python",
     "metadata": {},
     "outputs": []
    },
    {
     "cell_type": "markdown",
     "metadata": {},
     "source": [
      "Ok... what about a function that keeps track of its inputs *and* its outputs, and doesn't even bother to run if it already know's what the output is going to be?\n",
      "This is called *caching* or *memoizing*, and it exists in `functools` in the form of `lru_cache`\n",
      "(*least recently used* cache--if it reaches its capacity limit it gets rid of the items that have been least recently used).\n",
      "\n",
      "`lru_cache` is a little strange.\n",
      "It doesn't actually modify the function, instead you give it the cache limit, and it returns the modifier.\n",
      "Then you use *that* to modify your original function.\n",
      "\n",
      "If this sounds convoluted, that's because it is.\n",
      "But hopefully in a minute it will make sense why."
     ]
    },
    {
     "cell_type": "code",
     "collapsed": false,
     "input": [
      "from functools import lru_cache\n",
      "\n",
      "\n",
      "def fib(n):\n",
      "    if n in (1, 2):\n",
      "        return 1\n",
      "    \n",
      "    else:\n",
      "        return fib(n-1) + fib(n-2)\n",
      "    \n",
      "\n",
      "cache_mod = lru_cache(maxsize=None)\n",
      "fib = cache_mod(fib)"
     ],
     "language": "python",
     "metadata": {},
     "outputs": []
    },
    {
     "cell_type": "code",
     "collapsed": false,
     "input": [
      "%%time\n",
      "\n",
      "fib(35)"
     ],
     "language": "python",
     "metadata": {},
     "outputs": []
    },
    {
     "cell_type": "code",
     "collapsed": false,
     "input": [
      "# And the original...\n",
      "def fib(n):\n",
      "    if n in (1, 2):\n",
      "        return 1\n",
      "    \n",
      "    else:\n",
      "        return fib(n-1) + fib(n-2)"
     ],
     "language": "python",
     "metadata": {},
     "outputs": []
    },
    {
     "cell_type": "code",
     "collapsed": false,
     "input": [
      "%%time\n",
      "\n",
      "fib(35)"
     ],
     "language": "python",
     "metadata": {},
     "outputs": []
    },
    {
     "cell_type": "markdown",
     "metadata": {},
     "source": [
      "Thanks to memoization with `lru_cache`, we can keep our elegant formulation of `fib` without the associated computing costs.\n",
      "\n",
      "The lesson is to program what you mean, that is, be as semantically as close as possible to the way you understand the problem.\n",
      "Then go back and write supporting code, additional functions, etc, that make it possible to code in that way."
     ]
    },
    {
     "cell_type": "markdown",
     "metadata": {},
     "source": [
      "## Decorators\n",
      "\n",
      "Python has a bit of \"syntactic sugar\" called *decorators* for messing with functions in this way.\n",
      "You can mod a function with some other function by putting the mod above the defintion.\n",
      "This is the equivalent to the above:"
     ]
    },
    {
     "cell_type": "code",
     "collapsed": false,
     "input": [
      "@lru_cache(maxsize=None)\n",
      "def fib(n):\n",
      "    if n in (1, 2):\n",
      "        return 1\n",
      "    \n",
      "    else:\n",
      "        return fib(n-1) + fib(n-2)"
     ],
     "language": "python",
     "metadata": {},
     "outputs": []
    },
    {
     "cell_type": "code",
     "collapsed": false,
     "input": [
      "%%time\n",
      "fib(35)"
     ],
     "language": "python",
     "metadata": {},
     "outputs": []
    },
    {
     "cell_type": "markdown",
     "metadata": {},
     "source": [
      "You can stack decorators too:"
     ]
    },
    {
     "cell_type": "code",
     "collapsed": false,
     "input": [
      "@lru_cache(maxsize=None)\n",
      "@print_signature\n",
      "def fib(n):\n",
      "    if n in (1, 2):\n",
      "        return 1\n",
      "    \n",
      "    else:\n",
      "        return fib(n-1) + fib(n-2)\n",
      "    \n",
      "\n",
      "fib(10)"
     ],
     "language": "python",
     "metadata": {},
     "outputs": []
    },
    {
     "cell_type": "markdown",
     "metadata": {},
     "source": [
      "### Decorators in OOP\n",
      "\n",
      "There are some built-in function mods, or decorators, that are designed for object methods.\n",
      "The most useful and common is `property`.\n",
      "This makes a method disguised as an attribute."
     ]
    },
    {
     "cell_type": "code",
     "collapsed": false,
     "input": [
      "from math import pi\n",
      "\n",
      "\n",
      "class Circle:\n",
      "    def __init__(self, radius):\n",
      "        self.radius = radius\n",
      "        self.area = pi*radius**2"
     ],
     "language": "python",
     "metadata": {},
     "outputs": []
    },
    {
     "cell_type": "code",
     "collapsed": false,
     "input": [
      "circle = Circle(3)\n",
      "print('radius:', circle.radius)\n",
      "print('area:', circle.area)"
     ],
     "language": "python",
     "metadata": {},
     "outputs": []
    },
    {
     "cell_type": "code",
     "collapsed": false,
     "input": [
      "circle.radius = 5\n",
      "print('radius:', circle.radius)\n",
      "print('area:', circle.area)"
     ],
     "language": "python",
     "metadata": {},
     "outputs": []
    },
    {
     "cell_type": "markdown",
     "metadata": {},
     "source": [
      "`property` let's us make an attribute whose value is determined dynamically."
     ]
    },
    {
     "cell_type": "code",
     "collapsed": false,
     "input": [
      "class Circle:\n",
      "    def __init__(self, radius):\n",
      "        self.radius = radius\n",
      "        \n",
      "    @property\n",
      "    def area(self):\n",
      "        return pi*self.radius**2"
     ],
     "language": "python",
     "metadata": {},
     "outputs": []
    },
    {
     "cell_type": "code",
     "collapsed": false,
     "input": [
      "circle = Circle(3)\n",
      "print('radius:', circle.radius)\n",
      "print('area:', circle.area)"
     ],
     "language": "python",
     "metadata": {},
     "outputs": []
    },
    {
     "cell_type": "code",
     "collapsed": false,
     "input": [
      "circle.radius = 5\n",
      "print('radius:', circle.radius)\n",
      "print('area:', circle.area)"
     ],
     "language": "python",
     "metadata": {},
     "outputs": []
    },
    {
     "cell_type": "markdown",
     "metadata": {},
     "source": [
      "`property` also lets us define *setter* methods that are run when a property is set.\n",
      "\n",
      "In the case of `Circle`, we can even further the illusion that `area` is an attribute."
     ]
    },
    {
     "cell_type": "code",
     "collapsed": false,
     "input": [
      "circle.area = 4"
     ],
     "language": "python",
     "metadata": {},
     "outputs": []
    },
    {
     "cell_type": "code",
     "collapsed": false,
     "input": [
      "from math import sqrt\n",
      "\n",
      "\n",
      "class Circle:\n",
      "    def __init__(self, radius):\n",
      "        self.radius = radius\n",
      "        \n",
      "    @property\n",
      "    def area(self):\n",
      "        return pi*self.radius**2\n",
      "    \n",
      "    @area.setter\n",
      "    def area(self, value):\n",
      "        self.radius = sqrt(value/pi)"
     ],
     "language": "python",
     "metadata": {},
     "outputs": []
    },
    {
     "cell_type": "code",
     "collapsed": false,
     "input": [
      "circle = Circle(3)\n",
      "print('radius:', circle.radius)\n",
      "print('area:', circle.area)"
     ],
     "language": "python",
     "metadata": {},
     "outputs": []
    },
    {
     "cell_type": "code",
     "collapsed": false,
     "input": [
      "circle.area = 20\n",
      "print('radius:', circle.radius)\n",
      "print('area:', circle.area)"
     ],
     "language": "python",
     "metadata": {},
     "outputs": []
    }
   ],
   "metadata": {}
  }
 ]
}