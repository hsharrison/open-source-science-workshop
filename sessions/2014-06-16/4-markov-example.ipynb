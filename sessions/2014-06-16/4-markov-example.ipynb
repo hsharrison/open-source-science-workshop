{
 "metadata": {
  "name": "",
  "signature": "sha256:14b99358d64d10996a77992fcbe53d9edf74ce895e1a515c798be49f0631d6ec"
 },
 "nbformat": 3,
 "nbformat_minor": 0,
 "worksheets": [
  {
   "cells": [
    {
     "cell_type": "markdown",
     "metadata": {},
     "source": [
      "DNA Markov chain\n",
      "===\n",
      "\n",
      "This example also taken from Matthew Rocklin:"
     ]
    },
    {
     "cell_type": "code",
     "collapsed": false,
     "input": [
      "from IPython.display import YouTubeVideo\n",
      "YouTubeVideo('PpBK4zIaFLE')"
     ],
     "language": "python",
     "metadata": {},
     "outputs": []
    },
    {
     "cell_type": "code",
     "collapsed": false,
     "input": [
      "!ls ~/repos/open-source-science-workshop/sessions/2014-06-16/yeast-genome"
     ],
     "language": "python",
     "metadata": {},
     "outputs": []
    },
    {
     "cell_type": "code",
     "collapsed": false,
     "input": [
      "from glob import glob\n",
      "from toolz.curried import map, drop, concat, take, pipe, sorted"
     ],
     "language": "python",
     "metadata": {},
     "outputs": []
    },
    {
     "cell_type": "code",
     "collapsed": false,
     "input": [
      "def genome(file_pattern):\n",
      "    operations = (\n",
      "        glob,            # Get matching filenames.\n",
      "        sorted,    # Sort em.\n",
      "        map(open),       # open each file.\n",
      "        map(drop(1)),    # drop first line of each file.\n",
      "        concat,          # concat all files together.\n",
      "        map(str.upper),  # Uppercase each line.\n",
      "        map(str.strip),  # Strip off whitespace from each line.\n",
      "        concat,          # Concatenate all lines into one long sequence.\n",
      "    )\n",
      "    return pipe(file_pattern, *operations)"
     ],
     "language": "python",
     "metadata": {},
     "outputs": []
    },
    {
     "cell_type": "code",
     "collapsed": false,
     "input": [
      "path_prefix = '/home/hen/repos/open-source-science-workshop/sessions/2014-06-16/'\n",
      "path_glob = path_prefix + 'yeast-genome/chr*.fa'\n",
      "\n",
      "list(take(10, genome(path_glob)))"
     ],
     "language": "python",
     "metadata": {},
     "outputs": []
    },
    {
     "cell_type": "code",
     "collapsed": false,
     "input": [
      "glob(path_glob)"
     ],
     "language": "python",
     "metadata": {},
     "outputs": []
    },
    {
     "cell_type": "code",
     "collapsed": false,
     "input": [
      "files = pipe(path_glob, glob, sorted, list)"
     ],
     "language": "python",
     "metadata": {},
     "outputs": []
    },
    {
     "cell_type": "code",
     "collapsed": false,
     "input": [
      "pipe(files[0], open, take(5), ''.join, print)"
     ],
     "language": "python",
     "metadata": {},
     "outputs": []
    },
    {
     "cell_type": "markdown",
     "metadata": {},
     "source": [
      "## Laziness\n",
      "\n",
      "We only process what we need:"
     ]
    },
    {
     "cell_type": "code",
     "collapsed": false,
     "input": [
      "%%time\n",
      "\n",
      "list(take(10, genome(path_glob)))"
     ],
     "language": "python",
     "metadata": {},
     "outputs": []
    },
    {
     "cell_type": "code",
     "collapsed": false,
     "input": [
      "%%time\n",
      "\n",
      "list(take(10000000, genome(path_glob)))"
     ],
     "language": "python",
     "metadata": {},
     "outputs": []
    },
    {
     "cell_type": "markdown",
     "metadata": {},
     "source": [
      "## Markov analysis"
     ]
    },
    {
     "cell_type": "code",
     "collapsed": false,
     "input": [
      "from toolz.curried import (\n",
      "    sliding_window,\n",
      "    frequencies,\n",
      "    merge_with,\n",
      "    merge,\n",
      "    curry,\n",
      ")\n",
      "\n",
      "def get_transition(item):\n",
      "    \"\"\"\n",
      "    Transform the number of times a given sequence of len n has occured\n",
      "    into a dictionary with the first n-1 items as the key\n",
      "    and the value another dictionary mapping the last item to the count.\n",
      "    \n",
      "    \"\"\"\n",
      "    seq, count = item\n",
      "    *previous, last = seq\n",
      "    return {tuple(previous): {last: count}}\n",
      "\n",
      "\n",
      "@curry\n",
      "def markov(n, seq):\n",
      "    \"\"\"\n",
      "    Perform a markov-chain analysis on seq.\n",
      "    Use last n elements to define a history.\n",
      "    \n",
      "    \"\"\"\n",
      "    operations = (\n",
      "        sliding_window(n + 1), # Get each successive sequence.\n",
      "        frequencies,           # Count occurences.\n",
      "        dict.items,            # Get triple-count pairs.\n",
      "        map(get_transition),   # Reshape each.\n",
      "        merge_with(merge),     # Merge dicts from different pairs.\n",
      ")\n",
      "    return pipe(seq, *operations)"
     ],
     "language": "python",
     "metadata": {},
     "outputs": []
    },
    {
     "cell_type": "code",
     "collapsed": false,
     "input": [
      "%%time\n",
      "\n",
      "pipe(path_glob, genome, markov(2))"
     ],
     "language": "python",
     "metadata": {},
     "outputs": []
    },
    {
     "cell_type": "markdown",
     "metadata": {},
     "source": [
      "Note that `markov` has nothing to do with `genome`.\n",
      "They work because of the shared interface, the basic Python data structures."
     ]
    },
    {
     "cell_type": "code",
     "collapsed": false,
     "input": [
      "file_path = path_prefix + 'tale-of-two-cities.txt'"
     ],
     "language": "python",
     "metadata": {},
     "outputs": []
    },
    {
     "cell_type": "code",
     "collapsed": false,
     "input": [
      "!head $file_path -n 25"
     ],
     "language": "python",
     "metadata": {},
     "outputs": []
    },
    {
     "cell_type": "code",
     "collapsed": false,
     "input": [
      "def stem(word):\n",
      "    \"\"\" Stem word to primitive form \n",
      "    \n",
      "    >>> stem(\"Hello!\")\n",
      "    'hello'\n",
      "    \"\"\"\n",
      "    return word.lower().rstrip(\",.!)-*_?:;$'-\\\"\").lstrip(\"-*'\\\"(_$'\")\n",
      "\n",
      "def lines_to_words(lines):\n",
      "    \"\"\"\n",
      "    Convert a stream of lines to a stream of stemmed words.\n",
      "    \"\"\"\n",
      "    operations = (\n",
      "        map(str.split),\n",
      "        concat,\n",
      "        map(stem),\n",
      ")\n",
      "    return pipe(lines, *operations)"
     ],
     "language": "python",
     "metadata": {},
     "outputs": []
    },
    {
     "cell_type": "code",
     "collapsed": false,
     "input": [
      "%%time\n",
      "\n",
      "pipe(file_path, open, drop(25), lines_to_words, markov(1))"
     ],
     "language": "python",
     "metadata": {},
     "outputs": []
    },
    {
     "cell_type": "markdown",
     "metadata": {},
     "source": [
      "## `cytoolz`\n",
      "\n",
      "There is a library called `cython` that essentially lets us write C code in Python.\n",
      "`toolz` has been implement in `cython` as `cytoolz`.\n",
      "Let's try the above with `cytoolz` and see what kind of improvement we get.\n",
      "\n",
      "This is about the end of the line in terms of performance if you're not doing numerics."
     ]
    },
    {
     "cell_type": "code",
     "collapsed": false,
     "input": [
      "from cytoolz.curried import (\n",
      "    map,\n",
      "    sliding_window,\n",
      "    frequencies,\n",
      "    merge_with,\n",
      "    merge,\n",
      "    pipe,\n",
      "    curry,\n",
      "    drop,\n",
      "    take,\n",
      "    sorted,\n",
      "    concat,\n",
      ")\n",
      "\n",
      "@curry\n",
      "def markov(n, seq):\n",
      "    \"\"\"\n",
      "    Perform a markov-chain analysis on seq.\n",
      "    Use last n elements to define a history.\n",
      "    \n",
      "    \"\"\"\n",
      "    operations = (\n",
      "        sliding_window(n + 1), # Get each successive sequence.\n",
      "        frequencies,           # Count occurences.\n",
      "        dict.items,            # Get triple-count pairs.\n",
      "        map(get_transition),   # Reshape each.\n",
      "        merge_with(merge),     # Merge dicts from different pairs.\n",
      ")\n",
      "    return pipe(seq, *operations)\n",
      "\n",
      "\n",
      "def lines_to_words(lines):\n",
      "    \"\"\"\n",
      "    Convert a stream of lines to a stream of stemmed words.\n",
      "    \"\"\"\n",
      "    operations = (\n",
      "        map(str.split),\n",
      "        concat,\n",
      "        map(stem),\n",
      ")\n",
      "    return pipe(lines, *operations)\n",
      "\n",
      "\n",
      "def genome(file_pattern):\n",
      "    operations = (\n",
      "        glob,            # Get matching filenames.\n",
      "        sorted,    # Sort em.\n",
      "        map(open),       # open each file.\n",
      "        map(drop(1)),    # drop first line of each file.\n",
      "        concat,          # concat all files together.\n",
      "        map(str.upper),  # Uppercase each line.\n",
      "        map(str.strip),  # Strip off whitespace from each line.\n",
      "        concat,          # Concatenate all lines into one long sequence.\n",
      "    )\n",
      "    return pipe(file_pattern, *operations)"
     ],
     "language": "python",
     "metadata": {},
     "outputs": []
    },
    {
     "cell_type": "code",
     "collapsed": false,
     "input": [
      "%%time\n",
      "\n",
      "pipe(file_path, open, drop(25), lines_to_words, markov(1))"
     ],
     "language": "python",
     "metadata": {},
     "outputs": []
    },
    {
     "cell_type": "code",
     "collapsed": false,
     "input": [
      "%%time\n",
      "\n",
      "pipe(path_glob, genome, markov(2))"
     ],
     "language": "python",
     "metadata": {},
     "outputs": []
    }
   ],
   "metadata": {}
  }
 ]
}