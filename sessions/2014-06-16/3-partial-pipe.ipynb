{
 "metadata": {
  "name": "",
  "signature": "sha256:8a07b7db552d4d0459335b55432fbde49102b8d9d5fa566f59b0efc29c9b1e43"
 },
 "nbformat": 3,
 "nbformat_minor": 0,
 "worksheets": [
  {
   "cells": [
    {
     "cell_type": "markdown",
     "metadata": {},
     "source": [
      "Partial evaluation\n",
      "===\n",
      "\n",
      "Often when program we want to only partially evaluate a function.\n",
      "\n",
      "```python\n",
      "def cumsum(data):\n",
      "    return accumulate(add, data)\n",
      "    \n",
      "def fib_many(data):\n",
      "    return map(fib, data)\n",
      "    ```\n",
      "Both of these examples use a higher-order function (`map` and `accumulate`) with a single specific argument, and leave the second argument open for arbitrary future use.\n",
      "\n",
      "This is like putting a bit into a power drill.\n",
      "We're composing two things to make a more specific thing, but we're not actually using it yet."
     ]
    },
    {
     "cell_type": "code",
     "collapsed": false,
     "input": [
      "from toolz import accumulate\n",
      "\n",
      "def square(x):\n",
      "    return x ** 2\n",
      "\n",
      "def iseven(n):\n",
      "    return n % 2 == 0\n",
      "\n",
      "def add(x, y):\n",
      "    return x + y\n",
      "\n",
      "def mul(x, y):\n",
      "    return x * y\n",
      "\n",
      "def lesser(x, y):\n",
      "    if x < y:\n",
      "        return x\n",
      "    else:\n",
      "        return y\n",
      "\n",
      "def greater(x, y):\n",
      "    if x > y:\n",
      "        return x\n",
      "    else:\n",
      "        return y\n",
      "    \n",
      "def fib(n):\n",
      "    a, b = 0, 1\n",
      "    for i in range(n):\n",
      "        a, b = b, a + b\n",
      "    return b"
     ],
     "language": "python",
     "metadata": {},
     "outputs": []
    },
    {
     "cell_type": "markdown",
     "metadata": {},
     "source": [
      "We have already used lambas to do this."
     ]
    },
    {
     "cell_type": "code",
     "collapsed": false,
     "input": [
      "cumsum = lambda data: accumulate(add, data)\n",
      "\n",
      "# Equivalently:\n",
      "def cumsum(data):\n",
      "    return accumulate(add, data)\n",
      "\n",
      "\n",
      "list(cumsum(range(10)))"
     ],
     "language": "python",
     "metadata": {},
     "outputs": []
    },
    {
     "cell_type": "markdown",
     "metadata": {},
     "source": [
      "Or we can use the function `partial` in `functools`.\n",
      "\n",
      "`partial` takes a function and returns a *partial function*, a function with some of the inputs pre-set."
     ]
    },
    {
     "cell_type": "code",
     "collapsed": false,
     "input": [
      "from functools import partial\n",
      "\n",
      "cumsum = partial(accumulate, add)"
     ],
     "language": "python",
     "metadata": {},
     "outputs": []
    },
    {
     "cell_type": "code",
     "collapsed": false,
     "input": [
      "list(cumsum(range(10)))"
     ],
     "language": "python",
     "metadata": {},
     "outputs": []
    },
    {
     "cell_type": "markdown",
     "metadata": {},
     "source": [
      "### Exercise\n",
      "\n",
      "Partially evaluate the `mul` function to create a new function `double`."
     ]
    },
    {
     "cell_type": "code",
     "collapsed": false,
     "input": [
      "double = ...\n",
      "assert double(5) == 10"
     ],
     "language": "python",
     "metadata": {},
     "outputs": []
    },
    {
     "cell_type": "markdown",
     "metadata": {},
     "source": [
      "## Currying\n",
      "\n",
      "Currying is the idea that all functions can be partially evaluated.\n",
      "Usually, if we call a function with not enough arguments, we get an error."
     ]
    },
    {
     "cell_type": "code",
     "collapsed": false,
     "input": [
      "double = mul(2)"
     ],
     "language": "python",
     "metadata": {},
     "outputs": []
    },
    {
     "cell_type": "markdown",
     "metadata": {},
     "source": [
      "Currying a function allows us to call a function with only some arguments, and hold on to those arguments until we need them later.\n",
      "\n",
      "The function `curry` in `toolz` is a function that takes a function and returns a curried version of that function."
     ]
    },
    {
     "cell_type": "code",
     "collapsed": false,
     "input": [
      "from toolz import curry\n",
      "\n",
      "mul = curry(mul)\n",
      "double = mul(2)\n",
      "double(5)"
     ],
     "language": "python",
     "metadata": {},
     "outputs": []
    },
    {
     "cell_type": "markdown",
     "metadata": {},
     "source": [
      "This allows for idiomatic expression of functional statements."
     ]
    },
    {
     "cell_type": "code",
     "collapsed": false,
     "input": [
      "accumulate = curry(accumulate)\n",
      "map = curry(map)\n",
      "\n",
      "cumsum = accumulate(add)\n",
      "cumprod = accumulate(mul)\n",
      "\n",
      "fib_many = map(fib)\n",
      "list(fib_many(range(10)))"
     ],
     "language": "python",
     "metadata": {},
     "outputs": []
    },
    {
     "cell_type": "markdown",
     "metadata": {},
     "source": [
      "# Word counting example"
     ]
    },
    {
     "cell_type": "code",
     "collapsed": false,
     "input": [
      "sentence = 'This cat jumped over this other cat!'"
     ],
     "language": "python",
     "metadata": {},
     "outputs": []
    },
    {
     "cell_type": "code",
     "collapsed": false,
     "input": [
      "def stem(word):\n",
      "    \"\"\" Stem word to primitive form \n",
      "    \n",
      "    >>> stem(\"Hello!\")\n",
      "    'hello'\n",
      "    \"\"\"\n",
      "    return word.lower().rstrip(\",.!)-*_?:;$'-\\\"\").lstrip(\"-*'\\\"(_$'\")"
     ],
     "language": "python",
     "metadata": {},
     "outputs": []
    },
    {
     "cell_type": "code",
     "collapsed": false,
     "input": [
      "stem('cat!!!!')"
     ],
     "language": "python",
     "metadata": {},
     "outputs": []
    },
    {
     "cell_type": "code",
     "collapsed": false,
     "input": [
      "def wordcount(string):\n",
      "    words = string.split()\n",
      "    \n",
      "    stemmed_words = []\n",
      "    for word in words:\n",
      "        stemmed_words.append(stem(word))\n",
      "    \n",
      "    counts = dict()\n",
      "    for word in stemmed_words:\n",
      "        if word not in counts:\n",
      "            counts[word] = 1\n",
      "        else:\n",
      "            counts[word] += 1\n",
      "    \n",
      "    return counts\n",
      "\n",
      "wordcount(sentence)"
     ],
     "language": "python",
     "metadata": {},
     "outputs": []
    },
    {
     "cell_type": "markdown",
     "metadata": {},
     "source": [
      "There are three things happening here:\n",
      "\n",
      " 1. `str.split`\n",
      " 2. `map` on `stem`\n",
      " 3. counts\n",
      " \n",
      "There is a good object for the third one in the standard library, `Counter`.\n",
      "The others are built in:"
     ]
    },
    {
     "cell_type": "code",
     "collapsed": false,
     "input": [
      "from collections import Counter\n",
      "\n",
      "Counter(map(stem, sentence.split()))"
     ],
     "language": "python",
     "metadata": {},
     "outputs": []
    },
    {
     "cell_type": "markdown",
     "metadata": {},
     "source": [
      "**Problem: parentheses make that ugly, unreadable, and error-prone.**\n",
      "\n",
      "## Pipe\n",
      "\n",
      "To get around this we use `pipe`.\n",
      "Consider doing laundry.\n",
      "\n",
      "```python\n",
      "# Do laundry\n",
      "clothes = ...\n",
      "wet_clothes = wash(clothes)\n",
      "dry_clothes = dry(wet_clothes)\n",
      "result = fold(dry_clothes)\n",
      "```\n",
      "\n",
      "We may be tempted to squeeze this onto one line:\n",
      "\n",
      "```python\n",
      "result = fold(dry(wash(clothes)))\n",
      "```\n",
      "\n",
      "But that gets pretty nasty.\n",
      "So we can use `pipe`:\n",
      "\n",
      "```python\n",
      "result = pipe(clothes, wash, dry, fold)\n",
      "```\n",
      "\n",
      "`pipe` pushes data (first argument) through a sequence of functions from left to right."
     ]
    },
    {
     "cell_type": "code",
     "collapsed": false,
     "input": [
      "from toolz import pipe\n",
      "\n",
      "def double(x):\n",
      "    return 2*x\n",
      "\n",
      "pipe(3, double, double, str)"
     ],
     "language": "python",
     "metadata": {},
     "outputs": []
    },
    {
     "cell_type": "code",
     "collapsed": false,
     "input": [
      "from toolz import map\n",
      "\n",
      "map = curry(map)\n",
      "\n",
      "pipe(sentence, str.split, map(stem), Counter)"
     ],
     "language": "python",
     "metadata": {},
     "outputs": []
    },
    {
     "cell_type": "markdown",
     "metadata": {},
     "source": [
      "With `pipe`, we can think about word counting by thinking about the constituent operations.\n",
      "We don't have to think about `for` loops and other implementation details."
     ]
    },
    {
     "cell_type": "markdown",
     "metadata": {},
     "source": [
      "## Purity"
     ]
    },
    {
     "cell_type": "code",
     "collapsed": false,
     "input": [
      "def square_list(data):\n",
      "    for i in range(len(data)):\n",
      "        data[i] *= data[i]\n",
      "    return data"
     ],
     "language": "python",
     "metadata": {},
     "outputs": []
    },
    {
     "cell_type": "code",
     "collapsed": false,
     "input": [
      "data = [1, 2, 3]\n",
      "print('result:', square_list(data))"
     ],
     "language": "python",
     "metadata": {},
     "outputs": []
    },
    {
     "cell_type": "code",
     "collapsed": false,
     "input": [
      "print('original:', data)"
     ],
     "language": "python",
     "metadata": {},
     "outputs": []
    },
    {
     "cell_type": "markdown",
     "metadata": {},
     "source": [
      "`square_list` is an *impure* function because it has *side effects*.\n",
      "It changes some data structure that was passed into it.\n",
      "That might not be appreciated; maybe we wanted to do something with it later.\n",
      "Impure functions makes using things like `pipe` error-prone.\n",
      "\n",
      "In some programming languages, all functions are pure.\n",
      "This makes it easier to reason about programs.\n",
      "Purity can be a good thing even if you're not using functional programming.\n",
      "Probably some large portion of programming errors arise because if impure functions.\n",
      "\n",
      "In sum, only use in-place operations if you have a really good reason.\n",
      "The use of immutable data structures like tuples can be seen as a way to enforce this requirement in certain circumstances."
     ]
    },
    {
     "cell_type": "code",
     "collapsed": false,
     "input": [
      "square_list((1, 2, 3))"
     ],
     "language": "python",
     "metadata": {},
     "outputs": []
    }
   ],
   "metadata": {}
  }
 ]
}