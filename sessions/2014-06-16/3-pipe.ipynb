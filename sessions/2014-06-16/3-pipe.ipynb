{
 "metadata": {
  "name": "",
  "signature": "sha256:d22805c59189bbd9fceca5bad82a81e98f474c5a64530d8505ee4796370de021"
 },
 "nbformat": 3,
 "nbformat_minor": 0,
 "worksheets": [
  {
   "cells": [
    {
     "cell_type": "markdown",
     "metadata": {},
     "source": [
      "# Word counting"
     ]
    },
    {
     "cell_type": "code",
     "collapsed": false,
     "input": [
      "sentence = 'This cat jumped over this other cat!'"
     ],
     "language": "python",
     "metadata": {},
     "outputs": []
    },
    {
     "cell_type": "code",
     "collapsed": false,
     "input": [
      "def stem(word):\n",
      "    \"\"\" Stem word to primitive form \n",
      "    \n",
      "    >>> stem(\"Hello!\")\n",
      "    'hello'\n",
      "    \"\"\"\n",
      "    return word.lower().rstrip(\",.!)-*_?:;$'-\\\"\").lstrip(\"-*'\\\"(_$'\")"
     ],
     "language": "python",
     "metadata": {},
     "outputs": []
    },
    {
     "cell_type": "code",
     "collapsed": false,
     "input": [
      "stem('cat!!!!')"
     ],
     "language": "python",
     "metadata": {},
     "outputs": []
    },
    {
     "cell_type": "code",
     "collapsed": false,
     "input": [
      "def wordcount(string):\n",
      "    words = string.split()\n",
      "    \n",
      "    stemmed_words = []\n",
      "    for word in words:\n",
      "        stemmed_words.append(stem(word))\n",
      "    \n",
      "    counts = dict()\n",
      "    for word in stemmed_words:\n",
      "        if word not in counts:\n",
      "            counts[word] = 1\n",
      "        else:\n",
      "            counts[word] += 1\n",
      "    \n",
      "    return counts\n",
      "\n",
      "wordcount(sentence)"
     ],
     "language": "python",
     "metadata": {},
     "outputs": []
    },
    {
     "cell_type": "markdown",
     "metadata": {},
     "source": [
      "There are three things happening here:\n",
      "\n",
      " 1. `str.split`\n",
      " 2. `map` on `stem`\n",
      " 3. counts\n",
      " \n",
      "There is a good object for the third one in the standard library, `Counter`.\n",
      "The others are built in:"
     ]
    },
    {
     "cell_type": "code",
     "collapsed": false,
     "input": [
      "from collections import Counter\n",
      "\n",
      "Counter(map(stem, sentence.split()))"
     ],
     "language": "python",
     "metadata": {},
     "outputs": []
    },
    {
     "cell_type": "markdown",
     "metadata": {},
     "source": [
      "**Problem: parentheses make that ugly, unreadable, and error-prone.**\n",
      "\n",
      "## Pipe\n",
      "\n",
      "To get around this we use `pipe`.\n",
      "Consider doing laundry.\n",
      "\n",
      "```python\n",
      "# Do laundry\n",
      "clothes = ...\n",
      "wet_clothes = wash(clothes)\n",
      "dry_clothes = dry(wet_clothes)\n",
      "result = fold(dry_clothes)\n",
      "```\n",
      "\n",
      "We may be tempted to squeeze this onto one line:\n",
      "\n",
      "```python\n",
      "result = fold(dry(wash(clothes)))\n",
      "```\n",
      "\n",
      "But that gets pretty nasty.\n",
      "So we can use `pipe`:\n",
      "\n",
      "```python\n",
      "result = pipe(clothes, wash, dry, fold)\n",
      "```\n",
      "\n",
      "`pipe` pushes data (first argument) through a sequence of functions from left to right."
     ]
    },
    {
     "cell_type": "code",
     "collapsed": false,
     "input": [
      "from toolz import pipe\n",
      "\n",
      "def double(x):\n",
      "    return 2*x\n",
      "\n",
      "pipe(3, double, double, str)"
     ],
     "language": "python",
     "metadata": {},
     "outputs": []
    },
    {
     "cell_type": "code",
     "collapsed": false,
     "input": [
      "from toolz import map\n",
      "\n",
      "map = curry(map)\n",
      "\n",
      "pipe(sentence, str.split, map(stem), Counter)"
     ],
     "language": "python",
     "metadata": {},
     "outputs": []
    },
    {
     "cell_type": "markdown",
     "metadata": {},
     "source": [
      "With `pipe`, we can think about word counting by thinking about the constituent operations.\n",
      "We don't have to think about `for` loops and other implementation details."
     ]
    },
    {
     "cell_type": "markdown",
     "metadata": {},
     "source": [
      "## Purity"
     ]
    },
    {
     "cell_type": "code",
     "collapsed": false,
     "input": [
      "def square_list(data):\n",
      "    for i in range(len(data)):\n",
      "        data[i] *= data[i]\n",
      "    return data"
     ],
     "language": "python",
     "metadata": {},
     "outputs": []
    },
    {
     "cell_type": "code",
     "collapsed": false,
     "input": [
      "data = [1, 2, 3]\n",
      "print('result:', square_list(data))"
     ],
     "language": "python",
     "metadata": {},
     "outputs": []
    },
    {
     "cell_type": "code",
     "collapsed": false,
     "input": [
      "print('original:', data)"
     ],
     "language": "python",
     "metadata": {},
     "outputs": []
    },
    {
     "cell_type": "markdown",
     "metadata": {},
     "source": [
      "`square_list` is an *impure* function because it has *side effects*.\n",
      "It changes some data structure that was passed into it.\n",
      "That might not be appreciated; maybe we wanted to do something with it later.\n",
      "Impure functions makes using things like `pipe` error-prone.\n",
      "\n",
      "In some programming languages, all functions are pure.\n",
      "This makes it easier to reason about programs.\n",
      "Purity can be a good thing even if you're not using functional programming.\n",
      "Probably some large portion of programming errors arise because if impure functions.\n",
      "\n",
      "In sum, only use in-place operations if you have a really good reason.\n",
      "The use of immutable data structures like tuples can be seen as a way to enforce this requirement in certain circumstances."
     ]
    },
    {
     "cell_type": "code",
     "collapsed": false,
     "input": [
      "square_list((1, 2, 3))"
     ],
     "language": "python",
     "metadata": {},
     "outputs": []
    },
    {
     "cell_type": "markdown",
     "metadata": {},
     "source": [
      "So one other benefit of using pure functions is that they will work with immutables."
     ]
    }
   ],
   "metadata": {}
  }
 ]
}