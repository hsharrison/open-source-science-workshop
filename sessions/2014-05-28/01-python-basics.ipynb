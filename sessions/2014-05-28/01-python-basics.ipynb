{
 "metadata": {
  "name": "OPSW Python Basics"
 },
 "nbformat": 3,
 "nbformat_minor": 0,
 "worksheets": [
  {
   "cells": [
    {
     "cell_type": "heading",
     "level": 1,
     "metadata": {},
     "source": "Introduction to Python Basics"
    },
    {
     "cell_type": "heading",
     "level": 2,
     "metadata": {},
     "source": "What is Python?"
    },
    {
     "cell_type": "markdown",
     "metadata": {},
     "source": "High-level, interpreted programming language (like R or Matlab)<ul>    \n<li>High-level -- code almost looks like natural language</li>\n<li>Interpreted -- you type code, and then you run it -- you don\u2019t have to \u2018compile\u2019 it first into machine-readable code</li>\n</ul>"
    },
    {
     "cell_type": "code",
     "collapsed": false,
     "input": "print(\"Hello world\")",
     "language": "python",
     "metadata": {},
     "outputs": [
      {
       "output_type": "stream",
       "stream": "stdout",
       "text": "Hello world\n"
      }
     ],
     "prompt_number": 7
    },
    {
     "cell_type": "markdown",
     "metadata": {},
     "source": "Advantages: Python code is readable, intuitive to work with, fast to program in and iterate your projects <br>\nDisadvantages: it can be slow, but there are ways around this (e.g., Multi-core processing)"
    },
    {
     "cell_type": "heading",
     "level": 2,
     "metadata": {},
     "source": "So easy, a Russell can do it"
    },
    {
     "cell_type": "markdown",
     "metadata": {},
     "source": "I took a ~16 hour summer class, and was immediately using it for my own projects"
    },
    {
     "cell_type": "markdown",
     "metadata": {},
     "source": "So I'm also a novice! I may have to defer to Henry on some things!"
    },
    {
     "cell_type": "heading",
     "level": 2,
     "metadata": {},
     "source": "Python vs. R and Matlab"
    },
    {
     "cell_type": "markdown",
     "metadata": {},
     "source": "1. Free, unlike Matlab!\n2. MANY more people use Python than R or Matlab\n    1. Better online support (tutorials, faq\u2019s, etc.)\n    2. More pre-existing code that you can use. Many of the problems I google have already been solved.\n3. Python is simply more versatile than R or Matlab. With the right package, you can do <i>anything</i>, not just stats or visualization or modeling."
    },
    {
     "cell_type": "heading",
     "level": 2,
     "metadata": {},
     "source": "Digging in"
    },
    {
     "cell_type": "markdown",
     "metadata": {},
     "source": "    Doing simple calculations from the command line"
    },
    {
     "cell_type": "code",
     "collapsed": false,
     "input": "5 + 5",
     "language": "python",
     "metadata": {},
     "outputs": [
      {
       "metadata": {},
       "output_type": "pyout",
       "prompt_number": 8,
       "text": "10"
      }
     ],
     "prompt_number": 8
    },
    {
     "cell_type": "code",
     "collapsed": false,
     "input": "3 + 2 ** -9",
     "language": "python",
     "metadata": {},
     "outputs": [
      {
       "metadata": {},
       "output_type": "pyout",
       "prompt_number": 13,
       "text": "3.001953125"
      }
     ],
     "prompt_number": 13
    },
    {
     "cell_type": "code",
     "collapsed": false,
     "input": "'this' + '&' + 'that'",
     "language": "python",
     "metadata": {},
     "outputs": [
      {
       "metadata": {},
       "output_type": "pyout",
       "prompt_number": 14,
       "text": "'this&that'"
      }
     ],
     "prompt_number": 14
    },
    {
     "cell_type": "code",
     "collapsed": false,
     "input": "print(5 + 5) # This is a comment",
     "language": "python",
     "metadata": {},
     "outputs": [
      {
       "output_type": "stream",
       "stream": "stdout",
       "text": "10\n"
      }
     ],
     "prompt_number": 15
    },
    {
     "cell_type": "heading",
     "level": 2,
     "metadata": {},
     "source": "Data Structures"
    },
    {
     "cell_type": "markdown",
     "metadata": {},
     "source": "Basic data structure types: numerics, strings, lists, tuples, dictionaries\u2026 (we'll talk about each) <br>\n\nFall into two classes: <b>mutable</b> and <b>immutable</b>\n\n<b>Mutable:</b> Can be changed in place, i.e., change variable without changing where it is stored in the computers memory. Defining structure a in terms of b <u>points</u> to b. If you define a in terms of b, and then change a, you also change b.</br>\n\n<b>Immutable:</b> Cannot be changed in place. Defining structure a in terms of b <u>copies</u> b. If you define a in terms of b, and then change a, you don\u2019t change b<br>\n\nMore on this in a second..."
    },
    {
     "cell_type": "heading",
     "level": 3,
     "metadata": {},
     "source": "Numerics"
    },
    {
     "cell_type": "markdown",
     "metadata": {},
     "source": "Floats (numbers with decimals, roughly), integers. These are immutable."
    },
    {
     "cell_type": "code",
     "collapsed": false,
     "input": "x = 3 # x is an integer (also, # introduces comments)",
     "language": "python",
     "metadata": {},
     "outputs": [],
     "prompt_number": 19
    },
    {
     "cell_type": "code",
     "collapsed": false,
     "input": "type(x)",
     "language": "python",
     "metadata": {},
     "outputs": []
    },
    {
     "cell_type": "code",
     "collapsed": false,
     "input": "y = 4.9",
     "language": "python",
     "metadata": {},
     "outputs": [],
     "prompt_number": 23
    },
    {
     "cell_type": "code",
     "collapsed": false,
     "input": "type(y)",
     "language": "python",
     "metadata": {},
     "outputs": []
    },
    {
     "cell_type": "code",
     "collapsed": false,
     "input": "y = x",
     "language": "python",
     "metadata": {},
     "outputs": []
    },
    {
     "cell_type": "code",
     "collapsed": false,
     "input": "x += 1.2 #now x becomes a float",
     "language": "python",
     "metadata": {},
     "outputs": []
    },
    {
     "cell_type": "code",
     "collapsed": false,
     "input": "y # what will the output be? Remember that numerics are immutable",
     "language": "python",
     "metadata": {},
     "outputs": []
    },
    {
     "cell_type": "code",
     "collapsed": false,
     "input": "y = float(y) # this changes y's type to float",
     "language": "python",
     "metadata": {},
     "outputs": []
    },
    {
     "cell_type": "code",
     "collapsed": false,
     "input": "type(y)",
     "language": "python",
     "metadata": {},
     "outputs": []
    },
    {
     "cell_type": "heading",
     "level": 3,
     "metadata": {},
     "source": "Strings"
    },
    {
     "cell_type": "markdown",
     "metadata": {},
     "source": "Sequences of characters (letters, numbers, punctuation, etc.). Also immutable."
    },
    {
     "cell_type": "code",
     "collapsed": false,
     "input": "'Hello world'",
     "language": "python",
     "metadata": {},
     "outputs": [
      {
       "metadata": {},
       "output_type": "pyout",
       "prompt_number": 32,
       "text": "'Hello world'"
      }
     ],
     "prompt_number": 32
    },
    {
     "cell_type": "code",
     "collapsed": false,
     "input": "mystring = 'Hello World'",
     "language": "python",
     "metadata": {},
     "outputs": [],
     "prompt_number": 34
    },
    {
     "cell_type": "code",
     "collapsed": false,
     "input": "mystring += ', how are you today?'",
     "language": "python",
     "metadata": {},
     "outputs": []
    },
    {
     "cell_type": "code",
     "collapsed": false,
     "input": "mystring",
     "language": "python",
     "metadata": {},
     "outputs": []
    },
    {
     "cell_type": "code",
     "collapsed": false,
     "input": "mystring.lower() # object.method()",
     "language": "python",
     "metadata": {},
     "outputs": []
    },
    {
     "cell_type": "code",
     "collapsed": false,
     "input": "mystring.split() # returns a list...more on those in a bit",
     "language": "python",
     "metadata": {},
     "outputs": []
    },
    {
     "cell_type": "code",
     "collapsed": false,
     "input": "mystring.isalpha()",
     "language": "python",
     "metadata": {},
     "outputs": [
      {
       "metadata": {},
       "output_type": "pyout",
       "prompt_number": 35,
       "text": "False"
      }
     ],
     "prompt_number": 35
    },
    {
     "cell_type": "code",
     "collapsed": false,
     "input": "mystring = 'HellowWorld'",
     "language": "python",
     "metadata": {},
     "outputs": []
    },
    {
     "cell_type": "code",
     "collapsed": false,
     "input": "mystring.isalpha()",
     "language": "python",
     "metadata": {},
     "outputs": []
    },
    {
     "cell_type": "markdown",
     "metadata": {},
     "source": "True and False are their own type: boolean. Equivalent to 1 and 0 (which can be extremely handy.)"
    },
    {
     "cell_type": "heading",
     "level": 3,
     "metadata": {},
     "source": "Tuples & Lists"
    },
    {
     "cell_type": "markdown",
     "metadata": {},
     "source": "Tuples & lists: ordered containers of any combination of data structures (strings, integers, variables, other tuples or lists)"
    },
    {
     "cell_type": "code",
     "collapsed": false,
     "input": "z = ('our', 'first', 'tuple', 9, x) # put paren around items for tuple",
     "language": "python",
     "metadata": {},
     "outputs": []
    },
    {
     "cell_type": "code",
     "collapsed": false,
     "input": "z = ['our', 'first', 'list', 3.4, [3,'hi']] # brackets for list ",
     "language": "python",
     "metadata": {},
     "outputs": []
    },
    {
     "cell_type": "markdown",
     "metadata": {},
     "source": "Some list methods"
    },
    {
     "cell_type": "code",
     "collapsed": false,
     "input": "z.append('eats') # append adds the object itself",
     "language": "python",
     "metadata": {},
     "outputs": []
    },
    {
     "cell_type": "code",
     "collapsed": false,
     "input": "z",
     "language": "python",
     "metadata": {},
     "outputs": []
    },
    {
     "cell_type": "code",
     "collapsed": false,
     "input": "z.extend('eats') # extend adds the pieces of the object, or iterable",
     "language": "python",
     "metadata": {},
     "outputs": []
    },
    {
     "cell_type": "code",
     "collapsed": false,
     "input": "z",
     "language": "python",
     "metadata": {},
     "outputs": []
    },
    {
     "cell_type": "code",
     "collapsed": false,
     "input": "z.index('eats')",
     "language": "python",
     "metadata": {},
     "outputs": []
    },
    {
     "cell_type": "code",
     "collapsed": false,
     "input": "z.sort()",
     "language": "python",
     "metadata": {},
     "outputs": []
    },
    {
     "cell_type": "code",
     "collapsed": false,
     "input": "z",
     "language": "python",
     "metadata": {},
     "outputs": []
    },
    {
     "cell_type": "code",
     "collapsed": false,
     "input": "z.pop(2)",
     "language": "python",
     "metadata": {},
     "outputs": []
    },
    {
     "cell_type": "code",
     "collapsed": false,
     "input": "z",
     "language": "python",
     "metadata": {},
     "outputs": []
    },
    {
     "cell_type": "heading",
     "level": 3,
     "metadata": {},
     "source": "Tuples vs lists -- slicing, indexing, assignment-via-index"
    },
    {
     "cell_type": "code",
     "collapsed": false,
     "input": "z = 'Russell'",
     "language": "python",
     "metadata": {},
     "outputs": []
    },
    {
     "cell_type": "code",
     "collapsed": false,
     "input": "z[0] # indexing",
     "language": "python",
     "metadata": {},
     "outputs": []
    },
    {
     "cell_type": "markdown",
     "metadata": {},
     "source": "<b> 0 is the first index in Python (cf R and Matlab)!!! <b>"
    },
    {
     "cell_type": "code",
     "collapsed": false,
     "input": "z[0:3] # slicing",
     "language": "python",
     "metadata": {},
     "outputs": []
    },
    {
     "cell_type": "code",
     "collapsed": false,
     "input": "y = ['my', 'list'",
     "language": "python",
     "metadata": {},
     "outputs": []
    },
    {
     "cell_type": "code",
     "collapsed": false,
     "input": "y[0]",
     "language": "python",
     "metadata": {},
     "outputs": []
    },
    {
     "cell_type": "code",
     "collapsed": false,
     "input": "y[0:1]",
     "language": "python",
     "metadata": {},
     "outputs": []
    },
    {
     "cell_type": "code",
     "collapsed": false,
     "input": "x = ('my', 'tuple')",
     "language": "python",
     "metadata": {},
     "outputs": []
    },
    {
     "cell_type": "code",
     "collapsed": false,
     "input": "x[0]",
     "language": "python",
     "metadata": {},
     "outputs": []
    },
    {
     "cell_type": "code",
     "collapsed": false,
     "input": "x[0:1]",
     "language": "python",
     "metadata": {},
     "outputs": []
    },
    {
     "cell_type": "markdown",
     "metadata": {},
     "source": "Assigning new value via indexing works for lists (which are mutable), but not strings or tuples (which are immutable)"
    },
    {
     "cell_type": "code",
     "collapsed": false,
     "input": "x[0] = 'your'",
     "language": "python",
     "metadata": {},
     "outputs": []
    },
    {
     "cell_type": "code",
     "collapsed": false,
     "input": "z[0] = 'Z'",
     "language": "python",
     "metadata": {},
     "outputs": []
    },
    {
     "cell_type": "code",
     "collapsed": false,
     "input": "y[0] = 'your'",
     "language": "python",
     "metadata": {},
     "outputs": []
    },
    {
     "cell_type": "markdown",
     "metadata": {},
     "source": "<b>So why use tuple instead of list?</b> Computer creates tuples faster, they use less memory, and, like other immutables, they can be used as keys in dictionary."
    },
    {
     "cell_type": "heading",
     "level": 3,
     "metadata": {},
     "source": "Set"
    },
    {
     "cell_type": "markdown",
     "metadata": {},
     "source": "Unordered collection with no duplicate elements. Basic uses include membership testing and eliminating duplicate entries. Sets support basic set operations like union, intersection, difference, etc."
    },
    {
     "cell_type": "markdown",
     "metadata": {},
     "source": "<b>Disclaimer:</b> I haven't used these much yet (though I probably should)..."
    },
    {
     "cell_type": "code",
     "collapsed": false,
     "input": "engineers = set(['John', 'Jane', 'Jack', 'Janice'])",
     "language": "python",
     "metadata": {},
     "outputs": [],
     "prompt_number": 42
    },
    {
     "cell_type": "code",
     "collapsed": false,
     "input": "programmers = set(['Jack', 'Sam', 'Susan', 'Janice'])",
     "language": "python",
     "metadata": {},
     "outputs": [],
     "prompt_number": 44
    },
    {
     "cell_type": "code",
     "collapsed": false,
     "input": "managers = set(['Jane', 'Jack', 'Susan', 'Zack'])",
     "language": "python",
     "metadata": {},
     "outputs": [],
     "prompt_number": 45
    },
    {
     "cell_type": "code",
     "collapsed": false,
     "input": "employees = engineers | programmers | managers           # union",
     "language": "python",
     "metadata": {},
     "outputs": [],
     "prompt_number": 46
    },
    {
     "cell_type": "code",
     "collapsed": false,
     "input": "engineering_management = engineers & managers            # intersection",
     "language": "python",
     "metadata": {},
     "outputs": [],
     "prompt_number": 47
    },
    {
     "cell_type": "code",
     "collapsed": false,
     "input": "fulltime_management = managers - engineers - programmers # difference",
     "language": "python",
     "metadata": {},
     "outputs": [],
     "prompt_number": 48
    },
    {
     "cell_type": "code",
     "collapsed": false,
     "input": "engineers.add('Marvin')                                  # add element",
     "language": "python",
     "metadata": {},
     "outputs": [],
     "prompt_number": 49
    },
    {
     "cell_type": "code",
     "collapsed": false,
     "input": "print(engineers) ",
     "language": "python",
     "metadata": {},
     "outputs": [
      {
       "output_type": "stream",
       "stream": "stdout",
       "text": "{'Janice', 'Jane', 'Jack', 'Marvin', 'John'}\n"
      }
     ],
     "prompt_number": 50
    },
    {
     "cell_type": "code",
     "collapsed": false,
     "input": "employees.issuperset(engineers)     # superset test",
     "language": "python",
     "metadata": {},
     "outputs": [
      {
       "metadata": {},
       "output_type": "pyout",
       "prompt_number": 51,
       "text": "False"
      }
     ],
     "prompt_number": 51
    },
    {
     "cell_type": "code",
     "collapsed": false,
     "input": "employees.update(engineers)",
     "language": "python",
     "metadata": {},
     "outputs": [],
     "prompt_number": 52
    },
    {
     "cell_type": "code",
     "collapsed": false,
     "input": "employees.issuperset(engineers)",
     "language": "python",
     "metadata": {},
     "outputs": [
      {
       "metadata": {},
       "output_type": "pyout",
       "prompt_number": 53,
       "text": "True"
      }
     ],
     "prompt_number": 53
    },
    {
     "cell_type": "heading",
     "level": 3,
     "metadata": {},
     "source": "Dictionaries"
    },
    {
     "cell_type": "markdown",
     "metadata": {},
     "source": "Key-value pairs. Keys can be any immutable. Members of dictionary are indexed with key, cf. lists which are indexed with a range of numbers. Like sets, checking for membership is fast, O(1) in average case. Cf. lists, for which membership checking is O(n)."
    },
    {
     "cell_type": "code",
     "collapsed": false,
     "input": "mydict = {'the':10, 'of': 6}",
     "language": "python",
     "metadata": {},
     "outputs": [],
     "prompt_number": 54
    },
    {
     "cell_type": "code",
     "collapsed": false,
     "input": "mydict['the'] #lookup with key",
     "language": "python",
     "metadata": {},
     "outputs": []
    },
    {
     "cell_type": "code",
     "collapsed": false,
     "input": "mydict['the'] = 20",
     "language": "python",
     "metadata": {},
     "outputs": []
    },
    {
     "cell_type": "code",
     "collapsed": false,
     "input": "mydict",
     "language": "python",
     "metadata": {},
     "outputs": []
    },
    {
     "cell_type": "markdown",
     "metadata": {},
     "source": "Some useful methods..."
    },
    {
     "cell_type": "code",
     "collapsed": false,
     "input": "mydict.items()",
     "language": "python",
     "metadata": {},
     "outputs": [
      {
       "metadata": {},
       "output_type": "pyout",
       "prompt_number": 55,
       "text": "dict_items([('of', 6), ('the', 10)])"
      }
     ],
     "prompt_number": 55
    },
    {
     "cell_type": "code",
     "collapsed": false,
     "input": "mydict.values()",
     "language": "python",
     "metadata": {},
     "outputs": []
    },
    {
     "cell_type": "code",
     "collapsed": false,
     "input": "mydict.keys()",
     "language": "python",
     "metadata": {},
     "outputs": []
    },
    {
     "cell_type": "heading",
     "level": 3,
     "metadata": {},
     "source": "Knowing which data structure to use..."
    },
    {
     "cell_type": "markdown",
     "metadata": {},
     "source": "Do you *just* need an ordered sequence of items?\n<ul>- Use a tuple</ul>\nDo you need an ordered sequence of items and need to be able to *change that sequence in place*?\n<ul>- Use a list</ul>\nDo you just need to know whether or not you've already *got* a particular value, but without ordering, and you don't need to store duplicates?\n<ul>- Use a set</ul>\nDo you need to associate values with keys, so you can look them up efficiently (by key) later on?\n<ul>- Use a dictionary</ul>"
    },
    {
     "cell_type": "heading",
     "level": 2,
     "metadata": {},
     "source": "A couple basic functions"
    },
    {
     "cell_type": "code",
     "collapsed": false,
     "input": "x, y, z = 2, 'hi', ['my', 'list']",
     "language": "python",
     "metadata": {},
     "outputs": [],
     "prompt_number": 56
    },
    {
     "cell_type": "code",
     "collapsed": false,
     "input": "print(x,y,z)",
     "language": "python",
     "metadata": {},
     "outputs": [
      {
       "output_type": "stream",
       "stream": "stdout",
       "text": "2 hi ['my', 'list']\n"
      }
     ],
     "prompt_number": 57
    },
    {
     "cell_type": "code",
     "collapsed": false,
     "input": "len(z)",
     "language": "python",
     "metadata": {},
     "outputs": []
    },
    {
     "cell_type": "code",
     "collapsed": false,
     "input": "range(10)",
     "language": "python",
     "metadata": {},
     "outputs": []
    },
    {
     "cell_type": "heading",
     "level": 2,
     "metadata": {},
     "source": "Control Flow"
    },
    {
     "cell_type": "markdown",
     "metadata": {},
     "source": "Conditionals (if/thens), loops, list comprehension"
    },
    {
     "cell_type": "heading",
     "level": 3,
     "metadata": {},
     "source": "Conditionals"
    },
    {
     "cell_type": "code",
     "collapsed": false,
     "input": "x = 3\nif x == 3: # notice == for computing truth value\n    print('yes')",
     "language": "python",
     "metadata": {},
     "outputs": []
    },
    {
     "cell_type": "code",
     "collapsed": false,
     "input": "y = 'tested'\nif len(y) > 6:\n    print('yes')\nelif len(y) = 6:\n    print('maybe')\nelse:\n    print('no')",
     "language": "python",
     "metadata": {},
     "outputs": []
    },
    {
     "cell_type": "heading",
     "level": 3,
     "metadata": {},
     "source": "For loops"
    },
    {
     "cell_type": "markdown",
     "metadata": {},
     "source": "For every item in some list, tuple, string, or other iterable, do something with that item"
    },
    {
     "cell_type": "code",
     "collapsed": false,
     "input": "x = list('Russell')\nfor letter in x:\n    print(x)",
     "language": "python",
     "metadata": {},
     "outputs": []
    },
    {
     "cell_type": "code",
     "collapsed": false,
     "input": "for index, letter in enumerate(x): # enumerate is a generator, not an ordinary function, more next time on genereators\n    print letter, index",
     "language": "python",
     "metadata": {},
     "outputs": []
    },
    {
     "cell_type": "code",
     "collapsed": false,
     "input": "for index, letter in enumerate(x):\n    if index == 0 or index == 1:\n        print index, letter",
     "language": "python",
     "metadata": {},
     "outputs": []
    },
    {
     "cell_type": "heading",
     "level": 3,
     "metadata": {},
     "source": "While Loops"
    },
    {
     "cell_type": "markdown",
     "metadata": {},
     "source": "While something is True, do something else."
    },
    {
     "cell_type": "code",
     "collapsed": false,
     "input": "list1 = ['the','rain','in','spain','falls','mainly','on','the','plain']\nlist2 = []\nwhile len(list1): # len(list1) is True if list1 is not empty, i.e., if len(list1) is > 1\n     list2.append(list1.pop(0))\nlist2",
     "language": "python",
     "metadata": {},
     "outputs": [
      {
       "metadata": {},
       "output_type": "pyout",
       "prompt_number": 141,
       "text": "['the', 'rain', 'in', 'spain', 'falls', 'mainly', 'on', 'the', 'plain']"
      }
     ],
     "prompt_number": 141
    },
    {
     "cell_type": "heading",
     "level": 3,
     "metadata": {},
     "source": "List comprehension"
    },
    {
     "cell_type": "markdown",
     "metadata": {},
     "source": "A compressed, elegant way to construct lists with loops"
    },
    {
     "cell_type": "code",
     "collapsed": false,
     "input": "x = [y**2 for y in range(10)]",
     "language": "python",
     "metadata": {},
     "outputs": []
    },
    {
     "cell_type": "code",
     "collapsed": false,
     "input": "my_name = 'Russell'\nconsonants = set('bcdfghjklmnpqrstvwxz')\nmy_consonants = [x for x in my_name if x.lower() in consonants]",
     "language": "python",
     "metadata": {},
     "outputs": [],
     "prompt_number": 65
    },
    {
     "cell_type": "code",
     "collapsed": false,
     "input": "''.join(my_consonants) #a string method...take an iterable containing strings, and join them by the string object ('') in the first part of the line",
     "language": "python",
     "metadata": {},
     "outputs": [
      {
       "metadata": {},
       "output_type": "pyout",
       "prompt_number": 67,
       "text": "'Rssll'"
      }
     ],
     "prompt_number": 67
    },
    {
     "cell_type": "heading",
     "level": 2,
     "metadata": {},
     "source": "File input/output"
    },
    {
     "cell_type": "markdown",
     "metadata": {},
     "source": "Let's first make a little text file in textedit, textwrangler, etc."
    },
    {
     "cell_type": "code",
     "collapsed": false,
     "input": "myfile = open('test_file.txt','r+') # r+ enables reading and writing",
     "language": "python",
     "metadata": {},
     "outputs": [],
     "prompt_number": 103
    },
    {
     "cell_type": "code",
     "collapsed": false,
     "input": "myfile.read()",
     "language": "python",
     "metadata": {},
     "outputs": [
      {
       "metadata": {},
       "output_type": "pyout",
       "prompt_number": 104,
       "text": "'This is a test file with some meaningless text in it.\\nWe have a few lines of text in it.\\nLike this one.\\nAnd this one.\\nThis is another line'"
      }
     ],
     "prompt_number": 104
    },
    {
     "cell_type": "markdown",
     "metadata": {},
     "source": "**Note:** if we try to do this again, we get nothing, because the read method changes our position in the file object. We can read the file in again, or change the position with myfile.seek(0)."
    },
    {
     "cell_type": "code",
     "collapsed": false,
     "input": "myfile.read()",
     "language": "python",
     "metadata": {},
     "outputs": [
      {
       "metadata": {},
       "output_type": "pyout",
       "prompt_number": 105,
       "text": "''"
      }
     ],
     "prompt_number": 105
    },
    {
     "cell_type": "code",
     "collapsed": false,
     "input": "myfile.seek(0)",
     "language": "python",
     "metadata": {},
     "outputs": [
      {
       "metadata": {},
       "output_type": "pyout",
       "prompt_number": 112,
       "text": "0"
      }
     ],
     "prompt_number": 112
    },
    {
     "cell_type": "code",
     "collapsed": false,
     "input": "for line in myfile:\n    print(line)",
     "language": "python",
     "metadata": {},
     "outputs": [
      {
       "output_type": "stream",
       "stream": "stdout",
       "text": "This is a test file with some meaningless text in it.\n\nWe have a few lines of text in it.\n\nLike this one.\n\nAnd this one.\n\nThis is another line\n"
      }
     ],
     "prompt_number": 107
    },
    {
     "cell_type": "code",
     "collapsed": false,
     "input": "firstline = myfile.readline()",
     "language": "python",
     "metadata": {},
     "outputs": [],
     "prompt_number": 108
    },
    {
     "cell_type": "code",
     "collapsed": false,
     "input": "print(firstline)",
     "language": "python",
     "metadata": {},
     "outputs": [
      {
       "output_type": "stream",
       "stream": "stdout",
       "text": "\n"
      }
     ],
     "prompt_number": 109
    },
    {
     "cell_type": "code",
     "collapsed": false,
     "input": "all_lines = myfile.readlines()",
     "language": "python",
     "metadata": {},
     "outputs": [],
     "prompt_number": 113
    },
    {
     "cell_type": "code",
     "collapsed": false,
     "input": "print(all_lines)",
     "language": "python",
     "metadata": {},
     "outputs": [
      {
       "output_type": "stream",
       "stream": "stdout",
       "text": "['This is a test file with some meaningless text in it.\\n', 'We have a few lines of text in it.\\n', 'Like this one.\\n', 'And this one.\\n', 'This is another line']\n"
      }
     ],
     "prompt_number": 114
    },
    {
     "cell_type": "code",
     "collapsed": false,
     "input": "myfile.write('\\nThis is another line\\n')",
     "language": "python",
     "metadata": {},
     "outputs": [
      {
       "metadata": {},
       "output_type": "pyout",
       "prompt_number": 115,
       "text": "21"
      }
     ],
     "prompt_number": 115
    },
    {
     "cell_type": "code",
     "collapsed": false,
     "input": "x = 'This is a line to be saved to the file'.split()",
     "language": "python",
     "metadata": {},
     "outputs": [],
     "prompt_number": 116
    },
    {
     "cell_type": "code",
     "collapsed": false,
     "input": "myfile.write(str(x))",
     "language": "python",
     "metadata": {},
     "outputs": [
      {
       "metadata": {},
       "output_type": "pyout",
       "prompt_number": 117,
       "text": "69"
      }
     ],
     "prompt_number": 117
    },
    {
     "cell_type": "code",
     "collapsed": false,
     "input": "myfile.close() # to save some system resources...important if you have big files",
     "language": "python",
     "metadata": {},
     "outputs": [],
     "prompt_number": 118
    },
    {
     "cell_type": "markdown",
     "metadata": {},
     "source": "All the above works fine if your data are simple types like numerics or strings. But if you want a to save more complicated structures like dictionaries, and especially if you want to do it on the cheap, there are Python-specific files for doing this (e.g., pickles or pandas)."
    },
    {
     "cell_type": "code",
     "collapsed": false,
     "input": "import pickle\nmy_dict = dict([('jake', 4139), ('jack', 4127), ('john', 4098)])\npickle.dump( my_dict, open( \"save.p\", \"wb\" ) )",
     "language": "python",
     "metadata": {},
     "outputs": [],
     "prompt_number": 121
    },
    {
     "cell_type": "heading",
     "level": 2,
     "metadata": {},
     "source": "Defining your own functions (and some exercises)"
    },
    {
     "cell_type": "markdown",
     "metadata": {},
     "source": "Many premade functions -- print, range, len, string.upper(), etc.\n\nYou can also make your own. Let's say we wanted a function that took a string and capitalized every other letter in it. So 'russell' would become 'RuSsElL'"
    },
    {
     "cell_type": "code",
     "collapsed": false,
     "input": "def make_so_dope(string):\n    listed_string = list(string)\n    for index, letter in enumerate(listed_string):\n        if index % 2 == 0: # x % y returns the remainder when you divide x by 2. if x is even, then % should return 0\n            listed_string[index] = letter.upper()\n    completed_string = ''.join(listed_string)\n    return completed_string",
     "language": "python",
     "metadata": {},
     "outputs": [],
     "prompt_number": 130
    },
    {
     "cell_type": "code",
     "collapsed": false,
     "input": "make_so_dope('Russell')",
     "language": "python",
     "metadata": {},
     "outputs": [
      {
       "metadata": {},
       "output_type": "pyout",
       "prompt_number": 131,
       "text": "'RuSsElL'"
      }
     ],
     "prompt_number": 131
    },
    {
     "cell_type": "markdown",
     "metadata": {},
     "source": "Let's make a few functions to solve some simple problems (taken from codingbat.com and Google's online Python class). In doing so, think about what data structures we will need, and what kinds of operations or procedures.\n\n**Ex. 1** We want make a package of goal kilos of chocolate. We have small bars (1 kilo each) and big bars (5 kilos each). Return the number of small bars to use, assuming we always use big bars before small bars. Return -1 if it can't be done. \n\n**Ex. 2** Given a list of numbers, return a list where all adjacent == elements have been reduced to a single element, so [1, 2, 2, 3] returns [1, 2, 3]. You may create a new list or modify the passed in list.\n\n**Ex. 3** Given two lists sorted in increasing order, create and return a merged list of all the elements in sorted order. You may modify the passed in lists. Ideally, the solution should work in \"linear\" time, making a single pass of both lists."
    },
    {
     "cell_type": "code",
     "collapsed": false,
     "input": "def make_chocolate(small,big,goal):\n    if (small + big * 5) < goal:\n        return -1\n    else:\n        num_small = goal % (5 * big)\n        return num_small",
     "language": "python",
     "metadata": {},
     "outputs": []
    },
    {
     "cell_type": "code",
     "collapsed": false,
     "input": "def remove_adjacent(nums):\n  result = []\n  for num in nums:\n    if len(result) == 0 or num != result[-1]:\n      result.append(num)\n  return result",
     "language": "python",
     "metadata": {},
     "outputs": [],
     "prompt_number": 142
    },
    {
     "cell_type": "code",
     "collapsed": false,
     "input": "def linear_merge(list1, list2):\n  result = []\n  while len(list1) and len(list2):\n    if list1[0] < list2[0]:\n      result.append(list1.pop(0))\n    else:\n      result.append(list2.pop(0))\n  result.extend(list1)\n  result.extend(list2)\n  return result",
     "language": "python",
     "metadata": {},
     "outputs": []
    }
   ],
   "metadata": {}
  }
 ]
}