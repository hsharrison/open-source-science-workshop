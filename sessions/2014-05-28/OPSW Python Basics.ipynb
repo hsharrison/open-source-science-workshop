{
 "metadata": {
  "name": "",
  "signature": "sha256:9a91f7f52fcebd4adbb03126289826c193b2bb0eaedada6a40c7690a423047fd"
 },
 "nbformat": 3,
 "nbformat_minor": 0,
 "worksheets": [
  {
   "cells": [
    {
     "cell_type": "heading",
     "level": 1,
     "metadata": {},
     "source": [
      "Introduction to Python Basics"
     ]
    },
    {
     "cell_type": "heading",
     "level": 2,
     "metadata": {},
     "source": [
      "What is Python?"
     ]
    },
    {
     "cell_type": "markdown",
     "metadata": {},
     "source": [
      "High-level, interpreted programming language (like R or Matlab)<ul>    \n",
      "<li>High-level -- code almost looks like natural language</li>\n",
      "<li>Interpreted -- you type code, and then you run it -- you don\u2019t have to \u2018compile\u2019 it first into machine-readable code</li>\n",
      "</ul>"
     ]
    },
    {
     "cell_type": "code",
     "collapsed": false,
     "input": [
      "print(\"Hello world\")"
     ],
     "language": "python",
     "metadata": {},
     "outputs": [
      {
       "output_type": "stream",
       "stream": "stdout",
       "text": [
        "Hello world\n"
       ]
      }
     ],
     "prompt_number": 7
    },
    {
     "cell_type": "markdown",
     "metadata": {},
     "source": [
      "**Advantages**: Python code is readable, intuitive to work with, fast to program in and iterate your projects <br>\n",
      "**Disadvantages**: it can be slow, but there are ways around this (e.g., multi-core processing)"
     ]
    },
    {
     "cell_type": "heading",
     "level": 2,
     "metadata": {},
     "source": [
      "So easy, a Russell can do it"
     ]
    },
    {
     "cell_type": "markdown",
     "metadata": {},
     "source": [
      "I took a ~16 hour summer class, and was immediately using it for my own projects"
     ]
    },
    {
     "cell_type": "markdown",
     "metadata": {},
     "source": [
      "So I'm also a novice! I may have to defer to Henry on some things!"
     ]
    },
    {
     "cell_type": "heading",
     "level": 2,
     "metadata": {},
     "source": [
      "Python vs. R and Matlab"
     ]
    },
    {
     "cell_type": "markdown",
     "metadata": {},
     "source": [
      "1. Free, unlike Matlab!\n",
      "2. MANY more people use Python than R or Matlab\n",
      "    1. Better online support (tutorials, faq\u2019s, etc.)\n",
      "    2. More pre-existing code that you can use. Many of the problems I google have already been solved.\n",
      "3. Python is simply more versatile than R or Matlab. With the right package, you can do <i>anything</i>, not just stats or visualization or modeling."
     ]
    },
    {
     "cell_type": "heading",
     "level": 2,
     "metadata": {},
     "source": [
      "Digging in"
     ]
    },
    {
     "cell_type": "markdown",
     "metadata": {},
     "source": [
      "Doing simple calculations from the command line"
     ]
    },
    {
     "cell_type": "code",
     "collapsed": false,
     "input": [
      "5 + 5"
     ],
     "language": "python",
     "metadata": {},
     "outputs": [
      {
       "metadata": {},
       "output_type": "pyout",
       "prompt_number": 8,
       "text": [
        "10"
       ]
      }
     ],
     "prompt_number": 8
    },
    {
     "cell_type": "code",
     "collapsed": false,
     "input": [
      "3 + 2 ** -9"
     ],
     "language": "python",
     "metadata": {},
     "outputs": [
      {
       "metadata": {},
       "output_type": "pyout",
       "prompt_number": 13,
       "text": [
        "3.001953125"
       ]
      }
     ],
     "prompt_number": 13
    },
    {
     "cell_type": "code",
     "collapsed": false,
     "input": [
      "'this' + '&' + 'that'"
     ],
     "language": "python",
     "metadata": {},
     "outputs": [
      {
       "metadata": {},
       "output_type": "pyout",
       "prompt_number": 14,
       "text": [
        "'this&that'"
       ]
      }
     ],
     "prompt_number": 14
    },
    {
     "cell_type": "code",
     "collapsed": false,
     "input": [
      "print(5 + 5) # This is a comment"
     ],
     "language": "python",
     "metadata": {},
     "outputs": [
      {
       "output_type": "stream",
       "stream": "stdout",
       "text": [
        "10\n"
       ]
      }
     ],
     "prompt_number": 1
    },
    {
     "cell_type": "heading",
     "level": 2,
     "metadata": {},
     "source": [
      "Data Structures"
     ]
    },
    {
     "cell_type": "markdown",
     "metadata": {},
     "source": [
      "Basic data structure types: numerics, strings, lists, tuples, dictionaries\u2026 (we'll talk about each) <br>\n",
      "\n",
      "Fall into two classes: <b>mutable</b> and <b>immutable</b>\n",
      "\n",
      "<b>Mutable:</b> Can be changed in place, i.e., change variable without changing where it is stored in the computer's memory. Defining structure a and then saying b = a will point a and b to the same location in memory. If you define a in terms of b, and then changing one in place changes the other.</br>\n",
      "\n",
      "<b>Immutable:</b> Cannot be changed in place.<br>\n",
      "\n",
      "Practical demonstration of this difference in a moment..."
     ]
    },
    {
     "cell_type": "heading",
     "level": 3,
     "metadata": {},
     "source": [
      "Numerics"
     ]
    },
    {
     "cell_type": "markdown",
     "metadata": {},
     "source": [
      "Floats (numbers with decimals, roughly), integers. These are immutable."
     ]
    },
    {
     "cell_type": "code",
     "collapsed": false,
     "input": [
      "x = 3 # x is an integer"
     ],
     "language": "python",
     "metadata": {},
     "outputs": [],
     "prompt_number": 2
    },
    {
     "cell_type": "code",
     "collapsed": false,
     "input": [
      "type(x)"
     ],
     "language": "python",
     "metadata": {},
     "outputs": []
    },
    {
     "cell_type": "code",
     "collapsed": false,
     "input": [
      "y = 4.9"
     ],
     "language": "python",
     "metadata": {},
     "outputs": [],
     "prompt_number": 23
    },
    {
     "cell_type": "code",
     "collapsed": false,
     "input": [
      "type(y)"
     ],
     "language": "python",
     "metadata": {},
     "outputs": []
    },
    {
     "cell_type": "code",
     "collapsed": false,
     "input": [
      "y = x"
     ],
     "language": "python",
     "metadata": {},
     "outputs": []
    },
    {
     "cell_type": "code",
     "collapsed": false,
     "input": [
      "x += 1.2 #now x becomes a float"
     ],
     "language": "python",
     "metadata": {},
     "outputs": []
    },
    {
     "cell_type": "code",
     "collapsed": false,
     "input": [
      "y # what will the output be? Remember that numerics are immutable"
     ],
     "language": "python",
     "metadata": {},
     "outputs": []
    },
    {
     "cell_type": "code",
     "collapsed": false,
     "input": [
      "y = float(y) # this changes y's type to float"
     ],
     "language": "python",
     "metadata": {},
     "outputs": []
    },
    {
     "cell_type": "code",
     "collapsed": false,
     "input": [
      "type(y)"
     ],
     "language": "python",
     "metadata": {},
     "outputs": []
    },
    {
     "cell_type": "heading",
     "level": 3,
     "metadata": {},
     "source": [
      "Strings"
     ]
    },
    {
     "cell_type": "markdown",
     "metadata": {},
     "source": [
      "Sequences of characters (letters, numbers, punctuation, etc.). Also immutable."
     ]
    },
    {
     "cell_type": "code",
     "collapsed": false,
     "input": [
      "'Hello world'"
     ],
     "language": "python",
     "metadata": {},
     "outputs": [
      {
       "metadata": {},
       "output_type": "pyout",
       "prompt_number": 32,
       "text": [
        "'Hello world'"
       ]
      }
     ],
     "prompt_number": 32
    },
    {
     "cell_type": "code",
     "collapsed": false,
     "input": [
      "mystring = 'Hello World'"
     ],
     "language": "python",
     "metadata": {},
     "outputs": [],
     "prompt_number": 34
    },
    {
     "cell_type": "code",
     "collapsed": false,
     "input": [
      "mystring += ', how are you today?'"
     ],
     "language": "python",
     "metadata": {},
     "outputs": []
    },
    {
     "cell_type": "code",
     "collapsed": false,
     "input": [
      "mystring"
     ],
     "language": "python",
     "metadata": {},
     "outputs": []
    },
    {
     "cell_type": "code",
     "collapsed": false,
     "input": [
      "mystring.lower() # object.method()"
     ],
     "language": "python",
     "metadata": {},
     "outputs": []
    },
    {
     "cell_type": "code",
     "collapsed": false,
     "input": [
      "mystring.split() # returns a list...more on those in a bit"
     ],
     "language": "python",
     "metadata": {},
     "outputs": []
    },
    {
     "cell_type": "code",
     "collapsed": false,
     "input": [
      "mystring.isalpha()"
     ],
     "language": "python",
     "metadata": {},
     "outputs": [
      {
       "metadata": {},
       "output_type": "pyout",
       "prompt_number": 35,
       "text": [
        "False"
       ]
      }
     ],
     "prompt_number": 35
    },
    {
     "cell_type": "code",
     "collapsed": false,
     "input": [
      "mystring = 'HellowWorld'"
     ],
     "language": "python",
     "metadata": {},
     "outputs": []
    },
    {
     "cell_type": "code",
     "collapsed": false,
     "input": [
      "mystring.isalpha()"
     ],
     "language": "python",
     "metadata": {},
     "outputs": []
    },
    {
     "cell_type": "code",
     "collapsed": false,
     "input": [
      "\"The sum of 1 + 2 is {} and not {}\".format(1+2,99)"
     ],
     "language": "python",
     "metadata": {},
     "outputs": [
      {
       "metadata": {},
       "output_type": "pyout",
       "prompt_number": 32,
       "text": [
        "'The sum of 1 + 2 is 3 and not 99'"
       ]
      }
     ],
     "prompt_number": 32
    },
    {
     "cell_type": "markdown",
     "metadata": {},
     "source": [
      "True and False are their own type: boolean. Equivalent to 1 and 0 (which can be extremely handy.)"
     ]
    },
    {
     "cell_type": "heading",
     "level": 3,
     "metadata": {},
     "source": [
      "Tuples & Lists"
     ]
    },
    {
     "cell_type": "markdown",
     "metadata": {},
     "source": [
      "Tuples & lists: ordered containers of any combination of data structures (strings, integers, variables, other tuples or lists). Tuples are immutable, lists mutable."
     ]
    },
    {
     "cell_type": "code",
     "collapsed": false,
     "input": [
      "z = ('our', 'first', 'tuple', 9, x) # put paren around items for tuple"
     ],
     "language": "python",
     "metadata": {},
     "outputs": []
    },
    {
     "cell_type": "code",
     "collapsed": false,
     "input": [
      "z = ['our', 'first', 'list', 3.4, [3,'hi']] # brackets for list "
     ],
     "language": "python",
     "metadata": {},
     "outputs": []
    },
    {
     "cell_type": "markdown",
     "metadata": {},
     "source": [
      "Some list methods"
     ]
    },
    {
     "cell_type": "code",
     "collapsed": false,
     "input": [
      "z.append('eats') # append adds the object itself"
     ],
     "language": "python",
     "metadata": {},
     "outputs": []
    },
    {
     "cell_type": "code",
     "collapsed": false,
     "input": [
      "z"
     ],
     "language": "python",
     "metadata": {},
     "outputs": []
    },
    {
     "cell_type": "code",
     "collapsed": false,
     "input": [
      "z.extend('eats') # extend adds the pieces of the object, or iterable"
     ],
     "language": "python",
     "metadata": {},
     "outputs": []
    },
    {
     "cell_type": "code",
     "collapsed": false,
     "input": [
      "z"
     ],
     "language": "python",
     "metadata": {},
     "outputs": []
    },
    {
     "cell_type": "code",
     "collapsed": false,
     "input": [
      "z.index('eats')"
     ],
     "language": "python",
     "metadata": {},
     "outputs": []
    },
    {
     "cell_type": "code",
     "collapsed": false,
     "input": [
      "z.sort()"
     ],
     "language": "python",
     "metadata": {},
     "outputs": []
    },
    {
     "cell_type": "code",
     "collapsed": false,
     "input": [
      "z"
     ],
     "language": "python",
     "metadata": {},
     "outputs": []
    },
    {
     "cell_type": "code",
     "collapsed": false,
     "input": [
      "z.pop(2)"
     ],
     "language": "python",
     "metadata": {},
     "outputs": []
    },
    {
     "cell_type": "code",
     "collapsed": false,
     "input": [
      "z"
     ],
     "language": "python",
     "metadata": {},
     "outputs": []
    },
    {
     "cell_type": "heading",
     "level": 3,
     "metadata": {},
     "source": [
      "Tuples vs lists -- slicing, indexing, assignment-via-index"
     ]
    },
    {
     "cell_type": "code",
     "collapsed": false,
     "input": [
      "z = 'Russell'"
     ],
     "language": "python",
     "metadata": {},
     "outputs": [],
     "prompt_number": 34
    },
    {
     "cell_type": "code",
     "collapsed": false,
     "input": [
      "z[0] # indexes first element in iterable"
     ],
     "language": "python",
     "metadata": {},
     "outputs": []
    },
    {
     "cell_type": "markdown",
     "metadata": {},
     "source": [
      "<b> 0 is the first index in Python (cf. R and Matlab)!!! </b></br></br>\n",
      "\n",
      "How to think of it...\n",
      "\n",
      "![How to think of 0-indexing](http://openbookproject.net/thinkcs/python/english3e/_images/banana.png \"How to think of 0-indexing\")\n",
      "\n",
      "<b>Why?</b>\n",
      "\n",
      "See:\n",
      "\n",
      "http://en.wikipedia.org/wiki/Zero-based_numbering\n",
      "\n",
      "http://www.cs.utexas.edu/users/EWD/ewd08xx/EWD831.PDF <-- charming hand-written note by Edsger W. Dijkstra, a giant in computer science\n",
      "\n",
      "https://plus.google.com/115212051037621986145/posts/YTUxbXYZyfi  <-- written by Guido van Rossum, inventor of Python"
     ]
    },
    {
     "cell_type": "code",
     "collapsed": false,
     "input": [
      "z[:3], z[3:] # slicing...3 is, in a manner of speaking, indexing the space between the two 's'"
     ],
     "language": "python",
     "metadata": {},
     "outputs": [
      {
       "metadata": {},
       "output_type": "pyout",
       "prompt_number": 51,
       "text": [
        "('Rus', 'sell')"
       ]
      }
     ],
     "prompt_number": 51
    },
    {
     "cell_type": "code",
     "collapsed": false,
     "input": [
      "y = ['my', 'list']"
     ],
     "language": "python",
     "metadata": {},
     "outputs": [],
     "prompt_number": 9
    },
    {
     "cell_type": "code",
     "collapsed": false,
     "input": [
      "y[0]"
     ],
     "language": "python",
     "metadata": {},
     "outputs": [
      {
       "metadata": {},
       "output_type": "pyout",
       "prompt_number": 10,
       "text": [
        "'my'"
       ]
      }
     ],
     "prompt_number": 10
    },
    {
     "cell_type": "code",
     "collapsed": false,
     "input": [
      "y[:1]"
     ],
     "language": "python",
     "metadata": {},
     "outputs": [
      {
       "metadata": {},
       "output_type": "pyout",
       "prompt_number": 11,
       "text": [
        "['my']"
       ]
      }
     ],
     "prompt_number": 11
    },
    {
     "cell_type": "code",
     "collapsed": false,
     "input": [
      "x = ('my', 'tuple')"
     ],
     "language": "python",
     "metadata": {},
     "outputs": []
    },
    {
     "cell_type": "code",
     "collapsed": false,
     "input": [
      "x[0]"
     ],
     "language": "python",
     "metadata": {},
     "outputs": []
    },
    {
     "cell_type": "code",
     "collapsed": false,
     "input": [
      "x[:1]"
     ],
     "language": "python",
     "metadata": {},
     "outputs": []
    },
    {
     "cell_type": "markdown",
     "metadata": {},
     "source": [
      "Can also index, slice, assign using negative numbers, which index from the back of the sequence"
     ]
    },
    {
     "cell_type": "code",
     "collapsed": false,
     "input": [
      "z[-1] # NOTE -- negative indexing does NOT start at 0!"
     ],
     "language": "python",
     "metadata": {},
     "outputs": [
      {
       "metadata": {},
       "output_type": "pyout",
       "prompt_number": 45,
       "text": [
        "'l'"
       ]
      }
     ],
     "prompt_number": 45
    },
    {
     "cell_type": "code",
     "collapsed": false,
     "input": [
      "z[-3:]"
     ],
     "language": "python",
     "metadata": {},
     "outputs": [
      {
       "metadata": {},
       "output_type": "pyout",
       "prompt_number": 41,
       "text": [
        "'ell'"
       ]
      }
     ],
     "prompt_number": 41
    },
    {
     "cell_type": "markdown",
     "metadata": {},
     "source": [
      "Assigning new value via indexing works for lists (which are mutable), but not strings or tuples (which are immutable)"
     ]
    },
    {
     "cell_type": "code",
     "collapsed": false,
     "input": [
      "x[0] = 'your'"
     ],
     "language": "python",
     "metadata": {},
     "outputs": []
    },
    {
     "cell_type": "code",
     "collapsed": false,
     "input": [
      "z[0] = 'Z'"
     ],
     "language": "python",
     "metadata": {},
     "outputs": []
    },
    {
     "cell_type": "code",
     "collapsed": false,
     "input": [
      "y[0] = 'your'"
     ],
     "language": "python",
     "metadata": {},
     "outputs": []
    },
    {
     "cell_type": "markdown",
     "metadata": {},
     "source": [
      "<b>So why use tuple instead of list?</b> Computer creates tuples faster, they use less memory, and, like other immutables, they can be used as keys in dictionary."
     ]
    },
    {
     "cell_type": "heading",
     "level": 3,
     "metadata": {},
     "source": [
      "Set"
     ]
    },
    {
     "cell_type": "markdown",
     "metadata": {},
     "source": [
      "Unordered collection with no duplicate elements. Basic uses include membership testing and eliminating duplicate entries. Sets support basic set operations like union, intersection, difference, etc. Sets are mutable."
     ]
    },
    {
     "cell_type": "markdown",
     "metadata": {},
     "source": [
      "<b>Disclaimer:</b> I haven't used these that much yet (though I probably should)..."
     ]
    },
    {
     "cell_type": "code",
     "collapsed": false,
     "input": [
      "engineers = set(['John', 'Jane', 'Jack', 'Janice'])"
     ],
     "language": "python",
     "metadata": {},
     "outputs": [],
     "prompt_number": 42
    },
    {
     "cell_type": "code",
     "collapsed": false,
     "input": [
      "programmers = set(['Jack', 'Sam', 'Susan', 'Janice'])"
     ],
     "language": "python",
     "metadata": {},
     "outputs": [],
     "prompt_number": 44
    },
    {
     "cell_type": "code",
     "collapsed": false,
     "input": [
      "managers = set(['Jane', 'Jack', 'Susan', 'Zack'])"
     ],
     "language": "python",
     "metadata": {},
     "outputs": [],
     "prompt_number": 45
    },
    {
     "cell_type": "code",
     "collapsed": false,
     "input": [
      "employees = engineers | programmers | managers           # union"
     ],
     "language": "python",
     "metadata": {},
     "outputs": [],
     "prompt_number": 46
    },
    {
     "cell_type": "code",
     "collapsed": false,
     "input": [
      "engineering_management = engineers & managers            # intersection"
     ],
     "language": "python",
     "metadata": {},
     "outputs": [],
     "prompt_number": 47
    },
    {
     "cell_type": "code",
     "collapsed": false,
     "input": [
      "fulltime_management = managers - engineers - programmers # difference"
     ],
     "language": "python",
     "metadata": {},
     "outputs": [],
     "prompt_number": 48
    },
    {
     "cell_type": "code",
     "collapsed": false,
     "input": [
      "engineers.add('Marvin')                                  # add element"
     ],
     "language": "python",
     "metadata": {},
     "outputs": [],
     "prompt_number": 49
    },
    {
     "cell_type": "code",
     "collapsed": false,
     "input": [
      "print(engineers) "
     ],
     "language": "python",
     "metadata": {},
     "outputs": [
      {
       "output_type": "stream",
       "stream": "stdout",
       "text": [
        "{'Janice', 'Jane', 'Jack', 'Marvin', 'John'}\n"
       ]
      }
     ],
     "prompt_number": 50
    },
    {
     "cell_type": "code",
     "collapsed": false,
     "input": [
      "employees.issuperset(engineers)     # superset test"
     ],
     "language": "python",
     "metadata": {},
     "outputs": [
      {
       "metadata": {},
       "output_type": "pyout",
       "prompt_number": 51,
       "text": [
        "False"
       ]
      }
     ],
     "prompt_number": 51
    },
    {
     "cell_type": "code",
     "collapsed": false,
     "input": [
      "employees.update(engineers)"
     ],
     "language": "python",
     "metadata": {},
     "outputs": [],
     "prompt_number": 52
    },
    {
     "cell_type": "code",
     "collapsed": false,
     "input": [
      "employees.issuperset(engineers)"
     ],
     "language": "python",
     "metadata": {},
     "outputs": [
      {
       "metadata": {},
       "output_type": "pyout",
       "prompt_number": 53,
       "text": [
        "True"
       ]
      }
     ],
     "prompt_number": 53
    },
    {
     "cell_type": "heading",
     "level": 3,
     "metadata": {},
     "source": [
      "Dictionaries"
     ]
    },
    {
     "cell_type": "markdown",
     "metadata": {},
     "source": [
      "Key-value pairs. Keys can be any immutable (e.g., tuples, strings, numerics, but not lists). Members of dictionary are indexed with key, cf. lists which are indexed with a range of numbers. Like sets, checking for membership is fast, O(1) in average case. Cf. lists, for which membership checking is O(n). Dictionaries are mutable."
     ]
    },
    {
     "cell_type": "code",
     "collapsed": false,
     "input": [
      "mydict = {'the':10, 'of': 6}"
     ],
     "language": "python",
     "metadata": {},
     "outputs": [],
     "prompt_number": 3
    },
    {
     "cell_type": "code",
     "collapsed": false,
     "input": [
      "mydict['the'] #lookup with key"
     ],
     "language": "python",
     "metadata": {},
     "outputs": []
    },
    {
     "cell_type": "code",
     "collapsed": false,
     "input": [
      "mydict['the'] = 20"
     ],
     "language": "python",
     "metadata": {},
     "outputs": []
    },
    {
     "cell_type": "code",
     "collapsed": false,
     "input": [
      "mydict"
     ],
     "language": "python",
     "metadata": {},
     "outputs": []
    },
    {
     "cell_type": "markdown",
     "metadata": {},
     "source": [
      "Some useful methods..."
     ]
    },
    {
     "cell_type": "code",
     "collapsed": false,
     "input": [
      "mydict.get('cromulent',0) # (key, value to be returned if key not in dict)"
     ],
     "language": "python",
     "metadata": {},
     "outputs": [
      {
       "metadata": {},
       "output_type": "pyout",
       "prompt_number": 4,
       "text": [
        "0"
       ]
      }
     ],
     "prompt_number": 4
    },
    {
     "cell_type": "code",
     "collapsed": false,
     "input": [
      "mydict.items()"
     ],
     "language": "python",
     "metadata": {},
     "outputs": [
      {
       "metadata": {},
       "output_type": "pyout",
       "prompt_number": 55,
       "text": [
        "dict_items([('of', 6), ('the', 10)])"
       ]
      }
     ],
     "prompt_number": 55
    },
    {
     "cell_type": "code",
     "collapsed": false,
     "input": [
      "mydict.values()"
     ],
     "language": "python",
     "metadata": {},
     "outputs": []
    },
    {
     "cell_type": "code",
     "collapsed": false,
     "input": [
      "mydict.keys()"
     ],
     "language": "python",
     "metadata": {},
     "outputs": []
    },
    {
     "cell_type": "heading",
     "level": 3,
     "metadata": {},
     "source": [
      "Knowing which data structure to use..."
     ]
    },
    {
     "cell_type": "markdown",
     "metadata": {},
     "source": [
      "Do you *just* need an ordered sequence of items?\n",
      "<ul>- Use a tuple</ul>\n",
      "Do you need an ordered sequence of items and need to be able to *change that sequence in place*?\n",
      "<ul>- Use a list</ul>\n",
      "Do you just need to know whether or not you've already *got* a particular value, but without ordering, and you don't need to store duplicates?\n",
      "<ul>- Use a set</ul>\n",
      "Do you need to associate values with keys, so you can look them up efficiently (by key) later on?\n",
      "<ul>- Use a dictionary</ul>\n",
      "\n",
      "Another way to decide between tuples and lists (from Henry):\n",
      "\n",
      "\"By convention lists tend to be homogeneous. You don't know how many you'll end up with necessarily, but you have a bunch of the same thing. Tuples are not necessarily homogeneous, and the slots usually have some kind of predefined semantics, like ('Henry', 'Harrison', 27).\""
     ]
    },
    {
     "cell_type": "heading",
     "level": 2,
     "metadata": {},
     "source": [
      "A couple basic functions"
     ]
    },
    {
     "cell_type": "code",
     "collapsed": false,
     "input": [
      "x, y, z = 2, 'hi', ['my', 'list']"
     ],
     "language": "python",
     "metadata": {},
     "outputs": [],
     "prompt_number": 56
    },
    {
     "cell_type": "code",
     "collapsed": false,
     "input": [
      "print(x,y,z)"
     ],
     "language": "python",
     "metadata": {},
     "outputs": [
      {
       "output_type": "stream",
       "stream": "stdout",
       "text": [
        "2 hi ['my', 'list']\n"
       ]
      }
     ],
     "prompt_number": 57
    },
    {
     "cell_type": "code",
     "collapsed": false,
     "input": [
      "len(z)"
     ],
     "language": "python",
     "metadata": {},
     "outputs": []
    },
    {
     "cell_type": "code",
     "collapsed": false,
     "input": [
      "range(10)"
     ],
     "language": "python",
     "metadata": {},
     "outputs": []
    },
    {
     "cell_type": "heading",
     "level": 2,
     "metadata": {},
     "source": [
      "Control Flow"
     ]
    },
    {
     "cell_type": "markdown",
     "metadata": {},
     "source": [
      "Conditionals (if/thens), loops, list comprehension"
     ]
    },
    {
     "cell_type": "heading",
     "level": 3,
     "metadata": {},
     "source": [
      "Conditionals"
     ]
    },
    {
     "cell_type": "code",
     "collapsed": false,
     "input": [
      "x = 3\n",
      "if x == 3: # notice == for computing truth value\n",
      "    print('yes')"
     ],
     "language": "python",
     "metadata": {},
     "outputs": []
    },
    {
     "cell_type": "code",
     "collapsed": false,
     "input": [
      "y = 'tested'\n",
      "if len(y) > 6:\n",
      "    print('yes')\n",
      "elif len(y) = 6:\n",
      "    print('maybe')\n",
      "else:\n",
      "    print('no')"
     ],
     "language": "python",
     "metadata": {},
     "outputs": []
    },
    {
     "cell_type": "heading",
     "level": 3,
     "metadata": {},
     "source": [
      "For loops"
     ]
    },
    {
     "cell_type": "markdown",
     "metadata": {},
     "source": [
      "For every item in some list, tuple, string, or other iterable, do something with that item"
     ]
    },
    {
     "cell_type": "code",
     "collapsed": false,
     "input": [
      "x = list('Russell')\n",
      "for letter in x:\n",
      "    print(x)"
     ],
     "language": "python",
     "metadata": {},
     "outputs": []
    },
    {
     "cell_type": "code",
     "collapsed": false,
     "input": [
      "for index, letter in enumerate(x): # enumerate is a generator, not an ordinary function, more next time on genereators\n",
      "    print letter, index"
     ],
     "language": "python",
     "metadata": {},
     "outputs": []
    },
    {
     "cell_type": "code",
     "collapsed": false,
     "input": [
      "for index, letter in enumerate(x):\n",
      "    if index == 0 or index == 1:\n",
      "        print index, letter"
     ],
     "language": "python",
     "metadata": {},
     "outputs": []
    },
    {
     "cell_type": "heading",
     "level": 3,
     "metadata": {},
     "source": [
      "While Loops"
     ]
    },
    {
     "cell_type": "markdown",
     "metadata": {},
     "source": [
      "While something is True, do something else."
     ]
    },
    {
     "cell_type": "code",
     "collapsed": false,
     "input": [
      "list1 = ['the','rain','in','spain','falls','mainly','on','the','plain']\n",
      "list2 = []\n",
      "while len(list1): # len(list1) is True if list1 is not empty, i.e., if len(list1) is > 1\n",
      "     list2.append(list1.pop(0))\n",
      "list2"
     ],
     "language": "python",
     "metadata": {},
     "outputs": [
      {
       "metadata": {},
       "output_type": "pyout",
       "prompt_number": 141,
       "text": [
        "['the', 'rain', 'in', 'spain', 'falls', 'mainly', 'on', 'the', 'plain']"
       ]
      }
     ],
     "prompt_number": 141
    },
    {
     "cell_type": "heading",
     "level": 3,
     "metadata": {},
     "source": [
      "List comprehension"
     ]
    },
    {
     "cell_type": "markdown",
     "metadata": {},
     "source": [
      "A compressed, elegant way to construct lists with loops"
     ]
    },
    {
     "cell_type": "code",
     "collapsed": false,
     "input": [
      "x = [y**2 for y in range(10)]"
     ],
     "language": "python",
     "metadata": {},
     "outputs": []
    },
    {
     "cell_type": "code",
     "collapsed": false,
     "input": [
      "my_name = 'Russell'\n",
      "consonants = set('bcdfghjklmnpqrstvwxz')\n",
      "my_consonants = [x for x in my_name if x.lower() in consonants]"
     ],
     "language": "python",
     "metadata": {},
     "outputs": [],
     "prompt_number": 65
    },
    {
     "cell_type": "code",
     "collapsed": false,
     "input": [
      "''.join(my_consonants) #a string method...take an iterable containing strings, and join them by the string object ('') in the first part of the line"
     ],
     "language": "python",
     "metadata": {},
     "outputs": [
      {
       "metadata": {},
       "output_type": "pyout",
       "prompt_number": 67,
       "text": [
        "'Rssll'"
       ]
      }
     ],
     "prompt_number": 67
    },
    {
     "cell_type": "heading",
     "level": 2,
     "metadata": {},
     "source": [
      "File input/output"
     ]
    },
    {
     "cell_type": "markdown",
     "metadata": {},
     "source": [
      "Let's first make a little text file in textedit, textwrangler, etc."
     ]
    },
    {
     "cell_type": "code",
     "collapsed": false,
     "input": [
      "myfile = open('test_file.txt','r+') # r+ enables reading and writing"
     ],
     "language": "python",
     "metadata": {},
     "outputs": [],
     "prompt_number": 103
    },
    {
     "cell_type": "code",
     "collapsed": false,
     "input": [
      "myfile.read()"
     ],
     "language": "python",
     "metadata": {},
     "outputs": [
      {
       "metadata": {},
       "output_type": "pyout",
       "prompt_number": 104,
       "text": [
        "'This is a test file with some meaningless text in it.\\nWe have a few lines of text in it.\\nLike this one.\\nAnd this one.\\nThis is another line'"
       ]
      }
     ],
     "prompt_number": 104
    },
    {
     "cell_type": "markdown",
     "metadata": {},
     "source": [
      "**Note:** if we try to do this again, we get nothing, because the read method changes our position in the file object. We can read the file in again, or change the position with myfile.seek(0)."
     ]
    },
    {
     "cell_type": "code",
     "collapsed": false,
     "input": [
      "myfile.read()"
     ],
     "language": "python",
     "metadata": {},
     "outputs": [
      {
       "metadata": {},
       "output_type": "pyout",
       "prompt_number": 105,
       "text": [
        "''"
       ]
      }
     ],
     "prompt_number": 105
    },
    {
     "cell_type": "code",
     "collapsed": false,
     "input": [
      "myfile.seek(0)"
     ],
     "language": "python",
     "metadata": {},
     "outputs": [
      {
       "metadata": {},
       "output_type": "pyout",
       "prompt_number": 112,
       "text": [
        "0"
       ]
      }
     ],
     "prompt_number": 112
    },
    {
     "cell_type": "code",
     "collapsed": false,
     "input": [
      "for line in myfile:\n",
      "    print(line)"
     ],
     "language": "python",
     "metadata": {},
     "outputs": [
      {
       "output_type": "stream",
       "stream": "stdout",
       "text": [
        "This is a test file with some meaningless text in it.\n",
        "\n",
        "We have a few lines of text in it.\n",
        "\n",
        "Like this one.\n",
        "\n",
        "And this one.\n",
        "\n",
        "This is another line\n"
       ]
      }
     ],
     "prompt_number": 107
    },
    {
     "cell_type": "code",
     "collapsed": false,
     "input": [
      "firstline = myfile.readline()"
     ],
     "language": "python",
     "metadata": {},
     "outputs": [],
     "prompt_number": 108
    },
    {
     "cell_type": "code",
     "collapsed": false,
     "input": [
      "print(firstline)"
     ],
     "language": "python",
     "metadata": {},
     "outputs": [
      {
       "output_type": "stream",
       "stream": "stdout",
       "text": [
        "\n"
       ]
      }
     ],
     "prompt_number": 109
    },
    {
     "cell_type": "code",
     "collapsed": false,
     "input": [
      "all_lines = myfile.readlines()"
     ],
     "language": "python",
     "metadata": {},
     "outputs": [],
     "prompt_number": 113
    },
    {
     "cell_type": "code",
     "collapsed": false,
     "input": [
      "print(all_lines)"
     ],
     "language": "python",
     "metadata": {},
     "outputs": [
      {
       "output_type": "stream",
       "stream": "stdout",
       "text": [
        "['This is a test file with some meaningless text in it.\\n', 'We have a few lines of text in it.\\n', 'Like this one.\\n', 'And this one.\\n', 'This is another line']\n"
       ]
      }
     ],
     "prompt_number": 114
    },
    {
     "cell_type": "code",
     "collapsed": false,
     "input": [
      "myfile.write('\\nThis is another line\\n')"
     ],
     "language": "python",
     "metadata": {},
     "outputs": [
      {
       "metadata": {},
       "output_type": "pyout",
       "prompt_number": 115,
       "text": [
        "21"
       ]
      }
     ],
     "prompt_number": 115
    },
    {
     "cell_type": "code",
     "collapsed": false,
     "input": [
      "x = 'This is a line to be saved to the file'.split()"
     ],
     "language": "python",
     "metadata": {},
     "outputs": [],
     "prompt_number": 116
    },
    {
     "cell_type": "code",
     "collapsed": false,
     "input": [
      "myfile.write(str(x))"
     ],
     "language": "python",
     "metadata": {},
     "outputs": [
      {
       "metadata": {},
       "output_type": "pyout",
       "prompt_number": 117,
       "text": [
        "69"
       ]
      }
     ],
     "prompt_number": 117
    },
    {
     "cell_type": "code",
     "collapsed": false,
     "input": [
      "myfile.close() # to save some system resources...important if you have big files"
     ],
     "language": "python",
     "metadata": {},
     "outputs": [],
     "prompt_number": 118
    },
    {
     "cell_type": "markdown",
     "metadata": {},
     "source": [
      "All the above works fine if your data are simple types like numerics or strings. But if you want a to save more complicated structures like dictionaries, and especially if you want to do it on the cheap, there are Python-specific files for doing this (e.g., pickles or pandas)."
     ]
    },
    {
     "cell_type": "code",
     "collapsed": false,
     "input": [
      "import pickle\n",
      "my_dict = dict([('jake', 4139), ('jack', 4127), ('john', 4098)])\n",
      "pickle.dump( my_dict, open( \"save.p\", \"wb\" ) )"
     ],
     "language": "python",
     "metadata": {},
     "outputs": [],
     "prompt_number": 121
    },
    {
     "cell_type": "heading",
     "level": 2,
     "metadata": {},
     "source": [
      "Defining your own functions (and some exercises)"
     ]
    },
    {
     "cell_type": "markdown",
     "metadata": {},
     "source": [
      "Many premade functions -- print, range, len, string.upper(), etc.\n",
      "\n",
      "You can also make your own. Let's say we wanted a function that took a string and capitalized every other letter in it. So 'russell' would become 'RuSsElL'"
     ]
    },
    {
     "cell_type": "code",
     "collapsed": false,
     "input": [
      "def make_so_dope(string):\n",
      "    listed_string = list(string)\n",
      "    for index, letter in enumerate(listed_string):\n",
      "        if index % 2 == 0: # x % y returns the remainder when you divide x by 2. if x is even, then % should return 0\n",
      "            listed_string[index] = letter.upper()\n",
      "    completed_string = ''.join(listed_string)\n",
      "    return completed_string"
     ],
     "language": "python",
     "metadata": {},
     "outputs": [],
     "prompt_number": 130
    },
    {
     "cell_type": "code",
     "collapsed": false,
     "input": [
      "make_so_dope('Russell')"
     ],
     "language": "python",
     "metadata": {},
     "outputs": [
      {
       "metadata": {},
       "output_type": "pyout",
       "prompt_number": 131,
       "text": [
        "'RuSsElL'"
       ]
      }
     ],
     "prompt_number": 131
    },
    {
     "cell_type": "markdown",
     "metadata": {},
     "source": [
      "Let's make a few functions to solve some simple problems (taken from codingbat.com and Google's online Python class). In doing so, think about what data structures we will need, and what kinds of operations or procedures.\n",
      "\n",
      "**Ex. 1** We want make a package of goal kilos of chocolate. We have small bars (1 kilo each) and big bars (5 kilos each). Return the number of small bars to use, assuming we always use big bars before small bars. Return -1 if it can't be done. \n",
      "\n",
      "**Ex. 2** Given a list of numbers, return a list where all adjacent == elements have been reduced to a single element, so [1, 2, 2, 3] returns [1, 2, 3]. You may create a new list or modify the passed in list.\n",
      "\n",
      "**Ex. 3** Given two lists sorted in increasing order, create and return a merged list of all the elements in sorted order. You may modify the passed in lists. Ideally, the solution should work in \"linear\" time, making a single pass of both lists."
     ]
    },
    {
     "cell_type": "code",
     "collapsed": false,
     "input": [
      "def make_chocolate(small,big,goal):\n",
      "    if (small + big * 5) < goal:\n",
      "        return -1\n",
      "    else:\n",
      "        num_small = goal % (5 * big)\n",
      "        return num_small"
     ],
     "language": "python",
     "metadata": {},
     "outputs": []
    },
    {
     "cell_type": "code",
     "collapsed": false,
     "input": [
      "def remove_adjacent(nums):\n",
      "  result = []\n",
      "  for num in nums:\n",
      "    if len(result) == 0 or num != result[-1]:\n",
      "      result.append(num)\n",
      "  return result"
     ],
     "language": "python",
     "metadata": {},
     "outputs": [],
     "prompt_number": 142
    },
    {
     "cell_type": "code",
     "collapsed": false,
     "input": [
      "def linear_merge(list1, list2):\n",
      "  result = []\n",
      "  while len(list1) and len(list2):\n",
      "    if list1[0] < list2[0]:\n",
      "      result.append(list1.pop(0))\n",
      "    else:\n",
      "      result.append(list2.pop(0))\n",
      "  result.extend(list1)\n",
      "  result.extend(list2)\n",
      "  return result"
     ],
     "language": "python",
     "metadata": {},
     "outputs": []
    },
    {
     "cell_type": "heading",
     "level": 2,
     "metadata": {},
     "source": [
      "If we have extra time..."
     ]
    },
    {
     "cell_type": "markdown",
     "metadata": {},
     "source": [
      "Some other handy built-in functions and methods"
     ]
    },
    {
     "cell_type": "markdown",
     "metadata": {},
     "source": [
      "any() returns True if any element of iterable is True. all() returns True if all elements of an iterable are True"
     ]
    },
    {
     "cell_type": "code",
     "collapsed": false,
     "input": [
      "any([1,0,0,0,0])"
     ],
     "language": "python",
     "metadata": {},
     "outputs": [
      {
       "metadata": {},
       "output_type": "pyout",
       "prompt_number": 52,
       "text": [
        "True"
       ]
      }
     ],
     "prompt_number": 52
    },
    {
     "cell_type": "code",
     "collapsed": false,
     "input": [
      "all([1,0,0,0,0])"
     ],
     "language": "python",
     "metadata": {},
     "outputs": [
      {
       "metadata": {},
       "output_type": "pyout",
       "prompt_number": 29,
       "text": [
        "False"
       ]
      }
     ],
     "prompt_number": 29
    },
    {
     "cell_type": "markdown",
     "metadata": {},
     "source": [
      "Some other string and list methods..."
     ]
    },
    {
     "cell_type": "code",
     "collapsed": false,
     "input": [
      "ourstring = \"it was a dark and stormy night 3 days ago, when i went to boston and found my dog\"\n",
      "ourstring.capitalize()"
     ],
     "language": "python",
     "metadata": {},
     "outputs": [
      {
       "metadata": {},
       "output_type": "pyout",
       "prompt_number": 31,
       "text": [
        "'It was a dark and stormy night 3 days ago, when i went to boston'"
       ]
      }
     ],
     "prompt_number": 31
    },
    {
     "cell_type": "code",
     "collapsed": false,
     "input": [
      "ourstring.replace('and','but')"
     ],
     "language": "python",
     "metadata": {},
     "outputs": [
      {
       "metadata": {},
       "output_type": "pyout",
       "prompt_number": 33,
       "text": [
        "'it was a dark but stormy night 3 days ago, when i went to boston'"
       ]
      }
     ],
     "prompt_number": 33
    },
    {
     "cell_type": "code",
     "collapsed": false,
     "input": [
      "ourlist = ourstring.split()\n",
      "print(ourlist)"
     ],
     "language": "python",
     "metadata": {},
     "outputs": [
      {
       "output_type": "stream",
       "stream": "stdout",
       "text": [
        "['it', 'was', 'a', 'dark', 'and', 'stormy', 'night', '3', 'days', 'ago,', 'when', 'i', 'went', 'to', 'boston']\n"
       ]
      }
     ],
     "prompt_number": 47
    },
    {
     "cell_type": "code",
     "collapsed": false,
     "input": [
      "ourlist.insert(3,'very')\n",
      "print(ourlist)"
     ],
     "language": "python",
     "metadata": {},
     "outputs": [
      {
       "output_type": "stream",
       "stream": "stdout",
       "text": [
        "['it', 'was', 'a', 'very', 'dark', 'and', 'stormy', 'night', '3', 'days', 'ago,', 'when', 'i', 'went', 'to', 'boston']\n"
       ]
      }
     ],
     "prompt_number": 48
    },
    {
     "cell_type": "code",
     "collapsed": false,
     "input": [
      "ourlist.remove('very') # remove first matching value\n",
      "print(ourlist)"
     ],
     "language": "python",
     "metadata": {},
     "outputs": [
      {
       "output_type": "stream",
       "stream": "stdout",
       "text": [
        "['it', 'was', 'a', 'dark', 'and', 'stormy', 'night', '3', 'days', 'ago,', 'when', 'i', 'went', 'to', 'boston']\n"
       ]
      }
     ],
     "prompt_number": 49
    },
    {
     "cell_type": "code",
     "collapsed": false,
     "input": [
      "del ourlist[7:10] # remove by index\n",
      "print(ourlist)"
     ],
     "language": "python",
     "metadata": {},
     "outputs": [
      {
       "output_type": "stream",
       "stream": "stdout",
       "text": [
        "['it', 'was', 'a', 'dark', 'and', 'stormy', 'night', 'when', 'i', 'went', 'to', 'boston']\n"
       ]
      }
     ],
     "prompt_number": 50
    },
    {
     "cell_type": "code",
     "collapsed": false,
     "input": [
      "ourlist.index('dark')"
     ],
     "language": "python",
     "metadata": {},
     "outputs": []
    },
    {
     "cell_type": "markdown",
     "metadata": {},
     "source": [
      "zip() aggregates elements from each of the iterables it is passed."
     ]
    },
    {
     "cell_type": "code",
     "collapsed": false,
     "input": [
      "words = ['the','dog','ate','my','homework']\n",
      "tags = ['det','noun','verb','poss','noun']\n",
      "freq = [1000,100,50,500,10]\n",
      "words_and_tags_and_freqs = zip(words,tags,freq)"
     ],
     "language": "python",
     "metadata": {},
     "outputs": [],
     "prompt_number": 55
    },
    {
     "cell_type": "code",
     "collapsed": false,
     "input": [
      "words_and_tags_and_freqs # apparently in Python 3 (cf. Python 2.x), zip is now an iterator (more on those next time), so calling it doesn't give us the list"
     ],
     "language": "python",
     "metadata": {},
     "outputs": [
      {
       "metadata": {},
       "output_type": "pyout",
       "prompt_number": 56,
       "text": [
        "<builtins.zip at 0x104f9d368>"
       ]
      }
     ],
     "prompt_number": 56
    },
    {
     "cell_type": "code",
     "collapsed": false,
     "input": [
      "list(words_and_tags_and_freqs) # to get the list of zipped tuples, have to either use list(), next(), or loop through, as in for x in words_and_tags_and_freqs"
     ],
     "language": "python",
     "metadata": {},
     "outputs": [
      {
       "metadata": {},
       "output_type": "pyout",
       "prompt_number": 58,
       "text": [
        "[('the', 'det', 1000),\n",
        " ('dog', 'noun', 100),\n",
        " ('ate', 'verb', 50),\n",
        " ('my', 'poss', 500),\n",
        " ('homework', 'noun', 10)]"
       ]
      }
     ],
     "prompt_number": 58
    }
   ],
   "metadata": {}
  }
 ]
}