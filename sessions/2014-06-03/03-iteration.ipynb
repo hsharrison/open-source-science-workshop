{
 "metadata": {
  "name": "",
  "signature": "sha256:f7911c03add1a7d72ae4ee8afac8ee7fff202780a933392befe8541c47ad7f3b"
 },
 "nbformat": 3,
 "nbformat_minor": 0,
 "worksheets": [
  {
   "cells": [
    {
     "cell_type": "markdown",
     "metadata": {},
     "source": [
      "Iteration in Python\n",
      "====\n",
      "\n",
      " - Iteration is everywhere\n",
      " - Be direct\n",
      " - Be abstract\n",
      " \n",
      "*Adapted from Ned Batchelder's PyCon 2013 talk*"
     ]
    },
    {
     "cell_type": "code",
     "collapsed": false,
     "input": [
      "from IPython.display import YouTubeVideo\n",
      "YouTubeVideo('EnSu9hHGq5o')  # How cool is the IPython Notebook?"
     ],
     "language": "python",
     "metadata": {},
     "outputs": []
    },
    {
     "cell_type": "markdown",
     "metadata": {},
     "source": [
      "### Naive iteration"
     ]
    },
    {
     "cell_type": "code",
     "collapsed": false,
     "input": [
      "my_list = ['a', 'b', 'c', 4, 'e']\n",
      "\n",
      "i = 0  # start a counter at 0\n",
      "while i < len(my_list):  # loop as long as the counter is still within the size of the list\n",
      "    v = my_list[i]  # get the element\n",
      "    print(v)  # do something with the element\n",
      "    i += 1  # increment counter"
     ],
     "language": "python",
     "metadata": {},
     "outputs": []
    },
    {
     "cell_type": "markdown",
     "metadata": {},
     "source": [
      "### Less naive iteration"
     ]
    },
    {
     "cell_type": "code",
     "collapsed": false,
     "input": [
      "for i in range(len(my_list)):  # automatically choose the right values of i\n",
      "    v = my_list[i]  # get the element\n",
      "    print(v)  # do something with the element"
     ],
     "language": "python",
     "metadata": {},
     "outputs": []
    },
    {
     "cell_type": "markdown",
     "metadata": {},
     "source": [
      "...but how come when we want to loop over a list the first we thing we do is start talking about integers?\n",
      "Who cares about integers?\n",
      "\n",
      "### Pythonic iteration"
     ]
    },
    {
     "cell_type": "code",
     "collapsed": false,
     "input": [
      "for v in my_list:  # get each element\n",
      "    print(v)  # do something with the element"
     ],
     "language": "python",
     "metadata": {},
     "outputs": []
    },
    {
     "cell_type": "markdown",
     "metadata": {},
     "source": [
      "No integers!\n",
      "No distraction over how lists happen to be implemented in the language!"
     ]
    },
    {
     "cell_type": "markdown",
     "metadata": {},
     "source": [
      "## The for loop\n",
      "\n",
      "    for name in iterable:\n",
      "        statements\n",
      "        \n",
      " - ``iterable`` produces a stream of values.\n",
      " - Each value assigned to ``name``.\n",
      " - Executes ``statements`` once for each value.\n",
      " - ``iterable`` decides what values it produces\n",
      " - Lots of different things are iterable."
     ]
    },
    {
     "cell_type": "markdown",
     "metadata": {},
     "source": [
      "#### ``list`` gives you its items"
     ]
    },
    {
     "cell_type": "code",
     "collapsed": false,
     "input": [
      "for v in ['if', 'and', 'or', 'but']:\n",
      "    print(v)"
     ],
     "language": "python",
     "metadata": {},
     "outputs": []
    },
    {
     "cell_type": "markdown",
     "metadata": {},
     "source": [
      "#### ``str`` gives you its characters"
     ]
    },
    {
     "cell_type": "code",
     "collapsed": false,
     "input": [
      "for v in 'monty':\n",
      "    print(v)"
     ],
     "language": "python",
     "metadata": {},
     "outputs": []
    },
    {
     "cell_type": "markdown",
     "metadata": {},
     "source": [
      "#### ``dict`` gives you its *keys*"
     ]
    },
    {
     "cell_type": "code",
     "collapsed": false,
     "input": [
      "for v in {'a': 1, 'b': 2, 'c': 3, 'd': 4}:\n",
      "    print(v)"
     ],
     "language": "python",
     "metadata": {},
     "outputs": []
    },
    {
     "cell_type": "markdown",
     "metadata": {},
     "source": [
      "(in surprising order)"
     ]
    },
    {
     "cell_type": "markdown",
     "metadata": {},
     "source": [
      "... for completion's sake:"
     ]
    },
    {
     "cell_type": "code",
     "collapsed": false,
     "input": [
      "d = {'a': 1, 'b': 2, 'c': 3}\n",
      "\n",
      "print('dict:', d)\n",
      "print()\n",
      "\n",
      "print('.keys() method')\n",
      "print('------------')\n",
      "for k in d.keys():  # Same as cell above, but *explicit*\n",
      "    print(k)\n",
      "print()\n",
      "\n",
      "print('.values() method')\n",
      "print('------------')\n",
      "for v in d.values():\n",
      "    print(v)\n",
      "print()\n",
      "\n",
      "\n",
      "print('.items() method')\n",
      "print('------------')\n",
      "for i in d.items():\n",
      "    print(i)\n",
      "    \n",
      "# or\n",
      "print('.items() method')\n",
      "print('------------')\n",
      "for k, v in d.items():\n",
      "    print(k, v)"
     ],
     "language": "python",
     "metadata": {},
     "outputs": []
    },
    {
     "cell_type": "markdown",
     "metadata": {},
     "source": [
      "#### Files give you lines"
     ]
    },
    {
     "cell_type": "code",
     "collapsed": false,
     "input": [
      "path = '/home/hen/repos/open-source-science-workshop/bash/.bash_aliases'\n",
      "with open(path) as f:\n",
      "    for line in f:\n",
      "        print(line, end='')  # optional argument end, in this case supresses new line"
     ],
     "language": "python",
     "metadata": {},
     "outputs": []
    },
    {
     "cell_type": "markdown",
     "metadata": {},
     "source": [
      "Very handy because otherwise we'd be screwed if the file was too big to fit in memory."
     ]
    },
    {
     "cell_type": "markdown",
     "metadata": {},
     "source": [
      "#### Lots of interesting iterables in std lib"
     ]
    },
    {
     "cell_type": "code",
     "collapsed": false,
     "input": [
      "import re  # re is short for regex which is short for regular expression\n",
      "\n",
      "text = 'He was carefully disguised but captured quickly by police.'\n",
      "for match in re.finditer(r'\\w+ly', text):\n",
      "    print(match.group(0))"
     ],
     "language": "python",
     "metadata": {},
     "outputs": []
    },
    {
     "cell_type": "code",
     "collapsed": false,
     "input": [
      "import os\n",
      "\n",
      "for root, dirs, files in os.walk('/home/hen/repos/open-source-science-workshop/sessions/2014-05-27'):\n",
      "    print(root)\n",
      "    print('----')\n",
      "    print('dirs:', dirs)\n",
      "    print('files:', files)\n",
      "    print()"
     ],
     "language": "python",
     "metadata": {},
     "outputs": []
    },
    {
     "cell_type": "code",
     "collapsed": false,
     "input": [
      "import itertools\n",
      "\n",
      "for n in itertools.count():  # count forever... infinite iterable!\n",
      "    if n > 10:\n",
      "        break\n",
      "    print(n)"
     ],
     "language": "python",
     "metadata": {},
     "outputs": []
    },
    {
     "cell_type": "code",
     "collapsed": false,
     "input": [
      "iterable = itertools.chain(          # Chain these together:\n",
      "    itertools.repeat(17, 3),    # repeat 17 3 times\n",
      "    range(-2, 3),               # range from -2 to 3\n",
      "    'sam',                      # some letters\n",
      "    itertools.cycle(range(4)),  # cycle 0123 forever\n",
      ")\n",
      "\n",
      "for n in iterable:\n",
      "    print(n)\n",
      "    if n == 3:\n",
      "        break  # cycle is also infinite, so we better stop at some point"
     ],
     "language": "python",
     "metadata": {},
     "outputs": []
    },
    {
     "cell_type": "markdown",
     "metadata": {},
     "source": [
      "## Other things to do with iterables"
     ]
    },
    {
     "cell_type": "code",
     "collapsed": false,
     "input": [
      "# Let's take out the infinite part from that iterable\n",
      "iterable = itertools.chain(\n",
      "    itertools.repeat(17, 3),\n",
      "    range(-2, 3),\n",
      "    'sam',\n",
      ")"
     ],
     "language": "python",
     "metadata": {},
     "outputs": []
    },
    {
     "cell_type": "code",
     "collapsed": false,
     "input": [
      "# Make a list\n",
      "list(iterable)"
     ],
     "language": "python",
     "metadata": {},
     "outputs": []
    },
    {
     "cell_type": "code",
     "collapsed": false,
     "input": [
      "# Make a set\n",
      "set(iterable)"
     ],
     "language": "python",
     "metadata": {},
     "outputs": []
    },
    {
     "cell_type": "markdown",
     "metadata": {},
     "source": [
      "Wait, what?\n",
      "The iterable was already depleted!\n",
      "If you know you want to use an iterable more than once, that means you won't get any benefit from it being a *stream* of one-at-a-time values, so you should make it into a list.\n",
      "Usually iterables are generated on-the-fly when we need them.\n",
      "For now we'll just create a new iterable for each example."
     ]
    },
    {
     "cell_type": "code",
     "collapsed": false,
     "input": [
      "iterable = itertools.chain(itertools.repeat(17, 3), range(-2, 3))\n",
      "\n",
      "# Make a set\n",
      "set(iterable)"
     ],
     "language": "python",
     "metadata": {},
     "outputs": []
    },
    {
     "cell_type": "code",
     "collapsed": false,
     "input": [
      "iterable = itertools.chain(itertools.repeat(17, 3), range(-2, 3))\n",
      "\n",
      "# Use a comprehension to do some arithmetic\n",
      "[2*x**2 for x in iterable]"
     ],
     "language": "python",
     "metadata": {},
     "outputs": []
    },
    {
     "cell_type": "code",
     "collapsed": false,
     "input": [
      "# Call a function that takes an iterable as argument\n",
      "iterable = itertools.chain(itertools.repeat(17, 3), range(-2, 3))\n",
      "sum(iterable)"
     ],
     "language": "python",
     "metadata": {},
     "outputs": []
    },
    {
     "cell_type": "code",
     "collapsed": false,
     "input": [
      "# Do both?\n",
      "iterable = itertools.chain(itertools.repeat(17, 3), range(-2, 3))\n",
      "sum(x**2 for x in iterable)"
     ],
     "language": "python",
     "metadata": {},
     "outputs": []
    },
    {
     "cell_type": "code",
     "collapsed": false,
     "input": [
      "# Sort it\n",
      "iterable = itertools.chain(itertools.repeat(17, 3), range(-2, 3))\n",
      "for x in sorted(iterable):\n",
      "    print(x)"
     ],
     "language": "python",
     "metadata": {},
     "outputs": []
    },
    {
     "cell_type": "markdown",
     "metadata": {},
     "source": [
      "`sorted` takes an iterable, and produces an iterable!"
     ]
    },
    {
     "cell_type": "code",
     "collapsed": false,
     "input": [
      "# More functions that like iterables\n",
      "iterable = itertools.chain(itertools.repeat(17, 3), range(-2, 3))\n",
      "print(min(iterable))\n",
      "\n",
      "iterable = itertools.chain(itertools.repeat(17, 3), range(-2, 3))\n",
      "print(max(iterable))\n",
      "\n",
      "iterable = itertools.chain(itertools.repeat(17, 3), range(-2, 3))\n",
      "print(any(x < 0 for x in iterable))\n",
      "\n",
      "iterable = itertools.chain(itertools.repeat(17, 3), range(-2, 3))\n",
      "print(all(iterable))\n",
      "\n",
      "print('--'.join('ABC'))"
     ],
     "language": "python",
     "metadata": {},
     "outputs": []
    },
    {
     "cell_type": "markdown",
     "metadata": {},
     "source": [
      "## Q: How do I get the index?\n",
      "\n",
      "I really do need those integers!\n",
      "\n",
      "Example: *I want the index and the item*"
     ]
    },
    {
     "cell_type": "code",
     "collapsed": false,
     "input": [
      "# Wrong\n",
      "for i in range(len(my_list)):\n",
      "    v = my_list[i]  # This only works for lists. Lots of iterables can't do this.\n",
      "    print(i, v)"
     ],
     "language": "python",
     "metadata": {},
     "outputs": []
    },
    {
     "cell_type": "code",
     "collapsed": false,
     "input": [
      "# Right\n",
      "for i, v in enumerate(my_list):  # Works on any iterable.\n",
      "    print(i, v)"
     ],
     "language": "python",
     "metadata": {},
     "outputs": []
    },
    {
     "cell_type": "code",
     "collapsed": false,
     "input": [
      "# Optional start argument\n",
      "list(enumerate(my_list, start=1))"
     ],
     "language": "python",
     "metadata": {},
     "outputs": []
    },
    {
     "cell_type": "markdown",
     "metadata": {},
     "source": [
      "*Hint: anytime you see `range(len(something))`, you don't need it *"
     ]
    },
    {
     "cell_type": "markdown",
     "metadata": {},
     "source": [
      "## A: Why do you need the index?\n",
      "\n",
      "Because I want to get the corresponding item from some other list!"
     ]
    },
    {
     "cell_type": "code",
     "collapsed": false,
     "input": [
      "names = ['Eiffel Tower', 'Empire State', 'Sears Tower', 'Burj Khalifa', 'Taipei 101']\n",
      "heights = [324, 381, 442, 828, 509]\n",
      "\n",
      "for i in range(len(names)):\n",
      "    name = names[i]\n",
      "    height = heights[i]\n",
      "    print('{:12}: {} meters'.format(name, height))"
     ],
     "language": "python",
     "metadata": {},
     "outputs": []
    },
    {
     "cell_type": "markdown",
     "metadata": {},
     "source": [
      "Stay focused!\n",
      "You still don't have to think about integers!"
     ]
    },
    {
     "cell_type": "code",
     "collapsed": false,
     "input": [
      "for name, height in zip(names, heights):\n",
      "    print('{:12}: {} meters'.format(name, height))"
     ],
     "language": "python",
     "metadata": {},
     "outputs": []
    },
    {
     "cell_type": "markdown",
     "metadata": {},
     "source": [
      "`zip`: pair of streams `-->` stream of pairs"
     ]
    },
    {
     "cell_type": "code",
     "collapsed": false,
     "input": [
      "# Combine the above two examples\n",
      "for idx, (name, height) in enumerate(zip(names, heights), start=1):\n",
      "    print('{}. {:12}: {} meters'.format(idx, name, height))"
     ],
     "language": "python",
     "metadata": {},
     "outputs": []
    },
    {
     "cell_type": "markdown",
     "metadata": {},
     "source": [
      "`dict` can take streams of pairs..."
     ]
    },
    {
     "cell_type": "code",
     "collapsed": false,
     "input": [
      "buildings = dict(zip(names, heights))\n",
      "print(buildings)"
     ],
     "language": "python",
     "metadata": {},
     "outputs": []
    },
    {
     "cell_type": "code",
     "collapsed": false,
     "input": [
      "print(max(buildings.values()))"
     ],
     "language": "python",
     "metadata": {},
     "outputs": []
    },
    {
     "cell_type": "code",
     "collapsed": false,
     "input": [
      "print(max(buildings.items(), key=lambda x: x[1]))"
     ],
     "language": "python",
     "metadata": {},
     "outputs": []
    },
    {
     "cell_type": "markdown",
     "metadata": {},
     "source": [
      "### Ok, pause\n",
      "\n",
      "The `lambda` keyword makes a quick one-line function.\n",
      "We could do the same thing like:\n",
      "\n",
      "````python\n",
      "def key(x):\n",
      "    return x[1]\n",
      "````\n",
      "\n",
      "Functions like `min`, `max`, and `sorted`, take an optional `key` argument, where you can give it a function that takes a value and returns some value to *actually* sort the elements with.\n",
      "The key we used above just takes the second item from each element, which for the `items()` method on dictionaries, is the value."
     ]
    },
    {
     "cell_type": "code",
     "collapsed": false,
     "input": [
      "sorted([-2, 4, 6, -10, 24, -4, 0], key= lambda x: (x-3)**2)"
     ],
     "language": "python",
     "metadata": {},
     "outputs": []
    },
    {
     "cell_type": "code",
     "collapsed": false,
     "input": [
      "max(buildings, key=buildings.get)\n",
      "\n",
      "# For each item, checks buildings.get(item)"
     ],
     "language": "python",
     "metadata": {},
     "outputs": []
    },
    {
     "cell_type": "markdown",
     "metadata": {},
     "source": [
      "## What if I need to compare a value to the previous value?\n",
      "Surely *then* I can hang on to the integers."
     ]
    },
    {
     "cell_type": "code",
     "collapsed": false,
     "input": [
      "nums = [88, 73, 92, 72, 40, 38, 25, 20, 90, 72]"
     ],
     "language": "python",
     "metadata": {},
     "outputs": []
    },
    {
     "cell_type": "code",
     "collapsed": false,
     "input": [
      "diffs = []\n",
      "for i in range(len(nums)-1):\n",
      "    diffs.append(nums[i+1] - nums[i])\n",
      "    \n",
      "print(diffs)"
     ],
     "language": "python",
     "metadata": {},
     "outputs": []
    },
    {
     "cell_type": "markdown",
     "metadata": {},
     "source": [
      "`zip` can help here as well."
     ]
    },
    {
     "cell_type": "code",
     "collapsed": false,
     "input": [
      "diffs = []\n",
      "for prev, n in zip(nums[:-1], nums[1:]):\n",
      "    diffs.append(n - prev)\n",
      "\n",
      "print(diffs)"
     ],
     "language": "python",
     "metadata": {},
     "outputs": []
    },
    {
     "cell_type": "markdown",
     "metadata": {},
     "source": [
      "The next step would be to consider a comprehension."
     ]
    },
    {
     "cell_type": "code",
     "collapsed": false,
     "input": [
      "diffs = [n - prev for prev, n in zip(nums[:-1], nums[1:])]\n",
      "print(diffs)"
     ],
     "language": "python",
     "metadata": {},
     "outputs": []
    },
    {
     "cell_type": "markdown",
     "metadata": {},
     "source": [
      "When the body of your loop is only one line, and your initializing an empty data structure above it, it's probably a good idea.\n",
      "In a more complicated example, though, leaving it as the loop will be more readable.\n",
      "\n",
      "This is a common enough case that we might consider making a `diff` function.\n",
      "Actually, the package `numpy`, an array computing library, has that.\n",
      "We'll use `numpy` later on."
     ]
    },
    {
     "cell_type": "markdown",
     "metadata": {},
     "source": [
      "# Customizing iteration"
     ]
    },
    {
     "cell_type": "code",
     "collapsed": false,
     "input": [
      "for n in nums:\n",
      "    if n % 2 == 0:\n",
      "        print(n)  # do something for each even value"
     ],
     "language": "python",
     "metadata": {},
     "outputs": []
    },
    {
     "cell_type": "markdown",
     "metadata": {},
     "source": [
      "In this case it's not so bad, that condition is short.\n",
      "But what if we had to do a few lines of work to check the condition?\n",
      "\n",
      "Really this loop is doing two things:\n",
      " 1. Selecting values out of the loop\n",
      " 2. Doing something with the values (printing them)\n",
      " \n",
      "Let's *refactor* the selecting and the doing.\n",
      "Abstract the operations apart."
     ]
    },
    {
     "cell_type": "code",
     "collapsed": false,
     "input": [
      "def evens(stream):\n",
      "    selected = []\n",
      "    for value in stream:\n",
      "        if value % 2 == 0:\n",
      "            selected.append(value)\n",
      "    return selected\n",
      "\n",
      "for n in evens(nums):\n",
      "    print(n)"
     ],
     "language": "python",
     "metadata": {},
     "outputs": []
    },
    {
     "cell_type": "markdown",
     "metadata": {},
     "source": [
      "Well, we've succesfully abstracted.\n",
      "The second part is beautiful, but the first part is ugly."
     ]
    },
    {
     "cell_type": "markdown",
     "metadata": {},
     "source": [
      "## Introducing generators\n",
      "\n",
      "Functions return a value (or tuple of values).\n",
      "Generators produce a stream."
     ]
    },
    {
     "cell_type": "code",
     "collapsed": false,
     "input": [
      "def hello_world():\n",
      "    yield 'Hello'\n",
      "    yield 'world'\n",
      "    \n",
      "print(hello_world())"
     ],
     "language": "python",
     "metadata": {},
     "outputs": []
    },
    {
     "cell_type": "code",
     "collapsed": false,
     "input": [
      "for x in hello_world():\n",
      "    print(x)"
     ],
     "language": "python",
     "metadata": {},
     "outputs": []
    },
    {
     "cell_type": "markdown",
     "metadata": {},
     "source": [
      "Long explanation:\n",
      "A generator is a function that can keep producing values as an iterable.\n",
      "It runs until it hits a `yield` statement, sends that value out, and pauses.\n",
      "When it gets asked for another value, it continues where it left off."
     ]
    },
    {
     "cell_type": "code",
     "collapsed": false,
     "input": [
      "def hello_world_with_logging():\n",
      "    print('LOG: function started')\n",
      "    yield 'Hello'\n",
      "    \n",
      "    print('LOG: function resumed')\n",
      "    yield 'world'\n",
      "    \n",
      "    print('LOG: function resumed again')\n",
      "    \n",
      "\n",
      "for x in hello_world_with_logging():\n",
      "    print(x)"
     ],
     "language": "python",
     "metadata": {},
     "outputs": []
    },
    {
     "cell_type": "markdown",
     "metadata": {},
     "source": [
      "### Back to the evens example"
     ]
    },
    {
     "cell_type": "code",
     "collapsed": false,
     "input": [
      "def evens(stream):\n",
      "    \"\"\"\n",
      "    Yield only the even numbers from a stream.\n",
      "    \n",
      "    \"\"\"\"\n",
      "    for n in stream:\n",
      "        if n % 2 == 0:\n",
      "            yield n"
     ],
     "language": "python",
     "metadata": {},
     "outputs": []
    },
    {
     "cell_type": "code",
     "collapsed": false,
     "input": [
      "for n in evens(nums):\n",
      "    print(n)"
     ],
     "language": "python",
     "metadata": {},
     "outputs": []
    },
    {
     "cell_type": "code",
     "collapsed": false,
     "input": [
      "for n in evens(itertools.count()):\n",
      "    print(n)\n",
      "    if n > 20:\n",
      "        break"
     ],
     "language": "python",
     "metadata": {},
     "outputs": []
    },
    {
     "cell_type": "markdown",
     "metadata": {},
     "source": [
      "What would happen with the non-generator `evens`?\n",
      "It would run out of memory trying to make an infinite list.\n",
      "Generators produce values *as you need them*.\n",
      "This is called **laziness** or **lazy evalution**."
     ]
    },
    {
     "cell_type": "markdown",
     "metadata": {},
     "source": [
      "## A more complex example: Reading a config file\n",
      "\n",
      "We have a config file containing name-value pairs, and we want to read it into a dictionary.\n",
      "The problem?\n",
      "There are comments, blank lines, surrounding whitespace."
     ]
    },
    {
     "cell_type": "code",
     "collapsed": false,
     "input": [
      "%%bash\n",
      "\n",
      "echo 'config-type = ini\n",
      "# My config file\n",
      " user = hen\n",
      "home = /home/hen \n",
      "\n",
      "# Nothing to see here\n",
      "\n",
      "uname = Linux 3.13.0.27-generic x86_64' > config.ini"
     ],
     "language": "python",
     "metadata": {},
     "outputs": []
    },
    {
     "cell_type": "code",
     "collapsed": false,
     "input": [
      "# test it\n",
      "print(open('config.ini').read())"
     ],
     "language": "python",
     "metadata": {},
     "outputs": []
    },
    {
     "cell_type": "code",
     "collapsed": false,
     "input": [
      "# Here we go\n",
      "config = {}\n",
      "f = open('config.ini')\n",
      "for line in f:\n",
      "    line = line.strip()  # Remove surrounding whitespace\n",
      "    \n",
      "    if line.startswith('#'):\n",
      "        continue  # Skip comments\n",
      "        \n",
      "    if not line:\n",
      "        continue  # Skip blank lines\n",
      "        \n",
      "    # An interesting line\n",
      "    # Split by =\n",
      "    name, value = line.split('=')\n",
      "    # Again, strip whitespace\n",
      "    config[name.strip()] = value.strip()\n",
      "    \n",
      "f.close()\n",
      "print(config)"
     ],
     "language": "python",
     "metadata": {},
     "outputs": []
    },
    {
     "cell_type": "markdown",
     "metadata": {},
     "source": [
      "Again, this loop is doing two things:\n",
      " 1. Selecting (filtering)\n",
      " 2. Processing\n",
      " \n",
      "So, we make a generator."
     ]
    },
    {
     "cell_type": "code",
     "collapsed": false,
     "input": [
      "def interesting_lines(lines):\n",
      "    \"\"\"\n",
      "    Filter the interesting lines from a file\n",
      "    (or any stream of lines).\n",
      "    \n",
      "    \"\"\"\n",
      "    for line in lines:\n",
      "        line = line.strip()\n",
      "        if line.startswith('#'):\n",
      "            continue\n",
      "            \n",
      "        if not line:\n",
      "            continue\n",
      "            \n",
      "        yield line"
     ],
     "language": "python",
     "metadata": {},
     "outputs": []
    },
    {
     "cell_type": "markdown",
     "metadata": {},
     "source": [
      "And why not put the processing in its own function as well."
     ]
    },
    {
     "cell_type": "code",
     "collapsed": false,
     "input": [
      "def process(line):\n",
      "    \"\"\"\n",
      "    Process a config file line into a name, value pair\n",
      "    \n",
      "    \"\"\"\n",
      "    words = line.split('=')\n",
      "    \n",
      "    # Something could go wrong, so we should put a helpful error message\n",
      "    if len(words) != 2:\n",
      "        raise ValueError(\"Cannot process line '{}'\".format(line))\n",
      "        \n",
      "    name, value = words\n",
      "    return name.strip(), value.strip()"
     ],
     "language": "python",
     "metadata": {},
     "outputs": []
    },
    {
     "cell_type": "code",
     "collapsed": false,
     "input": [
      "config = {}\n",
      "with open('config.ini') as f:\n",
      "    for line in interesting_lines(f):\n",
      "        name, value = process(line)\n",
      "        config[name] = value\n",
      "        \n",
      "print(config)"
     ],
     "language": "python",
     "metadata": {},
     "outputs": []
    },
    {
     "cell_type": "markdown",
     "metadata": {},
     "source": [
      "We can leverage the abstraction even more:"
     ]
    },
    {
     "cell_type": "code",
     "collapsed": false,
     "input": [
      "config = dict(process(line) for line in interesting_lines(open('config.ini')))\n",
      "print(config)"
     ],
     "language": "python",
     "metadata": {},
     "outputs": []
    },
    {
     "cell_type": "markdown",
     "metadata": {},
     "source": [
      "There's also the function `filter`, which takes a boolean function as input, and uses it to decide what elements of an iterable to keep:"
     ]
    },
    {
     "cell_type": "code",
     "collapsed": false,
     "input": [
      "def is_interesting(line):\n",
      "    \"\"\"\n",
      "    Return True if the line is interesting.\n",
      "    \n",
      "    \"\"\"\n",
      "    line = line.strip()\n",
      "    if line.startswith('#'):\n",
      "        return False\n",
      "    \n",
      "    return bool(line)"
     ],
     "language": "python",
     "metadata": {},
     "outputs": []
    },
    {
     "cell_type": "code",
     "collapsed": false,
     "input": [
      "config = dict(process(line) for line in filter(is_interesting, open('config.ini')))\n",
      "print(config)"
     ],
     "language": "python",
     "metadata": {},
     "outputs": []
    },
    {
     "cell_type": "markdown",
     "metadata": {},
     "source": [
      "Are we breaking a Zen of Python rule by having two ways to do it?\n",
      "Maybe.\n",
      "I think the generator way is more Pythonic--the meaning is more obvious even without knowing exactly what the functions do.\n",
      "That's a subjective judgment, I'll admit."
     ]
    },
    {
     "cell_type": "markdown",
     "metadata": {},
     "source": [
      "## Another Q: How do I break out of two loops?\n",
      "**(Please can I have the integers)**\n",
      "\n",
      "````python\n",
      "for row in range(height):\n",
      "    for col in range(width):\n",
      "        \n",
      "        val = sheet.get_value(col, row)\n",
      "        do_something(val)\n",
      "        \n",
      "        if this_is_my_value(val):\n",
      "            break  # <- ???\n",
      "```"
     ]
    },
    {
     "cell_type": "markdown",
     "metadata": {},
     "source": [
      "## A: Use a generator to make it into one loop"
     ]
    },
    {
     "cell_type": "code",
     "collapsed": false,
     "input": [
      "def range_2d(width, height):\n",
      "    \"\"\"\n",
      "    Produce a stream of 2D coordinates.\n",
      "    \n",
      "    \"\"\"\n",
      "    for y in range(height):\n",
      "        for x in range(width):\n",
      "            yield x, y"
     ],
     "language": "python",
     "metadata": {},
     "outputs": []
    },
    {
     "cell_type": "code",
     "collapsed": false,
     "input": [
      "print(range_2d(3,3))"
     ],
     "language": "python",
     "metadata": {},
     "outputs": []
    },
    {
     "cell_type": "code",
     "collapsed": false,
     "input": [
      "print(list(range_2d(3, 3)))"
     ],
     "language": "python",
     "metadata": {},
     "outputs": []
    },
    {
     "cell_type": "markdown",
     "metadata": {},
     "source": [
      "(btw... this is a Cartesian product, and `itertools` already has it)"
     ]
    },
    {
     "cell_type": "code",
     "collapsed": false,
     "input": [
      "list(itertools.product('abc', [1, 2]))"
     ],
     "language": "python",
     "metadata": {},
     "outputs": []
    },
    {
     "cell_type": "code",
     "collapsed": false,
     "input": [
      "list(itertools.product(range(3), repeat=2))"
     ],
     "language": "python",
     "metadata": {},
     "outputs": []
    },
    {
     "cell_type": "code",
     "collapsed": false,
     "input": [
      "# Here's a lamda again\n",
      "range_2d = lambda x, y: itertools.product(range(x), range(y))"
     ],
     "language": "python",
     "metadata": {},
     "outputs": []
    },
    {
     "cell_type": "markdown",
     "metadata": {},
     "source": [
      "But wait... rows and columns are still integers.\n",
      "What is the Pythonic way?\n",
      "Iterate over cells.\n",
      "\n",
      "Ideally, this spreadsheet package has implemented this (it should, if it's Pythonic).\n",
      "\n",
      "```python\n",
      "for cell in sheet.cells():\n",
      "   value = cell.get_value()\n",
      "   do_something(value)\n",
      "   \n",
      "   if this_is_my_value(value):\n",
      "       break\n",
      "```"
     ]
    },
    {
     "cell_type": "markdown",
     "metadata": {},
     "source": [
      "## How iteration works: The low level\n",
      "\n",
      "An *iterable* is not the same thing as an *iterator*:\n",
      " - *iterable*: any object that can *produce* a stream of values\n",
      " - *iterator*: the object that keeps track of your current place in a particular stream\n",
      " \n",
      "An iterable is a book full of pages, an iterator is a bookmark.\n",
      "\n",
      "The `iter` function makes an iterator.\n",
      "The `next` function gets the next value.\n",
      "\n",
      "```python\n",
      "iterator = iter(iterable)\n",
      "value = next(iterator)\n",
      "value = next(iterator)\n",
      "```\n",
      "\n",
      "`next` is the only operation you can do on an iterator.\n",
      "You can't look back or ahead, you can't reset it."
     ]
    },
    {
     "cell_type": "code",
     "collapsed": false,
     "input": [
      "iterable = itertools.cycle(itertools.product([True, False], repeat=2))\n",
      "iterator = iter(iterable)\n",
      "print(next(iterator))\n",
      "print(next(iterator))\n",
      "print(next(iterator))\n",
      "print(next(iterator))\n",
      "print(next(iterator))\n",
      "print(next(iterator))"
     ],
     "language": "python",
     "metadata": {},
     "outputs": []
    },
    {
     "cell_type": "markdown",
     "metadata": {},
     "source": [
      "Some functions actually make an iterator directly.\n",
      "These are usually the ones that aren't very helpful when we print them.\n",
      "They also return themselves when you call `iter` on them, so it's not a big deal if you do (compare cells above and below)."
     ]
    },
    {
     "cell_type": "code",
     "collapsed": false,
     "input": [
      "iterator = itertools.product([True, False], repeat=2)\n",
      "print(iterator)\n",
      "print(next(iterator))\n",
      "print(next(iterator))\n",
      "print(next(iterator))\n",
      "print(next(iterator))\n",
      "print(next(iterator))\n",
      "print(next(iterator))"
     ],
     "language": "python",
     "metadata": {},
     "outputs": []
    },
    {
     "cell_type": "markdown",
     "metadata": {},
     "source": [
      "If there are no more values left, you'll get a `StopIteration` error."
     ]
    },
    {
     "cell_type": "markdown",
     "metadata": {},
     "source": [
      "For a list, we need `iter` to make an iterator (a list is an iterable)."
     ]
    },
    {
     "cell_type": "code",
     "collapsed": false,
     "input": [
      "print(my_list)"
     ],
     "language": "python",
     "metadata": {},
     "outputs": []
    },
    {
     "cell_type": "code",
     "collapsed": false,
     "input": [
      "iterator = iter(my_list)\n",
      "print(next(my_list))\n",
      "print(next(my_list))\n",
      "print(next(my_list))\n",
      "print(next(my_list))\n",
      "print(next(my_list))"
     ],
     "language": "python",
     "metadata": {},
     "outputs": []
    },
    {
     "cell_type": "markdown",
     "metadata": {},
     "source": [
      "Now you might guess how the `for` loop works:\n",
      "It calls `iter`, then calls `next` until it gets a `StopIteration` error.\n",
      "\n",
      "Whats a real example when we might want to use `next`?\n",
      "Maybe we want to ignore the first line in `config.ini`:"
     ]
    },
    {
     "cell_type": "code",
     "collapsed": false,
     "input": [
      "config = {}\n",
      "with open('config.ini') as f:\n",
      "    # Read the first line.\n",
      "    header = next(f)\n",
      "    print('header:', header)\n",
      "    \n",
      "    for line in interesting_lines(f):\n",
      "        name, value = process(line)\n",
      "        config[name] = value\n",
      "        \n",
      "print(config)"
     ],
     "language": "python",
     "metadata": {},
     "outputs": []
    },
    {
     "cell_type": "markdown",
     "metadata": {},
     "source": [
      "# Wrapping up\n",
      "\n",
      "- Iteration is everywhere\n",
      "- Be direct (Write what you mean)\n",
      "- Be abstract (Write functions that define your abstractions, allowing you to be direct)"
     ]
    }
   ],
   "metadata": {}
  }
 ]
}