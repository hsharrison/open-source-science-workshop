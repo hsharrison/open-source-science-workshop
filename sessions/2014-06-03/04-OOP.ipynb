{
 "metadata": {
  "name": "",
  "signature": "sha256:9a0e87e3826981c071646fbd60a8e2169bba449e7aa580c4e42019988f0b8c7d"
 },
 "nbformat": 3,
 "nbformat_minor": 0,
 "worksheets": [
  {
   "cells": [
    {
     "cell_type": "markdown",
     "metadata": {},
     "source": [
      "Object-Oriented Programming (OOP)\n",
      "===="
     ]
    },
    {
     "cell_type": "markdown",
     "metadata": {},
     "source": [
      "Object-oriented programming may seem like some big scary thing that only professional programmers do.\n",
      "While it can be complicated, it doesn't have to be.\n",
      "Understanding objects is key to being able to write well-organized code (and read others' code!), especially in Python.\n",
      "\n",
      "OOP is a programming *paradigm*, that is, an entire approach to programming.\n",
      "Although Python is multi-paradigm, it is heavily object-oriented (we will see later that has some elements of functional programming as well, which is in some respects the antithesis of OOP).\n",
      "Other languages like Java are entirely object-oriented.\n",
      "\n",
      "What is an object?\n",
      "An object combines *state* and *behavior*.\n",
      "In Python, an object is something that you can put a dot after and then do something specific to that object.\n",
      "In Python, everything is an object.\n",
      "\n",
      "Consider a list.\n",
      "A list has state, its contents.\n",
      "And it has behavior, for example you can append to it."
     ]
    },
    {
     "cell_type": "markdown",
     "metadata": {},
     "source": [
      "Classes\n",
      "---\n",
      "A *class* is something that creates objects. Let's make a minimal class.\n",
      "\n",
      "*With classes the naming convention is to use `CamelCase`.*"
     ]
    },
    {
     "cell_type": "code",
     "collapsed": false,
     "input": [
      "class NothingObject:\n",
      "    pass"
     ],
     "language": "python",
     "metadata": {},
     "outputs": []
    },
    {
     "cell_type": "markdown",
     "metadata": {},
     "source": [
      "Not very interesting?\n",
      "Let's still see what we can do with it."
     ]
    },
    {
     "cell_type": "code",
     "collapsed": false,
     "input": [
      "first_one = NothingObject()\n",
      "second_one = NothingObject()\n",
      "first_one == second_one"
     ],
     "language": "python",
     "metadata": {},
     "outputs": []
    },
    {
     "cell_type": "code",
     "collapsed": false,
     "input": [
      "another_name_for_the_first_one = first_one\n",
      "first_one == another_name_for_the_first_one"
     ],
     "language": "python",
     "metadata": {},
     "outputs": []
    },
    {
     "cell_type": "code",
     "collapsed": false,
     "input": [
      "first_one is another_name_for_the_first_one"
     ],
     "language": "python",
     "metadata": {},
     "outputs": []
    },
    {
     "cell_type": "code",
     "collapsed": false,
     "input": [
      "first_one = NothingObject()\n",
      "first_one is another_name_for_the_first_one"
     ],
     "language": "python",
     "metadata": {},
     "outputs": []
    },
    {
     "cell_type": "markdown",
     "metadata": {},
     "source": [
      "OK, not very interesting.\n",
      "We can make them, and we can check if they're the same.\n",
      "\n",
      "Let's try something more interesting.\n",
      "Imagine we're doing a physics simulation of a rocket ship."
     ]
    },
    {
     "cell_type": "code",
     "collapsed": false,
     "input": [
      "class Rocket:\n",
      "    \"\"\"\n",
      "    Simulation of a rocket.\n",
      "    \"\"\"\n",
      "    def __init__(self, x0):\n",
      "        self.x = x0\n",
      "        self.y = 0  # rockets start on the ground"
     ],
     "language": "python",
     "metadata": {},
     "outputs": []
    },
    {
     "cell_type": "markdown",
     "metadata": {},
     "source": [
      "The first thing you usually do with a class is write an `__init__()` method.\n",
      "This is the the method that gets automatically called when you make a new object.\n",
      "\n",
      "We've defined the class `Rocket`, but to actually make a rocket we have to call it:"
     ]
    },
    {
     "cell_type": "code",
     "collapsed": false,
     "input": [
      "my_rocket = Rocket()"
     ],
     "language": "python",
     "metadata": {},
     "outputs": []
    },
    {
     "cell_type": "markdown",
     "metadata": {},
     "source": [
      "Oops."
     ]
    },
    {
     "cell_type": "code",
     "collapsed": false,
     "input": [
      "my_rocket = Rocket(0)"
     ],
     "language": "python",
     "metadata": {},
     "outputs": []
    },
    {
     "cell_type": "markdown",
     "metadata": {},
     "source": [
      "What we see here is that `self` is always the first argument of a method.\n",
      "In the case of `__init__()`, the other arguments are what is required to make a new object.\n",
      "In this case we need to provide `x0` every time we make a new `Rocket`.\n",
      "\n",
      "So far our rocket only has two pieces of data, which we can access with the dot:"
     ]
    },
    {
     "cell_type": "code",
     "collapsed": false,
     "input": [
      "print(my_rocket.x, my_rocket.y)"
     ],
     "language": "python",
     "metadata": {},
     "outputs": []
    },
    {
     "cell_type": "markdown",
     "metadata": {},
     "source": [
      "We can also change them:"
     ]
    },
    {
     "cell_type": "code",
     "collapsed": false,
     "input": [
      "my_rocket.x = 3\n",
      "print(my_rocket.x, my_rocket.y)"
     ],
     "language": "python",
     "metadata": {},
     "outputs": []
    },
    {
     "cell_type": "markdown",
     "metadata": {},
     "source": [
      "Let's pause for some terminology.\n",
      "\n",
      "An object **attribute** is a piece of data associated with an object.\n",
      "Right now our rocket has attributes `x` and `y`.\n",
      "\n",
      "An object **method** is a function associated with the object.\n",
      "Right now we just have `__init__()`.\n",
      "\n",
      "Remember I said that everything in Python is an object?\n",
      "`Rocket` is just as much an object as `my_rocket` is.\n",
      "To distinguish them we can call `Rocket` a **class** and `my_rocket` an **instance object**.\n",
      "\n",
      "Let's see:"
     ]
    },
    {
     "cell_type": "code",
     "collapsed": false,
     "input": [
      "type(my_rocket)"
     ],
     "language": "python",
     "metadata": {},
     "outputs": []
    },
    {
     "cell_type": "markdown",
     "metadata": {},
     "source": [
      "(`__main__` is a stand-in module name for things that didn't come from a module but rather from the command-line or notebook.\n",
      "In short, it's the root namespace.)"
     ]
    },
    {
     "cell_type": "code",
     "collapsed": false,
     "input": [
      "type(Rocket)"
     ],
     "language": "python",
     "metadata": {},
     "outputs": []
    },
    {
     "cell_type": "markdown",
     "metadata": {},
     "source": [
      "`Rocket` is itself a type!\n",
      "That's a little weird.\n",
      "But you can think of classes as defining new types.\n",
      "`Rocket` is in the same category of things as `str` and `list`:"
     ]
    },
    {
     "cell_type": "code",
     "collapsed": false,
     "input": [
      "type(str)"
     ],
     "language": "python",
     "metadata": {},
     "outputs": []
    },
    {
     "cell_type": "markdown",
     "metadata": {},
     "source": [
      "So far our `Rocket` has state (`x` and `y`) but no behavior. Let's change that."
     ]
    },
    {
     "cell_type": "code",
     "collapsed": false,
     "input": [
      "class Rocket:\n",
      "    def __init__(self, x0):\n",
      "        self.x = x0\n",
      "        self.y = 0\n",
      "        \n",
      "    def move_up(self, distance=1):\n",
      "        self.y += distance"
     ],
     "language": "python",
     "metadata": {},
     "outputs": []
    },
    {
     "cell_type": "code",
     "collapsed": false,
     "input": [
      "# We need to re-instantiate my_rocket\n",
      "# since it was created with the old class\n",
      "my_rocket = Rocket(0)\n",
      "\n",
      "my_rocket.move_up()\n",
      "my_rocket.move_up(3)\n",
      "\n",
      "print(my_rocket.y)"
     ],
     "language": "python",
     "metadata": {},
     "outputs": []
    },
    {
     "cell_type": "markdown",
     "metadata": {},
     "source": [
      "We can create as many instances of `Rocket` as we want; they will be completely separate."
     ]
    },
    {
     "cell_type": "code",
     "collapsed": false,
     "input": [
      "fleet = [Rocket(x) for x in range(-2, 3)]"
     ],
     "language": "python",
     "metadata": {},
     "outputs": []
    },
    {
     "cell_type": "markdown",
     "metadata": {},
     "source": [
      "Let's prove that they're attributes are separate.\n",
      "First let's make a function for displaying the fleet position."
     ]
    },
    {
     "cell_type": "code",
     "collapsed": false,
     "input": [
      "def print_fleet_position(rocket_fleet):\n",
      "    for idx, rocket in enumerate(rocket_fleet):\n",
      "        print('Rocket {i}: ({x:2}, {y})'.format(\n",
      "            i=idx, x=rocket.x, y=rocket.y))"
     ],
     "language": "python",
     "metadata": {},
     "outputs": []
    },
    {
     "cell_type": "code",
     "collapsed": false,
     "input": [
      "print_fleet_position(fleet)"
     ],
     "language": "python",
     "metadata": {},
     "outputs": []
    },
    {
     "cell_type": "markdown",
     "metadata": {},
     "source": [
      "Now we can see what happens if we change just one of them."
     ]
    },
    {
     "cell_type": "code",
     "collapsed": false,
     "input": [
      "fleet[3].move_up(2)\n",
      "print_fleet_position(fleet)"
     ],
     "language": "python",
     "metadata": {},
     "outputs": []
    },
    {
     "cell_type": "code",
     "collapsed": false,
     "input": [
      "import random\n",
      "\n",
      "for t in range(1, 6):\n",
      "    print('t = {}'.format(t))\n",
      "    print('-----------------')\n",
      "    # Choose at random one rocket to move\n",
      "    random.choice(fleet).move_up()\n",
      "    print_fleet_position(fleet)\n",
      "    print()"
     ],
     "language": "python",
     "metadata": {},
     "outputs": []
    },
    {
     "cell_type": "markdown",
     "metadata": {},
     "source": [
      "**Exercise:** Add a method to `Rocket` that takes one input, another `Rocket`, and returns `True` if the rockets are at the same location.\n",
      "I've made a template."
     ]
    },
    {
     "cell_type": "code",
     "collapsed": false,
     "input": [
      "class Rocket:\n",
      "    def __init__(self, x0):\n",
      "        self.x = x0\n",
      "        self.y = 0\n",
      "        \n",
      "    def move_up(self, distance=1):\n",
      "        self.y += distance\n",
      "        \n",
      "    def is_colliding(self, other_rocket):\n",
      "        pass"
     ],
     "language": "python",
     "metadata": {},
     "outputs": []
    },
    {
     "cell_type": "markdown",
     "metadata": {},
     "source": [
      "Scroll down for a solution...\n",
      "\n",
      ".\n",
      "\n",
      ".\n",
      "\n",
      ".\n",
      "\n",
      ".\n",
      "\n",
      ".\n",
      "\n",
      ".\n",
      "\n",
      ".\n",
      "\n",
      ".\n",
      "\n",
      ".\n",
      "\n",
      ".\n",
      "\n",
      ".\n",
      "\n",
      ".\n",
      "\n",
      ".\n",
      "\n",
      ".\n",
      "\n",
      "."
     ]
    },
    {
     "cell_type": "code",
     "collapsed": false,
     "input": [
      "class Rocket:\n",
      "    def __init__(self, x0):\n",
      "        self.x = x0\n",
      "        self.y = 0\n",
      "        \n",
      "    def move_up(self, distance=1):\n",
      "        self.y += distance\n",
      "        \n",
      "    def is_colliding(self, other_rocket):\n",
      "        return (self.x, self.y) == (other_rocket.x, other_rocket.y)\n",
      "            # Just as good:\n",
      "            #  self.x == other_rocket.x and self.y == other.rocket.y"
     ],
     "language": "python",
     "metadata": {},
     "outputs": []
    },
    {
     "cell_type": "markdown",
     "metadata": {},
     "source": [
      "Inheritance\n",
      "---\n",
      "\n",
      "You can make a class that starts with another class but makes some tweaks.\n",
      "Let's make a `SpaceShuttle` class that inherits from `Rocket`.\n",
      "A space shuttle is a special kind of rocket that can make more than one space voyage."
     ]
    },
    {
     "cell_type": "code",
     "collapsed": false,
     "input": [
      "class SpaceShuttle(Rocket):\n",
      "    def __init__(self, x0, trips_completed=0):\n",
      "        super().__init__(x0)\n",
      "        self.trips_completed = trips_completed\n",
      "        \n",
      "    def complete_trip(self):\n",
      "        self.y = 0\n",
      "        self.trips_completed += 1"
     ],
     "language": "python",
     "metadata": {},
     "outputs": []
    },
    {
     "cell_type": "markdown",
     "metadata": {},
     "source": [
      "In this example, `Rocket` is the **superclass** or **parent class** of `SpaceShuttle`.\n",
      "Here we **override** the `__init__()` method from `Rocket`.\n",
      "That means we replace it with our own method.\n",
      "Note the call to `super()` though.\n",
      "That returns the superclass.\n",
      "So, here we call the `__init__()` method of the superclass, before making our own modifications.\n",
      "In general, when we override the `__init__()` method, we usually call `super().__init__()`.\n",
      "\n",
      "Let's try our shuttle:"
     ]
    },
    {
     "cell_type": "code",
     "collapsed": false,
     "input": [
      "my_shuttle = SpaceShuttle(0)\n",
      "my_shuttle.move_up(10)\n",
      "print('({}, {:2})'.format(my_shuttle.x, my_shuttle.y))\n",
      "print('trips: {}'.format(my_shuttle.trips_completed))\n",
      "\n",
      "my_shuttle.complete_trip()\n",
      "print('({}, {:2})'.format(my_shuttle.x, my_shuttle.y))\n",
      "print('trips: {}'.format(my_shuttle.trips_completed))"
     ],
     "language": "python",
     "metadata": {},
     "outputs": []
    },
    {
     "cell_type": "markdown",
     "metadata": {},
     "source": [
      "Can our shuttle interact with regular old rocket?"
     ]
    },
    {
     "cell_type": "code",
     "collapsed": false,
     "input": [
      "my_rocket = Rocket(0)\n",
      "my_shuttle.is_colliding(my_rocket)"
     ],
     "language": "python",
     "metadata": {},
     "outputs": []
    },
    {
     "cell_type": "markdown",
     "metadata": {},
     "source": [
      "And just to be sure, it works the other way as well:"
     ]
    },
    {
     "cell_type": "code",
     "collapsed": false,
     "input": [
      "my_rocket.is_colliding(my_shuttle)"
     ],
     "language": "python",
     "metadata": {},
     "outputs": []
    },
    {
     "cell_type": "code",
     "collapsed": false,
     "input": [
      "my_rocket.move_up()\n",
      "my_rocket.is_colliding(my_shuttle)"
     ],
     "language": "python",
     "metadata": {},
     "outputs": []
    },
    {
     "cell_type": "markdown",
     "metadata": {},
     "source": [
      "Remember that the buit-in types are sort of like classes too?\n",
      "We can inherit from them as well.\n",
      "This is how a lot of the objects in `collections` work, like `Counter` that we saw earlier.\n",
      "Other useful objects there are `defaultdict` and `OrderedDict` which inherit from `dict`, and `deque` which inherits from `list`.\n",
      "\n",
      "Let's make our own type of `dict`:"
     ]
    },
    {
     "cell_type": "code",
     "collapsed": false,
     "input": [
      "class HackedDict(dict):\n",
      "    def get(self, key, default=None):\n",
      "        return 'HACKED!'\n",
      "    \n",
      "my_dict = HackedDict({'a': 1, 'b': 2})\n",
      "\n",
      "my_dict.get('a')"
     ],
     "language": "python",
     "metadata": {},
     "outputs": []
    },
    {
     "cell_type": "markdown",
     "metadata": {},
     "source": [
      "Magic methods\n",
      "---\n",
      "\n",
      "Magic methods are methods that start and end with two underscores.\n",
      "They're magic because Python will call them for us when they're needed and we rarely call them directly.\n",
      "The most common magic method is `__init__()`.\n",
      "Note that we defined it, and it was definitely run, but we never called it directly.\n",
      "\n",
      "Magic methods tell Python how it should handle your object in certain situations.\n",
      "Let's see what happens when we print our `Rocket`s:"
     ]
    },
    {
     "cell_type": "code",
     "collapsed": false,
     "input": [
      "for rocket in fleet:\n",
      "    print(rocket)"
     ],
     "language": "python",
     "metadata": {},
     "outputs": []
    },
    {
     "cell_type": "markdown",
     "metadata": {},
     "source": [
      "That's ugly!\n",
      "It just gives us the type name and the memory address.\n",
      "\n",
      "We can spruce it up with a new magic method `__str__()`, which tells Python what the string representation of the object should be."
     ]
    },
    {
     "cell_type": "code",
     "collapsed": false,
     "input": [
      "class Rocket:\n",
      "    def __init__(self, x0):\n",
      "        self.x = x0\n",
      "        self.y = 0\n",
      "        \n",
      "    def move_up(self, distance=1):\n",
      "        self.y += distance\n",
      "        \n",
      "    def is_colliding(self, other_rocket):\n",
      "        return (self.x, self.y) == (other_rocket.x, other_rocket.y)\n",
      "    \n",
      "    def __str__(self):\n",
      "        return 'Rocket at ({}, {})'.format(self.x, self.y)"
     ],
     "language": "python",
     "metadata": {},
     "outputs": []
    },
    {
     "cell_type": "code",
     "collapsed": false,
     "input": [
      "new_rocket = Rocket(1)\n",
      "print(new_rocket)"
     ],
     "language": "python",
     "metadata": {},
     "outputs": []
    },
    {
     "cell_type": "markdown",
     "metadata": {},
     "source": [
      "I like to think of magic methods as providing affordance (or maybe effectivities...).\n",
      "What does the object afford?\n",
      "So far rockets afford instantiating (with `__init__()`) and displaying (with `__str__()`).\n",
      "\n",
      "What if we want to add rockets?"
     ]
    },
    {
     "cell_type": "code",
     "collapsed": false,
     "input": [
      "new_rocket + 2"
     ],
     "language": "python",
     "metadata": {},
     "outputs": []
    },
    {
     "cell_type": "markdown",
     "metadata": {},
     "source": [
      "Fair enough, Python doesn't like to guess.\n",
      "But we can be explicit.\n",
      "What should we have it do when we add to it?"
     ]
    },
    {
     "cell_type": "code",
     "collapsed": false,
     "input": [
      "class Rocket:\n",
      "    def __init__(self, x0):\n",
      "        self.x = x0\n",
      "        self.y = 0\n",
      "        \n",
      "    def move_up(self, distance=1):\n",
      "        self.y += distance\n",
      "        \n",
      "    def is_colliding(self, other_rocket):\n",
      "        return (self.x, self.y) == (other_rocket.x, other_rocket.y)\n",
      "    \n",
      "    def __str__(self):\n",
      "        return 'Rocket at ({}, {})'.format(self.x, self.y)\n",
      "    \n",
      "    def __add__(self, other):\n",
      "        new_rocket = Rocket(self.x)\n",
      "        new_rocket.y = self.y + other\n",
      "        return new_rocket"
     ],
     "language": "python",
     "metadata": {},
     "outputs": []
    },
    {
     "cell_type": "code",
     "collapsed": false,
     "input": [
      "new_rocket = Rocket(0)\n",
      "print(new_rocket)\n",
      "print(new_rocket + 2)"
     ],
     "language": "python",
     "metadata": {},
     "outputs": []
    },
    {
     "cell_type": "markdown",
     "metadata": {},
     "source": [
      "Notice how in `__add__` we create a new `Rocket` from scratch.\n",
      "That's because `rocket + 2` shouldn't necessarily change the original `rocket` (cf. `1 + 2`).\n",
      "If we wanted to change the original we might do `rocket += 2`:"
     ]
    },
    {
     "cell_type": "code",
     "collapsed": false,
     "input": [
      "new_rocket += 2\n",
      "print(new_rocket)"
     ],
     "language": "python",
     "metadata": {},
     "outputs": []
    },
    {
     "cell_type": "markdown",
     "metadata": {},
     "source": [
      "Python figured this out because it expanded the operation to\n",
      "\n",
      "    new_rocket = new_rocket + 2\n",
      "    \n",
      "and it knew what to do with the right hand side.\n",
      "But it's still creating a new rocket somewhere in there:"
     ]
    },
    {
     "cell_type": "code",
     "collapsed": false,
     "input": [
      "rocket = Rocket(0)\n",
      "same_rocket = rocket\n",
      "rocket is same_rocket"
     ],
     "language": "python",
     "metadata": {},
     "outputs": []
    },
    {
     "cell_type": "code",
     "collapsed": false,
     "input": [
      "rocket += 2\n",
      "rocket is same_rocket"
     ],
     "language": "python",
     "metadata": {},
     "outputs": []
    },
    {
     "cell_type": "code",
     "collapsed": false,
     "input": [
      "print(rocket)\n",
      "print(same_rocket)"
     ],
     "language": "python",
     "metadata": {},
     "outputs": []
    },
    {
     "cell_type": "markdown",
     "metadata": {},
     "source": [
      "We didn't actually change the original rocket at all!\n",
      "We just made a knew one and renamed it with the old variable name.\n",
      "This would screw up our shuttles for example, because they would lose their count of trips completed.\n",
      "\n",
      "We could get around this with another magic method, `__iadd__()`:"
     ]
    },
    {
     "cell_type": "code",
     "collapsed": false,
     "input": [
      "class Rocket:\n",
      "    def __init__(self, x0):\n",
      "        self.x = x0\n",
      "        self.y = 0\n",
      "        \n",
      "    def move_up(self, distance=1):\n",
      "        self.y += distance\n",
      "        \n",
      "    def is_colliding(self, other_rocket):\n",
      "        return (self.x, self.y) == (other_rocket.x, other_rocket.y)\n",
      "    \n",
      "    def __str__(self):\n",
      "        return 'Rocket at ({}, {})'.format(self.x, self.y)\n",
      "    \n",
      "    def __iadd__(self, other):\n",
      "        self.y += other\n",
      "        return self"
     ],
     "language": "python",
     "metadata": {},
     "outputs": []
    },
    {
     "cell_type": "code",
     "collapsed": false,
     "input": [
      "rocket = Rocket(10)\n",
      "print(rocket)\n",
      "rocket += 1\n",
      "print(rocket)"
     ],
     "language": "python",
     "metadata": {},
     "outputs": []
    },
    {
     "cell_type": "markdown",
     "metadata": {},
     "source": [
      "That's so simple we might decide the confusion with the original `__add__()` method is not worth keeping it around.\n",
      "This is what we really wanted to do all along"
     ]
    },
    {
     "cell_type": "markdown",
     "metadata": {},
     "source": [
      "Are single numbers all we might want to add?\n",
      "What if we want to move the rocket in two dimensions?"
     ]
    },
    {
     "cell_type": "code",
     "collapsed": false,
     "input": [
      "rocket += (2, 2)"
     ],
     "language": "python",
     "metadata": {},
     "outputs": []
    },
    {
     "cell_type": "markdown",
     "metadata": {},
     "source": [
      "Let's make fixing that an exercise... edit the next cell and use the one after to try it out.\n",
      "\n",
      "This one's a bit tricky.\n",
      "Hint: What you want to do depends on what sort of thing `other` is.\n",
      "You can use `isinstance` to test this out. Look up its signature first:"
     ]
    },
    {
     "cell_type": "code",
     "collapsed": false,
     "input": [
      "isinstance?"
     ],
     "language": "python",
     "metadata": {},
     "outputs": []
    },
    {
     "cell_type": "code",
     "collapsed": false,
     "input": [
      "class Rocket:\n",
      "    def __init__(self, x0):\n",
      "        self.x = x0\n",
      "        self.y = 0\n",
      "        \n",
      "    def move_up(self, distance=1):\n",
      "        self.y += distance\n",
      "        \n",
      "    def is_colliding(self, other_rocket):\n",
      "        return (self.x, self.y) == (other_rocket.x, other_rocket.y)\n",
      "    \n",
      "    def __str__(self):\n",
      "        return 'Rocket at ({}, {})'.format(self.x, self.y)\n",
      "    \n",
      "    def __iadd__(self, other):\n",
      "        self.y += other\n",
      "        return self"
     ],
     "language": "python",
     "metadata": {},
     "outputs": []
    },
    {
     "cell_type": "code",
     "collapsed": false,
     "input": [
      "rocket = Rocket(0)\n",
      "print(rocket)\n",
      "rocket += (2, 2)\n",
      "print(rocket)\n",
      "rocket += 3\n",
      "print(rocket)"
     ],
     "language": "python",
     "metadata": {},
     "outputs": []
    },
    {
     "cell_type": "markdown",
     "metadata": {},
     "source": [
      "You know the drill...\n",
      "\n",
      ".\n",
      "\n",
      ".\n",
      "\n",
      ".\n",
      "\n",
      ".\n",
      "\n",
      ".\n",
      "\n",
      ".\n",
      "\n",
      ".\n",
      "\n",
      ".\n",
      "\n",
      ".\n",
      "\n",
      ".\n",
      "\n",
      ".\n",
      "\n",
      ".\n",
      "\n",
      ".\n",
      "\n",
      ".\n",
      "\n",
      ".\n",
      "\n",
      ".\n",
      "\n",
      ".\n",
      "\n",
      ".\n",
      "\n",
      "."
     ]
    },
    {
     "cell_type": "code",
     "collapsed": false,
     "input": [
      "class Rocket:\n",
      "    def __init__(self, x0):\n",
      "        self.x = x0\n",
      "        self.y = 0\n",
      "        \n",
      "    def move_up(self, distance=1):\n",
      "        self.y += distance\n",
      "        \n",
      "    def is_colliding(self, other_rocket):\n",
      "        return (self.x, self.y) == (other_rocket.x, other_rocket.y)\n",
      "    \n",
      "    def __str__(self):\n",
      "        return 'Rocket at ({}, {})'.format(self.x, self.y)\n",
      "    \n",
      "    def __iadd__(self, other):\n",
      "        if isinstance(other, (int, float)):\n",
      "            self.y += other\n",
      "            \n",
      "        elif isinstance(other, (list, tuple)) and len(other) == 2:\n",
      "            self.x += other[0]\n",
      "            self.y += other[1]\n",
      "            \n",
      "        else:\n",
      "            raise TypeError(\"Can't add Rocket to {}\".format(other))\n",
      "            \n",
      "        return self"
     ],
     "language": "python",
     "metadata": {},
     "outputs": []
    },
    {
     "cell_type": "markdown",
     "metadata": {},
     "source": [
      "Awesome.\n",
      "Now our rockets afford adding.\n",
      "There are lots of other magic methods.\n",
      "You will use them more than you will write your own, but it's always nice to know what's going on behind the scenes.\n",
      "\n",
      "Remember how `Counter` did something sort of unexpected when we subracted a dict from it?\n",
      "We can thank `__sub__()` for that.\n",
      "Same with the operations we saw last week on sets.\n",
      "\n",
      "There are lots of other magic methods.\n",
      "For example, if you define the methods `__len__()`, `__getitem__()`, `__setitem__()`, and `__delitem__()`, you can create an object that you can use indexing with (i.e. the square braces `[]`) like lists and dicts."
     ]
    },
    {
     "cell_type": "markdown",
     "metadata": {},
     "source": [
      "Composition exercise\n",
      "---\n",
      "\n",
      "Create a `Stack` class.\n",
      "Let's define a stack as a last-in-first-out data structure.\n",
      "Imagine a stack of cafeteria trays.\n",
      "The first one in is going to be the last one out.\n",
      "The last one put on top is going to be the first one taken out.\n",
      "\n",
      " - Use `*items` in `__init__()` so the `Stack` can be initialized with any number of items.\n",
      " - Write a `push()` method that adds an item to the top of the stack.\n",
      " - Write a `pop()` method that removes an item from the top of the stack and returns it.\n",
      " - Write a `peek()` method that returns the top item without removing it.\n",
      " - Write an `isempty()` method that returns `True` if the stack is empty.\n",
      " - Write a `__str__()` method that prints the items.\n",
      " \n",
      "I almost forgot.\n",
      "What's composition?\n",
      "It's an alternative to inheritance.\n",
      "It's a simple pattern where one data structure is an attribute of another data structure.\n",
      "In this exercise, you might be tempted to create a subclass of `list`.\n",
      "But it usually easier and more flexible to use composition.\n",
      "Your `Stack` should have an attribute, named `items` perhaps, which is a list of the items.\n",
      "The idea is that the user doesn't interact with `items` directly but instead through the methods defined above."
     ]
    },
    {
     "cell_type": "code",
     "collapsed": false,
     "input": [
      "# Write your class here"
     ],
     "language": "python",
     "metadata": {},
     "outputs": []
    },
    {
     "cell_type": "code",
     "collapsed": false,
     "input": [
      "# Test it here"
     ],
     "language": "python",
     "metadata": {},
     "outputs": []
    },
    {
     "cell_type": "markdown",
     "metadata": {},
     "source": [
      ".\n",
      "\n",
      ".\n",
      "\n",
      ".\n",
      "\n",
      ".\n",
      "\n",
      ".\n",
      "\n",
      ".\n",
      "\n",
      ".\n",
      "\n",
      ".\n",
      "\n",
      ".\n",
      "\n",
      ".\n",
      "\n",
      ".\n",
      "\n",
      ".\n",
      "\n",
      ".\n",
      "\n",
      ".\n",
      "\n",
      ".\n",
      "\n",
      ".\n",
      "\n",
      "."
     ]
    },
    {
     "cell_type": "code",
     "collapsed": false,
     "input": [
      "class Stack:\n",
      "    def __init__(self, *items):\n",
      "        self.items = list(items)  # Otherwise we have an immutable tuple\n",
      "        \n",
      "    def push(self, item):\n",
      "        self.items.append(item)\n",
      "        \n",
      "    def pop(self):\n",
      "        return self.items.pop()\n",
      "    \n",
      "    def peek(self):\n",
      "        return self.items[-1]\n",
      "    \n",
      "    def isempty(self):\n",
      "        return len(self.items) == 0\n",
      "    \n",
      "    def __str__(self):\n",
      "        return str(self.items)"
     ],
     "language": "python",
     "metadata": {},
     "outputs": []
    },
    {
     "cell_type": "code",
     "collapsed": false,
     "input": [
      "stack = Stack(1, 2, 3)\n",
      "stack.pop()"
     ],
     "language": "python",
     "metadata": {},
     "outputs": []
    },
    {
     "cell_type": "code",
     "collapsed": false,
     "input": [
      "stack.push('asd')\n",
      "stack.peek()"
     ],
     "language": "python",
     "metadata": {},
     "outputs": []
    },
    {
     "cell_type": "code",
     "collapsed": false,
     "input": [
      "stack.pop()"
     ],
     "language": "python",
     "metadata": {},
     "outputs": []
    },
    {
     "cell_type": "code",
     "collapsed": false,
     "input": [
      "while not stack.isempty():\n",
      "    print(stack)\n",
      "    print(stack.pop())\n",
      "    \n",
      "print(stack)"
     ],
     "language": "python",
     "metadata": {},
     "outputs": []
    },
    {
     "cell_type": "markdown",
     "metadata": {},
     "source": [
      "Advanced exercise: Inheritance and magic methods\n",
      "---\n",
      "\n",
      "Create a `list` subclass that lets you use any integer to grab an item, using modular arithmetic.\n",
      "For example, imagine we have a list of length 3.\n",
      "`[3]` would usually cause an error, because `[2]` gets the last element.\n",
      "But let's say we would want `[3]` to get the first element, and `[6]`, `[9]`, etc.\n",
      "\n",
      "Hint: override the methods `__getitem__`, `__setitem__`, and `__delitem__`.\n",
      "Since there will be some similar logic in all of these, it maybe useful to make a function or method that converts the index before calling the `super()` version of the method."
     ]
    },
    {
     "cell_type": "code",
     "collapsed": false,
     "input": [
      "class ModulusList(list):\n",
      "    def __getitem__(self, item):\n",
      "        result = super().__getitem__(item)\n",
      "        return result\n",
      "        \n",
      "    def __setitem__(self, item, value):\n",
      "        super().__setitem__(item, value)\n",
      "        \n",
      "    def __delitem__(self, item):\n",
      "        super().__delitem__(item)"
     ],
     "language": "python",
     "metadata": {},
     "outputs": []
    },
    {
     "cell_type": "code",
     "collapsed": false,
     "input": [
      "# Test getitem\n",
      "mlist = ModulusList([1, 2, 3])\n",
      "print(mlist[0])\n",
      "print(mlist[3])"
     ],
     "language": "python",
     "metadata": {},
     "outputs": []
    },
    {
     "cell_type": "code",
     "collapsed": false,
     "input": [
      "# Test delitem\n",
      "mlist = ModulusList([1, 2, 3])\n",
      "print(mlist)\n",
      "del mlist[5]\n",
      "print(mlist)"
     ],
     "language": "python",
     "metadata": {},
     "outputs": []
    },
    {
     "cell_type": "code",
     "collapsed": false,
     "input": [
      "# Test setitem\n",
      "mlist = ModulusList([1, 2, 3])\n",
      "mlist[0] = 10\n",
      "print(mlist)\n",
      "mlist[1325126] = 25\n",
      "print(mlist)"
     ],
     "language": "python",
     "metadata": {},
     "outputs": []
    },
    {
     "cell_type": "markdown",
     "metadata": {},
     "source": [
      ".\n",
      "\n",
      ".\n",
      "\n",
      ".\n",
      "\n",
      ".\n",
      "\n",
      ".\n",
      "\n",
      ".\n",
      "\n",
      ".\n",
      "\n",
      ".\n",
      "\n",
      ".\n",
      "\n",
      ".\n",
      "\n",
      ".\n",
      "\n",
      ".\n",
      "\n",
      ".\n",
      "\n",
      ".\n",
      "\n",
      ".\n",
      "\n",
      ".\n",
      "\n",
      "."
     ]
    },
    {
     "cell_type": "code",
     "collapsed": false,
     "input": [
      "class ModulusList(list):\n",
      "    def _convert_idx(self, idx):\n",
      "        return idx % len(self)\n",
      "    \n",
      "    def __getitem__(self, item):\n",
      "        result = super().__getitem__(self._convert_idx(item))\n",
      "        return result\n",
      "        \n",
      "    def __setitem__(self, item, value):\n",
      "        super().__setitem__(self._convert_idx(item), value)\n",
      "        \n",
      "    def __delitem__(self, item):\n",
      "        super().__delitem__(self._convert_idx(item))"
     ],
     "language": "python",
     "metadata": {},
     "outputs": []
    },
    {
     "cell_type": "markdown",
     "metadata": {},
     "source": [
      "Thanks to modular arithmetic, this works out of the box with negative indices."
     ]
    },
    {
     "cell_type": "code",
     "collapsed": false,
     "input": [
      "mlist = ModulusList([1, 2, 3])\n",
      "print(mlist[-1])\n",
      "print(mlist[-23616])"
     ],
     "language": "python",
     "metadata": {},
     "outputs": []
    },
    {
     "cell_type": "markdown",
     "metadata": {},
     "source": [
      "It won't however, work for slices:"
     ]
    },
    {
     "cell_type": "code",
     "collapsed": false,
     "input": [
      "mlist[:2]"
     ],
     "language": "python",
     "metadata": {},
     "outputs": []
    },
    {
     "cell_type": "markdown",
     "metadata": {},
     "source": [
      "That would require another method to convert slices, and some clauses like `if isinstance(item, slice)` to decide which converter to use."
     ]
    },
    {
     "cell_type": "markdown",
     "metadata": {},
     "source": [
      "Also note above that I named the method `_convert_idx()` starting with an underscore.\n",
      "That's Python convention for \"this is an *private* method.\n",
      "I need it inside my class but if you're interacting with this object from the outside you shouldn't be using it.\"\n",
      "\n",
      "Unlike in other languages, this isn't enforced.\n",
      "The Pythonism is \"we're all consenting adults.\"\n",
      "If someone wants to really mess around with the inner guts of my class, they're welcome to.\n",
      "The underscore is just a warning."
     ]
    },
    {
     "cell_type": "markdown",
     "metadata": {},
     "source": [
      "*Food for thought: Why is inheritance easier than composition in this example?*\n",
      "\n",
      "Note that in general, one should almost always choose composition."
     ]
    }
   ],
   "metadata": {}
  }
 ]
}