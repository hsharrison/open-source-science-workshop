{
 "metadata": {
  "name": "",
  "signature": "sha256:3e6c010ce0abb31814597ec5162b60c34ee02ba1cc35f58eabe1cb6c1105d981"
 },
 "nbformat": 3,
 "nbformat_minor": 0,
 "worksheets": [
  {
   "cells": [
    {
     "cell_type": "markdown",
     "metadata": {},
     "source": [
      "Python contexts\n",
      "====\n",
      "\n",
      "Before we begin, I want to discuss Python vs. IPython and the contexts in which we'll use Python.\n",
      "IPython stands for Interactive Python and was originally just a better Python interpreter.\n",
      "If you run `python` from your command line you'll get the default Python interpreter with its `>>>` prompt.\n",
      "If you run `ipython` from your command-line you'll get the IPython interpreter with its `In [1]:` prompt.\n",
      "There is basically no reason to use the default Python command-line, so we can just take the IPython improvements as givens.\n",
      "\n",
      "IPython today has three environments: the command-line, the qtconsole, and the notebook.\n",
      "Here are the three contexts for running Python that you should know how to do:\n",
      "\n",
      " 1. *Run a script in Python.*\n",
      "    You can do this with `python /path/to/script.py`.\n",
      "    The script will run from start to finish and then exit back to Bash.\n",
      "    If you add the `-i` flag, it will instead leave you in the Python interpreter so you can do further interation.\n",
      "    You can also use the `ipython` executable instead of `python` here.\n",
      " 2. *Interact with IPython at the command-line.*\n",
      "    As I mentioned above, you can just type `ipython` to get to the IPython command-line.\n",
      "    However I recommend running `ipython qtconsole`.\n",
      "    The qtconsole is a beefed up command-line that allows you to e.g. use the mouse to change the cursor position.\n",
      "    It can also disply plots and other stuff you can't do in a normal command-line.\n",
      "    If you like dark environments like me, run it with `--style native`.\n",
      "    There are also other styles you can explore.\n",
      " 3. *The notebook.*\n",
      "    Open up the notebook with `ipython notebook`.\n",
      "    Note that the notebook allows you to browse deeper into directories but not up out of the directory you started in.\n",
      "    If you start in your home directory, e.g., you should be able to browse through the UI to the folder where your notebooks live.\n",
      "    Or you can `cd` into that folder before starting notebook.\n",
      "    Alternatively, you can use the `--ipython-notebook-dir` option to specify the notebook directory, as in `ipython notebook --ipython-notebook-dir ~/repos/open-source-science-workshop`.\n",
      "    Note that the notebook server will block your terminal.\n",
      "    You can either just open up a new terminal if you need to use the command-line, or add `&` to the command to background the process\n",
      "    (you can later run `fg` to foreground it).\n",
      " \n",
      "Remember that if you want to use a specific Python/IPython interpreter (e.g. one associated with your `python3` virtual environment), replace `python` and `ipython` in the above examples with the path to that specific executable.\n",
      "For example it is probably `~/anaconda/envs/python3/bin/ipython` on OSX and `~/Anaconda/envs/python3/scripts/ipython` on Windows.\n",
      "It's also probably not that difficult to make a shortcut to launch the notebook server on your platform directly from, e.g., the start menu.\n",
      "Check Google or inspect an existing shortcut--there's probably a Path entry that you can edit directly."
     ]
    },
    {
     "cell_type": "markdown",
     "metadata": {},
     "source": [
      "Help menu\n",
      "---\n",
      "\n",
      "Check out the Help menu from the Notebook.\n",
      "The documentation for Python, IPython, and other projects that we'll use later are all quite good.\n",
      "Also make a habit of opening up the Keyboard Shortucts page now and then."
     ]
    },
    {
     "cell_type": "markdown",
     "metadata": {},
     "source": [
      "Review exercises\n",
      "---\n",
      "\n",
      "Let's start with some exercises."
     ]
    },
    {
     "cell_type": "markdown",
     "metadata": {},
     "source": [
      "Imagine we represent a store's inventory as a dictionary.\n",
      "The keys are the item names and the values are the number of items in stock.\n",
      "Make a function that takes two arguments, the inventory dictionary, and an integer, and returns a set of all items with at least that many in stock.\n",
      "\n",
      "For example, if this is the inventory:\n",
      "\n",
      "    inventory = {\n",
      "        'apples': 10,\n",
      "        'bananas': 3,\n",
      "        'oranges': 32,\n",
      "        'pears': 21,\n",
      "    }\n",
      "    \n",
      "Then if we run `check_inventory(inventory, 20)`, the result should be the set `{'oranges', 'pears'}`.\n",
      "\n",
      "Type your function two cells down (delete the placeholder keyword `pass`).\n",
      "The following cell will test your function.\n",
      "Be sure to execute the cell with your function first!\n",
      "\n",
      "Remember that the `.items()` method on a dictionary allows you to loop over all the key value pairs.\n",
      "I'll add a cell to demonstrate as a refresher."
     ]
    },
    {
     "cell_type": "code",
     "collapsed": false,
     "input": [
      "test_inventory = {\n",
      "    'apples': 10,\n",
      "    'bananas': 3,\n",
      "    'oranges': 32,\n",
      "    'pears': 21,\n",
      "}\n",
      "\n",
      "for item, n in test_inventory.items():\n",
      "    print(item, n)"
     ],
     "language": "python",
     "metadata": {},
     "outputs": []
    },
    {
     "cell_type": "code",
     "collapsed": false,
     "input": [
      "def check_inventory(inventory, n):\n",
      "    pass"
     ],
     "language": "python",
     "metadata": {},
     "outputs": []
    },
    {
     "cell_type": "code",
     "collapsed": false,
     "input": [
      "test_pairs = {\n",
      "    0: set(test_inventory.keys()),\n",
      "    5: {'apples', 'oranges', 'pears'},\n",
      "    20: {'oranges', 'pears'},\n",
      "    100: set(),\n",
      "}\n",
      "\n",
      "any_failed = False\n",
      "for test_n, correct_answer in sorted(test_pairs.items()):\n",
      "    result = check_inventory(test_inventory, test_n)\n",
      "    \n",
      "    if result != correct_answer:\n",
      "        any_failed = True\n",
      "        print('For n = {:3}, got {}, expected {}'.format(\n",
      "            test_n, result, correct_answer))\n",
      "        \n",
      "if not any_failed:\n",
      "    print('PASS')"
     ],
     "language": "python",
     "metadata": {},
     "outputs": []
    },
    {
     "cell_type": "markdown",
     "metadata": {},
     "source": [
      "Scroll down for a solution...\n",
      "\n",
      ".\n",
      "\n",
      ".\n",
      "\n",
      ".\n",
      "\n",
      ".\n",
      "\n",
      ".\n",
      "\n",
      ".\n",
      "\n",
      ".\n",
      "\n",
      ".\n",
      "\n",
      ".\n",
      "\n",
      ".\n",
      "\n",
      ".\n",
      "\n",
      ".\n",
      "\n",
      "."
     ]
    },
    {
     "cell_type": "code",
     "collapsed": false,
     "input": [
      "def check_inventory(inventory, n):\n",
      "    return {item for item, number in inventory.items() if number >= n}"
     ],
     "language": "python",
     "metadata": {},
     "outputs": []
    },
    {
     "cell_type": "markdown",
     "metadata": {},
     "source": [
      "Here's the equivalent without the set comprehension:"
     ]
    },
    {
     "cell_type": "code",
     "collapsed": false,
     "input": [
      "def check_inventory(inventory, n):\n",
      "    items_to_return = set()\n",
      "    for item, number in inventory.items():\n",
      "        if number >= n:\n",
      "            items_to_return.add(item)\n",
      "    return items_to_return"
     ],
     "language": "python",
     "metadata": {},
     "outputs": []
    },
    {
     "cell_type": "markdown",
     "metadata": {},
     "source": [
      "One more exercise.\n",
      "Let's make a function that subtracts a certain number of items from the inventory.\n",
      "It can take an input in the same format as the inventory, with items as keys and numbers as values.\n",
      "\n",
      "First I'll introduce the `raise` keyword.\n",
      "You can use this to give an error message, e.g.:\n",
      "\n",
      "    raise ValueError('Not enough {} to complete the order'.format(item))\n",
      "    \n",
      "Let's make this function edit the inventory in-place.\n",
      "That is, don't return a new inventory, just change the input."
     ]
    },
    {
     "cell_type": "code",
     "collapsed": false,
     "input": [
      "def subtract_order(inventory, order):\n",
      "    pass"
     ],
     "language": "python",
     "metadata": {},
     "outputs": []
    },
    {
     "cell_type": "markdown",
     "metadata": {},
     "source": [
      "Scroll down for a solution.\n",
      "Sorry, no fancy test this time.\n",
      "\n",
      ".\n",
      "\n",
      ".\n",
      "\n",
      ".\n",
      "\n",
      ".\n",
      "\n",
      ".\n",
      "\n",
      ".\n",
      "\n",
      ".\n",
      "\n",
      ".\n",
      "\n",
      ".\n",
      "\n",
      ".\n",
      "\n",
      ".\n",
      "\n",
      "."
     ]
    },
    {
     "cell_type": "code",
     "collapsed": false,
     "input": [
      "def subtract_order(inventory, order):\n",
      "    for item, number in order.items():\n",
      "        \n",
      "        # Check if the item is listed.\n",
      "        if item not in inventory:\n",
      "            raise ValueError('{} not in inventory'.format(item))\n",
      "        \n",
      "        # Check if we have enough.\n",
      "        if number > inventory[item]:\n",
      "            raise ValueError(\n",
      "                'Not enough {} to complete the order'.format(item))\n",
      "            \n",
      "        # Subtract.\n",
      "        inventory[item] -= number\n",
      "        \n",
      "        # Delete the item if there are none left.\n",
      "        if inventory[item] == 0:\n",
      "            del inventory[item]"
     ],
     "language": "python",
     "metadata": {},
     "outputs": []
    },
    {
     "cell_type": "markdown",
     "metadata": {},
     "source": [
      "Note that there is an object called `Counter` in the `collections` module that is basically a `dict` suited for counting, it would handle this subtraction automatically, for example."
     ]
    },
    {
     "cell_type": "code",
     "collapsed": false,
     "input": [
      "from collections import Counter\n",
      "\n",
      "inventory_counts = Counter(test_inventory)\n",
      "print('Before:', inventory_counts)\n",
      "\n",
      "inventory_counts -= {'oranges': 10, 'bananas': 2}\n",
      "print('After :', inventory_counts)"
     ],
     "language": "python",
     "metadata": {},
     "outputs": []
    },
    {
     "cell_type": "markdown",
     "metadata": {},
     "source": [
      "Imports\n",
      "---\n",
      "\n",
      "Let's explain importing here.\n",
      "This is how we get external functions and objects.\n",
      "Python comes built-in with a whole bunch of useful libraries (called the \"standard library\"), like `collections`.\n",
      "Importing other packages that we installed using `conda` works exactly the same, as we'll see later.\n",
      "There are two basic ways to import something:"
     ]
    },
    {
     "cell_type": "code",
     "collapsed": false,
     "input": [
      "from collections import Counter"
     ],
     "language": "python",
     "metadata": {},
     "outputs": []
    },
    {
     "cell_type": "markdown",
     "metadata": {},
     "source": [
      "or"
     ]
    },
    {
     "cell_type": "code",
     "collapsed": false,
     "input": [
      "import collections"
     ],
     "language": "python",
     "metadata": {},
     "outputs": []
    },
    {
     "cell_type": "markdown",
     "metadata": {},
     "source": [
      "You can see that they're the same:"
     ]
    },
    {
     "cell_type": "code",
     "collapsed": false,
     "input": [
      "collections.Counter is Counter"
     ],
     "language": "python",
     "metadata": {},
     "outputs": []
    },
    {
     "cell_type": "markdown",
     "metadata": {},
     "source": [
      "(more on `is` later)"
     ]
    },
    {
     "cell_type": "markdown",
     "metadata": {},
     "source": [
      "You can also use an alias:"
     ]
    },
    {
     "cell_type": "code",
     "collapsed": false,
     "input": [
      "import collections as coll\n",
      "coll.Counter is collections.Counter"
     ],
     "language": "python",
     "metadata": {},
     "outputs": []
    },
    {
     "cell_type": "markdown",
     "metadata": {},
     "source": [
      "In general you only want to do this if it's convention.\n",
      "We'll see some conventions like this later."
     ]
    },
    {
     "cell_type": "markdown",
     "metadata": {},
     "source": [
      "Finally, I've left one out:\n",
      "\n",
      "    from collections import *\n",
      "    \n",
      "This imports everything in `collections`.\n",
      "Never do this!\n",
      "It makes it harder to read your code and figure out what came from where.\n",
      "\n",
      "By the way, collections is one of the more useful modules in the standard library.\n",
      "It contains some extra data types, like `Counter`, that are more specialized but often quite useful.\n",
      "The other two modules that complete the top three are in my opinion `itertools` and `functools`.\n",
      "More on those later!"
     ]
    },
    {
     "cell_type": "markdown",
     "metadata": {},
     "source": [
      "Python variables\n",
      "---\n",
      "\n",
      "*Note: this explanation and images stolen from [here](http://foobarnbaz.com/2012/07/08/understanding-python-variables/).*\n",
      "\n",
      "Variables in Python work a bit different that in most other languages.\n",
      "In most other languages, you can think of a variable as a virtual \"bin\" in which you can place values.\n",
      "In many languages you have to tell the interpreter what type of object is going to go in the bin, e.g. `int`, `str`, etc.\n",
      "\n",
      "![bin](http://python.net/~goodger/projects/pycon/2007/idiomatic/a2box.png)\n",
      "\n",
      "Things are a bit different in Python.\n",
      "The Python interpreter maintains a \"list\" of all current objects.\n",
      "When you assign a value to a variable, first if it doesn't exist yet the value gets created as a new object.\n",
      "Then, the objects gets the variable name attached to it; imagine a little tag hanging off.\n",
      "\n",
      "![tag](http://python.net/~goodger/projects/pycon/2007/idiomatic/a2tag.png)\n",
      "\n",
      "How is this different?\n",
      "Well, if we re-assign an existing variable to a new value, the tag just gets moved to that new object.\n",
      "Nothing changes about the original value.\n",
      "Here's the example we saw last week:"
     ]
    },
    {
     "cell_type": "code",
     "collapsed": false,
     "input": [
      "a = 2\n",
      "b = a"
     ],
     "language": "python",
     "metadata": {},
     "outputs": []
    },
    {
     "cell_type": "markdown",
     "metadata": {},
     "source": [
      "At this point, `a` and `b` not only have the same value, they actually refer to the same single object.\n",
      "\n",
      "![2-tags](http://python.net/~goodger/projects/pycon/2007/idiomatic/ab2tag.png)"
     ]
    },
    {
     "cell_type": "code",
     "collapsed": false,
     "input": [
      "a is b"
     ],
     "language": "python",
     "metadata": {},
     "outputs": []
    },
    {
     "cell_type": "markdown",
     "metadata": {},
     "source": [
      "`is` a more strict test than `==`, it tests if two variables literally refer to the same object, which is different from two different objects with the same value.\n",
      "\n",
      "(Sometimes we want `is` instead of `==`, for example if we want to test if some element we have in one variable is the last element in some list.\n",
      "If we used `==`, we might accidentally catch a different element if the list contains elements with the same value.)"
     ]
    },
    {
     "cell_type": "markdown",
     "metadata": {},
     "source": [
      "Now if we change `a`, it gets reassigned, but the original `2` is still there.\n",
      "But now it only has the name `b` attached to it."
     ]
    },
    {
     "cell_type": "code",
     "collapsed": false,
     "input": [
      "a = 1\n",
      "print('b:', b)\n",
      "print('a is b:', a is b)"
     ],
     "language": "python",
     "metadata": {},
     "outputs": []
    },
    {
     "cell_type": "markdown",
     "metadata": {},
     "source": [
      "But now we can try the same thing with a mutable structure like a list."
     ]
    },
    {
     "cell_type": "code",
     "collapsed": false,
     "input": [
      "a = [1, 2, 3]\n",
      "b = a\n",
      "a is b"
     ],
     "language": "python",
     "metadata": {},
     "outputs": []
    },
    {
     "cell_type": "code",
     "collapsed": false,
     "input": [
      "a.append(4)\n",
      "print(b)"
     ],
     "language": "python",
     "metadata": {},
     "outputs": []
    },
    {
     "cell_type": "markdown",
     "metadata": {},
     "source": [
      "Changing `a` also changed `b`, because they point to the same object.\n",
      "But if we instead reassigned `a`, `b` wouldn't also change."
     ]
    },
    {
     "cell_type": "code",
     "collapsed": false,
     "input": [
      "a = [1, 2, 3]\n",
      "b = a\n",
      "\n",
      "a = [1, 2, 3, 4]\n",
      "print(b)"
     ],
     "language": "python",
     "metadata": {},
     "outputs": []
    },
    {
     "cell_type": "markdown",
     "metadata": {},
     "source": [
      "This is also a good example to see the difference between `is` and `==`."
     ]
    },
    {
     "cell_type": "code",
     "collapsed": false,
     "input": [
      "b.append(4)\n",
      "\n",
      "print('==:', a == b)\n",
      "print('is:', a is b)"
     ],
     "language": "python",
     "metadata": {},
     "outputs": []
    },
    {
     "cell_type": "markdown",
     "metadata": {},
     "source": [
      "The take-away?\n",
      "Be aware of the difference between changing a variable in-place and reassigning it.\n",
      "\n",
      "You shouldn't necessarily avoid having the same object referred to in more than one place, as it can be very useful.\n",
      "But understand what you're doing.\n",
      "\n",
      "This also lets you do some things that aren't very useful but are mind-bending.\n",
      "For example a list can contain itself:"
     ]
    },
    {
     "cell_type": "code",
     "collapsed": false,
     "input": [
      "a = []\n",
      "a.append(a)\n",
      "\n",
      "print(a)"
     ],
     "language": "python",
     "metadata": {},
     "outputs": []
    },
    {
     "cell_type": "markdown",
     "metadata": {},
     "source": [
      "(The interpreter recognizes the recursion and short-circuits the print)"
     ]
    },
    {
     "cell_type": "code",
     "collapsed": false,
     "input": [
      "a[0]"
     ],
     "language": "python",
     "metadata": {},
     "outputs": []
    },
    {
     "cell_type": "code",
     "collapsed": false,
     "input": [
      "a is a[0]"
     ],
     "language": "python",
     "metadata": {},
     "outputs": []
    },
    {
     "cell_type": "code",
     "collapsed": false,
     "input": [
      "a.append(3)\n",
      "print(a)\n",
      "print(a[0])\n",
      "print(a[0][0])"
     ],
     "language": "python",
     "metadata": {},
     "outputs": []
    },
    {
     "cell_type": "code",
     "collapsed": false,
     "input": [
      "a.append(a)\n",
      "print(a)"
     ],
     "language": "python",
     "metadata": {},
     "outputs": []
    },
    {
     "cell_type": "code",
     "collapsed": false,
     "input": [
      "a is a[0] is a[-1]"
     ],
     "language": "python",
     "metadata": {},
     "outputs": []
    },
    {
     "cell_type": "markdown",
     "metadata": {},
     "source": [
      "A totally random aside, but that reminds me that you can do multiple tests together with Python:"
     ]
    },
    {
     "cell_type": "code",
     "collapsed": false,
     "input": [
      "0 < 3 < 6"
     ],
     "language": "python",
     "metadata": {},
     "outputs": []
    },
    {
     "cell_type": "markdown",
     "metadata": {},
     "source": [
      "Isn't that so much nicer than"
     ]
    },
    {
     "cell_type": "code",
     "collapsed": false,
     "input": [
      "0 < 3 and 3 < 6"
     ],
     "language": "python",
     "metadata": {},
     "outputs": []
    },
    {
     "cell_type": "markdown",
     "metadata": {},
     "source": [
      "More on functions\n",
      "---"
     ]
    },
    {
     "cell_type": "markdown",
     "metadata": {},
     "source": [
      "**Default values.**\n",
      "You can give your arguments default values.\n",
      "Arguments with default values must appear after arguments without default values."
     ]
    },
    {
     "cell_type": "code",
     "collapsed": false,
     "input": [
      "def user_confirm(message, true_responses=('y', 'Y', 'yes', 'Yes')):\n",
      "    response = input(message)\n",
      "    return response in true_responses"
     ],
     "language": "python",
     "metadata": {},
     "outputs": []
    },
    {
     "cell_type": "code",
     "collapsed": false,
     "input": [
      "user_confirm('Yes or no? ')"
     ],
     "language": "python",
     "metadata": {},
     "outputs": []
    },
    {
     "cell_type": "code",
     "collapsed": false,
     "input": [
      "user_confirm('OK? ', ('ok', 'OK'))"
     ],
     "language": "python",
     "metadata": {},
     "outputs": []
    },
    {
     "cell_type": "markdown",
     "metadata": {},
     "source": [
      "*Warning: don't use mutable objects (like lists) as defaults.\n",
      "If the object gets changed later, so will the function default!*"
     ]
    },
    {
     "cell_type": "markdown",
     "metadata": {},
     "source": [
      "**Keyword arguments.**\n",
      "When calling a function, you can also refer to functions by name.\n",
      "This is usually more readable.\n",
      "This works whether or not the argument has a default.\n",
      "However, if you use any positional arguments, they must come first."
     ]
    },
    {
     "cell_type": "code",
     "collapsed": false,
     "input": [
      "user_confirm(message='Yes or no? ')"
     ],
     "language": "python",
     "metadata": {},
     "outputs": []
    },
    {
     "cell_type": "code",
     "collapsed": false,
     "input": [
      "user_confirm('OK? ', true_responses=('ok', 'OK'))"
     ],
     "language": "python",
     "metadata": {},
     "outputs": []
    },
    {
     "cell_type": "code",
     "collapsed": false,
     "input": [
      "user_confirm(message='OK? ', ('ok', 'OK'))"
     ],
     "language": "python",
     "metadata": {},
     "outputs": []
    },
    {
     "cell_type": "markdown",
     "metadata": {},
     "source": [
      "**Argument unpacking.**\n",
      "You can unpack positional arguments with an asterisk, and keyword arguments with two asterisks.\n",
      "This works on function definitions as well as function calls."
     ]
    },
    {
     "cell_type": "code",
     "collapsed": false,
     "input": [
      "def combine_strings(*items, sep=', ', end='.'):\n",
      "    return sep.join(items) + end"
     ],
     "language": "python",
     "metadata": {},
     "outputs": []
    },
    {
     "cell_type": "code",
     "collapsed": false,
     "input": [
      "combine_strings('one', 'two', 'three')"
     ],
     "language": "python",
     "metadata": {},
     "outputs": []
    },
    {
     "cell_type": "code",
     "collapsed": false,
     "input": [
      "combine_strings('one', 'two', sep=' + ', end='')"
     ],
     "language": "python",
     "metadata": {},
     "outputs": []
    },
    {
     "cell_type": "code",
     "collapsed": false,
     "input": [
      "some_strings = ['one', 'two', 'three', 'four']\n",
      "combine_strings(*some_strings, end='...')"
     ],
     "language": "python",
     "metadata": {},
     "outputs": []
    },
    {
     "cell_type": "markdown",
     "metadata": {},
     "source": [
      "When you unpack keyword arguments, they form a dictionary."
     ]
    },
    {
     "cell_type": "code",
     "collapsed": false,
     "input": [
      "def test_kwargs(**kwargs):\n",
      "    print(kwargs)"
     ],
     "language": "python",
     "metadata": {},
     "outputs": []
    },
    {
     "cell_type": "code",
     "collapsed": false,
     "input": [
      "test_kwargs(a=2, user='hen')"
     ],
     "language": "python",
     "metadata": {},
     "outputs": []
    },
    {
     "cell_type": "code",
     "collapsed": false,
     "input": [
      "options = {'sep': '-00-00-', 'end': '--------'}\n",
      "combine_strings('one', 'two', '3', 'four', **options)"
     ],
     "language": "python",
     "metadata": {},
     "outputs": []
    },
    {
     "cell_type": "markdown",
     "metadata": {},
     "source": [
      "**docstrings.**\n",
      "It's customary to document functions with docstrings.\n",
      "These are multi-line comments appearing immediately after the line with `def`, surrounded by three double quotes.\n",
      "This makes it easier for anyone who uses your function to get help (e.g., yourself, later).\n",
      "Use docstrings on any function whose usage isn't blindingly obvious based on its name and its argument names."
     ]
    },
    {
     "cell_type": "code",
     "collapsed": false,
     "input": [
      "def combine_strings(*items, sep=', ', end='.'):\n",
      "    \"\"\"\n",
      "    Combine any number of strings.\n",
      "    \n",
      "    Optional arguments: sep (str) - separator\n",
      "                        end (str) - how to end the string\n",
      "    \n",
      "    \"\"\"\n",
      "    return sep.join(items) + end"
     ],
     "language": "python",
     "metadata": {},
     "outputs": []
    },
    {
     "cell_type": "code",
     "collapsed": false,
     "input": [
      "help(combine_strings)"
     ],
     "language": "python",
     "metadata": {},
     "outputs": []
    },
    {
     "cell_type": "markdown",
     "metadata": {},
     "source": [
      "I should point out here that the docstring is technically not a comment but rather `\"\"\"` is a way to define multi-line strings.\n",
      "This is useful if you ever need a long string."
     ]
    },
    {
     "cell_type": "code",
     "collapsed": false,
     "input": [
      "prompt = \"\"\"Are you ready to continue?\n",
      "\n",
      "Press Y to move on.\n",
      "Press N to quit.\n",
      "\"\"\"\n",
      "\n",
      "user_confirm(prompt)"
     ],
     "language": "python",
     "metadata": {},
     "outputs": []
    }
   ],
   "metadata": {}
  }
 ]
}