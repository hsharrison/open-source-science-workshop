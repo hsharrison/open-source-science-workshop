{
 "metadata": {
  "name": "",
  "signature": "sha256:6ec0e7dde75ad017eff126219f2a6bb722298846e7b86f6e1c6b7caec9b31168"
 },
 "nbformat": 3,
 "nbformat_minor": 0,
 "worksheets": [
  {
   "cells": [
    {
     "cell_type": "markdown",
     "metadata": {},
     "source": [
      "The Zen of Python\n",
      "===\n",
      "\n",
      "As a segue from beginner to intermediate material, I want to share something with you and use it to generate some examples."
     ]
    },
    {
     "cell_type": "code",
     "collapsed": false,
     "input": [
      "import this"
     ],
     "language": "python",
     "metadata": {},
     "outputs": []
    },
    {
     "cell_type": "markdown",
     "metadata": {},
     "source": [
      "What's this?\n",
      "I guess you could call it an \"Easter Egg\", a surprise put into the standard library.\n",
      "But it's also a set of rules and conventions that Python coders try to follow.\n",
      "Let's explore them."
     ]
    },
    {
     "cell_type": "markdown",
     "metadata": {},
     "source": [
      "Beautiful is better than ugly.\n",
      "---\n",
      "\n",
      "Here is a good time to point out [PEP8](http://legacy.python.org/dev/peps/pep-0008/).\n",
      "PEP stands for Python Enhancement Proposals and it is where ideas for changing Python are formalized, to eventually become part of the langauge or die out.\n",
      "If you browse the PEPs you can read about the rationale for many language features at the time they were first proposed, and see some potential new features ([PEP465](http://legacy.python.org/dev/peps/pep-0465/) is exciting for scientists!).\n",
      "Anyways, PEP8 is a little different, it contains all the style recommendations for coding in Python, such as where to put whitespace and how to name things.\n",
      "Sticking to the convention makes it easier for others to read your code (and trains your own eyes to better read others' code).\n",
      "At least skim it.\n",
      "\n",
      "For example, make your varaible and function names descriptive (there is never a good reason to call a variable `temp`), and use `lowercase_with_underscores`.\n",
      "\n",
      "(Another different sort of PEP is [PEP20](http://legacy.python.org/dev/peps/pep-0020/)...)\n",
      "\n",
      "Also code can be beautiful (see [Euclidean algorithm for greatest common divisor](http://en.wikipedia.org/wiki/Euclidean_algorithm)):"
     ]
    },
    {
     "cell_type": "code",
     "collapsed": false,
     "input": [
      "def gcd(a, b):\n",
      "    while b != 0:\n",
      "        a, b = b, a % b\n",
      "    return a"
     ],
     "language": "python",
     "metadata": {},
     "outputs": []
    },
    {
     "cell_type": "code",
     "collapsed": false,
     "input": [
      "gcd(120, 32)"
     ],
     "language": "python",
     "metadata": {},
     "outputs": []
    },
    {
     "cell_type": "markdown",
     "metadata": {},
     "source": [
      "Your code shouldn't be too beautiful that it runs foul of the next one though..."
     ]
    },
    {
     "cell_type": "markdown",
     "metadata": {},
     "source": [
      "Explicit is better than implicit\n",
      "---\n",
      "\n",
      "Well, here's a good reason to avoid `from module_name import *`.\n",
      "It's not explicit!\n",
      "\n",
      "Another example is (part of) the rationale for changes like this in Python 3:"
     ]
    },
    {
     "cell_type": "code",
     "collapsed": false,
     "input": [
      "some_dict = {'a': 2, 'b': 3}\n",
      "list(some_dict.items())"
     ],
     "language": "python",
     "metadata": {},
     "outputs": []
    },
    {
     "cell_type": "markdown",
     "metadata": {},
     "source": [
      "Well, there was a much stronger rationale for not returning a list by default--we'll see it later, but being explicit is a reason that it wasn't considered a drawback to have to use `list` when you want a list."
     ]
    },
    {
     "cell_type": "markdown",
     "metadata": {},
     "source": [
      "Simple is better than complex\n",
      "---"
     ]
    },
    {
     "cell_type": "markdown",
     "metadata": {},
     "source": [
      "Complex is better than complicated\n",
      "---"
     ]
    },
    {
     "cell_type": "markdown",
     "metadata": {},
     "source": [
      "Flat is better than nested\n",
      "---"
     ]
    },
    {
     "cell_type": "code",
     "collapsed": false,
     "input": [
      "def nested(x, y):\n",
      "    if x > 0:\n",
      "        if y > 100:\n",
      "            raise ValueError('y is too large')\n",
      "        else:\n",
      "            return y\n",
      "    else:\n",
      "        if x == 0:\n",
      "            return False\n",
      "        else:\n",
      "            raise ValueError('x cannot be negative')"
     ],
     "language": "python",
     "metadata": {},
     "outputs": []
    },
    {
     "cell_type": "code",
     "collapsed": false,
     "input": [
      "def flat(x, y):\n",
      "    if x > 0 and y > 100:\n",
      "        raise ValueError('y is too large.')\n",
      "        \n",
      "    elif x > 0:\n",
      "        return y\n",
      "    \n",
      "    elif x == 0:\n",
      "        return False\n",
      "    \n",
      "    else:\n",
      "        raise ValueError('x cannot be negative')"
     ],
     "language": "python",
     "metadata": {},
     "outputs": []
    },
    {
     "cell_type": "markdown",
     "metadata": {},
     "source": [
      "Sparse is better than dense\n",
      "---"
     ]
    },
    {
     "cell_type": "code",
     "collapsed": false,
     "input": [
      "from math import sqrt\n",
      "\n",
      "def fancy_sqrt(x):\n",
      "    if x > 0: return sqrt(x)\n",
      "    elif x == 0: return 0\n",
      "    else: return 1j * sqrt(-x)"
     ],
     "language": "python",
     "metadata": {},
     "outputs": []
    },
    {
     "cell_type": "code",
     "collapsed": false,
     "input": [
      "def fancy_sqrt(x):\n",
      "    if x > 0:\n",
      "        return sqrt(x)\n",
      "    \n",
      "    elif x == 0:\n",
      "        return 0\n",
      "    \n",
      "    else:\n",
      "        return 1j * sqrt(-x)"
     ],
     "language": "python",
     "metadata": {},
     "outputs": []
    },
    {
     "cell_type": "markdown",
     "metadata": {},
     "source": [
      "*Note: not actaully necessary; `math.sqrt` handles negative numbers fine.*"
     ]
    },
    {
     "cell_type": "markdown",
     "metadata": {},
     "source": [
      "Readability counts\n",
      "---\n",
      "\n",
      "See above.\n",
      "\n",
      "Also a reason that Python uses `and` and `or` instead of `&&` and `||`.\n",
      "\n",
      "In short, remember the principle that most of your code will be read more often by people (e.g. you) than computers."
     ]
    },
    {
     "cell_type": "markdown",
     "metadata": {},
     "source": [
      "Special cases aren't special enough to break the rules\n",
      "---\n",
      "\n",
      "This is why Python has no special type for characters (a special case of strings of length 1).\n",
      "\n",
      "Also, don't write functions that take either a list of elements *or* a single element.\n",
      "The single element is a special case; it's more consistent and not that much of a hassle to require the function caller to use a single-element list."
     ]
    },
    {
     "cell_type": "markdown",
     "metadata": {},
     "source": [
      "Although practicality beats purity\n",
      "---\n",
      "\n",
      "Sometimes you do have to break the rules ..."
     ]
    },
    {
     "cell_type": "markdown",
     "metadata": {},
     "source": [
      "Errors should never pass silently\n",
      "---"
     ]
    },
    {
     "cell_type": "code",
     "collapsed": false,
     "input": [
      "# Don't do this:\n",
      "try:\n",
      "    import yaml\n",
      "except ImportError:\n",
      "    print('yaml module not available')        "
     ],
     "language": "python",
     "metadata": {},
     "outputs": []
    },
    {
     "cell_type": "markdown",
     "metadata": {},
     "source": [
      "Why?\n",
      "Because if there's something wrong with the `yaml` module, and it raises an `ImportError`, you are going to be very confused trying to figure out why it's saying `yaml` is not available when you know you installed it."
     ]
    },
    {
     "cell_type": "markdown",
     "metadata": {},
     "source": [
      "Unless explicitly silenced\n",
      "---\n"
     ]
    },
    {
     "cell_type": "markdown",
     "metadata": {},
     "source": [
      "In the face of ambiguity, refuse the temptation to guess\n",
      "---"
     ]
    },
    {
     "cell_type": "code",
     "collapsed": false,
     "input": [
      "1 + '1'"
     ],
     "language": "python",
     "metadata": {},
     "outputs": []
    },
    {
     "cell_type": "markdown",
     "metadata": {},
     "source": [
      "There should be one-- and preferably only one --obvious way to do it\n",
      "---"
     ]
    },
    {
     "cell_type": "code",
     "collapsed": false,
     "input": [
      "some_dict = {'a': 1, 'b': 2}\n",
      "\n",
      "try:\n",
      "    c = some_dict['c']\n",
      "except KeyError:\n",
      "    c = 0\n",
      "    \n",
      "# instead we have the get method\n",
      "c = some_dict.get('c', 0)"
     ],
     "language": "python",
     "metadata": {},
     "outputs": []
    },
    {
     "cell_type": "code",
     "collapsed": false,
     "input": [
      "names = [\n",
      "    'Alice',\n",
      "    'Bob',\n",
      "    'Carol',\n",
      "]\n",
      "\n",
      "all_names = ''\n",
      "for name in names:\n",
      "    all_names += name\n",
      "    if name is not names[-1]:\n",
      "        all_names += ', '\n",
      "print(all_names)\n",
      "        \n",
      "# instead we have the join method\n",
      "print(', '.join(names))"
     ],
     "language": "python",
     "metadata": {},
     "outputs": []
    },
    {
     "cell_type": "markdown",
     "metadata": {},
     "source": [
      "Although that way may not be obvious at first unless you\u2019re Dutch\n",
      "---\n",
      "\n",
      "Reference to Guido Van Rossum, BDFL (Benevolent Dictator For Life)"
     ]
    },
    {
     "cell_type": "markdown",
     "metadata": {},
     "source": [
      "Now is better than never\n",
      "---"
     ]
    },
    {
     "cell_type": "markdown",
     "metadata": {},
     "source": [
      "Although never is often better than *right* now\n",
      "---"
     ]
    },
    {
     "cell_type": "markdown",
     "metadata": {},
     "source": [
      "If the implementation is hard to explain, it's a bad idea\n",
      "---"
     ]
    },
    {
     "cell_type": "markdown",
     "metadata": {},
     "source": [
      "If the implementation is easy to explain, it may be a good idea\n",
      "---"
     ]
    },
    {
     "cell_type": "markdown",
     "metadata": {},
     "source": [
      "Namespaces are one honking great idea -- let's do more of those!\n",
      "---\n",
      "\n",
      "A namespace is a mapping of names to values.\n",
      "\n",
      " - Dictionaries are namespaces.\n",
      " - File systems are nested namespaces.\n",
      " - The Python builtins plus all the variables and functions you've defined is a namespace.\n",
      " - What you can type after the `.` of an object (e.g. methods) is a namespace.\n",
      " - Imported modules are namespaces.\n",
      " \n",
      "Having lots of namespaces is nice because it reduces the chance of collisions.\n",
      "It lets us choose good names!"
     ]
    },
    {
     "cell_type": "code",
     "collapsed": false,
     "input": [
      "def chase():\n",
      "    from animals import cat, dog, mouse\n",
      "    \n",
      "    dog.chase(cat)\n",
      "    cat.chase(mouse)"
     ],
     "language": "python",
     "metadata": {},
     "outputs": []
    },
    {
     "cell_type": "markdown",
     "metadata": {},
     "source": [
      "`animals` is not a real module, but if it were, the `dog.chase` and `cat.chase` would be two completely different things because they're in different namespaces.\n",
      "However we can probably assume some symmetry if the module is well-designed."
     ]
    }
   ],
   "metadata": {}
  }
 ]
}