{
 "metadata": {
  "name": "",
  "signature": "sha256:2bcc3b1fb30700665589c8cd7823d03be487fdb4921fc47777370cf19e0820e7"
 },
 "nbformat": 3,
 "nbformat_minor": 0,
 "worksheets": [
  {
   "cells": [
    {
     "cell_type": "markdown",
     "metadata": {},
     "source": [
      "# SymPy teaser\n",
      "\n",
      "Here's something I did recently with sympy: figure out the Jacobian matrix of the $\\dot{\\tau}$ control law."
     ]
    },
    {
     "cell_type": "code",
     "collapsed": false,
     "input": [
      "from sympy import *\n",
      "init_printing()"
     ],
     "language": "python",
     "metadata": {},
     "outputs": [],
     "prompt_number": 1
    },
    {
     "cell_type": "markdown",
     "metadata": {},
     "source": [
      "State variables:\n",
      "- `s`: displacement\n",
      "- `v`: velocity\n",
      "- `d`: deceleration\n",
      "\n",
      "Parameters:\n",
      "- `b`: stiffness"
     ]
    },
    {
     "cell_type": "code",
     "collapsed": false,
     "input": [
      "s, v, d, b = symbols('s, v, d, b')"
     ],
     "language": "python",
     "metadata": {},
     "outputs": [],
     "prompt_number": 2
    },
    {
     "cell_type": "code",
     "collapsed": false,
     "input": [
      "state_variables = Matrix([s, v, d])\n",
      "state_variables"
     ],
     "language": "python",
     "metadata": {},
     "outputs": [
      {
       "latex": [
        "$$\\left[\\begin{matrix}s\\\\v\\\\d\\end{matrix}\\right]$$"
       ],
       "metadata": {},
       "output_type": "pyout",
       "png": "[encoded data removed]",
       "prompt_number": 3,
       "text": [
        "\u23a1s\u23a4\n",
        "\u23a2 \u23a5\n",
        "\u23a2v\u23a5\n",
        "\u23a2 \u23a5\n",
        "\u23a3d\u23a6"
       ]
      }
     ],
     "prompt_number": 3
    },
    {
     "cell_type": "code",
     "collapsed": false,
     "input": [
      "def tau_dot(s, v, d):\n",
      "    return s * d / v**2 - 1"
     ],
     "language": "python",
     "metadata": {},
     "outputs": [],
     "prompt_number": 4
    },
    {
     "cell_type": "code",
     "collapsed": false,
     "input": [
      "d_deceleration = - b * (tau_dot(s, v, d) - (-1/2))\n",
      "d_deceleration"
     ],
     "language": "python",
     "metadata": {},
     "outputs": [
      {
       "latex": [
        "$$- b \\left(\\frac{d s}{v^{2}} - 0.5\\right)$$"
       ],
       "metadata": {},
       "output_type": "pyout",
       "png": "[encoded data removed]",
       "prompt_number": 5,
       "text": [
        "   \u239bd\u22c5s      \u239e\n",
        "-b\u22c5\u239c\u2500\u2500\u2500 - 0.5\u239f\n",
        "   \u239c  2      \u239f\n",
        "   \u239d v       \u23a0"
       ]
      }
     ],
     "prompt_number": 5
    },
    {
     "cell_type": "code",
     "collapsed": false,
     "input": [
      "full_model = Matrix([\n",
      "    - v,\n",
      "    - d,\n",
      "    d_deceleration\n",
      "])\n",
      "full_model"
     ],
     "language": "python",
     "metadata": {},
     "outputs": [
      {
       "latex": [
        "$$\\left[\\begin{matrix}- v\\\\- d\\\\- b \\left(\\frac{d s}{v^{2}} - 0.5\\right)\\end{matrix}\\right]$$"
       ],
       "metadata": {},
       "output_type": "pyout",
       "png": "[encoded data removed]",
       "prompt_number": 6,
       "text": [
        "\u23a1      -v      \u23a4\n",
        "\u23a2              \u23a5\n",
        "\u23a2      -d      \u23a5\n",
        "\u23a2              \u23a5\n",
        "\u23a2   \u239bd\u22c5s      \u239e\u23a5\n",
        "\u23a2-b\u22c5\u239c\u2500\u2500\u2500 - 0.5\u239f\u23a5\n",
        "\u23a2   \u239c  2      \u239f\u23a5\n",
        "\u23a3   \u239d v       \u23a0\u23a6"
       ]
      }
     ],
     "prompt_number": 6
    },
    {
     "cell_type": "code",
     "collapsed": false,
     "input": [
      "full_model.jacobian(state_variables)"
     ],
     "language": "python",
     "metadata": {},
     "outputs": [
      {
       "latex": [
        "$$\\left[\\begin{matrix}0 & -1 & 0\\\\0 & 0 & -1\\\\- \\frac{b d}{v^{2}} & \\frac{2 b}{v^{3}} d s & - \\frac{b s}{v^{2}}\\end{matrix}\\right]$$"
       ],
       "metadata": {},
       "output_type": "pyout",
       "png": "[encoded data removed]",
       "prompt_number": 7,
       "text": [
        "\u23a1  0      -1       0  \u23a4\n",
        "\u23a2                     \u23a5\n",
        "\u23a2  0       0      -1  \u23a5\n",
        "\u23a2                     \u23a5\n",
        "\u23a2-b\u22c5d   2\u22c5b\u22c5d\u22c5s  -b\u22c5s \u23a5\n",
        "\u23a2\u2500\u2500\u2500\u2500\u2500  \u2500\u2500\u2500\u2500\u2500\u2500\u2500  \u2500\u2500\u2500\u2500\u2500\u23a5\n",
        "\u23a2   2       3       2 \u23a5\n",
        "\u23a3  v       v       v  \u23a6"
       ]
      }
     ],
     "prompt_number": 7
    }
   ],
   "metadata": {}
  }
 ]
}