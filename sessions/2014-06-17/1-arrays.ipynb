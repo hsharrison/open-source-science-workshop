{
 "metadata": {
  "name": "",
  "signature": "sha256:ea7a3cbe920bfe0527fa8d6978697559c567b2ab9227a04c61ce1053b522b2a7"
 },
 "nbformat": 3,
 "nbformat_minor": 0,
 "worksheets": [
  {
   "cells": [
    {
     "cell_type": "markdown",
     "metadata": {},
     "source": [
      "The Scientific Python Ecosystem\n",
      "===\n",
      "\n",
      " - [IPython](http://ipython.org/):\n",
      "   a must-have whether or not you're doing scientific programming.\n",
      " - [NumPy](http://numpy.scipy.org/):\n",
      "  provides the numerical array, the \"standard interface\" of scientific Python.\n",
      " - [SciPy](http://docs.scipy.org/doc/reference/):\n",
      "   a collection of numerical algorithms and domain-specific modules, from statistics to signal processing to ODE integration.\n",
      " - [matplotlib](http://matplotlib.org/):\n",
      "   plotting functions that mimic Matlab's interface and integrate well with IPython.\n",
      " - [pandas](http://pandas.pydata.org/):\n",
      "   provides the `DataFrame`, the emerging second standard interface of scientific Python.\n",
      " - [SymPy](http://sympy.org/):\n",
      "   symbolic Python.\n",
      " - [Statsmodels](http://statsmodels.sourceforge.net/):\n",
      "   because some statistics functions and models are missing from SciPy.\n",
      " - [scikit-learn](http://scikit-learn.org/stable/):\n",
      "   a popular machine-learning library.\n",
      " - [rpy2](http://rpy.sourceforge.net/):\n",
      "   call R from Python, if your test or model is not in SciPy, statsmodels, or scikit-learn.\n",
      " - [nose](https://nose.readthedocs.org/en/latest/):\n",
      "   an easy-to-use Python testing framework.\n",
      "   \n",
      "When you ran `conda install -n python3 --file conda-packages.txt` back on the first week,\n",
      "all these packages were installed in your `python3` environment,\n",
      "with two exceptions:\n",
      "\n",
      " - I forgot `nose`.\n",
      "   It's on `conda` so `conda install -n python3 nose` will get it.\n",
      " - `rpy2` is not on `conda` for Python 3.\n",
      "   If `pip` can't install it, there are Windows binaries [here](http://www.lfd.uci.edu/~gohlke/pythonlibs/#rpy2) although it might be tricky to get working (need to make sure you're using the same R version referenced on that page).\n",
      "   On OSX it should compile although there may be some dependencies you need to install.\n",
      "   Check the documentation and search the [issues page](https://bitbucket.org/lgautier/rpy2/issues?status=new&status=open) if you have trouble.\n",
      "   There are probably precompiled OSX binaries available but I was not able to find any with a quick search.\n",
      "   (really everyone should use Linux and then this would all just work)\n",
      "   \n",
      "   \n",
      "###Credit where credit is due\n",
      "\n",
      "Again, I am stealing someone else's tutorial, this time thanks are due to Bryan Van de Ven of Continuum, at the PyData conference (2013 I think).\n",
      "I will put the video below.\n",
      "Slides are available [here](http://www.slideshare.net/PyData/introduction-to-numpy)."
     ]
    },
    {
     "cell_type": "code",
     "collapsed": false,
     "input": [
      "from IPython.display import VimeoVideo\n",
      "\n",
      "VimeoVideo(63253083)"
     ],
     "language": "python",
     "metadata": {},
     "outputs": []
    },
    {
     "cell_type": "markdown",
     "metadata": {},
     "source": [
      "# Array programming\n",
      "\n",
      "Array programming is a computing technique that generalizes scalar operations to apply transparently to vectors, matrices, and high-dimensional arrays.\n",
      "\n",
      "The fundamental data type for array programming in Python is Numpy's `array`."
     ]
    },
    {
     "cell_type": "code",
     "collapsed": false,
     "input": [
      "import random\n",
      "from math import sqrt\n",
      "\n",
      "x_position = [random.random() for _ in range(100000)]\n",
      "y_position = [random.random() for _ in range(100000)]"
     ],
     "language": "python",
     "metadata": {},
     "outputs": []
    },
    {
     "cell_type": "code",
     "collapsed": false,
     "input": [
      "%%time\n",
      "distance = [sqrt(x**2 + y**2) for x, y in zip(x_position, y_position)]"
     ],
     "language": "python",
     "metadata": {},
     "outputs": []
    },
    {
     "cell_type": "code",
     "collapsed": false,
     "input": [
      "import numpy as np  # Conventional.\n",
      "\n",
      "x_array = np.array(x_position)\n",
      "y_array = np.array(y_position)"
     ],
     "language": "python",
     "metadata": {},
     "outputs": []
    },
    {
     "cell_type": "code",
     "collapsed": false,
     "input": [
      "%%time\n",
      "distance = np.sqrt(x_array**2 + y_array**2)"
     ],
     "language": "python",
     "metadata": {},
     "outputs": []
    },
    {
     "cell_type": "markdown",
     "metadata": {},
     "source": [
      "Array programming has two advantages:\n",
      "\n",
      " 1. It allows us to specify algorithms succintly in a form that more closely corresponds to the mathematical notation.\n",
      "    In other words, it meets our preference for *high-level* programming.\n",
      " 2. It allows for under-the-hood optimization to speed up computations.\n",
      "\n",
      "I'll now remind you of the rule of thumb: *don't program something that someone else has already coded.*\n",
      "The distance function is an example of this, it's called the *vector norm* in linear algebra and already exists in NumPy.\n",
      "First we have to combine our two 1D arrays into a 2D array."
     ]
    },
    {
     "cell_type": "code",
     "collapsed": false,
     "input": [
      "position = np.transpose([x_array, y_array])\n",
      "position.shape"
     ],
     "language": "python",
     "metadata": {},
     "outputs": []
    },
    {
     "cell_type": "code",
     "collapsed": false,
     "input": [
      "%%time\n",
      "distance = np.linalg.norm(position, axis=1)"
     ],
     "language": "python",
     "metadata": {},
     "outputs": []
    },
    {
     "cell_type": "code",
     "collapsed": false,
     "input": [
      "distance.shape"
     ],
     "language": "python",
     "metadata": {},
     "outputs": []
    },
    {
     "cell_type": "markdown",
     "metadata": {},
     "source": [
      "In any case, the defining feature of array programming is operating on entire arrays at a time, without using loops or something like `map`."
     ]
    },
    {
     "cell_type": "code",
     "collapsed": false,
     "input": [
      "x = x_array[:5]\n",
      "print(x)\n",
      "print(10 * x)"
     ],
     "language": "python",
     "metadata": {},
     "outputs": []
    },
    {
     "cell_type": "markdown",
     "metadata": {},
     "source": [
      "## `ndarray`\n",
      "\n",
      "The `array` (an alias for `ndarray`) is a homogeneous, multidimensional data type.\n",
      "It consists of a table of elements, all of the same type, indexed by a tuple of positive integers.\n",
      "The dimensions are sometimes referred to as *axes*, and the number axes is the array's *rank*.\n",
      "\n",
      "`numpy` is a C extension library, which is to say it is very efficient.\n",
      "The entire scientific Python ecosystem is built on top of the `array` so even if you aren't using arrays directly, you're probably using them indirectly."
     ]
    },
    {
     "cell_type": "code",
     "collapsed": false,
     "input": [
      "np.array([1, 2, 3, 4])"
     ],
     "language": "python",
     "metadata": {},
     "outputs": []
    },
    {
     "cell_type": "markdown",
     "metadata": {},
     "source": [
      "Note that we pass the constructor a list of elements rather than the elements directly.\n",
      "\n",
      "You should think of multi-dimensional arrays as (and indeed, create them with) lists of lists."
     ]
    },
    {
     "cell_type": "code",
     "collapsed": false,
     "input": [
      "square = np.array([[1, 2], [3, 4]])\n",
      "print(square)"
     ],
     "language": "python",
     "metadata": {},
     "outputs": []
    },
    {
     "cell_type": "markdown",
     "metadata": {},
     "source": [
      "The most important attributes of an `array` are:"
     ]
    },
    {
     "cell_type": "code",
     "collapsed": false,
     "input": [
      "attributes = (\n",
      "    'ndim',\n",
      "    'shape',\n",
      "    'size',\n",
      "    'dtype',\n",
      ")\n",
      "\n",
      "for attribute in attributes:\n",
      "    print('square.{} = {}'.format(\n",
      "        attribute, getattr(square, attribute)))"
     ],
     "language": "python",
     "metadata": {},
     "outputs": []
    },
    {
     "cell_type": "markdown",
     "metadata": {},
     "source": [
      "`dtype` is inferred automatically:"
     ]
    },
    {
     "cell_type": "code",
     "collapsed": false,
     "input": [
      "square = np.array([[1, 2], [3, 4.5]])\n",
      "print(square)\n",
      "print('dtype:', square.dtype)"
     ],
     "language": "python",
     "metadata": {},
     "outputs": []
    },
    {
     "cell_type": "markdown",
     "metadata": {},
     "source": [
      "However, you can't change a `dtype` later, so if you are starting with integers but don't want to restrict yourself from having floats later, either set the `dtype` explicitly, or use a decimal point:"
     ]
    },
    {
     "cell_type": "code",
     "collapsed": false,
     "input": [
      "square = np.array([[1., 2.], [3., 4.]])\n",
      "print(square)\n",
      "print('dtype:', square.dtype)"
     ],
     "language": "python",
     "metadata": {},
     "outputs": []
    },
    {
     "cell_type": "markdown",
     "metadata": {},
     "source": [
      "We can index into arrays using standard Python slice notation:"
     ]
    },
    {
     "cell_type": "code",
     "collapsed": false,
     "input": [
      "rectangle = np.arange(15).reshape((3, 5))\n",
      "print(rectangle)"
     ],
     "language": "python",
     "metadata": {},
     "outputs": []
    },
    {
     "cell_type": "code",
     "collapsed": false,
     "input": [
      "rectangle[0]"
     ],
     "language": "python",
     "metadata": {},
     "outputs": []
    },
    {
     "cell_type": "code",
     "collapsed": false,
     "input": [
      "rectangle[0, :]"
     ],
     "language": "python",
     "metadata": {},
     "outputs": []
    },
    {
     "cell_type": "code",
     "collapsed": false,
     "input": [
      "rectangle[:, :]"
     ],
     "language": "python",
     "metadata": {},
     "outputs": []
    },
    {
     "cell_type": "code",
     "collapsed": false,
     "input": [
      "rectangle[:, 0]"
     ],
     "language": "python",
     "metadata": {},
     "outputs": []
    },
    {
     "cell_type": "code",
     "collapsed": false,
     "input": [
      "rectangle[1:, :-1]"
     ],
     "language": "python",
     "metadata": {},
     "outputs": []
    },
    {
     "cell_type": "code",
     "collapsed": false,
     "input": [
      "rectangle[:, ::2]  # Every other column (implicit start and stop)."
     ],
     "language": "python",
     "metadata": {},
     "outputs": []
    },
    {
     "cell_type": "code",
     "collapsed": false,
     "input": [
      "rectangle[(0, 2), :]"
     ],
     "language": "python",
     "metadata": {},
     "outputs": []
    },
    {
     "cell_type": "markdown",
     "metadata": {},
     "source": [
      "**But Henry, isn't it not very Pythonic to use integers?**\n",
      "\n",
      "Yes!\n",
      "Down the line, we'll use `pandas` to create indices with semantic meaning (e.g. timestamps).\n",
      "Patience..."
     ]
    },
    {
     "cell_type": "markdown",
     "metadata": {},
     "source": [
      "This should be familiar if you have worked with Matlab or R.\n",
      "There is one key difference, though (from Matlab at least--not sure about R):\n",
      "in Matlab there isn't really any such thing as 1D arrays.\n",
      "All arrays have at least two dimensions in Matlab, even if one of them may only be of length 1.\n",
      "In Numpy there is a difference between a 1D array and a 2D array with one axis having length 1."
     ]
    },
    {
     "cell_type": "code",
     "collapsed": false,
     "input": [
      "vector = np.array([1, 2, 3])\n",
      "print(vector)"
     ],
     "language": "python",
     "metadata": {},
     "outputs": []
    },
    {
     "cell_type": "code",
     "collapsed": false,
     "input": [
      "vector.shape"
     ],
     "language": "python",
     "metadata": {},
     "outputs": []
    },
    {
     "cell_type": "code",
     "collapsed": false,
     "input": [
      "vector.ndim"
     ],
     "language": "python",
     "metadata": {},
     "outputs": []
    },
    {
     "cell_type": "code",
     "collapsed": false,
     "input": [
      "print(vector.transpose())"
     ],
     "language": "python",
     "metadata": {},
     "outputs": []
    },
    {
     "cell_type": "code",
     "collapsed": false,
     "input": [
      "vector == vector.transpose()"
     ],
     "language": "python",
     "metadata": {},
     "outputs": []
    },
    {
     "cell_type": "code",
     "collapsed": false,
     "input": [
      "np.all(vector == vector.transpose())"
     ],
     "language": "python",
     "metadata": {},
     "outputs": []
    },
    {
     "cell_type": "code",
     "collapsed": false,
     "input": [
      "(vector == vector.transpose()).all()"
     ],
     "language": "python",
     "metadata": {},
     "outputs": []
    },
    {
     "cell_type": "code",
     "collapsed": false,
     "input": [
      "vector = np.array([[1, 2, 3]])\n",
      "print(vector)"
     ],
     "language": "python",
     "metadata": {},
     "outputs": []
    },
    {
     "cell_type": "code",
     "collapsed": false,
     "input": [
      "vector.shape"
     ],
     "language": "python",
     "metadata": {},
     "outputs": []
    },
    {
     "cell_type": "code",
     "collapsed": false,
     "input": [
      "vector.ndim"
     ],
     "language": "python",
     "metadata": {},
     "outputs": []
    },
    {
     "cell_type": "code",
     "collapsed": false,
     "input": [
      "vector.transpose()"
     ],
     "language": "python",
     "metadata": {},
     "outputs": []
    },
    {
     "cell_type": "code",
     "collapsed": false,
     "input": [
      "np.all(vector == vector.transpose())"
     ],
     "language": "python",
     "metadata": {},
     "outputs": []
    },
    {
     "cell_type": "markdown",
     "metadata": {},
     "source": [
      "`len` always returns the size of the first dimension; just like you would expect with a list of lists."
     ]
    },
    {
     "cell_type": "code",
     "collapsed": false,
     "input": [
      "len(rectangle)"
     ],
     "language": "python",
     "metadata": {},
     "outputs": []
    },
    {
     "cell_type": "code",
     "collapsed": false,
     "input": [
      "len([[1, 2, 3], [4, 5, 6], [7, 8, 9]])"
     ],
     "language": "python",
     "metadata": {},
     "outputs": []
    },
    {
     "cell_type": "markdown",
     "metadata": {},
     "source": [
      "## Creating `array`s"
     ]
    },
    {
     "cell_type": "code",
     "collapsed": false,
     "input": [
      "np.arange(10)"
     ],
     "language": "python",
     "metadata": {},
     "outputs": []
    },
    {
     "cell_type": "code",
     "collapsed": false,
     "input": [
      "np.arange(3., 10, 2)"
     ],
     "language": "python",
     "metadata": {},
     "outputs": []
    },
    {
     "cell_type": "code",
     "collapsed": false,
     "input": [
      "np.arange('2014-06-01', '2014-06-17', dtype='datetime64')"
     ],
     "language": "python",
     "metadata": {},
     "outputs": []
    },
    {
     "cell_type": "code",
     "collapsed": false,
     "input": [
      "np.ones(10)"
     ],
     "language": "python",
     "metadata": {},
     "outputs": []
    },
    {
     "cell_type": "code",
     "collapsed": false,
     "input": [
      "np.ones((10, 2))"
     ],
     "language": "python",
     "metadata": {},
     "outputs": []
    },
    {
     "cell_type": "code",
     "collapsed": false,
     "input": [
      "np.ones((3, 3, 3))"
     ],
     "language": "python",
     "metadata": {},
     "outputs": []
    },
    {
     "cell_type": "code",
     "collapsed": false,
     "input": [
      "np.zeros((2, 7))"
     ],
     "language": "python",
     "metadata": {},
     "outputs": []
    },
    {
     "cell_type": "code",
     "collapsed": false,
     "input": [
      "np.empty((3, 3))"
     ],
     "language": "python",
     "metadata": {},
     "outputs": []
    },
    {
     "cell_type": "code",
     "collapsed": false,
     "input": [
      "np.linspace(0, 10, 5)"
     ],
     "language": "python",
     "metadata": {},
     "outputs": []
    },
    {
     "cell_type": "code",
     "collapsed": false,
     "input": [
      "np.eye(3)"
     ],
     "language": "python",
     "metadata": {},
     "outputs": []
    },
    {
     "cell_type": "code",
     "collapsed": false,
     "input": [
      "np.diag([1, 2, 3, 4])"
     ],
     "language": "python",
     "metadata": {},
     "outputs": []
    },
    {
     "cell_type": "markdown",
     "metadata": {},
     "source": [
      "## `array` views\n",
      "\n",
      "When we index an `array`, is this expensive?\n",
      "Are we copying values?\n",
      "\n",
      "Whenever possible, `numpy` gives us *views* into the array."
     ]
    },
    {
     "cell_type": "code",
     "collapsed": false,
     "input": [
      "rectangle"
     ],
     "language": "python",
     "metadata": {},
     "outputs": []
    },
    {
     "cell_type": "code",
     "collapsed": false,
     "input": [
      "square = rectangle[:, :3]\n",
      "print(square)"
     ],
     "language": "python",
     "metadata": {},
     "outputs": []
    },
    {
     "cell_type": "code",
     "collapsed": false,
     "input": [
      "square[0, 0] = 100\n",
      "print(square)"
     ],
     "language": "python",
     "metadata": {},
     "outputs": []
    },
    {
     "cell_type": "code",
     "collapsed": false,
     "input": [
      "print(rectangle)"
     ],
     "language": "python",
     "metadata": {},
     "outputs": []
    },
    {
     "cell_type": "markdown",
     "metadata": {},
     "source": [
      "You can double-check if you have a view by checking the `ndarray.flags.owndata` attribute:"
     ]
    },
    {
     "cell_type": "code",
     "collapsed": false,
     "input": [
      "square.flags.owndata"
     ],
     "language": "python",
     "metadata": {},
     "outputs": []
    },
    {
     "cell_type": "markdown",
     "metadata": {},
     "source": [
      "Views are nice because minimizing copying speeds up our algorithms.\n",
      "This means there is very little incremental cost to creating new names for different selections into an array.\n",
      "\n",
      "In some languages, the best way to speed up numerical code is to minimize assignment operations.\n",
      "This leads to confusing code.\n",
      "With NumPy, in Python we can create whatever sub-arrays we need to make our arrays readable."
     ]
    },
    {
     "cell_type": "markdown",
     "metadata": {},
     "source": [
      "# Other `numpy` subpackages"
     ]
    },
    {
     "cell_type": "code",
     "collapsed": false,
     "input": [
      "dir(np.fft)"
     ],
     "language": "python",
     "metadata": {},
     "outputs": []
    },
    {
     "cell_type": "code",
     "collapsed": false,
     "input": [
      "dir(np.polynomial)"
     ],
     "language": "python",
     "metadata": {},
     "outputs": []
    },
    {
     "cell_type": "code",
     "collapsed": false,
     "input": [
      "dir(np.math)"
     ],
     "language": "python",
     "metadata": {},
     "outputs": []
    },
    {
     "cell_type": "code",
     "collapsed": false,
     "input": [
      "dir(np.linalg)"
     ],
     "language": "python",
     "metadata": {},
     "outputs": []
    },
    {
     "cell_type": "code",
     "collapsed": false,
     "input": [
      "dir(np.random)"
     ],
     "language": "python",
     "metadata": {},
     "outputs": []
    }
   ],
   "metadata": {}
  }
 ]
}