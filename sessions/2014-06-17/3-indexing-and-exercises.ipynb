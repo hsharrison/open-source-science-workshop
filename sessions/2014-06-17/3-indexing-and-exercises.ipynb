{
 "metadata": {
  "name": "",
  "signature": "sha256:95ce4a7fb73f30605969020362e182b9ed79ec454504c97badcd3569757e734f"
 },
 "nbformat": 3,
 "nbformat_minor": 0,
 "worksheets": [
  {
   "cells": [
    {
     "cell_type": "markdown",
     "metadata": {},
     "source": [
      "Fancy indexing\n",
      "===\n",
      "\n",
      "NumPy arrays can be used to index into other arrays."
     ]
    },
    {
     "cell_type": "code",
     "collapsed": false,
     "input": [
      "import numpy as np"
     ],
     "language": "python",
     "metadata": {},
     "outputs": []
    },
    {
     "cell_type": "code",
     "collapsed": false,
     "input": [
      "rectangle = np.arange(15).reshape((3, 5))\n",
      "print(rectangle)"
     ],
     "language": "python",
     "metadata": {},
     "outputs": []
    },
    {
     "cell_type": "code",
     "collapsed": false,
     "input": [
      "x_indices = np.array([[0, 1],\n",
      "                      [1, 2]])\n",
      "y_indices = np.array([[2, 1],\n",
      "                      [4, 4]])\n",
      "rectangle[x_indices, y_indices]"
     ],
     "language": "python",
     "metadata": {},
     "outputs": []
    },
    {
     "cell_type": "code",
     "collapsed": false,
     "input": [
      "rectangle[0, 2]"
     ],
     "language": "python",
     "metadata": {},
     "outputs": []
    },
    {
     "cell_type": "code",
     "collapsed": false,
     "input": [
      "rectangle[1, 1]"
     ],
     "language": "python",
     "metadata": {},
     "outputs": []
    },
    {
     "cell_type": "code",
     "collapsed": false,
     "input": [
      "rectangle[1, 4]"
     ],
     "language": "python",
     "metadata": {},
     "outputs": []
    },
    {
     "cell_type": "code",
     "collapsed": false,
     "input": [
      "rectangle[2, 4]"
     ],
     "language": "python",
     "metadata": {},
     "outputs": []
    },
    {
     "cell_type": "markdown",
     "metadata": {},
     "source": [
      "### Boolean indexing\n",
      "\n",
      "Boolean arrays can be used as a *mask* to index into other arrays."
     ]
    },
    {
     "cell_type": "code",
     "collapsed": false,
     "input": [
      "evens = rectangle % 2 == 0\n",
      "print(evens)"
     ],
     "language": "python",
     "metadata": {},
     "outputs": []
    },
    {
     "cell_type": "code",
     "collapsed": false,
     "input": [
      "rectangle[evens]"
     ],
     "language": "python",
     "metadata": {},
     "outputs": []
    },
    {
     "cell_type": "code",
     "collapsed": false,
     "input": [
      "rectangle[rectangle % 3 == 0]"
     ],
     "language": "python",
     "metadata": {},
     "outputs": []
    },
    {
     "cell_type": "markdown",
     "metadata": {},
     "source": [
      "Note that with boolean indexing, you always get a flat array, because NumPy can't handle arrays that aren't rectangular."
     ]
    },
    {
     "cell_type": "markdown",
     "metadata": {},
     "source": [
      "# Exercises"
     ]
    },
    {
     "cell_type": "markdown",
     "metadata": {},
     "source": [
      "Create a vector of size 10 with all zeros except for the fifth element, which should be 1."
     ]
    },
    {
     "cell_type": "code",
     "collapsed": false,
     "input": [],
     "language": "python",
     "metadata": {},
     "outputs": []
    },
    {
     "cell_type": "markdown",
     "metadata": {},
     "source": [
      "Create a 3x3 matrix with values from 0 to 8."
     ]
    },
    {
     "cell_type": "code",
     "collapsed": false,
     "input": [],
     "language": "python",
     "metadata": {},
     "outputs": []
    },
    {
     "cell_type": "markdown",
     "metadata": {},
     "source": [
      "Create an 8x8 matrix and fill it with a checkerboard pattern: alternating 1s and 0s."
     ]
    },
    {
     "cell_type": "code",
     "collapsed": false,
     "input": [],
     "language": "python",
     "metadata": {},
     "outputs": []
    },
    {
     "cell_type": "markdown",
     "metadata": {},
     "source": [
      "Do the same, this time use the function `np.tile`."
     ]
    },
    {
     "cell_type": "code",
     "collapsed": false,
     "input": [],
     "language": "python",
     "metadata": {},
     "outputs": []
    },
    {
     "cell_type": "markdown",
     "metadata": {},
     "source": [
      "Standardize this matrix:"
     ]
    },
    {
     "cell_type": "code",
     "collapsed": false,
     "input": [
      "z = 3*np.random.random((5,5))\n",
      "\n",
      "...\n",
      "\n",
      "assert z.mean() == 0 and z.std() == 1"
     ],
     "language": "python",
     "metadata": {},
     "outputs": []
    },
    {
     "cell_type": "markdown",
     "metadata": {},
     "source": [
      "Matrix multiply a 5x3 matrix by a 3x2 matrix."
     ]
    },
    {
     "cell_type": "code",
     "collapsed": false,
     "input": [],
     "language": "python",
     "metadata": {},
     "outputs": []
    },
    {
     "cell_type": "markdown",
     "metadata": {},
     "source": [
      "Create a random vector of size 1000 and find the mean."
     ]
    },
    {
     "cell_type": "code",
     "collapsed": false,
     "input": [],
     "language": "python",
     "metadata": {},
     "outputs": []
    },
    {
     "cell_type": "markdown",
     "metadata": {},
     "source": [
      "Create a random vector of size 100 and replace the maximum value with 0."
     ]
    },
    {
     "cell_type": "code",
     "collapsed": false,
     "input": [],
     "language": "python",
     "metadata": {},
     "outputs": []
    },
    {
     "cell_type": "markdown",
     "metadata": {},
     "source": [
      "Create arrays `x` and `y`, both 10x10, such that `x` contains at every point the x index at that point, and `y` contains at every point the y index.\n",
      "\n",
      "e.g. for a 2x2 example:\n",
      "````python\n",
      "x = [[0, 1],\n",
      "     [0, 1]]\n",
      "\n",
      "y = [[0, 0],\n",
      "     [1, 1]]\n",
      "````\n",
      "\n",
      "Hint: look up `np.meshgrid`."
     ]
    },
    {
     "cell_type": "markdown",
     "metadata": {},
     "source": [
      "Find indices of non-zero elements of `a` (hint: `np.nonzero`)."
     ]
    },
    {
     "cell_type": "code",
     "collapsed": false,
     "input": [
      "a = np.array([1, 2, 0, 0, 4, 0])\n",
      "..."
     ],
     "language": "python",
     "metadata": {},
     "outputs": []
    },
    {
     "cell_type": "markdown",
     "metadata": {},
     "source": [
      "Consider the vector `[1, 2, 3, 4, 5]`.\n",
      "Build a new vector with 3 zeros interleaved between each value."
     ]
    },
    {
     "cell_type": "code",
     "collapsed": false,
     "input": [],
     "language": "python",
     "metadata": {},
     "outputs": []
    }
   ],
   "metadata": {}
  }
 ]
}