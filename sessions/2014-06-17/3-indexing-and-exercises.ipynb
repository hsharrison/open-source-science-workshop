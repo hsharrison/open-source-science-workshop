{
 "metadata": {
  "name": "",
  "signature": "sha256:c40d5490277a0ac09f76466c2cd3d2d44296448b692a31c1f00d69e853a11094"
 },
 "nbformat": 3,
 "nbformat_minor": 0,
 "worksheets": [
  {
   "cells": [
    {
     "cell_type": "markdown",
     "metadata": {},
     "source": [
      "Fancy indexing\n",
      "===\n",
      "\n",
      "NumPy arrays can be used to index into other arrays."
     ]
    },
    {
     "cell_type": "code",
     "collapsed": false,
     "input": [
      "import numpy as np"
     ],
     "language": "python",
     "metadata": {},
     "outputs": []
    },
    {
     "cell_type": "code",
     "collapsed": false,
     "input": [
      "rectangle = np.arange(15).reshape((3, 5))\n",
      "print(rectangle)"
     ],
     "language": "python",
     "metadata": {},
     "outputs": []
    },
    {
     "cell_type": "code",
     "collapsed": false,
     "input": [
      "x_indices = np.array([[0, 1],\n",
      "                      [1, 2]])\n",
      "y_indices = np.array([[2, 1],\n",
      "                      [4, 4]])\n",
      "rectangle[x_indices, y_indices]"
     ],
     "language": "python",
     "metadata": {},
     "outputs": []
    },
    {
     "cell_type": "code",
     "collapsed": false,
     "input": [
      "rectangle[0, 2]"
     ],
     "language": "python",
     "metadata": {},
     "outputs": []
    },
    {
     "cell_type": "code",
     "collapsed": false,
     "input": [
      "rectangle[1, 1]"
     ],
     "language": "python",
     "metadata": {},
     "outputs": []
    },
    {
     "cell_type": "code",
     "collapsed": false,
     "input": [
      "rectangle[1, 4]"
     ],
     "language": "python",
     "metadata": {},
     "outputs": []
    },
    {
     "cell_type": "code",
     "collapsed": false,
     "input": [
      "rectangle[2, 4]"
     ],
     "language": "python",
     "metadata": {},
     "outputs": []
    },
    {
     "cell_type": "markdown",
     "metadata": {},
     "source": [
      "### Boolean indexing\n",
      "\n",
      "Boolean arrays can be used as a *mask* to index into other arrays."
     ]
    },
    {
     "cell_type": "code",
     "collapsed": false,
     "input": [
      "evens = rectangle % 2 == 0\n",
      "print(evens)"
     ],
     "language": "python",
     "metadata": {},
     "outputs": []
    },
    {
     "cell_type": "code",
     "collapsed": false,
     "input": [
      "rectangle[evens]"
     ],
     "language": "python",
     "metadata": {},
     "outputs": []
    },
    {
     "cell_type": "code",
     "collapsed": false,
     "input": [
      "rectangle[rectangle % 3 == 0]"
     ],
     "language": "python",
     "metadata": {},
     "outputs": []
    },
    {
     "cell_type": "markdown",
     "metadata": {},
     "source": [
      "Note that with boolean indexing, you always get a flat array, because NumPy can't handle arrays that aren't rectangular."
     ]
    },
    {
     "cell_type": "markdown",
     "metadata": {},
     "source": [
      "# Exercises"
     ]
    },
    {
     "cell_type": "markdown",
     "metadata": {},
     "source": [
      "Create a vector of size 10 with all zeros except for the fifth element, which should be 1."
     ]
    },
    {
     "cell_type": "code",
     "collapsed": false,
     "input": [],
     "language": "python",
     "metadata": {},
     "outputs": []
    },
    {
     "cell_type": "markdown",
     "metadata": {},
     "source": [
      "Create a 3x3 matrix with values from 0 to 8."
     ]
    },
    {
     "cell_type": "code",
     "collapsed": false,
     "input": [],
     "language": "python",
     "metadata": {},
     "outputs": []
    },
    {
     "cell_type": "markdown",
     "metadata": {},
     "source": [
      "Create an 8x8 matrix and fill it with a checkerboard pattern: alternating 1s and 0s."
     ]
    },
    {
     "cell_type": "code",
     "collapsed": false,
     "input": [],
     "language": "python",
     "metadata": {},
     "outputs": []
    },
    {
     "cell_type": "markdown",
     "metadata": {},
     "source": [
      "Do the same, this time use the function `np.tile`."
     ]
    },
    {
     "cell_type": "code",
     "collapsed": false,
     "input": [],
     "language": "python",
     "metadata": {},
     "outputs": []
    },
    {
     "cell_type": "markdown",
     "metadata": {},
     "source": [
      "Standardize this matrix:"
     ]
    },
    {
     "cell_type": "code",
     "collapsed": false,
     "input": [
      "z = 3*np.random.random((5,5))\n",
      "\n",
      "...\n",
      "\n",
      "assert z.mean() == 0 and z.std() == 1"
     ],
     "language": "python",
     "metadata": {},
     "outputs": []
    },
    {
     "cell_type": "markdown",
     "metadata": {},
     "source": [
      "Matrix multiply a 5x3 matrix by a 3x2 matrix."
     ]
    },
    {
     "cell_type": "code",
     "collapsed": false,
     "input": [],
     "language": "python",
     "metadata": {},
     "outputs": []
    },
    {
     "cell_type": "markdown",
     "metadata": {},
     "source": [
      "Create a random vector of size 1000 and find the mean."
     ]
    },
    {
     "cell_type": "code",
     "collapsed": false,
     "input": [],
     "language": "python",
     "metadata": {},
     "outputs": []
    },
    {
     "cell_type": "markdown",
     "metadata": {},
     "source": [
      "Create a random vector of size 100 and replace the maximum value with 0."
     ]
    },
    {
     "cell_type": "code",
     "collapsed": false,
     "input": [],
     "language": "python",
     "metadata": {},
     "outputs": []
    },
    {
     "cell_type": "markdown",
     "metadata": {},
     "source": [
      "Create arrays `x` and `y`, both 10x10, such that `x` contains in each row and `y` in each column `0:1:0.1`.\n",
      "\n",
      "e.g. for a 3x3 example:\n",
      "````python\n",
      "x = [[0, 0.5, 1],\n",
      "     [0, 0.5, 1],\n",
      "     [0, 0.5, 1]]\n",
      "\n",
      "y = [[0  , 0  , 0  ],\n",
      "     [0.5, 0.5, 0.5],\n",
      "     [1  , 1  , 1  ]]\n",
      "````\n",
      "\n",
      "Hint: look up `np.meshgrid`."
     ]
    },
    {
     "cell_type": "markdown",
     "metadata": {},
     "source": [
      "Find indices of non-zero elements of `a` (hint: `np.nonzero`)."
     ]
    },
    {
     "cell_type": "code",
     "collapsed": false,
     "input": [
      "a = np.array([1, 2, 0, 0, 4, 0])\n",
      "..."
     ],
     "language": "python",
     "metadata": {},
     "outputs": []
    },
    {
     "cell_type": "markdown",
     "metadata": {},
     "source": [
      "Consider the vector `[1, 2, 3, 4, 5]`.\n",
      "Build a new vector with 3 zeros interleaved between each value."
     ]
    },
    {
     "cell_type": "code",
     "collapsed": false,
     "input": [],
     "language": "python",
     "metadata": {},
     "outputs": []
    },
    {
     "cell_type": "markdown",
     "metadata": {},
     "source": [
      "Construct a 5x5 array in which each cell contains the distance of that cell from the center of the array.\n",
      "Broadcasting will be useful here.\n",
      "For example, a 3x3 version of this would look like:\n",
      "\n",
      "````\n",
      "[[sqrt(2)/2, 1  , sqrt(2)/2],\n",
      " [1        , 0  , 1        ],\n",
      " [sqrt(2)/2, 1  , sqrt(2)/2]]\n",
      "````"
     ]
    },
    {
     "cell_type": "code",
     "collapsed": false,
     "input": [],
     "language": "python",
     "metadata": {},
     "outputs": []
    },
    {
     "cell_type": "markdown",
     "metadata": {},
     "source": [
      "## Other useful functions\n",
      "\n",
      " - `np.loadtxt` and `np.savetxt`\n",
      " - `np.split`\n",
      " - `np.asarray`: use this if you're not sure if the thing you're getting is an array.\n",
      "   If you just call `np.array` to make sure, you'll probably end up copying it.\n",
      "   `np.asarray` will avoid the copy if it is already an array.\n",
      " - `np.argwhere`\n",
      " - `np.indices`\n",
      " - `np.unwrap`\n",
      " - `np.trim`"
     ]
    }
   ],
   "metadata": {}
  }
 ]
}