{
 "metadata": {
  "name": "",
  "signature": "sha256:662fcb42285c0ac0166eff96f7b6f14aa2abf2dcf4216f418dcb64fc89ef8558"
 },
 "nbformat": 3,
 "nbformat_minor": 0,
 "worksheets": [
  {
   "cells": [
    {
     "cell_type": "markdown",
     "metadata": {},
     "source": [
      "Universal functions\n",
      "===\n",
      "\n",
      "Universal functions, or ufuncs, are functions that operate on one or more `ndarray`s in an element-by-element fashion.\n",
      "That is, they are functions that have been vectorized--optimized in C for arrays of each `dtype`."
     ]
    },
    {
     "cell_type": "code",
     "collapsed": false,
     "input": [
      "import numpy as np"
     ],
     "language": "python",
     "metadata": {},
     "outputs": [],
     "prompt_number": 1
    },
    {
     "cell_type": "code",
     "collapsed": false,
     "input": [
      "vector = np.random.randint(0, 100, size=(8,))\n",
      "print(vector)"
     ],
     "language": "python",
     "metadata": {},
     "outputs": [
      {
       "output_type": "stream",
       "stream": "stdout",
       "text": [
        "[25 62 70 83 92 82 68 39]\n"
       ]
      }
     ],
     "prompt_number": 18
    },
    {
     "cell_type": "code",
     "collapsed": false,
     "input": [
      "np.sin(vector)"
     ],
     "language": "python",
     "metadata": {},
     "outputs": [
      {
       "metadata": {},
       "output_type": "pyout",
       "prompt_number": 20,
       "text": [
        "array([-0.13235175, -0.7391807 ,  0.77389068,  0.96836446, -0.77946607,\n",
        "        0.31322878, -0.89792768,  0.96379539])"
       ]
      }
     ],
     "prompt_number": 20
    },
    {
     "cell_type": "code",
     "collapsed": false,
     "input": [
      "another_vector = np.random.randint(0, 100, size=vector.shape)"
     ],
     "language": "python",
     "metadata": {},
     "outputs": [],
     "prompt_number": 13
    },
    {
     "cell_type": "code",
     "collapsed": false,
     "input": [
      "vector + another_vector"
     ],
     "language": "python",
     "metadata": {},
     "outputs": [
      {
       "metadata": {},
       "output_type": "pyout",
       "prompt_number": 14,
       "text": [
        "array([ 10,  78, 145,  61,   7,  42, 185,  90])"
       ]
      }
     ],
     "prompt_number": 14
    },
    {
     "cell_type": "code",
     "collapsed": false,
     "input": [
      "vector - another_vector"
     ],
     "language": "python",
     "metadata": {},
     "outputs": [
      {
       "metadata": {},
       "output_type": "pyout",
       "prompt_number": 15,
       "text": [
        "array([  2, -32,  25,  -9,   1,   0,  11,  62])"
       ]
      }
     ],
     "prompt_number": 15
    },
    {
     "cell_type": "code",
     "collapsed": false,
     "input": [
      "vector/another_vector"
     ],
     "language": "python",
     "metadata": {},
     "outputs": [
      {
       "metadata": {},
       "output_type": "pyout",
       "prompt_number": 16,
       "text": [
        "array([ 1.5       ,  0.41818182,  1.41666667,  0.74285714,  1.33333333,\n",
        "        1.        ,  1.12643678,  5.42857143])"
       ]
      }
     ],
     "prompt_number": 16
    },
    {
     "cell_type": "code",
     "collapsed": false,
     "input": [
      "vector*another_vector"
     ],
     "language": "python",
     "metadata": {},
     "outputs": [
      {
       "metadata": {},
       "output_type": "pyout",
       "prompt_number": 21,
       "text": [
        "array([ 100, 3410, 4200, 2905,  276, 1722, 5916,  546])"
       ]
      }
     ],
     "prompt_number": 21
    },
    {
     "cell_type": "code",
     "collapsed": false,
     "input": [
      "vector > another_vector"
     ],
     "language": "python",
     "metadata": {},
     "outputs": [
      {
       "metadata": {},
       "output_type": "pyout",
       "prompt_number": 22,
       "text": [
        "array([ True,  True,  True,  True,  True,  True, False,  True], dtype=bool)"
       ]
      }
     ],
     "prompt_number": 22
    },
    {
     "cell_type": "markdown",
     "metadata": {},
     "source": [
      "#### Built-in ufuncs *(not a complete list)*\n",
      "\n",
      " - comparison: `<`, `<=`, `==`, `!=`, `>=`, `>`\n",
      " - arithmetic: `+`, `-`, `*`, `/`, `reciprocal`, `square`\n",
      " - exponential: `exp`, `log`, `log10`, `power`, `sqrt`\n",
      " - trigonometric: `sin`, `cos`, `tan`, `arcsin`, etc.\n",
      " - hyperbolic: `sinh`, `cosh`, `tanh`, `arcsinh`, etc.\n",
      " - logical: `and`, `logical_xor`, `not`, `or`\n",
      " - predicates: `isfinite`, `isinf`, `isnan`\n",
      " - other: `abs`, `ceil`, `floor`, `mod`, `round`, `sign`"
     ]
    },
    {
     "cell_type": "markdown",
     "metadata": {},
     "source": [
      "## Array reductions\n",
      "\n",
      "Remember `reduce`?\n",
      "A reduction is a function that takes an `array` and produces a scalar.\n",
      "There are many reductions available as `array` methods."
     ]
    },
    {
     "cell_type": "code",
     "collapsed": false,
     "input": [
      "vector.sum()"
     ],
     "language": "python",
     "metadata": {},
     "outputs": [
      {
       "metadata": {},
       "output_type": "pyout",
       "prompt_number": 23,
       "text": [
        "521"
       ]
      }
     ],
     "prompt_number": 23
    },
    {
     "cell_type": "code",
     "collapsed": false,
     "input": [
      "vector.max()"
     ],
     "language": "python",
     "metadata": {},
     "outputs": [
      {
       "metadata": {},
       "output_type": "pyout",
       "prompt_number": 24,
       "text": [
        "92"
       ]
      }
     ],
     "prompt_number": 24
    },
    {
     "cell_type": "code",
     "collapsed": false,
     "input": [
      "vector.mean()"
     ],
     "language": "python",
     "metadata": {},
     "outputs": [
      {
       "metadata": {},
       "output_type": "pyout",
       "prompt_number": 25,
       "text": [
        "65.125"
       ]
      }
     ],
     "prompt_number": 25
    },
    {
     "cell_type": "markdown",
     "metadata": {},
     "source": [
      "### Axis\n",
      "\n",
      "Array reductions can also take an `array` and return a new array with one fewer dimension.\n",
      "Imagine summing over columns--a transformation from two dimensions to one.\n",
      "\n",
      "Array reductions take an optional `axis` parameter that specifies over which axes to reduce.\n",
      "\n",
      "With `axis=None` (the default), the output will be a scalar.\n",
      "Otherwise, the specified axis will be collapsed."
     ]
    },
    {
     "cell_type": "code",
     "collapsed": false,
     "input": [
      "positions = np.random.randint(0, 10, size=(8, 2))\n",
      "print(positions)"
     ],
     "language": "python",
     "metadata": {},
     "outputs": [
      {
       "output_type": "stream",
       "stream": "stdout",
       "text": [
        "[[4 5]\n",
        " [0 3]\n",
        " [4 8]\n",
        " [3 8]\n",
        " [3 4]\n",
        " [6 8]\n",
        " [7 9]\n",
        " [1 6]]\n"
       ]
      }
     ],
     "prompt_number": 34
    },
    {
     "cell_type": "code",
     "collapsed": false,
     "input": [
      "positions.sum()"
     ],
     "language": "python",
     "metadata": {},
     "outputs": [
      {
       "metadata": {},
       "output_type": "pyout",
       "prompt_number": 35,
       "text": [
        "79"
       ]
      }
     ],
     "prompt_number": 35
    },
    {
     "cell_type": "code",
     "collapsed": false,
     "input": [
      "positions.sum(axis=0)"
     ],
     "language": "python",
     "metadata": {},
     "outputs": [
      {
       "metadata": {},
       "output_type": "pyout",
       "prompt_number": 36,
       "text": [
        "array([28, 51])"
       ]
      }
     ],
     "prompt_number": 36
    },
    {
     "cell_type": "code",
     "collapsed": false,
     "input": [
      "positions.sum(axis=1)"
     ],
     "language": "python",
     "metadata": {},
     "outputs": [
      {
       "metadata": {},
       "output_type": "pyout",
       "prompt_number": 37,
       "text": [
        "array([ 9,  3, 12, 11,  7, 14, 16,  7])"
       ]
      }
     ],
     "prompt_number": 37
    },
    {
     "cell_type": "markdown",
     "metadata": {},
     "source": [
      "So the `axis` argument specifies which axis will go away.\n",
      "In a 2D `array`, `axis=0` gives the sum of each column--rows are lost.\n",
      "`axis=1` gives us the sum of each row--columns are lost."
     ]
    },
    {
     "cell_type": "code",
     "collapsed": false,
     "input": [
      "positions.mean(axis=0)"
     ],
     "language": "python",
     "metadata": {},
     "outputs": [
      {
       "metadata": {},
       "output_type": "pyout",
       "prompt_number": 40,
       "text": [
        "array([ 3.5  ,  6.375])"
       ]
      }
     ],
     "prompt_number": 40
    },
    {
     "cell_type": "code",
     "collapsed": false,
     "input": [
      "positions.all(axis=1)"
     ],
     "language": "python",
     "metadata": {},
     "outputs": [
      {
       "metadata": {},
       "output_type": "pyout",
       "prompt_number": 41,
       "text": [
        "array([ True, False,  True,  True,  True,  True,  True,  True], dtype=bool)"
       ]
      }
     ],
     "prompt_number": 41
    },
    {
     "cell_type": "code",
     "collapsed": false,
     "input": [
      "positions.argmax(axis=0)  # At what index the max appears."
     ],
     "language": "python",
     "metadata": {},
     "outputs": [
      {
       "metadata": {},
       "output_type": "pyout",
       "prompt_number": 51,
       "text": [
        "array([6, 6])"
       ]
      }
     ],
     "prompt_number": 51
    },
    {
     "cell_type": "code",
     "collapsed": false,
     "input": [
      "positions[6, :]"
     ],
     "language": "python",
     "metadata": {},
     "outputs": [
      {
       "metadata": {},
       "output_type": "pyout",
       "prompt_number": 48,
       "text": [
        "array([7, 9])"
       ]
      }
     ],
     "prompt_number": 48
    },
    {
     "cell_type": "code",
     "collapsed": false,
     "input": [
      "positions.max(axis=0)"
     ],
     "language": "python",
     "metadata": {},
     "outputs": [
      {
       "metadata": {},
       "output_type": "pyout",
       "prompt_number": 52,
       "text": [
        "array([7, 9])"
       ]
      }
     ],
     "prompt_number": 52
    },
    {
     "cell_type": "code",
     "collapsed": false,
     "input": [
      "np.linalg.norm(positions)"
     ],
     "language": "python",
     "metadata": {},
     "outputs": [
      {
       "metadata": {},
       "output_type": "pyout",
       "prompt_number": 53,
       "text": [
        "22.248595461286989"
       ]
      }
     ],
     "prompt_number": 53
    },
    {
     "cell_type": "code",
     "collapsed": false,
     "input": [
      "np.linalg.norm(positions, axis=1)  # Each row's distance from (0, 0)."
     ],
     "language": "python",
     "metadata": {},
     "outputs": [
      {
       "metadata": {},
       "output_type": "pyout",
       "prompt_number": 57,
       "text": [
        "array([  6.40312424,   3.        ,   8.94427191,   8.54400375,\n",
        "         5.        ,  10.        ,  11.40175425,   6.08276253])"
       ]
      }
     ],
     "prompt_number": 57
    }
   ],
   "metadata": {}
  }
 ]
}