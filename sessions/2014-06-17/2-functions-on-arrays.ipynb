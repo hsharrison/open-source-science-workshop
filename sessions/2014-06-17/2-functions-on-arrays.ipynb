{
 "metadata": {
  "name": "",
  "signature": "sha256:e7f06343a45ef5643f6528e9b48208b5063088098d9d0046c8a99bb9982b7b1e"
 },
 "nbformat": 3,
 "nbformat_minor": 0,
 "worksheets": [
  {
   "cells": [
    {
     "cell_type": "markdown",
     "metadata": {},
     "source": [
      "Universal functions\n",
      "===\n",
      "\n",
      "Universal functions, or ufuncs, are functions that operate on one or more `ndarray`s in an element-by-element fashion.\n",
      "That is, they are functions that have been vectorized--optimized in C for arrays of each `dtype`."
     ]
    },
    {
     "cell_type": "code",
     "collapsed": false,
     "input": [
      "import numpy as np"
     ],
     "language": "python",
     "metadata": {},
     "outputs": []
    },
    {
     "cell_type": "code",
     "collapsed": false,
     "input": [
      "vector = np.random.randint(0, 100, size=(8,))\n",
      "print(vector)"
     ],
     "language": "python",
     "metadata": {},
     "outputs": []
    },
    {
     "cell_type": "code",
     "collapsed": false,
     "input": [
      "np.sin(vector)"
     ],
     "language": "python",
     "metadata": {},
     "outputs": []
    },
    {
     "cell_type": "code",
     "collapsed": false,
     "input": [
      "another_vector = np.random.randint(0, 100, size=vector.shape)"
     ],
     "language": "python",
     "metadata": {},
     "outputs": []
    },
    {
     "cell_type": "code",
     "collapsed": false,
     "input": [
      "vector + another_vector"
     ],
     "language": "python",
     "metadata": {},
     "outputs": []
    },
    {
     "cell_type": "code",
     "collapsed": false,
     "input": [
      "vector - another_vector"
     ],
     "language": "python",
     "metadata": {},
     "outputs": []
    },
    {
     "cell_type": "code",
     "collapsed": false,
     "input": [
      "vector/another_vector"
     ],
     "language": "python",
     "metadata": {},
     "outputs": []
    },
    {
     "cell_type": "code",
     "collapsed": false,
     "input": [
      "vector*another_vector"
     ],
     "language": "python",
     "metadata": {},
     "outputs": []
    },
    {
     "cell_type": "code",
     "collapsed": false,
     "input": [
      "vector > another_vector"
     ],
     "language": "python",
     "metadata": {},
     "outputs": []
    },
    {
     "cell_type": "markdown",
     "metadata": {},
     "source": [
      "#### Built-in ufuncs *(not a complete list)*\n",
      "\n",
      " - comparison: `<`, `<=`, `==`, `!=`, `>=`, `>`\n",
      " - arithmetic: `+`, `-`, `*`, `/`, `reciprocal`, `square`\n",
      " - exponential: `exp`, `log`, `log10`, `power`, `sqrt`\n",
      " - trigonometric: `sin`, `cos`, `tan`, `arcsin`, etc.\n",
      " - hyperbolic: `sinh`, `cosh`, `tanh`, `arcsinh`, etc.\n",
      " - logical: `and`, `logical_xor`, `not`, `or`\n",
      " - predicates: `isfinite`, `isinf`, `isnan`\n",
      " - other: `abs`, `ceil`, `floor`, `mod`, `round`, `sign`"
     ]
    },
    {
     "cell_type": "markdown",
     "metadata": {},
     "source": [
      "## Array reductions\n",
      "\n",
      "Remember `reduce`?\n",
      "A reduction is a function that takes an `array` and produces a scalar.\n",
      "There are many reductions available as `array` methods."
     ]
    },
    {
     "cell_type": "code",
     "collapsed": false,
     "input": [
      "vector.sum()"
     ],
     "language": "python",
     "metadata": {},
     "outputs": []
    },
    {
     "cell_type": "code",
     "collapsed": false,
     "input": [
      "vector.max()"
     ],
     "language": "python",
     "metadata": {},
     "outputs": []
    },
    {
     "cell_type": "code",
     "collapsed": false,
     "input": [
      "vector.mean()"
     ],
     "language": "python",
     "metadata": {},
     "outputs": []
    },
    {
     "cell_type": "markdown",
     "metadata": {},
     "source": [
      "### Axis\n",
      "\n",
      "Array reductions can also take an `array` and return a new array with one fewer dimension.\n",
      "Imagine summing over columns--a transformation from two dimensions to one.\n",
      "\n",
      "Array reductions take an optional `axis` parameter that specifies over which axes to reduce.\n",
      "\n",
      "With `axis=None` (the default), the output will be a scalar.\n",
      "Otherwise, the specified axis will be collapsed."
     ]
    },
    {
     "cell_type": "code",
     "collapsed": false,
     "input": [
      "positions = np.random.randint(0, 10, size=(8, 2))\n",
      "print(positions)"
     ],
     "language": "python",
     "metadata": {},
     "outputs": []
    },
    {
     "cell_type": "code",
     "collapsed": false,
     "input": [
      "positions.sum()"
     ],
     "language": "python",
     "metadata": {},
     "outputs": []
    },
    {
     "cell_type": "code",
     "collapsed": false,
     "input": [
      "positions.sum(axis=0)"
     ],
     "language": "python",
     "metadata": {},
     "outputs": []
    },
    {
     "cell_type": "code",
     "collapsed": false,
     "input": [
      "positions.sum(axis=1)"
     ],
     "language": "python",
     "metadata": {},
     "outputs": []
    },
    {
     "cell_type": "markdown",
     "metadata": {},
     "source": [
      "So the `axis` argument specifies which axis will go away.\n",
      "In a 2D `array`, `axis=0` gives the sum of each column--rows are lost.\n",
      "`axis=1` gives us the sum of each row--columns are lost."
     ]
    },
    {
     "cell_type": "code",
     "collapsed": false,
     "input": [
      "positions.mean(axis=0)"
     ],
     "language": "python",
     "metadata": {},
     "outputs": []
    },
    {
     "cell_type": "code",
     "collapsed": false,
     "input": [
      "positions.all(axis=1)"
     ],
     "language": "python",
     "metadata": {},
     "outputs": []
    },
    {
     "cell_type": "code",
     "collapsed": false,
     "input": [
      "positions.argmax(axis=0)  # At what index the max appears."
     ],
     "language": "python",
     "metadata": {},
     "outputs": []
    },
    {
     "cell_type": "code",
     "collapsed": false,
     "input": [
      "positions[6, :]"
     ],
     "language": "python",
     "metadata": {},
     "outputs": []
    },
    {
     "cell_type": "code",
     "collapsed": false,
     "input": [
      "positions.max(axis=0)"
     ],
     "language": "python",
     "metadata": {},
     "outputs": []
    },
    {
     "cell_type": "code",
     "collapsed": false,
     "input": [
      "np.linalg.norm(positions)"
     ],
     "language": "python",
     "metadata": {},
     "outputs": []
    },
    {
     "cell_type": "code",
     "collapsed": false,
     "input": [
      "np.linalg.norm(positions, axis=1)  # Each row's distance from (0, 0)."
     ],
     "language": "python",
     "metadata": {},
     "outputs": []
    },
    {
     "cell_type": "markdown",
     "metadata": {},
     "source": [
      "# Broadcasting\n",
      "\n",
      "Understanding broadcasting is key to easy array programming.\n",
      "\n",
      "##### What should happen when we apply a ufunc to arrays of different shapes?\n",
      "\n",
      "*Remember, the defining characteristic of ufuncs is element-by-element computation.*\n",
      "\n",
      "Let's start with an easy example.\n",
      "What should happen when we add a scalar to a vector?"
     ]
    },
    {
     "cell_type": "code",
     "collapsed": false,
     "input": [
      "a = np.arange(5)\n",
      "a + 10"
     ],
     "language": "python",
     "metadata": {},
     "outputs": []
    },
    {
     "cell_type": "markdown",
     "metadata": {},
     "source": [
      "The scalar is *broadcast* to match the other array.\n",
      "NumPy interprets this particular operation the same as"
     ]
    },
    {
     "cell_type": "code",
     "collapsed": false,
     "input": [
      "a + np.array([10, 10, 10, 10, 10])"
     ],
     "language": "python",
     "metadata": {},
     "outputs": []
    },
    {
     "cell_type": "markdown",
     "metadata": {},
     "source": [
      "Let's take a trickier example.\n",
      "Imagine position data in `[x, y]` rows."
     ]
    },
    {
     "cell_type": "code",
     "collapsed": false,
     "input": [
      "print(positions)"
     ],
     "language": "python",
     "metadata": {},
     "outputs": []
    },
    {
     "cell_type": "markdown",
     "metadata": {},
     "source": [
      "Imagine we want to center the data, transpose it so that the mean position is `[0, 0]`."
     ]
    },
    {
     "cell_type": "code",
     "collapsed": false,
     "input": [
      "center = positions.mean(axis=0)\n",
      "print(center)"
     ],
     "language": "python",
     "metadata": {},
     "outputs": []
    },
    {
     "cell_type": "markdown",
     "metadata": {},
     "source": [
      "What should happen if we subrtract a size `(2,)` array from a size `(8, 2)` array?"
     ]
    },
    {
     "cell_type": "code",
     "collapsed": false,
     "input": [
      "centered = positions - center\n",
      "print(centered)"
     ],
     "language": "python",
     "metadata": {},
     "outputs": []
    },
    {
     "cell_type": "code",
     "collapsed": false,
     "input": [
      "centered.mean(axis=0)"
     ],
     "language": "python",
     "metadata": {},
     "outputs": []
    },
    {
     "cell_type": "markdown",
     "metadata": {},
     "source": [
      "Without broadcasting, we'd have to do something really ugly to get this result."
     ]
    },
    {
     "cell_type": "code",
     "collapsed": false,
     "input": [
      "# Without broadcasting ...\n",
      "center = positions.mean(axis=0)\n",
      "n_rows = positions.shape[0]\n",
      "# ... we'd have to somehow construct an array of the right shape.\n",
      "centered = positions - np.array([center]*n_rows)\n",
      "print(centered)\n",
      "\n",
      "# And for comparison, the correct way.\n",
      "centered = positions - positions.mean(axis=0)\n",
      "print(centered)"
     ],
     "language": "python",
     "metadata": {},
     "outputs": []
    },
    {
     "cell_type": "markdown",
     "metadata": {},
     "source": [
      "This is a very common pattern: combining a reduction and a broadcasted ufunc to transform an array."
     ]
    },
    {
     "cell_type": "code",
     "collapsed": false,
     "input": [
      "def standardize(data, axis=None):\n",
      "    return (data - data.mean(axis=axis)) / data.std(axis=axis)\n",
      "\n",
      "# Standardize globally.\n",
      "print(standardize(positions))\n",
      "\n",
      "# Or by column.\n",
      "print(standardize(positions, axis=0))"
     ],
     "language": "python",
     "metadata": {},
     "outputs": []
    },
    {
     "cell_type": "markdown",
     "metadata": {},
     "source": [
      "#### Broadcasting rules\n",
      "\n",
      "In order for a ufunc to broadcast, the size of all *trailing* dimensions on both arrays must be either **equal** or **one**.\n",
      "\n",
      "Imagine lining up the shapes starting from the right:\n",
      "\n",
      "````\n",
      "A.shape:         (3,)\n",
      "B.shape       (2, 3)\n",
      "(A+B).shape:  (2, 3)\n",
      "\n",
      "A.shape:         (6, 1)\n",
      "B.shape:      (1, 6, 4)\n",
      "(A+B).shape:  (1, 6, 4)\n",
      "````\n",
      "\n",
      "Axes lengths > 1 can come from both arrays too.\n",
      "\n",
      "````\n",
      "A.shape:      (3, 1, 6, 1)\n",
      "B.shape:         (2, 1, 4)\n",
      "(A+B).shape:  (3, 2, 6, 4)\n",
      "````\n",
      "\n",
      "Still, sometimes it doesn't work.\n",
      "For example, let's take our positions, and take the mean of each row:"
     ]
    },
    {
     "cell_type": "code",
     "collapsed": false,
     "input": [
      "row_means = positions.mean(axis=1)\n",
      "print(row_means)"
     ],
     "language": "python",
     "metadata": {},
     "outputs": []
    },
    {
     "cell_type": "code",
     "collapsed": false,
     "input": [
      "positions - row_means"
     ],
     "language": "python",
     "metadata": {},
     "outputs": []
    },
    {
     "cell_type": "markdown",
     "metadata": {},
     "source": [
      "Why doesn't that work?\n",
      "Shouldn't it be obvious what to do?\n",
      "\n",
      "The shapes don't line up, from the right:\n",
      "\n",
      "````\n",
      "positions.shape: (8, 2)\n",
      "row_means.shape:    (8,)\n",
      "````\n",
      "\n",
      "This is how we expect it to work, intuitively here:\n",
      "\n",
      "````\n",
      "positions.shape:                (8, 2)\n",
      "row_means.shape:                (8,)\n",
      "(positions - row_means).shape:  (8, 2)\n",
      "````\n",
      "\n",
      "NumPy very well *could* attempt to line up the arrays on the left if lining them up on the right doesn't work.\n",
      "But would we want it to?\n",
      "\n",
      "> In the face of ambiguity, refuse the temptation to guess.\n",
      "\n",
      "Well okay, but sometimes we do want to subtract a size `(8,)` array from a size `(8, 2)` array.\n",
      "How do we do that?\n",
      "In this situation `np.newaxis` is useful.\n",
      "This is an object we can use in an indexing operation to generate a new axis with size 1."
     ]
    },
    {
     "cell_type": "code",
     "collapsed": false,
     "input": [
      "row_means"
     ],
     "language": "python",
     "metadata": {},
     "outputs": []
    },
    {
     "cell_type": "code",
     "collapsed": false,
     "input": [
      "row_means[:]"
     ],
     "language": "python",
     "metadata": {},
     "outputs": []
    },
    {
     "cell_type": "code",
     "collapsed": false,
     "input": [
      "row_means[:, np.newaxis]"
     ],
     "language": "python",
     "metadata": {},
     "outputs": []
    },
    {
     "cell_type": "code",
     "collapsed": false,
     "input": [
      "positions - row_means[:, np.newaxis]"
     ],
     "language": "python",
     "metadata": {},
     "outputs": []
    },
    {
     "cell_type": "markdown",
     "metadata": {},
     "source": [
      "The opposite operation is `np.squeeze`.\n",
      "This removes all dimensions of size 1 from an array."
     ]
    },
    {
     "cell_type": "code",
     "collapsed": false,
     "input": [
      "a = np.random.randint(0, 10, size=(5, 3))\n",
      "b = np.random.randint(0, 10, size=(5, 3, 1))\n",
      "\n",
      "a - b"
     ],
     "language": "python",
     "metadata": {},
     "outputs": []
    },
    {
     "cell_type": "code",
     "collapsed": false,
     "input": [
      "np.squeeze(b).shape"
     ],
     "language": "python",
     "metadata": {},
     "outputs": []
    },
    {
     "cell_type": "code",
     "collapsed": false,
     "input": [
      "a - np.squeeze(b)"
     ],
     "language": "python",
     "metadata": {},
     "outputs": []
    },
    {
     "cell_type": "markdown",
     "metadata": {},
     "source": [
      "`np.squeeze` also takes an optional `axis` argument in case you want to explicitly specificy which axis or axes to drop.\n",
      "This is necessary if there are some you want to keep:"
     ]
    },
    {
     "cell_type": "code",
     "collapsed": false,
     "input": [
      "a = np.random.randint(0, 10, size=(6, 3, 2))\n",
      "b = np.random.randint(0, 10, size=(6, 1, 2, 1))\n",
      "\n",
      "a - b"
     ],
     "language": "python",
     "metadata": {},
     "outputs": []
    },
    {
     "cell_type": "code",
     "collapsed": false,
     "input": [
      "a - b.squeeze()"
     ],
     "language": "python",
     "metadata": {},
     "outputs": []
    },
    {
     "cell_type": "code",
     "collapsed": false,
     "input": [
      "a - b.squeeze(axis=-1)"
     ],
     "language": "python",
     "metadata": {},
     "outputs": []
    },
    {
     "cell_type": "markdown",
     "metadata": {},
     "source": [
      "Also useful in this example is the fact that axes can be specified from the end, just like regular indices.\n",
      "`np.squeeze(data, axis=-1)` drops the final axis."
     ]
    },
    {
     "cell_type": "markdown",
     "metadata": {},
     "source": [
      "## Other `array` methods"
     ]
    },
    {
     "cell_type": "code",
     "collapsed": false,
     "input": [
      "vector"
     ],
     "language": "python",
     "metadata": {},
     "outputs": []
    },
    {
     "cell_type": "code",
     "collapsed": false,
     "input": [
      "vector.argsort()"
     ],
     "language": "python",
     "metadata": {},
     "outputs": []
    },
    {
     "cell_type": "code",
     "collapsed": false,
     "input": [
      "vector.reshape((2, 4))"
     ],
     "language": "python",
     "metadata": {},
     "outputs": []
    },
    {
     "cell_type": "code",
     "collapsed": false,
     "input": [
      "vector.reshape((2, 4)).ravel()"
     ],
     "language": "python",
     "metadata": {},
     "outputs": []
    },
    {
     "cell_type": "code",
     "collapsed": false,
     "input": [
      "positions.ravel()"
     ],
     "language": "python",
     "metadata": {},
     "outputs": []
    },
    {
     "cell_type": "code",
     "collapsed": false,
     "input": [
      "vector.fill(-1)"
     ],
     "language": "python",
     "metadata": {},
     "outputs": []
    },
    {
     "cell_type": "code",
     "collapsed": false,
     "input": [
      "vector"
     ],
     "language": "python",
     "metadata": {},
     "outputs": []
    },
    {
     "cell_type": "code",
     "collapsed": false,
     "input": [
      "positions.clip(1, 5)"
     ],
     "language": "python",
     "metadata": {},
     "outputs": []
    }
   ],
   "metadata": {}
  }
 ]
}