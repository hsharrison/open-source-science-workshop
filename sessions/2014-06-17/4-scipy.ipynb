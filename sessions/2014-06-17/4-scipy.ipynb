{
 "metadata": {
  "name": "",
  "signature": "sha256:22ae05647a9ae9c748e073f3faed313c80423b174f5b39ae4da929b737bf9653"
 },
 "nbformat": 3,
 "nbformat_minor": 0,
 "worksheets": [
  {
   "cells": [
    {
     "cell_type": "markdown",
     "metadata": {},
     "source": [
      "Scipy\n",
      "===\n",
      "\n",
      "Whereas `numpy` contains the basic building blocks for numerical computing,\n",
      "`scipy` contains routines built upon `numpy`.\n",
      "\n",
      "You should be trying to avoid programming algorithms as much as possible.\n",
      "The first step to check if an algorithm you want to use already exists is to check `scipy`.\n",
      "\n",
      "`scipy` consists of several modules.\n",
      "It is not usually imported all at once like `numpy`; rather, import the specific module or function that you need.\n",
      "\n",
      " - `scipy.special`\n",
      " - `scipy.integrate`\n",
      " - `scipy.optimize`\n",
      " - `scipy.interpolate`\n",
      " - `scipy.fftpack`\n",
      " - `scipy.signal`\n",
      " - `scipy.linalg`\n",
      " - `scipy.sparse`\n",
      " - `scipy.spatial`\n",
      " - `scipy.stats`\n",
      " - `scipy.ndimage`\n",
      " - `scipy.io`\n",
      " - `scipy.weave`"
     ]
    },
    {
     "cell_type": "markdown",
     "metadata": {},
     "source": [
      "## `scipy.stats`\n",
      "\n",
      "`scipy.stats` contains at core a set of distributions with a common interface.\n",
      "The main methods on these are:\n",
      "\n",
      " - `rvs`: random variables\n",
      " - `pdf`: probability density function\n",
      " - `cdf`: cumulative distribution function\n",
      " - `sf`: survival function (`1 - cdf`)\n",
      " - `ppf`: percent point function (inverse of `cdf`)\n",
      " - `isf`: inverse survival function (inverse of `sf`)\n",
      " - `stats`: returns mean, variance, skew, kurtosis\n",
      " - `moment`: non-central moments of the distribution"
     ]
    },
    {
     "cell_type": "code",
     "collapsed": false,
     "input": [
      "from scipy.stats import norm"
     ],
     "language": "python",
     "metadata": {},
     "outputs": []
    },
    {
     "cell_type": "code",
     "collapsed": false,
     "input": [
      "norm.cdf(0)"
     ],
     "language": "python",
     "metadata": {},
     "outputs": []
    },
    {
     "cell_type": "code",
     "collapsed": false,
     "input": [
      "norm.cdf([-1, 0, 1])"
     ],
     "language": "python",
     "metadata": {},
     "outputs": []
    },
    {
     "cell_type": "code",
     "collapsed": false,
     "input": [
      "norm.mean()"
     ],
     "language": "python",
     "metadata": {},
     "outputs": []
    },
    {
     "cell_type": "code",
     "collapsed": false,
     "input": [
      "norm.std()"
     ],
     "language": "python",
     "metadata": {},
     "outputs": []
    },
    {
     "cell_type": "code",
     "collapsed": false,
     "input": [
      "norm.rvs(size=10)"
     ],
     "language": "python",
     "metadata": {},
     "outputs": []
    },
    {
     "cell_type": "markdown",
     "metadata": {},
     "source": [
      "The default `norm`, we see, has mean 0 and standard deviation 1.\n",
      "We can also create our own \"frozen\" `norm`.\n",
      "The two primary keyword arguments are standardized across all distributions as `loc` and `scale`."
     ]
    },
    {
     "cell_type": "code",
     "collapsed": false,
     "input": [
      "big_norm = norm(scale=10, loc=0.5)"
     ],
     "language": "python",
     "metadata": {},
     "outputs": []
    },
    {
     "cell_type": "code",
     "collapsed": false,
     "input": [
      "big_norm"
     ],
     "language": "python",
     "metadata": {},
     "outputs": []
    },
    {
     "cell_type": "code",
     "collapsed": false,
     "input": [
      "big_norm.rvs(size=10)"
     ],
     "language": "python",
     "metadata": {},
     "outputs": []
    },
    {
     "cell_type": "code",
     "collapsed": false,
     "input": [
      "big_norm.cdf([-3, 0, 3])"
     ],
     "language": "python",
     "metadata": {},
     "outputs": []
    },
    {
     "cell_type": "markdown",
     "metadata": {},
     "source": [
      "We can get the same behavior by supplying the keyword arguments to the first call as well."
     ]
    },
    {
     "cell_type": "code",
     "collapsed": false,
     "input": [
      "norm.rvs(loc=50, scale=10, size=5)"
     ],
     "language": "python",
     "metadata": {},
     "outputs": []
    },
    {
     "cell_type": "code",
     "collapsed": false,
     "input": [
      "from scipy.stats import uniform\n",
      "uniform.cdf(range(6), loc=1, scale=4)"
     ],
     "language": "python",
     "metadata": {},
     "outputs": []
    },
    {
     "cell_type": "markdown",
     "metadata": {},
     "source": [
      "It is recommended to always use keyword arguments with `scipy.stats` or you may get unexpected results:"
     ]
    },
    {
     "cell_type": "code",
     "collapsed": false,
     "input": [
      "norm.rvs(5)"
     ],
     "language": "python",
     "metadata": {},
     "outputs": []
    },
    {
     "cell_type": "markdown",
     "metadata": {},
     "source": [
      "What's happening is that `5` is getting passed to the `scale` parameter, not the `shape` parameter as you might have expected."
     ]
    },
    {
     "cell_type": "markdown",
     "metadata": {},
     "source": [
      "Some distributions have parameters other than `scale` and `loc`.\n",
      "The gamma distribution, for example, is\n",
      "\n",
      "$$\n",
      "\\gamma(x, a) = \\frac{\\lambda(\\lambda x)^{a-1}} {\\Gamma (a)} e^{-\\gamma x}.\n",
      "$$\n",
      "\n",
      "For `gamma`, the `scale` keyword sets $1/\\lambda$.\n",
      "$a$ is set as an addiional argument."
     ]
    },
    {
     "cell_type": "code",
     "collapsed": false,
     "input": [
      "norm.numargs"
     ],
     "language": "python",
     "metadata": {},
     "outputs": []
    },
    {
     "cell_type": "code",
     "collapsed": false,
     "input": [
      "from scipy.stats import gamma\n",
      "\n",
      "gamma.numargs"
     ],
     "language": "python",
     "metadata": {},
     "outputs": []
    },
    {
     "cell_type": "code",
     "collapsed": false,
     "input": [
      "gamma.shapes"
     ],
     "language": "python",
     "metadata": {},
     "outputs": []
    },
    {
     "cell_type": "code",
     "collapsed": false,
     "input": [
      "gamma(1, scale=2).stats(moments='mvs')  # mean, variance, skew"
     ],
     "language": "python",
     "metadata": {},
     "outputs": []
    },
    {
     "cell_type": "markdown",
     "metadata": {},
     "source": [
      "You can also specify the additional shape parameter(s) as keyword arguments."
     ]
    },
    {
     "cell_type": "code",
     "collapsed": false,
     "input": [
      "gamma(a=1, scale=2).stats(moments='mvs')"
     ],
     "language": "python",
     "metadata": {},
     "outputs": []
    },
    {
     "cell_type": "markdown",
     "metadata": {},
     "source": [
      "## `scipy.integrate`\n",
      "\n",
      "`scipy.integrate` contains numerical integration routines.\n",
      "The one I use most often is `odeint`.\n",
      "This integrates a system of differential equations\n",
      "\n",
      "$$\n",
      "\\frac{d \\mathbf{y} } {dt} = \\mathbf{f} (\\mathbf{y} ,t).\n",
      "$$\n",
      "\n",
      "You are required to supply the function $\\mathbf{f}(\\mathbf{y},t)$, so there is a functional programming element here.\n",
      "\n",
      "The signature of this function should be\n",
      "```python\n",
      "def f(y, t, *params):\n",
      "```\n",
      "Let's do an example, a master equation with $n$ slots and two parameters: the rate at which stuff is moving to the left, and the rate at which stuff is moving to the right."
     ]
    },
    {
     "cell_type": "code",
     "collapsed": false,
     "input": [
      "import numpy as np\n",
      "\n",
      "def master_equation(probability_dist, t, rate_left, rate_right):\n",
      "    n_move_left = rate_left * probability_dist\n",
      "    n_move_left[0] = 0  # Nothing can move left from the left-most spot.\n",
      "    \n",
      "    n_move_right = rate_right * probability_dist\n",
      "    n_move_right[-1] = 0  # Ditto.\n",
      "    \n",
      "    additions = np.roll(n_move_left, -1) + np.roll(n_move_right, 1)\n",
      "    subtractions = n_move_left + n_move_right\n",
      "    \n",
      "    return additions - subtractions"
     ],
     "language": "python",
     "metadata": {},
     "outputs": []
    },
    {
     "cell_type": "markdown",
     "metadata": {},
     "source": [
      "We can simulate our model using `scipy.integrate.odeint`.\n",
      "It takes four arguments:\n",
      "\n",
      " - The function that defines the rates of change.\n",
      " - The initial conditions.\n",
      " - A vector of time steps.\n",
      " - A tuple of any additional parameters the function needs (in our case, `rate_left` and `rate_right`)."
     ]
    },
    {
     "cell_type": "code",
     "collapsed": false,
     "input": [
      "from scipy.integrate import odeint\n",
      "\n",
      "y = odeint(master_equation, np.ones(5)/5, np.arange(200), (2, 8))"
     ],
     "language": "python",
     "metadata": {},
     "outputs": []
    },
    {
     "cell_type": "code",
     "collapsed": false,
     "input": [
      "y.shape"
     ],
     "language": "python",
     "metadata": {},
     "outputs": []
    },
    {
     "cell_type": "code",
     "collapsed": false,
     "input": [
      "y[-1]"
     ],
     "language": "python",
     "metadata": {},
     "outputs": []
    },
    {
     "cell_type": "code",
     "collapsed": false,
     "input": [
      "import matplotlib.pyplot as plt\n",
      "%matplotlib inline"
     ],
     "language": "python",
     "metadata": {},
     "outputs": []
    },
    {
     "cell_type": "code",
     "collapsed": false,
     "input": [
      "plt.bar(np.arange(5), y[-1], align='center')"
     ],
     "language": "python",
     "metadata": {},
     "outputs": []
    },
    {
     "cell_type": "code",
     "collapsed": false,
     "input": [
      "y = odeint(master_equation, np.ones(5)/5, np.arange(200), (2, 2))\n",
      "plt.bar(np.arange(5), y[-1], align='center')"
     ],
     "language": "python",
     "metadata": {},
     "outputs": []
    },
    {
     "cell_type": "code",
     "collapsed": false,
     "input": [
      "def simulate_master_equation(n, rate_left, rate_right):\n",
      "    y = odeint(master_equation, np.ones(n)/n, np.arange(200),\n",
      "               (rate_left, rate_right))\n",
      "    plt.bar(np.arange(n), y[-1], align='center')"
     ],
     "language": "python",
     "metadata": {},
     "outputs": []
    },
    {
     "cell_type": "code",
     "collapsed": false,
     "input": [
      "simulate_master_equation(10, 3, 2)"
     ],
     "language": "python",
     "metadata": {},
     "outputs": []
    },
    {
     "cell_type": "code",
     "collapsed": false,
     "input": [
      "simulate_master_equation(7, 0, 2)"
     ],
     "language": "python",
     "metadata": {},
     "outputs": []
    }
   ],
   "metadata": {}
  }
 ]
}