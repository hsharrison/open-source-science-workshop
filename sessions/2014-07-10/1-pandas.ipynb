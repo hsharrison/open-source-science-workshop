{
 "metadata": {
  "name": "",
  "signature": "sha256:44a2954b6fcee4fdd34db664076877a5c89976e2e16cbcb86391036b2ca53aa5"
 },
 "nbformat": 3,
 "nbformat_minor": 0,
 "worksheets": [
  {
   "cells": [
    {
     "cell_type": "markdown",
     "metadata": {},
     "source": [
      "# Pandas for tabular data\n",
      "\n",
      "We already used `pandas` for our kinematic data and it wasn't super helpful.\n",
      "Pandas is best for tabular data, the kind you might want to look at in a table\n",
      "(you could look at timeseries in a table, but it's not very helpful with 60000 data points).\n",
      "\n",
      "Even if you do complex timeseries methods, at the end of the day your method is probably just a reduction--it gets a single number for each trial (e.g. multifractal spectrum width).\n",
      "After that is when pandas will be most helpful."
     ]
    },
    {
     "cell_type": "code",
     "collapsed": false,
     "input": [
      "!ls"
     ],
     "language": "python",
     "metadata": {},
     "outputs": []
    },
    {
     "cell_type": "code",
     "collapsed": false,
     "input": [
      "import os\n",
      "os.chdir('/home/hen/repos/open-source-science-workshop/sessions/2014-07-02/')\n",
      "!ls"
     ],
     "language": "python",
     "metadata": {},
     "outputs": []
    },
    {
     "cell_type": "code",
     "collapsed": false,
     "input": [
      "!head data.csv"
     ],
     "language": "python",
     "metadata": {},
     "outputs": []
    },
    {
     "cell_type": "code",
     "collapsed": false,
     "input": [
      "import pandas as pd\n",
      "\n",
      "data = pd.read_table('data.csv', sep=',').set_index(['participant', 'block', 'trial'])\n",
      "data.head()"
     ],
     "language": "python",
     "metadata": {},
     "outputs": []
    },
    {
     "cell_type": "markdown",
     "metadata": {},
     "source": [
      "Notice how we set up our index using the `set_index` method.\n",
      "You can also manipulate the column names using the `columns` attribute."
     ]
    },
    {
     "cell_type": "markdown",
     "metadata": {},
     "source": [
      "## Indexing in `pandas`\n",
      "\n",
      "There are multiple ways to select data in `pandas`:\n",
      "\n",
      "First of all, you can index the `DataFrame` object directly.\n",
      "   Treat it like a dictionary of columns."
     ]
    },
    {
     "cell_type": "code",
     "collapsed": false,
     "input": [
      "data['can step']"
     ],
     "language": "python",
     "metadata": {},
     "outputs": []
    },
    {
     "cell_type": "markdown",
     "metadata": {},
     "source": [
      "Each column is a pandas `Series` object, which is essentially a 1D numpy array with a fancy pandas index.\n",
      "\n",
      "You can also delete columns and add new ones using regular dictionary syntax."
     ]
    },
    {
     "cell_type": "markdown",
     "metadata": {},
     "source": [
      "The rest of the methods apply similary to Series and DataFrames, with the exception that DataFrames are two dimensional.\n",
      "Series are indexed like `[row]` whereas for DataFrames, you need `[row, column]`.\n",
      "\n",
      "The second indexing method is accessed through the `iloc` attribute.\n",
      "This takes indices as integers."
     ]
    },
    {
     "cell_type": "code",
     "collapsed": false,
     "input": [
      "data['can step'].iloc[0]"
     ],
     "language": "python",
     "metadata": {},
     "outputs": []
    },
    {
     "cell_type": "code",
     "collapsed": false,
     "input": [
      "data['can step'].iloc[:3]"
     ],
     "language": "python",
     "metadata": {},
     "outputs": []
    },
    {
     "cell_type": "code",
     "collapsed": false,
     "input": [
      "data.iloc[:3, 2]"
     ],
     "language": "python",
     "metadata": {},
     "outputs": []
    },
    {
     "cell_type": "markdown",
     "metadata": {},
     "source": [
      "The third, and probably most useful, is accessed through the `loc` attribute.\n",
      "With `loc`, you index it with the *names* of your rows or columns."
     ]
    },
    {
     "cell_type": "code",
     "collapsed": false,
     "input": [
      "data.head()"
     ],
     "language": "python",
     "metadata": {},
     "outputs": []
    },
    {
     "cell_type": "markdown",
     "metadata": {},
     "source": [
      "Note that our data has what's called a MultiIndex--the rows are identified with three numbers, participant, block, and trial.\n",
      "We can index into a MultiIndex using tuples.\n",
      "\n",
      "You can also use MultiIndexing on columns but I haven't found that as useful for the sorts of data I've worked with."
     ]
    },
    {
     "cell_type": "code",
     "collapsed": false,
     "input": [
      "data.loc[(1,1,1), :]"
     ],
     "language": "python",
     "metadata": {},
     "outputs": []
    },
    {
     "cell_type": "code",
     "collapsed": false,
     "input": [
      "data.loc[(1, 2, 1), ['angle', 'can step']]"
     ],
     "language": "python",
     "metadata": {},
     "outputs": []
    },
    {
     "cell_type": "markdown",
     "metadata": {},
     "source": [
      "Notice the difference between using the MultiIndex (with a tuple) and grabbing multiple items (with a list)."
     ]
    },
    {
     "cell_type": "code",
     "collapsed": false,
     "input": [
      "data.loc[[(1, 1, 1), (1, 2, 1)], ['angle', 'perception', 'can step', 'rt']]"
     ],
     "language": "python",
     "metadata": {},
     "outputs": []
    },
    {
     "cell_type": "markdown",
     "metadata": {},
     "source": [
      "You can use the Python slice syntax here:"
     ]
    },
    {
     "cell_type": "code",
     "collapsed": false,
     "input": [
      "data.loc[(1, 1, 1):(2, 1, 1), :]"
     ],
     "language": "python",
     "metadata": {},
     "outputs": []
    },
    {
     "cell_type": "markdown",
     "metadata": {},
     "source": [
      "This is sort of annoying though, because it also picked up the first trial of participant 2.\n",
      "I'm not sure if this is a bug in pandas since Python slices without picking up the item to the right of the colon:"
     ]
    },
    {
     "cell_type": "code",
     "collapsed": false,
     "input": [
      "x = list(range(10))\n",
      "x[:3]"
     ],
     "language": "python",
     "metadata": {},
     "outputs": []
    },
    {
     "cell_type": "markdown",
     "metadata": {},
     "source": [
      "In any case there's a more natural way to do what we were trying to do above, namely to get every trial from the first participant.\n",
      "In theory we'd like to do this:"
     ]
    },
    {
     "cell_type": "code",
     "collapsed": false,
     "input": [
      "data[(1, :, :), :]"
     ],
     "language": "python",
     "metadata": {},
     "outputs": []
    },
    {
     "cell_type": "markdown",
     "metadata": {},
     "source": [
      "What went wrong?\n",
      "Python only knows how to interpret the slice syntax (the colon) within an indexing operation (square brackets).\n",
      "You can't do this for example:"
     ]
    },
    {
     "cell_type": "code",
     "collapsed": false,
     "input": [
      "i = :3"
     ],
     "language": "python",
     "metadata": {},
     "outputs": []
    },
    {
     "cell_type": "markdown",
     "metadata": {},
     "source": [
      "Or, like we tried to do before, stick a slice into a tuple.\n",
      "\n",
      "Luckily, Python provides the `slice` function that works exactly like the colon slice syntax."
     ]
    },
    {
     "cell_type": "code",
     "collapsed": false,
     "input": [
      "x[slice(3)]"
     ],
     "language": "python",
     "metadata": {},
     "outputs": []
    },
    {
     "cell_type": "code",
     "collapsed": false,
     "input": [
      "x[slice(3, 8)]"
     ],
     "language": "python",
     "metadata": {},
     "outputs": []
    },
    {
     "cell_type": "code",
     "collapsed": false,
     "input": [
      "x[slice(8, 3, -1)]"
     ],
     "language": "python",
     "metadata": {},
     "outputs": []
    },
    {
     "cell_type": "code",
     "collapsed": false,
     "input": [
      "x[slice(-4)]"
     ],
     "language": "python",
     "metadata": {},
     "outputs": []
    },
    {
     "cell_type": "code",
     "collapsed": false,
     "input": [
      "# To get everything (the equivalent of just :), use slice(None)\n",
      "x[slice(None)]"
     ],
     "language": "python",
     "metadata": {},
     "outputs": []
    },
    {
     "cell_type": "markdown",
     "metadata": {},
     "source": [
      "You get the idea. But there's really no point in using it where you can already use the slice syntax.\n",
      "It's only reason for existing is that you can use it in other places."
     ]
    },
    {
     "cell_type": "code",
     "collapsed": false,
     "input": [
      "i = slice(3)\n",
      "i"
     ],
     "language": "python",
     "metadata": {},
     "outputs": []
    },
    {
     "cell_type": "markdown",
     "metadata": {},
     "source": [
      "That means we can stick a `slice` inside a tuple.\n",
      "This is indispensable for using MultiIndex."
     ]
    },
    {
     "cell_type": "code",
     "collapsed": false,
     "input": [
      "data.loc[(1, 1, slice(None)), 'rt']"
     ],
     "language": "python",
     "metadata": {},
     "outputs": []
    },
    {
     "cell_type": "markdown",
     "metadata": {},
     "source": [
      "You an even define your own shorthand."
     ]
    },
    {
     "cell_type": "code",
     "collapsed": false,
     "input": [
      "i_all = slice(None)\n",
      "\n",
      "data.loc[(1, i_all, 1), 'rt']"
     ],
     "language": "python",
     "metadata": {},
     "outputs": []
    },
    {
     "cell_type": "markdown",
     "metadata": {},
     "source": [
      "Other indexing methods:\n",
      "\n",
      "`.ix`: this is a fallback method, that tries to guess whether it should use `loc` or `iloc`.\n",
      "I recommend not using this, unless you need to use `iloc` on the rows and `loc` on the columns, perhaps.\n",
      "The danger is that if you have integers on your index (as we do here), which indexer you want can be ambiguous.\n",
      "\n",
      "`.xs`: (cross section) this isn't really an indexer because it is a method (i.e. a function).\n",
      "But it does an indexing like operation:"
     ]
    },
    {
     "cell_type": "code",
     "collapsed": false,
     "input": [
      "help(data.xs)"
     ],
     "language": "python",
     "metadata": {},
     "outputs": []
    },
    {
     "cell_type": "code",
     "collapsed": false,
     "input": [
      "data.xs((1, 1), level=['participant', 'block'])"
     ],
     "language": "python",
     "metadata": {},
     "outputs": []
    },
    {
     "cell_type": "markdown",
     "metadata": {},
     "source": [
      "There is really no reason to use `xs` since they added the ability to use tuples to index into MultiIndex frames."
     ]
    },
    {
     "cell_type": "markdown",
     "metadata": {},
     "source": [
      "## Summarizing data\n",
      "\n",
      "Pandas has some built-in methods that reduce a whole string of numbers into a single number."
     ]
    },
    {
     "cell_type": "code",
     "collapsed": false,
     "input": [
      "print(data['age'].min(), '-', data['age'].max())"
     ],
     "language": "python",
     "metadata": {},
     "outputs": []
    },
    {
     "cell_type": "code",
     "collapsed": false,
     "input": [
      "data.mean()"
     ],
     "language": "python",
     "metadata": {},
     "outputs": []
    },
    {
     "cell_type": "code",
     "collapsed": false,
     "input": [
      "data.std()"
     ],
     "language": "python",
     "metadata": {},
     "outputs": []
    },
    {
     "cell_type": "markdown",
     "metadata": {},
     "source": [
      "Often we don't care so much about the overall aggregates but rather want to see aggregates by condition, or some other aspect of the data.\n",
      "This is where the `groupby` method comes in."
     ]
    },
    {
     "cell_type": "code",
     "collapsed": false,
     "input": [
      "data.loc[(i_all, 1, 1), :].groupby('gender').count()"
     ],
     "language": "python",
     "metadata": {},
     "outputs": []
    },
    {
     "cell_type": "markdown",
     "metadata": {},
     "source": [
      "### Split-apply-combine\n",
      "\n",
      "This is called split-apply-combine, perhaps the most fundamental data analysis tool across all platforms.\n",
      "\n",
      "\n",
      "![split-apply-combine](split-apply-combine.png)\n",
      "\n",
      "In pandas, `groubpy` does the split, then you manually apply your function, and pandas with automatically recombine it into a new DataFrame."
     ]
    },
    {
     "cell_type": "code",
     "collapsed": false,
     "input": [
      "means = data.groupby(['angle', 'perception']).mean()\n",
      "std_devs = data.groupby(['angle', 'perception']).std()"
     ],
     "language": "python",
     "metadata": {},
     "outputs": []
    },
    {
     "cell_type": "code",
     "collapsed": false,
     "input": [
      "means"
     ],
     "language": "python",
     "metadata": {},
     "outputs": []
    },
    {
     "cell_type": "markdown",
     "metadata": {},
     "source": [
      "Notice that our new frame has the groups as the row index now."
     ]
    },
    {
     "cell_type": "code",
     "collapsed": false,
     "input": [
      "means.loc[(3, i_all), ['rt', 'confidence']]"
     ],
     "language": "python",
     "metadata": {},
     "outputs": []
    },
    {
     "cell_type": "markdown",
     "metadata": {},
     "source": [
      "We can manipulate this new DataFrame however we want."
     ]
    },
    {
     "cell_type": "code",
     "collapsed": false,
     "input": [
      "import numpy as np\n",
      "\n",
      "means['can step (trans)'] = np.arcsin(np.sqrt(means['can step']))\n",
      "del means['max_angle']\n",
      "del means['age']\n",
      "means"
     ],
     "language": "python",
     "metadata": {},
     "outputs": []
    },
    {
     "cell_type": "markdown",
     "metadata": {},
     "source": [
      "You can also use custom functions using the `groupby.aggregate` method."
     ]
    },
    {
     "cell_type": "code",
     "collapsed": false,
     "input": [
      "def sem(array):\n",
      "    return array.std() / np.sqrt(len(array))"
     ],
     "language": "python",
     "metadata": {},
     "outputs": []
    },
    {
     "cell_type": "markdown",
     "metadata": {},
     "source": [
      "We have to skip the gender column here because our function will produce an error with strings."
     ]
    },
    {
     "cell_type": "code",
     "collapsed": false,
     "input": [
      "sem = data.loc[:, set(data.columns) - {'gender'}].groupby(['angle', 'perception']).aggregate(sem)\n",
      "sem"
     ],
     "language": "python",
     "metadata": {},
     "outputs": []
    },
    {
     "cell_type": "markdown",
     "metadata": {},
     "source": [
      "## Plotting\n",
      "\n",
      "Pandas has built in plotting support."
     ]
    },
    {
     "cell_type": "code",
     "collapsed": false,
     "input": [
      "%matplotlib inline"
     ],
     "language": "python",
     "metadata": {},
     "outputs": []
    },
    {
     "cell_type": "code",
     "collapsed": false,
     "input": [
      "help(means.plot)"
     ],
     "language": "python",
     "metadata": {},
     "outputs": []
    },
    {
     "cell_type": "code",
     "collapsed": false,
     "input": [
      "means.plot(kind='bar', y='rt', yerr=sem)"
     ],
     "language": "python",
     "metadata": {},
     "outputs": []
    },
    {
     "cell_type": "markdown",
     "metadata": {},
     "source": [
      "That's probably not what we want.\n",
      "We'd like a 2x7 plot, with 7 groups of 2 bars each (or 2 lines of 7 points each).\n",
      "\n",
      "This is a good time to show the difference between wide and long data format.\n",
      "\n",
      "Currently our means are in long format."
     ]
    },
    {
     "cell_type": "code",
     "collapsed": false,
     "input": [
      "means['rt']"
     ],
     "language": "python",
     "metadata": {},
     "outputs": []
    },
    {
     "cell_type": "markdown",
     "metadata": {},
     "source": [
      "If we're only trying to plot reaction time, we're just interested in one column, but in order to tell which group each data point belongs to, we have to look in other columns (angle and perception).\n",
      "\n",
      "In wide format, we might have two columns, one for haptic perception and one for visual.\n",
      "We can do this with the `melt` function."
     ]
    },
    {
     "cell_type": "code",
     "collapsed": false,
     "input": [
      "help(pd.melt)"
     ],
     "language": "python",
     "metadata": {},
     "outputs": []
    },
    {
     "cell_type": "code",
     "collapsed": false,
     "input": [
      "pd.melt(means.reset_index(), id_vars='perception', value_vars=['angle', 'rt'])"
     ],
     "language": "python",
     "metadata": {},
     "outputs": []
    },
    {
     "cell_type": "markdown",
     "metadata": {},
     "source": [
      "Oops!\n",
      "Melt is actually for going from wide to long.\n",
      "(Clearly, our frame could actually be longer).\n",
      "\n",
      "We can actually go from long to wide using the `pivot` method.\n",
      "This takes column names and uses unique values to re-organize the DataFrame.\n",
      "But it only works on regular columns, not index levels, so we call `reset_index()` first, which simply turns our index columns into regular columns. Just to demonstrate that idea:"
     ]
    },
    {
     "cell_type": "code",
     "collapsed": false,
     "input": [
      "means.reset_index()"
     ],
     "language": "python",
     "metadata": {},
     "outputs": []
    },
    {
     "cell_type": "code",
     "collapsed": false,
     "input": [
      "means.reset_index().pivot('angle', 'perception')"
     ],
     "language": "python",
     "metadata": {},
     "outputs": []
    },
    {
     "cell_type": "code",
     "collapsed": false,
     "input": [
      "def to_wide(frame):\n",
      "    return frame.reset_index().pivot('angle', 'perception')\n",
      "\n",
      "means_wide = to_wide(means)\n",
      "sem_wide = to_wide(sem)"
     ],
     "language": "python",
     "metadata": {},
     "outputs": []
    },
    {
     "cell_type": "markdown",
     "metadata": {},
     "source": [
      "Now that our data is in a form more conducive to plotting, we can make some nice plots."
     ]
    },
    {
     "cell_type": "code",
     "collapsed": false,
     "input": [
      "means_wide.plot(yerr=sem_wide)"
     ],
     "language": "python",
     "metadata": {},
     "outputs": []
    },
    {
     "cell_type": "code",
     "collapsed": false,
     "input": [
      "means_wide.plot(y='rt', yerr=sem_wide)"
     ],
     "language": "python",
     "metadata": {},
     "outputs": []
    },
    {
     "cell_type": "markdown",
     "metadata": {},
     "source": [
      "Unfortunately this still isn't so well integrated with the MultiIndexing on the columns;\n",
      "here we lose the legend and the error bars don't seem to work.\n",
      "\n",
      "Let's try doing our column-selecting before we call `plot`."
     ]
    },
    {
     "cell_type": "code",
     "collapsed": false,
     "input": [
      "means_wide.loc[:, ('rt', i_all)].plot()"
     ],
     "language": "python",
     "metadata": {},
     "outputs": []
    },
    {
     "cell_type": "code",
     "collapsed": false,
     "input": [
      "means_wide.xs('rt', axis=1).plot()"
     ],
     "language": "python",
     "metadata": {},
     "outputs": []
    },
    {
     "cell_type": "markdown",
     "metadata": {},
     "source": [
      "What do you know, I found an advantage of `xs` over `loc`: it can drop the unwanted columns. Compare:"
     ]
    },
    {
     "cell_type": "code",
     "collapsed": false,
     "input": [
      "means_wide.loc[:, ('rt', i_all)]"
     ],
     "language": "python",
     "metadata": {},
     "outputs": []
    },
    {
     "cell_type": "code",
     "collapsed": false,
     "input": [
      "means_wide.xs('rt', axis=1)"
     ],
     "language": "python",
     "metadata": {},
     "outputs": []
    },
    {
     "cell_type": "markdown",
     "metadata": {},
     "source": [
      "Okay, let's plot."
     ]
    },
    {
     "cell_type": "code",
     "collapsed": false,
     "input": [
      "def plot_multi_index_column(frame, column, yerr=None):\n",
      "    if yerr is not None:\n",
      "        yerr = yerr.xs(column, axis=1)\n",
      "    \n",
      "    frame.xs(column, axis=1).plot(yerr=yerr)"
     ],
     "language": "python",
     "metadata": {},
     "outputs": []
    },
    {
     "cell_type": "code",
     "collapsed": false,
     "input": [
      "plot_multi_index_column(means_wide, 'rt', sem_wide)"
     ],
     "language": "python",
     "metadata": {},
     "outputs": []
    },
    {
     "cell_type": "code",
     "collapsed": false,
     "input": [
      "plot_multi_index_column(means_wide, 'can step', sem_wide)"
     ],
     "language": "python",
     "metadata": {},
     "outputs": []
    },
    {
     "cell_type": "code",
     "collapsed": false,
     "input": [
      "plot_multi_index_column(means_wide, 'confidence', sem_wide)"
     ],
     "language": "python",
     "metadata": {},
     "outputs": []
    },
    {
     "cell_type": "markdown",
     "metadata": {},
     "source": [
      "## ANOVA\n",
      "\n",
      "Finally, let's do an ANOVA.\n",
      "For that we'll use the `statsmodels` library.\n",
      "\n",
      "This is still a little young, it doesn't even have repeated measures ANOVA (which is what we would ideally do here), so you will often have to export the data and use R (or `rpy2`, see last week's notebook) or SPSS.\n",
      "But `statsmodels` does have  a lot of other stuff:\n",
      "\n",
      "http://statsmodels.sourceforge.net/stable/#table-of-contents\n",
      "\n",
      "Also don't forget `scipy.stats` which has a lot of other stuff, most notably a *ton* of distributions that you can fit, or get random variables from, whatever.\n",
      "It also has more basic functions like a better version of the `sem` function we made earlier.\n",
      "\n",
      "For today, I'm going to pretend this was a between-subjects experiment and just do a regular factorial ANOVA with statsmodels."
     ]
    },
    {
     "cell_type": "code",
     "collapsed": false,
     "input": [
      "import statsmodels.api as sm"
     ],
     "language": "python",
     "metadata": {},
     "outputs": []
    },
    {
     "cell_type": "markdown",
     "metadata": {},
     "source": [
      "Like in R, we do an ANOVA in statsmodels by first doing OLS then the F-test.\n",
      "\n",
      "Statsmodels also uses a syntax similar to R for defining an OLS model with a string.\n",
      "Here we do a 2-way ANOVA on reaction time with IVs of perception and angle.\n",
      "\n",
      "The `C` in the formula means \"this is a categorical variable\"."
     ]
    },
    {
     "cell_type": "code",
     "collapsed": false,
     "input": [
      "lm = sm.formula.ols('rt ~ C(angle)*C(perception)', data=data).fit()\n",
      "lm.summary()"
     ],
     "language": "python",
     "metadata": {},
     "outputs": []
    },
    {
     "cell_type": "markdown",
     "metadata": {},
     "source": [
      "Basically it just did a regresion with a bunch of dummy coding.\n",
      "\n",
      "Now we do the ANOVA."
     ]
    },
    {
     "cell_type": "code",
     "collapsed": false,
     "input": [
      "sm.stats.anova_lm(lm)"
     ],
     "language": "python",
     "metadata": {},
     "outputs": []
    },
    {
     "cell_type": "markdown",
     "metadata": {},
     "source": [
      "Finally, we'll do the same with our other DVs."
     ]
    },
    {
     "cell_type": "code",
     "collapsed": false,
     "input": [
      "def anova(frame, dv_column, iv_columns):\n",
      "    formula = '{dv} ~ {ivs}'.format(dv=dv_column,\n",
      "                                    ivs='*'.join('C({})'.format(iv) for iv in iv_columns))\n",
      "    lm = sm.formula.ols(formula, data=frame).fit()\n",
      "    return sm.stats.anova_lm(lm)"
     ],
     "language": "python",
     "metadata": {},
     "outputs": []
    },
    {
     "cell_type": "markdown",
     "metadata": {},
     "source": [
      "### Confidence"
     ]
    },
    {
     "cell_type": "code",
     "collapsed": false,
     "input": [
      "anova(data, 'confidence', ['angle', 'perception'])"
     ],
     "language": "python",
     "metadata": {},
     "outputs": []
    },
    {
     "cell_type": "markdown",
     "metadata": {},
     "source": [
      "### Can step"
     ]
    },
    {
     "cell_type": "code",
     "collapsed": false,
     "input": [
      "means_by_participant = data.reset_index().groupby(['participant', 'angle', 'perception']).mean()\n",
      "means_by_participant['trans_response'] = np.sqrt(np.arcsin(means_by_participant['can step']))\n",
      "\n",
      "anova(means_by_participant.reset_index(), 'trans_response', ['angle', 'perception'])"
     ],
     "language": "python",
     "metadata": {},
     "outputs": []
    }
   ],
   "metadata": {}
  }
 ]
}