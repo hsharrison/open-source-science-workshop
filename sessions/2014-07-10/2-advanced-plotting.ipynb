{
 "metadata": {
  "name": "",
  "signature": "sha256:4e312a6bd5dde795405f1350b83e1515c262ce78ed6d99121de2fa391c8dab4b"
 },
 "nbformat": 3,
 "nbformat_minor": 0,
 "worksheets": [
  {
   "cells": [
    {
     "cell_type": "markdown",
     "metadata": {},
     "source": [
      "# Advanced plotting\n",
      "\n",
      "We've already seen some relatively simple plots using matplotlib, and slightly more complex plots directly from pandas objects.\n",
      "Today we'll talk about some other libraries that make it easier to make nice plots."
     ]
    },
    {
     "cell_type": "markdown",
     "metadata": {},
     "source": [
      "## IPython and plots\n",
      "\n",
      "IPython has some built-in support for matplotlib plots.\n",
      "This can be activated with the `%matplotlib` IPython magic.\n",
      "This magic takes an argument which identifies a \"backend\", the engine for displaying the plots.\n",
      "\n",
      "There are two I use a lot:\n",
      "\n",
      "    %matplotlib inline\n",
      "   \n",
      "This makes plots appear inline, i.e. right after the command.\n",
      "This is great in the notebook and also works in the qtconsole (but not the regular terminal).\n",
      "\n",
      "When I'm not in the noteboo, though, I usually use\n",
      "\n",
      "    %matplotlib qt\n",
      "    \n",
      "This opens up a plot in another window using the QT framework which works across all OSes.\n",
      "This lets you explore the plot in a way that's a little more rich than the notebook (although we'll see that interacting with plots in the notebook is also easy).\n",
      "\n",
      "Check `%matplotlib?` for a list of backends, there might be one that looks better on your OS than `qt`.\n",
      "\n",
      "Also note that without a backend you can do `plt.show()` and I think IPython will try to figure out the best way to show you your plots.\n",
      "This can be useful if you want to slowly add lots of stuff to your plot but don't show it until you're ready."
     ]
    },
    {
     "cell_type": "code",
     "collapsed": false,
     "input": [
      "%matplotlib inline"
     ],
     "language": "python",
     "metadata": {},
     "outputs": []
    },
    {
     "cell_type": "markdown",
     "metadata": {},
     "source": [
      "I'm going to grab a few datasets to plot with.\n",
      "You may have to change the path."
     ]
    },
    {
     "cell_type": "code",
     "collapsed": false,
     "input": [
      "import pandas as pd\n",
      "ramp_data = pd.read_table('data.csv', sep=',').set_index(['participant', 'block', 'trial'])\n",
      "ramp_data.head()"
     ],
     "language": "python",
     "metadata": {},
     "outputs": []
    },
    {
     "cell_type": "code",
     "collapsed": false,
     "input": [
      "import qualisys\n",
      "walk_data, walk_metadata = qualisys.load_qtm_data('../../kinematics/walk0001.txt')\n",
      "walk_data"
     ],
     "language": "python",
     "metadata": {},
     "outputs": []
    },
    {
     "cell_type": "code",
     "collapsed": false,
     "input": [
      "import statsmodels.api as sm\n",
      "election_data = sm.datasets.anes96.load_pandas().data\n",
      "election_data.head()"
     ],
     "language": "python",
     "metadata": {},
     "outputs": []
    },
    {
     "cell_type": "markdown",
     "metadata": {},
     "source": [
      "The description for this last dataset is [here](http://statsmodels.sourceforge.net/devel/datasets/generated/anes96.html) in case we want to look up what some of the codings are."
     ]
    },
    {
     "cell_type": "markdown",
     "metadata": {},
     "source": [
      "## matplotlib\n",
      "\n",
      "Matplotlib is the baseline for all Python plotting.\n",
      "It is nearly identical to the plotting interface in Matlab.\n",
      "\n",
      "It is usually imported like this:"
     ]
    },
    {
     "cell_type": "code",
     "collapsed": false,
     "input": [
      "import matplotlib.pyplot as plt"
     ],
     "language": "python",
     "metadata": {},
     "outputs": []
    },
    {
     "cell_type": "markdown",
     "metadata": {},
     "source": [
      "Then the simplest way to make a plot is to do `plt.plot(x, y)`."
     ]
    },
    {
     "cell_type": "code",
     "collapsed": false,
     "input": [
      "plt.plot(walk_data['right_ankle'].index, walk_data.loc['right_ankle', :, 'x'])"
     ],
     "language": "python",
     "metadata": {},
     "outputs": []
    },
    {
     "cell_type": "markdown",
     "metadata": {},
     "source": [
      "You can also pass `plot` 2D data and matplotlib will plot the columns as separate lines."
     ]
    },
    {
     "cell_type": "code",
     "collapsed": false,
     "input": [
      "plt.plot(walk_data['right_ankle'].index, walk_data.loc['right_ankle', :, :])\n",
      "plt.legend(walk_data['right_ankle'].columns)"
     ],
     "language": "python",
     "metadata": {},
     "outputs": []
    },
    {
     "cell_type": "markdown",
     "metadata": {},
     "source": [
      "In some cases you can pass a single 2D array, either with two columns (x and z), or a pandas object with x data in the index."
     ]
    },
    {
     "cell_type": "code",
     "collapsed": false,
     "input": [
      "plt.plot(walk_data.loc[:, :, 'z'])\n",
      "plt.legend(walk_data.items)"
     ],
     "language": "python",
     "metadata": {},
     "outputs": []
    },
    {
     "cell_type": "markdown",
     "metadata": {},
     "source": [
      "Other useful functions:\n",
      "\n",
      "- `ylim` and `xlim`: set the axis limits\n",
      "- `legend`, `title`, `xlabel`, `ylabel`: annotate\n",
      "- `subplot`: make multiple plots on the same figure"
     ]
    },
    {
     "cell_type": "markdown",
     "metadata": {},
     "source": [
      "The philosophy of matplotlib is to give you something that looks OK, but give you a ton of options for customization.\n",
      "To make something that looks nice, you really have to put a lot of effort into it.\n",
      "\n",
      "At the lowest level, matplotlib uses a hierarchy of objects.\n",
      "\n",
      "- `figure` is the largest object, it encompasses an entire window or notebook cell.\n",
      "- `axes` is next, it's where the actual data gets plotted, as well as the labels and such.\n",
      "  So, `subplot` makes multiple `axes` on the same `figure`.\n",
      "- Within each `axes` you have a bunch of different types of graphical objects, notably `line` (`plot` makes these for you), `patch`, and `text`.\n",
      "\n",
      "Matplotlib will automatically create the higher-level constructs if you need them.\n",
      "That's why you can do `plt.plot` and a figure with an axes will be created if you didn't have them already.\n",
      "Similarly, if you create an axes object without a figure, you'll get a figure with it.\n",
      "Matplotlib also has an idea of the \"current\" figure and axes, which is the last one you edited or clicked in (for most backends).\n",
      "If you don't specifiy the figure/axes, this is where your plot will go if you don't specify.\n",
      "\n",
      "If you want to make highly customized plots, you should work from the top down.\n",
      "Create a figure, then axes, then populate your axes with your plotting.\n",
      "Use the optional arguments to these functions to customize your plot.\n",
      "\n",
      "Note that these functions all return objects.\n",
      "This lets you customize them after the fact, or pass them to other functions.\n",
      "Also, you can usually create lower-level objects using methods of higher-level objects."
     ]
    },
    {
     "cell_type": "code",
     "collapsed": false,
     "input": [
      "gray = (.9, .9, .9)\n",
      "\n",
      "fig = plt.figure(facecolor=gray)  # colors can be strings (e.g. 'black' or 'k') or (r, g, b) tuples\n",
      "ax = fig.add_axes([0, 0, 1, 1], axis_bgcolor=gray, frameon=False, xticks=[])\n",
      "\n",
      "bars = ax.bar([0, 1], election_data.groupby('vote').count().iloc[:, 0], align='center')\n",
      "\n",
      "ax.xaxis.set_ticks([0, 1])\n",
      "ticks = ax.xaxis.set_ticklabels(['Bill Clinton', 'Bob Dole'])\n",
      "\n",
      "ax.yaxis.set_ticks([0, 250, 500])\n",
      "\n",
      "ticks[0].set_fontsize(16)\n",
      "ticks[1].set_fontsize(16)\n",
      "\n",
      "bars[0].set_color('blue')\n",
      "bars[1].set_color('red')\n",
      "\n",
      "title = plt.title('1996 election: Votes of survey participants')\n",
      "title.set_fontsize(22)\n",
      "xlabel = plt.ylabel('Votes')\n",
      "xlabel.set_fontsize(16)"
     ],
     "language": "python",
     "metadata": {},
     "outputs": []
    },
    {
     "cell_type": "markdown",
     "metadata": {},
     "source": [
      "Better, but still not great.\n",
      "You can find lots of examples online of how to make these look good.\n",
      "But in general, it takes lots of tweaking that is specific to each plot.\n",
      "\n",
      "It is possible to change your defaults but that's often not enough as the tweaks can be quite specific.\n",
      "This can be very tedious.\n",
      "\n",
      "A bunch of other libraries have stepped in to automate some of this."
     ]
    },
    {
     "cell_type": "markdown",
     "metadata": {},
     "source": [
      "# Seaborn\n",
      "\n",
      "Seaborn is a plotting library that uses matplotlib to draw plots, and was designed with statistics in mind.\n",
      "It has a lot of 'shortcuts' to common statistical plots, and gives you more attractive defaults for the basic stuff.\n",
      "\n",
      "Because Seaborn works \"on top of\" matplotlib, that means you can always edit the matplotlib primitives later."
     ]
    },
    {
     "cell_type": "code",
     "collapsed": false,
     "input": [
      "import seaborn as sns  # not sure why this is the convention"
     ],
     "language": "python",
     "metadata": {},
     "outputs": []
    },
    {
     "cell_type": "markdown",
     "metadata": {},
     "source": [
      "Just by importing seaborn, it makes matplotlib plots look a lot better."
     ]
    },
    {
     "cell_type": "code",
     "collapsed": false,
     "input": [
      "plt.plot(walk_data['right_ankle'].index, walk_data.loc['right_ankle', :, :])\n",
      "plt.legend(walk_data['right_ankle'].columns)"
     ],
     "language": "python",
     "metadata": {},
     "outputs": []
    },
    {
     "cell_type": "markdown",
     "metadata": {},
     "source": [
      "You can also find in Seaborn some colors defined for us."
     ]
    },
    {
     "cell_type": "code",
     "collapsed": false,
     "input": [
      "plt.hist(ramp_data['confidence'], range=(0.5, 7.5), bins=7, color=sns.desaturate('indianred', 0.7))"
     ],
     "language": "python",
     "metadata": {},
     "outputs": []
    },
    {
     "cell_type": "markdown",
     "metadata": {},
     "source": [
      "Or we an use `sns` directly to do more complex plots."
     ]
    },
    {
     "cell_type": "code",
     "collapsed": false,
     "input": [
      "sns.boxplot(ramp_data.rt, groupby=ramp_data.perception, vert=False) \n",
      "# I forgot to mention earlier--you can also access columns this way"
     ],
     "language": "python",
     "metadata": {},
     "outputs": []
    },
    {
     "cell_type": "code",
     "collapsed": false,
     "input": [
      "sns.kdeplot(ramp_data.confidence)"
     ],
     "language": "python",
     "metadata": {},
     "outputs": []
    },
    {
     "cell_type": "code",
     "collapsed": false,
     "input": [
      "sns.distplot(ramp_data.confidence.dropna(), hist_kws=dict(range=(0.5, 7.5)), bins=7)"
     ],
     "language": "python",
     "metadata": {},
     "outputs": []
    },
    {
     "cell_type": "code",
     "collapsed": false,
     "input": [
      "sns.distplot(ramp_data['rt'].dropna(), hist_kws=dict(range=(ramp_data['rt'].min(), ramp_data['rt'].max())))"
     ],
     "language": "python",
     "metadata": {},
     "outputs": []
    },
    {
     "cell_type": "markdown",
     "metadata": {},
     "source": [
      "You can pass to `distplot` any of the distributions in `scipy.stats`:"
     ]
    },
    {
     "cell_type": "code",
     "collapsed": false,
     "input": [
      "from scipy.stats import exponweib\n",
      "\n",
      "sns.distplot(ramp_data['rt'].dropna(), fit=exponweib, kde=False,\n",
      "             hist_kws=dict(range=(ramp_data['rt'].min(), ramp_data['rt'].max())))"
     ],
     "language": "python",
     "metadata": {},
     "outputs": []
    },
    {
     "cell_type": "code",
     "collapsed": false,
     "input": [
      "sns.violinplot(ramp_data.rt.dropna(), groupby=ramp_data.perception)"
     ],
     "language": "python",
     "metadata": {},
     "outputs": []
    },
    {
     "cell_type": "code",
     "collapsed": false,
     "input": [
      "sns.corrplot(election_data)"
     ],
     "language": "python",
     "metadata": {},
     "outputs": []
    },
    {
     "cell_type": "markdown",
     "metadata": {},
     "source": [
      "Seaborn has nice timeseries plots as well.\n",
      "If you have multiple timeseries across conditions, it will give you confidence interval bands.\n",
      "\n",
      "Here we pretend that the right knee and right ankle markers are actually two samples of the same marker (e.g. two trials).\n",
      "Note that variability is much higher in z than the other dimensions.\n",
      "That is because the ankle and knee usually have similar x and y values but different z values."
     ]
    },
    {
     "cell_type": "code",
     "collapsed": false,
     "input": [
      "sns.tsplot(walk_data, condition=['x', 'y', 'z'])"
     ],
     "language": "python",
     "metadata": {},
     "outputs": []
    },
    {
     "cell_type": "markdown",
     "metadata": {},
     "source": [
      "## The grammar of graphics\n",
      "\n",
      "The grammar of graphics is a book from 1999 that lays out a declarative approach to building plots.\n",
      "Although a JavaScript implementation came out with the book, the R library ggplot2 is probably the most well known.\n",
      "Let's look at the R library:\n",
      "\n",
      "[if you're following along at home, here I'm explaining the concepts from the embedded website]"
     ]
    },
    {
     "cell_type": "code",
     "collapsed": false,
     "input": [
      "from IPython.display import IFrame\n",
      "IFrame('https://www.ling.upenn.edu/~joseff/rstudy/summer2010_ggplot2_intro.html', width=1000, height=400)"
     ],
     "language": "python",
     "metadata": {},
     "outputs": []
    },
    {
     "cell_type": "markdown",
     "metadata": {},
     "source": [
      "Overall, ggplot is *declarative*.\n",
      "You tell it what you want the final result to be.\n",
      "In contrast, matplotlib is *imperative*.\n",
      "You tell it how to get to the final result.\n",
      "\n",
      "Seaborn has some elements of ggplot, like the `grouping` keyword to a lot of its plotting functions.\n",
      "There is also a library called `ggplot`, which tries to exactly mimic the R syntax."
     ]
    },
    {
     "cell_type": "markdown",
     "metadata": {},
     "source": [
      "ggplot works best on long data"
     ]
    },
    {
     "cell_type": "code",
     "collapsed": false,
     "input": [
      "walk_df, _ = qualisys.load_qtm_data('../../kinematics/walk0001.txt', multi_index=True)\n",
      "walk_df.head()"
     ],
     "language": "python",
     "metadata": {},
     "outputs": []
    },
    {
     "cell_type": "code",
     "collapsed": false,
     "input": [
      "walk_long = pd.melt(walk_df.reset_index(), id_vars='t')\n",
      "walk_long.head()"
     ],
     "language": "python",
     "metadata": {},
     "outputs": []
    },
    {
     "cell_type": "code",
     "collapsed": false,
     "input": [
      "import ggplot as gg"
     ],
     "language": "python",
     "metadata": {},
     "outputs": []
    },
    {
     "cell_type": "code",
     "collapsed": false,
     "input": [
      "gg.ggplot(gg.aes(x='t', y='value'), data=walk_long) + gg.geom_line()"
     ],
     "language": "python",
     "metadata": {},
     "outputs": []
    },
    {
     "cell_type": "code",
     "collapsed": false,
     "input": [
      "gg.ggplot(gg.aes(x='t', y='value', color='marker'), data=walk_long) + gg.geom_line()"
     ],
     "language": "python",
     "metadata": {},
     "outputs": []
    },
    {
     "cell_type": "code",
     "collapsed": false,
     "input": [
      "gg.ggplot(gg.aes(x='t', y='value', color='dim', linetype='marker'), data=walk_long) + gg.geom_line()"
     ],
     "language": "python",
     "metadata": {},
     "outputs": []
    },
    {
     "cell_type": "code",
     "collapsed": false,
     "input": [
      "gg.ggplot(gg.aes(x='t', y='value', color='marker'), data=walk_long) + gg.geom_line() + gg.facet_grid('dim')"
     ],
     "language": "python",
     "metadata": {},
     "outputs": []
    },
    {
     "cell_type": "code",
     "collapsed": false,
     "input": [
      "ramp_data.head()"
     ],
     "language": "python",
     "metadata": {},
     "outputs": []
    },
    {
     "cell_type": "code",
     "collapsed": false,
     "input": [
      "gg.ggplot(gg.aes(x='rt'), data=ramp_data) + \\\n",
      "    gg.geom_density()"
     ],
     "language": "python",
     "metadata": {},
     "outputs": []
    },
    {
     "cell_type": "code",
     "collapsed": false,
     "input": [
      "gg.ggplot(gg.aes(x='rt', color='perception'), data=ramp_data) + \\\n",
      "    gg.geom_density()"
     ],
     "language": "python",
     "metadata": {},
     "outputs": []
    },
    {
     "cell_type": "code",
     "collapsed": false,
     "input": [
      "gg.ggplot(gg.aes(x='rt', color='perception'), data=ramp_data) + \\\n",
      "    gg.geom_density() + \\\n",
      "    gg.facet_wrap('angle')"
     ],
     "language": "python",
     "metadata": {},
     "outputs": []
    },
    {
     "cell_type": "code",
     "collapsed": false,
     "input": [
      "gg.ggplot(gg.aes(x='rt', color='perception'), data=ramp_data.reset_index()) + \\\n",
      "    gg.geom_density() + \\\n",
      "    gg.facet_wrap('participant')"
     ],
     "language": "python",
     "metadata": {},
     "outputs": []
    },
    {
     "cell_type": "code",
     "collapsed": false,
     "input": [
      "gg.ggplot(gg.aes(x='confidence', color='perception'), data=ramp_data.reset_index()) + \\\n",
      "    gg.geom_density() + \\\n",
      "    gg.facet_wrap('participant')"
     ],
     "language": "python",
     "metadata": {},
     "outputs": []
    },
    {
     "cell_type": "code",
     "collapsed": false,
     "input": [
      "election_data.head()"
     ],
     "language": "python",
     "metadata": {},
     "outputs": []
    },
    {
     "cell_type": "code",
     "collapsed": false,
     "input": [
      "gg.ggplot(gg.aes(x='selfLR'), data=election_data) + \\\n",
      "    gg.geom_density()"
     ],
     "language": "python",
     "metadata": {},
     "outputs": []
    },
    {
     "cell_type": "code",
     "collapsed": false,
     "input": [
      "gg.ggplot(gg.aes(x='selfLR'), data=election_data) + \\\n",
      "    gg.geom_density() + \\\n",
      "    gg.facet_grid('vote')"
     ],
     "language": "python",
     "metadata": {},
     "outputs": []
    },
    {
     "cell_type": "code",
     "collapsed": false,
     "input": [
      "gg.ggplot(gg.aes(xmin=0, xmax=1, ymin=0, ymax=1, color='vote', fill='vote'),\n",
      "          data=election_data.groupby(['selfLR', 'ClinLR']).mean().reset_index()) + \\\n",
      "    gg.geom_rect() + \\\n",
      "    gg.facet_grid('selfLR', 'ClinLR')"
     ],
     "language": "python",
     "metadata": {},
     "outputs": []
    }
   ],
   "metadata": {}
  }
 ]
}