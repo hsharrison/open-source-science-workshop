{
 "metadata": {
  "name": "",
  "signature": "sha256:83e9c3c20c1482669f659a2b84546adabaaeca4efb8cb3714914f7860cfcbaee"
 },
 "nbformat": 3,
 "nbformat_minor": 0,
 "worksheets": [
  {
   "cells": [
    {
     "cell_type": "code",
     "collapsed": false,
     "input": [
      "!ls"
     ],
     "language": "python",
     "metadata": {},
     "outputs": [
      {
       "output_type": "stream",
       "stream": "stdout",
       "text": [
        "anaconda3  Downloads\t       Music\t Public\t\t  SME\r\n",
        "Copy\t   Dropbox\t       OneDrive  PycharmProjects  Templates\r\n",
        "Desktop    ipython3-notebooks  Pictures  R\t\t  Ubuntu One\r\n",
        "Documents  java.log.31427      projects  repos\t\t  Videos\r\n"
       ]
      }
     ],
     "prompt_number": 1
    },
    {
     "cell_type": "code",
     "collapsed": false,
     "input": [
      "import os\n",
      "os.chdir('/home/hen/repos/open-source-science-workshop/kinematics/')\n",
      "!ls jump*.tsv"
     ],
     "language": "python",
     "metadata": {},
     "outputs": [
      {
       "output_type": "stream",
       "stream": "stdout",
       "text": [
        "jump01.tsv  jump02.tsv\tjump03.tsv\r\n"
       ]
      }
     ],
     "prompt_number": 4
    },
    {
     "cell_type": "code",
     "collapsed": false,
     "input": [
      "!head jump01.tsv -n 20"
     ],
     "language": "python",
     "metadata": {},
     "outputs": [
      {
       "output_type": "stream",
       "stream": "stdout",
       "text": [
        "NO_OF_FRAMES\t1200\r",
        "\r\n",
        "NO_OF_CAMERAS\t7\r",
        "\r\n",
        "NO_OF_MARKERS\t3\r",
        "\r\n",
        "FREQUENCY\t240\r",
        "\r\n",
        "NO_OF_ANALOG\t0\r",
        "\r\n",
        "ANALOG_FREQUENCY\t0\r",
        "\r\n",
        "DESCRIPTION\t--\r",
        "\r\n",
        "TIME_STAMP\t2014-06-30, 12:52:39\t2814.33403857\r",
        "\r\n",
        "DATA_INCLUDED\t3D\r",
        "\r\n",
        "MARKER_NAMES\tHIP\tKNEE\tANKLE\r",
        "\r\n",
        "Frame\tTime\tHIP X\tHIP Y\tHIP Z\tKNEE X\tKNEE Y\tKNEE Z\tANKLE X\tANKLE Y\tANKLE Z\t\r",
        "\r\n",
        "1\t0.00417\t721.095\t878.675\t849.125\t726.625\t911.194\t428.602\t730.127\t989.645\t108.118\r",
        "\r\n",
        "2\t0.00833\t722.044\t878.265\t849.610\t726.583\t911.019\t428.645\t730.003\t989.708\t108.318\r",
        "\r\n",
        "3\t0.01250\t722.103\t878.227\t849.629\t726.651\t911.020\t428.565\t730.177\t989.648\t108.233\r",
        "\r\n",
        "4\t0.01667\t721.208\t878.723\t849.134\t726.610\t911.044\t428.511\t730.236\t989.686\t108.325\r",
        "\r\n",
        "5\t0.02083\t721.191\t878.635\t849.173\t726.648\t911.092\t428.511\t730.145\t989.591\t108.323\r",
        "\r\n",
        "6\t0.02500\t721.184\t878.715\t849.176\t726.651\t911.025\t428.584\t730.022\t989.662\t108.326\r",
        "\r\n",
        "7\t0.02917\t721.200\t878.698\t849.173\t726.669\t910.879\t428.548\t730.116\t989.686\t108.234\r",
        "\r\n",
        "8\t0.03333\t721.197\t878.706\t849.148\t726.613\t910.886\t428.498\t730.212\t989.646\t108.318\r",
        "\r\n",
        "9\t0.03750\t721.231\t878.721\t849.151\t726.668\t910.838\t428.532\t730.224\t989.688\t108.325\r",
        "\r\n"
       ]
      }
     ],
     "prompt_number": 6
    },
    {
     "cell_type": "code",
     "collapsed": false,
     "input": [
      "import qualisys"
     ],
     "language": "python",
     "metadata": {},
     "outputs": [
      {
       "output_type": "stream",
       "stream": "stderr",
       "text": [
        "/home/hen/.local/lib/python3.4/site-packages/pandas/io/excel.py:626: UserWarning: Installed openpyxl is not supported at this time. Use >=1.6.1 and <2.0.0.\n",
        "  .format(openpyxl_compat.start_ver, openpyxl_compat.stop_ver))\n"
       ]
      }
     ],
     "prompt_number": 12
    },
    {
     "cell_type": "code",
     "collapsed": false,
     "input": [
      "data, metadata = qualisys.load_qtm_data('jump01.tsv')"
     ],
     "language": "python",
     "metadata": {},
     "outputs": [],
     "prompt_number": 14
    },
    {
     "cell_type": "code",
     "collapsed": false,
     "input": [
      "metadata"
     ],
     "language": "python",
     "metadata": {},
     "outputs": [
      {
       "metadata": {},
       "output_type": "pyout",
       "prompt_number": 15,
       "text": [
        "{'no_of_cameras': 7,\n",
        " 'analog_frequency': 0,\n",
        " 'events': [],\n",
        " 'time_stamp': numpy.datetime64('2014-06-30T12:52:39-0400'),\n",
        " 'no_of_markers': 3,\n",
        " 'description': '--',\n",
        " 'frequency': 240,\n",
        " 'no_of_frames': 1200,\n",
        " 'pc_on_time': 2814.33403857,\n",
        " 'data_included': '3D',\n",
        " 'no_of_analog': 0,\n",
        " 'marker_names': ['HIP', 'KNEE', 'ANKLE']}"
       ]
      }
     ],
     "prompt_number": 15
    },
    {
     "cell_type": "code",
     "collapsed": false,
     "input": [
      "data.head()"
     ],
     "language": "python",
     "metadata": {},
     "outputs": [
      {
       "html": [
        "<div style=\"max-height:1000px;max-width:1500px;overflow:auto;\">\n",
        "<table border=\"1\" class=\"dataframe\">\n",
        "  <thead>\n",
        "    <tr>\n",
        "      <th>marker</th>\n",
        "      <th colspan=\"3\" halign=\"left\">ANKLE</th>\n",
        "      <th colspan=\"3\" halign=\"left\">HIP</th>\n",
        "      <th colspan=\"3\" halign=\"left\">KNEE</th>\n",
        "    </tr>\n",
        "    <tr>\n",
        "      <th>dim</th>\n",
        "      <th>x</th>\n",
        "      <th>y</th>\n",
        "      <th>z</th>\n",
        "      <th>x</th>\n",
        "      <th>y</th>\n",
        "      <th>z</th>\n",
        "      <th>x</th>\n",
        "      <th>y</th>\n",
        "      <th>z</th>\n",
        "    </tr>\n",
        "    <tr>\n",
        "      <th>t</th>\n",
        "      <th></th>\n",
        "      <th></th>\n",
        "      <th></th>\n",
        "      <th></th>\n",
        "      <th></th>\n",
        "      <th></th>\n",
        "      <th></th>\n",
        "      <th></th>\n",
        "      <th></th>\n",
        "    </tr>\n",
        "  </thead>\n",
        "  <tbody>\n",
        "    <tr>\n",
        "      <th>0.00417</th>\n",
        "      <td> 730.127</td>\n",
        "      <td> 989.645</td>\n",
        "      <td> 108.118</td>\n",
        "      <td> 721.095</td>\n",
        "      <td> 878.675</td>\n",
        "      <td> 849.125</td>\n",
        "      <td> 726.625</td>\n",
        "      <td> 911.194</td>\n",
        "      <td> 428.602</td>\n",
        "    </tr>\n",
        "    <tr>\n",
        "      <th>0.00833</th>\n",
        "      <td> 730.003</td>\n",
        "      <td> 989.708</td>\n",
        "      <td> 108.318</td>\n",
        "      <td> 722.044</td>\n",
        "      <td> 878.265</td>\n",
        "      <td> 849.610</td>\n",
        "      <td> 726.583</td>\n",
        "      <td> 911.019</td>\n",
        "      <td> 428.645</td>\n",
        "    </tr>\n",
        "    <tr>\n",
        "      <th>0.01250</th>\n",
        "      <td> 730.177</td>\n",
        "      <td> 989.648</td>\n",
        "      <td> 108.233</td>\n",
        "      <td> 722.103</td>\n",
        "      <td> 878.227</td>\n",
        "      <td> 849.629</td>\n",
        "      <td> 726.651</td>\n",
        "      <td> 911.020</td>\n",
        "      <td> 428.565</td>\n",
        "    </tr>\n",
        "    <tr>\n",
        "      <th>0.01667</th>\n",
        "      <td> 730.236</td>\n",
        "      <td> 989.686</td>\n",
        "      <td> 108.325</td>\n",
        "      <td> 721.208</td>\n",
        "      <td> 878.723</td>\n",
        "      <td> 849.134</td>\n",
        "      <td> 726.610</td>\n",
        "      <td> 911.044</td>\n",
        "      <td> 428.511</td>\n",
        "    </tr>\n",
        "    <tr>\n",
        "      <th>0.02083</th>\n",
        "      <td> 730.145</td>\n",
        "      <td> 989.591</td>\n",
        "      <td> 108.323</td>\n",
        "      <td> 721.191</td>\n",
        "      <td> 878.635</td>\n",
        "      <td> 849.173</td>\n",
        "      <td> 726.648</td>\n",
        "      <td> 911.092</td>\n",
        "      <td> 428.511</td>\n",
        "    </tr>\n",
        "  </tbody>\n",
        "</table>\n",
        "</div>"
       ],
       "metadata": {},
       "output_type": "pyout",
       "prompt_number": 17,
       "text": [
        "marker     ANKLE                        HIP                       KNEE  \\\n",
        "dim            x        y        z        x        y        z        x   \n",
        "t                                                                        \n",
        "0.00417  730.127  989.645  108.118  721.095  878.675  849.125  726.625   \n",
        "0.00833  730.003  989.708  108.318  722.044  878.265  849.610  726.583   \n",
        "0.01250  730.177  989.648  108.233  722.103  878.227  849.629  726.651   \n",
        "0.01667  730.236  989.686  108.325  721.208  878.723  849.134  726.610   \n",
        "0.02083  730.145  989.591  108.323  721.191  878.635  849.173  726.648   \n",
        "\n",
        "marker                     \n",
        "dim            y        z  \n",
        "t                          \n",
        "0.00417  911.194  428.602  \n",
        "0.00833  911.019  428.645  \n",
        "0.01250  911.020  428.565  \n",
        "0.01667  911.044  428.511  \n",
        "0.02083  911.092  428.511  "
       ]
      }
     ],
     "prompt_number": 17
    },
    {
     "cell_type": "code",
     "collapsed": false,
     "input": [
      "data.xs('ANKLE', level='marker', axis=1)"
     ],
     "language": "python",
     "metadata": {},
     "outputs": [
      {
       "html": [
        "<div style=\"max-height:1000px;max-width:1500px;overflow:auto;\">\n",
        "<table border=\"1\" class=\"dataframe\">\n",
        "  <thead>\n",
        "    <tr style=\"text-align: right;\">\n",
        "      <th>dim</th>\n",
        "      <th>x</th>\n",
        "      <th>y</th>\n",
        "      <th>z</th>\n",
        "    </tr>\n",
        "    <tr>\n",
        "      <th>t</th>\n",
        "      <th></th>\n",
        "      <th></th>\n",
        "      <th></th>\n",
        "    </tr>\n",
        "  </thead>\n",
        "  <tbody>\n",
        "    <tr>\n",
        "      <th>0.00417</th>\n",
        "      <td> 730.127</td>\n",
        "      <td> 989.645</td>\n",
        "      <td> 108.118</td>\n",
        "    </tr>\n",
        "    <tr>\n",
        "      <th>0.00833</th>\n",
        "      <td> 730.003</td>\n",
        "      <td> 989.708</td>\n",
        "      <td> 108.318</td>\n",
        "    </tr>\n",
        "    <tr>\n",
        "      <th>0.01250</th>\n",
        "      <td> 730.177</td>\n",
        "      <td> 989.648</td>\n",
        "      <td> 108.233</td>\n",
        "    </tr>\n",
        "    <tr>\n",
        "      <th>0.01667</th>\n",
        "      <td> 730.236</td>\n",
        "      <td> 989.686</td>\n",
        "      <td> 108.325</td>\n",
        "    </tr>\n",
        "    <tr>\n",
        "      <th>0.02083</th>\n",
        "      <td> 730.145</td>\n",
        "      <td> 989.591</td>\n",
        "      <td> 108.323</td>\n",
        "    </tr>\n",
        "    <tr>\n",
        "      <th>0.02500</th>\n",
        "      <td> 730.022</td>\n",
        "      <td> 989.662</td>\n",
        "      <td> 108.326</td>\n",
        "    </tr>\n",
        "    <tr>\n",
        "      <th>0.02917</th>\n",
        "      <td> 730.116</td>\n",
        "      <td> 989.686</td>\n",
        "      <td> 108.234</td>\n",
        "    </tr>\n",
        "    <tr>\n",
        "      <th>0.03333</th>\n",
        "      <td> 730.212</td>\n",
        "      <td> 989.646</td>\n",
        "      <td> 108.318</td>\n",
        "    </tr>\n",
        "    <tr>\n",
        "      <th>0.03750</th>\n",
        "      <td> 730.224</td>\n",
        "      <td> 989.688</td>\n",
        "      <td> 108.325</td>\n",
        "    </tr>\n",
        "    <tr>\n",
        "      <th>0.04167</th>\n",
        "      <td> 730.185</td>\n",
        "      <td> 989.653</td>\n",
        "      <td> 108.392</td>\n",
        "    </tr>\n",
        "    <tr>\n",
        "      <th>0.04583</th>\n",
        "      <td> 730.603</td>\n",
        "      <td> 989.538</td>\n",
        "      <td> 107.878</td>\n",
        "    </tr>\n",
        "    <tr>\n",
        "      <th>0.05000</th>\n",
        "      <td> 730.616</td>\n",
        "      <td> 989.530</td>\n",
        "      <td> 107.879</td>\n",
        "    </tr>\n",
        "    <tr>\n",
        "      <th>0.05417</th>\n",
        "      <td> 730.243</td>\n",
        "      <td> 989.398</td>\n",
        "      <td> 107.980</td>\n",
        "    </tr>\n",
        "    <tr>\n",
        "      <th>0.05833</th>\n",
        "      <td> 730.354</td>\n",
        "      <td> 989.643</td>\n",
        "      <td> 108.189</td>\n",
        "    </tr>\n",
        "    <tr>\n",
        "      <th>0.06250</th>\n",
        "      <td> 730.144</td>\n",
        "      <td> 989.535</td>\n",
        "      <td> 108.308</td>\n",
        "    </tr>\n",
        "    <tr>\n",
        "      <th>0.06667</th>\n",
        "      <td> 730.258</td>\n",
        "      <td> 989.559</td>\n",
        "      <td> 108.288</td>\n",
        "    </tr>\n",
        "    <tr>\n",
        "      <th>0.07083</th>\n",
        "      <td> 730.289</td>\n",
        "      <td> 989.643</td>\n",
        "      <td> 108.274</td>\n",
        "    </tr>\n",
        "    <tr>\n",
        "      <th>0.07500</th>\n",
        "      <td> 730.221</td>\n",
        "      <td> 989.679</td>\n",
        "      <td> 108.193</td>\n",
        "    </tr>\n",
        "    <tr>\n",
        "      <th>0.07917</th>\n",
        "      <td> 730.323</td>\n",
        "      <td> 989.553</td>\n",
        "      <td> 108.300</td>\n",
        "    </tr>\n",
        "    <tr>\n",
        "      <th>0.08333</th>\n",
        "      <td> 730.274</td>\n",
        "      <td> 989.566</td>\n",
        "      <td> 108.314</td>\n",
        "    </tr>\n",
        "    <tr>\n",
        "      <th>0.08750</th>\n",
        "      <td> 730.266</td>\n",
        "      <td> 989.680</td>\n",
        "      <td> 108.204</td>\n",
        "    </tr>\n",
        "    <tr>\n",
        "      <th>0.09167</th>\n",
        "      <td> 730.359</td>\n",
        "      <td> 989.613</td>\n",
        "      <td> 108.288</td>\n",
        "    </tr>\n",
        "    <tr>\n",
        "      <th>0.09583</th>\n",
        "      <td> 730.315</td>\n",
        "      <td> 989.591</td>\n",
        "      <td> 108.324</td>\n",
        "    </tr>\n",
        "    <tr>\n",
        "      <th>0.10000</th>\n",
        "      <td> 730.311</td>\n",
        "      <td> 989.640</td>\n",
        "      <td> 108.243</td>\n",
        "    </tr>\n",
        "    <tr>\n",
        "      <th>0.10417</th>\n",
        "      <td> 730.249</td>\n",
        "      <td> 989.586</td>\n",
        "      <td> 108.337</td>\n",
        "    </tr>\n",
        "    <tr>\n",
        "      <th>0.10833</th>\n",
        "      <td> 730.318</td>\n",
        "      <td> 989.596</td>\n",
        "      <td> 108.275</td>\n",
        "    </tr>\n",
        "    <tr>\n",
        "      <th>0.11250</th>\n",
        "      <td> 730.136</td>\n",
        "      <td> 989.562</td>\n",
        "      <td> 108.295</td>\n",
        "    </tr>\n",
        "    <tr>\n",
        "      <th>0.11667</th>\n",
        "      <td> 730.297</td>\n",
        "      <td> 989.581</td>\n",
        "      <td> 108.222</td>\n",
        "    </tr>\n",
        "    <tr>\n",
        "      <th>0.12083</th>\n",
        "      <td> 730.132</td>\n",
        "      <td> 989.598</td>\n",
        "      <td> 108.322</td>\n",
        "    </tr>\n",
        "    <tr>\n",
        "      <th>0.12500</th>\n",
        "      <td> 730.305</td>\n",
        "      <td> 989.660</td>\n",
        "      <td> 108.290</td>\n",
        "    </tr>\n",
        "    <tr>\n",
        "      <th>...</th>\n",
        "      <td>...</td>\n",
        "      <td>...</td>\n",
        "      <td>...</td>\n",
        "    </tr>\n",
        "    <tr>\n",
        "      <th>4.87917</th>\n",
        "      <td> 761.477</td>\n",
        "      <td> 959.274</td>\n",
        "      <td> 108.959</td>\n",
        "    </tr>\n",
        "    <tr>\n",
        "      <th>4.88333</th>\n",
        "      <td> 761.513</td>\n",
        "      <td> 959.309</td>\n",
        "      <td> 108.944</td>\n",
        "    </tr>\n",
        "    <tr>\n",
        "      <th>4.88750</th>\n",
        "      <td> 761.507</td>\n",
        "      <td> 959.303</td>\n",
        "      <td> 108.880</td>\n",
        "    </tr>\n",
        "    <tr>\n",
        "      <th>4.89167</th>\n",
        "      <td> 761.519</td>\n",
        "      <td> 959.397</td>\n",
        "      <td> 108.906</td>\n",
        "    </tr>\n",
        "    <tr>\n",
        "      <th>4.89583</th>\n",
        "      <td> 761.491</td>\n",
        "      <td> 959.309</td>\n",
        "      <td> 108.821</td>\n",
        "    </tr>\n",
        "    <tr>\n",
        "      <th>4.90000</th>\n",
        "      <td> 761.541</td>\n",
        "      <td> 959.408</td>\n",
        "      <td> 108.915</td>\n",
        "    </tr>\n",
        "    <tr>\n",
        "      <th>4.90417</th>\n",
        "      <td> 761.547</td>\n",
        "      <td> 959.429</td>\n",
        "      <td> 108.877</td>\n",
        "    </tr>\n",
        "    <tr>\n",
        "      <th>4.90833</th>\n",
        "      <td> 761.545</td>\n",
        "      <td> 959.378</td>\n",
        "      <td> 108.888</td>\n",
        "    </tr>\n",
        "    <tr>\n",
        "      <th>4.91250</th>\n",
        "      <td> 761.610</td>\n",
        "      <td> 959.399</td>\n",
        "      <td> 108.834</td>\n",
        "    </tr>\n",
        "    <tr>\n",
        "      <th>4.91667</th>\n",
        "      <td> 761.586</td>\n",
        "      <td> 959.443</td>\n",
        "      <td> 108.791</td>\n",
        "    </tr>\n",
        "    <tr>\n",
        "      <th>4.92083</th>\n",
        "      <td> 761.630</td>\n",
        "      <td> 959.336</td>\n",
        "      <td> 108.828</td>\n",
        "    </tr>\n",
        "    <tr>\n",
        "      <th>4.92500</th>\n",
        "      <td> 761.596</td>\n",
        "      <td> 959.407</td>\n",
        "      <td> 108.784</td>\n",
        "    </tr>\n",
        "    <tr>\n",
        "      <th>4.92917</th>\n",
        "      <td> 761.647</td>\n",
        "      <td> 959.390</td>\n",
        "      <td> 108.818</td>\n",
        "    </tr>\n",
        "    <tr>\n",
        "      <th>4.93333</th>\n",
        "      <td> 761.588</td>\n",
        "      <td> 959.323</td>\n",
        "      <td> 108.782</td>\n",
        "    </tr>\n",
        "    <tr>\n",
        "      <th>4.93750</th>\n",
        "      <td> 761.641</td>\n",
        "      <td> 959.407</td>\n",
        "      <td> 108.760</td>\n",
        "    </tr>\n",
        "    <tr>\n",
        "      <th>4.94167</th>\n",
        "      <td> 761.576</td>\n",
        "      <td> 959.487</td>\n",
        "      <td> 108.760</td>\n",
        "    </tr>\n",
        "    <tr>\n",
        "      <th>4.94583</th>\n",
        "      <td> 761.594</td>\n",
        "      <td> 959.406</td>\n",
        "      <td> 108.748</td>\n",
        "    </tr>\n",
        "    <tr>\n",
        "      <th>4.95000</th>\n",
        "      <td> 761.590</td>\n",
        "      <td> 959.381</td>\n",
        "      <td> 108.790</td>\n",
        "    </tr>\n",
        "    <tr>\n",
        "      <th>4.95417</th>\n",
        "      <td> 761.643</td>\n",
        "      <td> 959.382</td>\n",
        "      <td> 108.797</td>\n",
        "    </tr>\n",
        "    <tr>\n",
        "      <th>4.95833</th>\n",
        "      <td> 761.685</td>\n",
        "      <td> 959.450</td>\n",
        "      <td> 108.764</td>\n",
        "    </tr>\n",
        "    <tr>\n",
        "      <th>4.96250</th>\n",
        "      <td> 761.617</td>\n",
        "      <td> 959.461</td>\n",
        "      <td> 108.780</td>\n",
        "    </tr>\n",
        "    <tr>\n",
        "      <th>4.96667</th>\n",
        "      <td> 761.629</td>\n",
        "      <td> 959.441</td>\n",
        "      <td> 108.745</td>\n",
        "    </tr>\n",
        "    <tr>\n",
        "      <th>4.97083</th>\n",
        "      <td> 761.620</td>\n",
        "      <td> 959.417</td>\n",
        "      <td> 108.741</td>\n",
        "    </tr>\n",
        "    <tr>\n",
        "      <th>4.97500</th>\n",
        "      <td> 761.605</td>\n",
        "      <td> 959.484</td>\n",
        "      <td> 108.677</td>\n",
        "    </tr>\n",
        "    <tr>\n",
        "      <th>4.97917</th>\n",
        "      <td> 761.686</td>\n",
        "      <td> 959.421</td>\n",
        "      <td> 108.758</td>\n",
        "    </tr>\n",
        "    <tr>\n",
        "      <th>4.98333</th>\n",
        "      <td> 761.655</td>\n",
        "      <td> 959.503</td>\n",
        "      <td> 108.767</td>\n",
        "    </tr>\n",
        "    <tr>\n",
        "      <th>4.98750</th>\n",
        "      <td> 761.646</td>\n",
        "      <td> 959.393</td>\n",
        "      <td> 108.797</td>\n",
        "    </tr>\n",
        "    <tr>\n",
        "      <th>4.99167</th>\n",
        "      <td> 761.719</td>\n",
        "      <td> 959.384</td>\n",
        "      <td> 108.747</td>\n",
        "    </tr>\n",
        "    <tr>\n",
        "      <th>4.99583</th>\n",
        "      <td> 761.658</td>\n",
        "      <td> 959.496</td>\n",
        "      <td> 108.706</td>\n",
        "    </tr>\n",
        "    <tr>\n",
        "      <th>5.00000</th>\n",
        "      <td> 761.684</td>\n",
        "      <td> 959.346</td>\n",
        "      <td> 108.797</td>\n",
        "    </tr>\n",
        "  </tbody>\n",
        "</table>\n",
        "<p>1200 rows \u00d7 3 columns</p>\n",
        "</div>"
       ],
       "metadata": {},
       "output_type": "pyout",
       "prompt_number": 24,
       "text": [
        "dim            x        y        z\n",
        "t                                 \n",
        "0.00417  730.127  989.645  108.118\n",
        "0.00833  730.003  989.708  108.318\n",
        "0.01250  730.177  989.648  108.233\n",
        "0.01667  730.236  989.686  108.325\n",
        "0.02083  730.145  989.591  108.323\n",
        "0.02500  730.022  989.662  108.326\n",
        "0.02917  730.116  989.686  108.234\n",
        "0.03333  730.212  989.646  108.318\n",
        "0.03750  730.224  989.688  108.325\n",
        "0.04167  730.185  989.653  108.392\n",
        "0.04583  730.603  989.538  107.878\n",
        "0.05000  730.616  989.530  107.879\n",
        "0.05417  730.243  989.398  107.980\n",
        "0.05833  730.354  989.643  108.189\n",
        "0.06250  730.144  989.535  108.308\n",
        "0.06667  730.258  989.559  108.288\n",
        "0.07083  730.289  989.643  108.274\n",
        "0.07500  730.221  989.679  108.193\n",
        "0.07917  730.323  989.553  108.300\n",
        "0.08333  730.274  989.566  108.314\n",
        "0.08750  730.266  989.680  108.204\n",
        "0.09167  730.359  989.613  108.288\n",
        "0.09583  730.315  989.591  108.324\n",
        "0.10000  730.311  989.640  108.243\n",
        "0.10417  730.249  989.586  108.337\n",
        "0.10833  730.318  989.596  108.275\n",
        "0.11250  730.136  989.562  108.295\n",
        "0.11667  730.297  989.581  108.222\n",
        "0.12083  730.132  989.598  108.322\n",
        "0.12500  730.305  989.660  108.290\n",
        "...          ...      ...      ...\n",
        "4.87917  761.477  959.274  108.959\n",
        "4.88333  761.513  959.309  108.944\n",
        "4.88750  761.507  959.303  108.880\n",
        "4.89167  761.519  959.397  108.906\n",
        "4.89583  761.491  959.309  108.821\n",
        "4.90000  761.541  959.408  108.915\n",
        "4.90417  761.547  959.429  108.877\n",
        "4.90833  761.545  959.378  108.888\n",
        "4.91250  761.610  959.399  108.834\n",
        "4.91667  761.586  959.443  108.791\n",
        "4.92083  761.630  959.336  108.828\n",
        "4.92500  761.596  959.407  108.784\n",
        "4.92917  761.647  959.390  108.818\n",
        "4.93333  761.588  959.323  108.782\n",
        "4.93750  761.641  959.407  108.760\n",
        "4.94167  761.576  959.487  108.760\n",
        "4.94583  761.594  959.406  108.748\n",
        "4.95000  761.590  959.381  108.790\n",
        "4.95417  761.643  959.382  108.797\n",
        "4.95833  761.685  959.450  108.764\n",
        "4.96250  761.617  959.461  108.780\n",
        "4.96667  761.629  959.441  108.745\n",
        "4.97083  761.620  959.417  108.741\n",
        "4.97500  761.605  959.484  108.677\n",
        "4.97917  761.686  959.421  108.758\n",
        "4.98333  761.655  959.503  108.767\n",
        "4.98750  761.646  959.393  108.797\n",
        "4.99167  761.719  959.384  108.747\n",
        "4.99583  761.658  959.496  108.706\n",
        "5.00000  761.684  959.346  108.797\n",
        "\n",
        "[1200 rows x 3 columns]"
       ]
      }
     ],
     "prompt_number": 24
    },
    {
     "cell_type": "code",
     "collapsed": false,
     "input": [
      "data.head()"
     ],
     "language": "python",
     "metadata": {},
     "outputs": [
      {
       "html": [
        "<div style=\"max-height:1000px;max-width:1500px;overflow:auto;\">\n",
        "<table border=\"1\" class=\"dataframe\">\n",
        "  <thead>\n",
        "    <tr>\n",
        "      <th>marker</th>\n",
        "      <th colspan=\"3\" halign=\"left\">ANKLE</th>\n",
        "      <th colspan=\"3\" halign=\"left\">HIP</th>\n",
        "      <th colspan=\"3\" halign=\"left\">KNEE</th>\n",
        "    </tr>\n",
        "    <tr>\n",
        "      <th>dim</th>\n",
        "      <th>x</th>\n",
        "      <th>y</th>\n",
        "      <th>z</th>\n",
        "      <th>x</th>\n",
        "      <th>y</th>\n",
        "      <th>z</th>\n",
        "      <th>x</th>\n",
        "      <th>y</th>\n",
        "      <th>z</th>\n",
        "    </tr>\n",
        "    <tr>\n",
        "      <th>t</th>\n",
        "      <th></th>\n",
        "      <th></th>\n",
        "      <th></th>\n",
        "      <th></th>\n",
        "      <th></th>\n",
        "      <th></th>\n",
        "      <th></th>\n",
        "      <th></th>\n",
        "      <th></th>\n",
        "    </tr>\n",
        "  </thead>\n",
        "  <tbody>\n",
        "    <tr>\n",
        "      <th>0.00417</th>\n",
        "      <td> 730.127</td>\n",
        "      <td> 989.645</td>\n",
        "      <td> 108.118</td>\n",
        "      <td> 721.095</td>\n",
        "      <td> 878.675</td>\n",
        "      <td> 849.125</td>\n",
        "      <td> 726.625</td>\n",
        "      <td> 911.194</td>\n",
        "      <td> 428.602</td>\n",
        "    </tr>\n",
        "    <tr>\n",
        "      <th>0.00833</th>\n",
        "      <td> 730.003</td>\n",
        "      <td> 989.708</td>\n",
        "      <td> 108.318</td>\n",
        "      <td> 722.044</td>\n",
        "      <td> 878.265</td>\n",
        "      <td> 849.610</td>\n",
        "      <td> 726.583</td>\n",
        "      <td> 911.019</td>\n",
        "      <td> 428.645</td>\n",
        "    </tr>\n",
        "    <tr>\n",
        "      <th>0.01250</th>\n",
        "      <td> 730.177</td>\n",
        "      <td> 989.648</td>\n",
        "      <td> 108.233</td>\n",
        "      <td> 722.103</td>\n",
        "      <td> 878.227</td>\n",
        "      <td> 849.629</td>\n",
        "      <td> 726.651</td>\n",
        "      <td> 911.020</td>\n",
        "      <td> 428.565</td>\n",
        "    </tr>\n",
        "    <tr>\n",
        "      <th>0.01667</th>\n",
        "      <td> 730.236</td>\n",
        "      <td> 989.686</td>\n",
        "      <td> 108.325</td>\n",
        "      <td> 721.208</td>\n",
        "      <td> 878.723</td>\n",
        "      <td> 849.134</td>\n",
        "      <td> 726.610</td>\n",
        "      <td> 911.044</td>\n",
        "      <td> 428.511</td>\n",
        "    </tr>\n",
        "    <tr>\n",
        "      <th>0.02083</th>\n",
        "      <td> 730.145</td>\n",
        "      <td> 989.591</td>\n",
        "      <td> 108.323</td>\n",
        "      <td> 721.191</td>\n",
        "      <td> 878.635</td>\n",
        "      <td> 849.173</td>\n",
        "      <td> 726.648</td>\n",
        "      <td> 911.092</td>\n",
        "      <td> 428.511</td>\n",
        "    </tr>\n",
        "  </tbody>\n",
        "</table>\n",
        "</div>"
       ],
       "metadata": {},
       "output_type": "pyout",
       "prompt_number": 27,
       "text": [
        "marker     ANKLE                        HIP                       KNEE  \\\n",
        "dim            x        y        z        x        y        z        x   \n",
        "t                                                                        \n",
        "0.00417  730.127  989.645  108.118  721.095  878.675  849.125  726.625   \n",
        "0.00833  730.003  989.708  108.318  722.044  878.265  849.610  726.583   \n",
        "0.01250  730.177  989.648  108.233  722.103  878.227  849.629  726.651   \n",
        "0.01667  730.236  989.686  108.325  721.208  878.723  849.134  726.610   \n",
        "0.02083  730.145  989.591  108.323  721.191  878.635  849.173  726.648   \n",
        "\n",
        "marker                     \n",
        "dim            y        z  \n",
        "t                          \n",
        "0.00417  911.194  428.602  \n",
        "0.00833  911.019  428.645  \n",
        "0.01250  911.020  428.565  \n",
        "0.01667  911.044  428.511  \n",
        "0.02083  911.092  428.511  "
       ]
      }
     ],
     "prompt_number": 27
    },
    {
     "cell_type": "code",
     "collapsed": false,
     "input": [
      "for a, b in data.columns:\n",
      "    print(a,b)"
     ],
     "language": "python",
     "metadata": {},
     "outputs": [
      {
       "output_type": "stream",
       "stream": "stdout",
       "text": [
        "ANKLE x\n",
        "ANKLE y\n",
        "ANKLE z\n",
        "HIP x\n",
        "HIP y\n",
        "HIP z\n",
        "KNEE x\n",
        "KNEE y\n",
        "KNEE z\n"
       ]
      }
     ],
     "prompt_number": 30
    },
    {
     "cell_type": "code",
     "collapsed": false,
     "input": [
      "import pandas as pd\n",
      "\n",
      "data.columns = pd.MultiIndex.from_tuples([\n",
      "(marker.lower(), dim) for marker, dim in data.columns\n",
      "],\n",
      "                                         names=['marker', 'dim'])"
     ],
     "language": "python",
     "metadata": {},
     "outputs": [],
     "prompt_number": 35
    },
    {
     "cell_type": "code",
     "collapsed": false,
     "input": [
      "data.head()"
     ],
     "language": "python",
     "metadata": {},
     "outputs": [
      {
       "html": [
        "<div style=\"max-height:1000px;max-width:1500px;overflow:auto;\">\n",
        "<table border=\"1\" class=\"dataframe\">\n",
        "  <thead>\n",
        "    <tr>\n",
        "      <th>marker</th>\n",
        "      <th colspan=\"3\" halign=\"left\">ankle</th>\n",
        "      <th colspan=\"3\" halign=\"left\">hip</th>\n",
        "      <th colspan=\"3\" halign=\"left\">knee</th>\n",
        "    </tr>\n",
        "    <tr>\n",
        "      <th>dim</th>\n",
        "      <th>x</th>\n",
        "      <th>y</th>\n",
        "      <th>z</th>\n",
        "      <th>x</th>\n",
        "      <th>y</th>\n",
        "      <th>z</th>\n",
        "      <th>x</th>\n",
        "      <th>y</th>\n",
        "      <th>z</th>\n",
        "    </tr>\n",
        "    <tr>\n",
        "      <th>t</th>\n",
        "      <th></th>\n",
        "      <th></th>\n",
        "      <th></th>\n",
        "      <th></th>\n",
        "      <th></th>\n",
        "      <th></th>\n",
        "      <th></th>\n",
        "      <th></th>\n",
        "      <th></th>\n",
        "    </tr>\n",
        "  </thead>\n",
        "  <tbody>\n",
        "    <tr>\n",
        "      <th>0.00417</th>\n",
        "      <td> 730.127</td>\n",
        "      <td> 989.645</td>\n",
        "      <td> 108.118</td>\n",
        "      <td> 721.095</td>\n",
        "      <td> 878.675</td>\n",
        "      <td> 849.125</td>\n",
        "      <td> 726.625</td>\n",
        "      <td> 911.194</td>\n",
        "      <td> 428.602</td>\n",
        "    </tr>\n",
        "    <tr>\n",
        "      <th>0.00833</th>\n",
        "      <td> 730.003</td>\n",
        "      <td> 989.708</td>\n",
        "      <td> 108.318</td>\n",
        "      <td> 722.044</td>\n",
        "      <td> 878.265</td>\n",
        "      <td> 849.610</td>\n",
        "      <td> 726.583</td>\n",
        "      <td> 911.019</td>\n",
        "      <td> 428.645</td>\n",
        "    </tr>\n",
        "    <tr>\n",
        "      <th>0.01250</th>\n",
        "      <td> 730.177</td>\n",
        "      <td> 989.648</td>\n",
        "      <td> 108.233</td>\n",
        "      <td> 722.103</td>\n",
        "      <td> 878.227</td>\n",
        "      <td> 849.629</td>\n",
        "      <td> 726.651</td>\n",
        "      <td> 911.020</td>\n",
        "      <td> 428.565</td>\n",
        "    </tr>\n",
        "    <tr>\n",
        "      <th>0.01667</th>\n",
        "      <td> 730.236</td>\n",
        "      <td> 989.686</td>\n",
        "      <td> 108.325</td>\n",
        "      <td> 721.208</td>\n",
        "      <td> 878.723</td>\n",
        "      <td> 849.134</td>\n",
        "      <td> 726.610</td>\n",
        "      <td> 911.044</td>\n",
        "      <td> 428.511</td>\n",
        "    </tr>\n",
        "    <tr>\n",
        "      <th>0.02083</th>\n",
        "      <td> 730.145</td>\n",
        "      <td> 989.591</td>\n",
        "      <td> 108.323</td>\n",
        "      <td> 721.191</td>\n",
        "      <td> 878.635</td>\n",
        "      <td> 849.173</td>\n",
        "      <td> 726.648</td>\n",
        "      <td> 911.092</td>\n",
        "      <td> 428.511</td>\n",
        "    </tr>\n",
        "  </tbody>\n",
        "</table>\n",
        "</div>"
       ],
       "metadata": {},
       "output_type": "pyout",
       "prompt_number": 36,
       "text": [
        "marker     ankle                        hip                       knee  \\\n",
        "dim            x        y        z        x        y        z        x   \n",
        "t                                                                        \n",
        "0.00417  730.127  989.645  108.118  721.095  878.675  849.125  726.625   \n",
        "0.00833  730.003  989.708  108.318  722.044  878.265  849.610  726.583   \n",
        "0.01250  730.177  989.648  108.233  722.103  878.227  849.629  726.651   \n",
        "0.01667  730.236  989.686  108.325  721.208  878.723  849.134  726.610   \n",
        "0.02083  730.145  989.591  108.323  721.191  878.635  849.173  726.648   \n",
        "\n",
        "marker                     \n",
        "dim            y        z  \n",
        "t                          \n",
        "0.00417  911.194  428.602  \n",
        "0.00833  911.019  428.645  \n",
        "0.01250  911.020  428.565  \n",
        "0.01667  911.044  428.511  \n",
        "0.02083  911.092  428.511  "
       ]
      }
     ],
     "prompt_number": 36
    },
    {
     "cell_type": "code",
     "collapsed": false,
     "input": [
      "data.xs('ankle', axis=1, level='marker').head()"
     ],
     "language": "python",
     "metadata": {},
     "outputs": [
      {
       "html": [
        "<div style=\"max-height:1000px;max-width:1500px;overflow:auto;\">\n",
        "<table border=\"1\" class=\"dataframe\">\n",
        "  <thead>\n",
        "    <tr style=\"text-align: right;\">\n",
        "      <th>dim</th>\n",
        "      <th>x</th>\n",
        "      <th>y</th>\n",
        "      <th>z</th>\n",
        "    </tr>\n",
        "    <tr>\n",
        "      <th>t</th>\n",
        "      <th></th>\n",
        "      <th></th>\n",
        "      <th></th>\n",
        "    </tr>\n",
        "  </thead>\n",
        "  <tbody>\n",
        "    <tr>\n",
        "      <th>0.00417</th>\n",
        "      <td> 730.127</td>\n",
        "      <td> 989.645</td>\n",
        "      <td> 108.118</td>\n",
        "    </tr>\n",
        "    <tr>\n",
        "      <th>0.00833</th>\n",
        "      <td> 730.003</td>\n",
        "      <td> 989.708</td>\n",
        "      <td> 108.318</td>\n",
        "    </tr>\n",
        "    <tr>\n",
        "      <th>0.01250</th>\n",
        "      <td> 730.177</td>\n",
        "      <td> 989.648</td>\n",
        "      <td> 108.233</td>\n",
        "    </tr>\n",
        "    <tr>\n",
        "      <th>0.01667</th>\n",
        "      <td> 730.236</td>\n",
        "      <td> 989.686</td>\n",
        "      <td> 108.325</td>\n",
        "    </tr>\n",
        "    <tr>\n",
        "      <th>0.02083</th>\n",
        "      <td> 730.145</td>\n",
        "      <td> 989.591</td>\n",
        "      <td> 108.323</td>\n",
        "    </tr>\n",
        "  </tbody>\n",
        "</table>\n",
        "</div>"
       ],
       "metadata": {},
       "output_type": "pyout",
       "prompt_number": 37,
       "text": [
        "dim            x        y        z\n",
        "t                                 \n",
        "0.00417  730.127  989.645  108.118\n",
        "0.00833  730.003  989.708  108.318\n",
        "0.01250  730.177  989.648  108.233\n",
        "0.01667  730.236  989.686  108.325\n",
        "0.02083  730.145  989.591  108.323"
       ]
      }
     ],
     "prompt_number": 37
    },
    {
     "cell_type": "code",
     "collapsed": false,
     "input": [
      "shank = data.xs('knee', axis=1, level='marker') - \\\n",
      "        data.xs('ankle', axis=1, level='marker')"
     ],
     "language": "python",
     "metadata": {},
     "outputs": [],
     "prompt_number": 40
    },
    {
     "cell_type": "code",
     "collapsed": false,
     "input": [
      "shank.head()"
     ],
     "language": "python",
     "metadata": {},
     "outputs": [
      {
       "html": [
        "<div style=\"max-height:1000px;max-width:1500px;overflow:auto;\">\n",
        "<table border=\"1\" class=\"dataframe\">\n",
        "  <thead>\n",
        "    <tr style=\"text-align: right;\">\n",
        "      <th>dim</th>\n",
        "      <th>x</th>\n",
        "      <th>y</th>\n",
        "      <th>z</th>\n",
        "    </tr>\n",
        "    <tr>\n",
        "      <th>t</th>\n",
        "      <th></th>\n",
        "      <th></th>\n",
        "      <th></th>\n",
        "    </tr>\n",
        "  </thead>\n",
        "  <tbody>\n",
        "    <tr>\n",
        "      <th>0.00417</th>\n",
        "      <td>-3.502</td>\n",
        "      <td>-78.451</td>\n",
        "      <td> 320.484</td>\n",
        "    </tr>\n",
        "    <tr>\n",
        "      <th>0.00833</th>\n",
        "      <td>-3.420</td>\n",
        "      <td>-78.689</td>\n",
        "      <td> 320.327</td>\n",
        "    </tr>\n",
        "    <tr>\n",
        "      <th>0.01250</th>\n",
        "      <td>-3.526</td>\n",
        "      <td>-78.628</td>\n",
        "      <td> 320.332</td>\n",
        "    </tr>\n",
        "    <tr>\n",
        "      <th>0.01667</th>\n",
        "      <td>-3.626</td>\n",
        "      <td>-78.642</td>\n",
        "      <td> 320.186</td>\n",
        "    </tr>\n",
        "    <tr>\n",
        "      <th>0.02083</th>\n",
        "      <td>-3.497</td>\n",
        "      <td>-78.499</td>\n",
        "      <td> 320.188</td>\n",
        "    </tr>\n",
        "  </tbody>\n",
        "</table>\n",
        "</div>"
       ],
       "metadata": {},
       "output_type": "pyout",
       "prompt_number": 42,
       "text": [
        "dim          x       y        z\n",
        "t                              \n",
        "0.00417 -3.502 -78.451  320.484\n",
        "0.00833 -3.420 -78.689  320.327\n",
        "0.01250 -3.526 -78.628  320.332\n",
        "0.01667 -3.626 -78.642  320.186\n",
        "0.02083 -3.497 -78.499  320.188"
       ]
      }
     ],
     "prompt_number": 42
    },
    {
     "cell_type": "code",
     "collapsed": false,
     "input": [
      "import numpy as np\n",
      "\n",
      "def to_array(frame, marker):\n",
      "    new_frame = frame.xs(marker, axis=1, level='marker')\n",
      "    return np.asarray(new_frame)\n",
      "\n",
      "to_array(data, 'ankle')"
     ],
     "language": "python",
     "metadata": {},
     "outputs": [
      {
       "metadata": {},
       "output_type": "pyout",
       "prompt_number": 43,
       "text": [
        "array([[ 730.127,  989.645,  108.118],\n",
        "       [ 730.003,  989.708,  108.318],\n",
        "       [ 730.177,  989.648,  108.233],\n",
        "       ..., \n",
        "       [ 761.719,  959.384,  108.747],\n",
        "       [ 761.658,  959.496,  108.706],\n",
        "       [ 761.684,  959.346,  108.797]])"
       ]
      }
     ],
     "prompt_number": 43
    },
    {
     "cell_type": "code",
     "collapsed": false,
     "input": [
      "ankle = to_array(data, 'ankle')\n",
      "knee = to_array(data, 'knee')\n",
      "hip = to_array(data, 'hip')\n",
      "\n",
      "shank = knee - ankle\n",
      "thigh = hip - knee"
     ],
     "language": "python",
     "metadata": {},
     "outputs": [],
     "prompt_number": 44
    },
    {
     "cell_type": "markdown",
     "metadata": {},
     "source": [
      "`atan2(norm(cross(a, b)), dot(a, b))`"
     ]
    },
    {
     "cell_type": "code",
     "collapsed": false,
     "input": [
      "np.cross(shank, thigh)"
     ],
     "language": "python",
     "metadata": {},
     "outputs": [
      {
       "metadata": {},
       "output_type": "pyout",
       "prompt_number": 49,
       "text": [
        "array([[ -2.25686307e+04,  -2.99604974e+02,  -3.19952492e+02],\n",
        "       [ -2.26333243e+04,  -1.42639530e+01,  -2.45150691e+02],\n",
        "       [ -2.26027729e+04,   2.78017280e+01,  -2.41972026e+02],\n",
        "       ..., \n",
        "       [ -4.30252354e+04,  -3.13865828e+03,  -9.29285121e+02],\n",
        "       [ -4.30672360e+04,  -3.20209409e+03,  -9.35277394e+02],\n",
        "       [ -4.30685318e+04,  -3.18355589e+03,  -9.25653561e+02]])"
       ]
      }
     ],
     "prompt_number": 49
    },
    {
     "cell_type": "code",
     "collapsed": false,
     "input": [
      "np.linalg.norm(np.cross(shank, thigh), axis=-1)"
     ],
     "language": "python",
     "metadata": {},
     "outputs": [
      {
       "metadata": {},
       "output_type": "pyout",
       "prompt_number": 54,
       "text": [
        "array([ 22572.88690824,  22634.65644565,  22604.08518144, ...,\n",
        "        43149.57270624,  43196.2379247 ,  43195.95226132])"
       ]
      }
     ],
     "prompt_number": 54
    },
    {
     "cell_type": "code",
     "collapsed": false,
     "input": [
      "(shank * thigh).sum(axis=1)"
     ],
     "language": "python",
     "metadata": {},
     "outputs": [
      {
       "metadata": {},
       "output_type": "pyout",
       "prompt_number": 58,
       "text": [
        "array([ 137341.407261,  137439.358441,  137474.7575  , ...,  130811.331176,\n",
        "        130829.67385 ,  130790.887092])"
       ]
      }
     ],
     "prompt_number": 58
    },
    {
     "cell_type": "code",
     "collapsed": false,
     "input": [
      "def row_wise_dot(a, b):\n",
      "    return (a * b).sum(axis=-1)"
     ],
     "language": "python",
     "metadata": {},
     "outputs": [],
     "prompt_number": 59
    },
    {
     "cell_type": "code",
     "collapsed": false,
     "input": [
      "from numpy.core.umath_tests import inner1d"
     ],
     "language": "python",
     "metadata": {},
     "outputs": [],
     "prompt_number": 60
    },
    {
     "cell_type": "code",
     "collapsed": false,
     "input": [
      "inner1d(shank, thigh)"
     ],
     "language": "python",
     "metadata": {},
     "outputs": [
      {
       "metadata": {},
       "output_type": "pyout",
       "prompt_number": 61,
       "text": [
        "array([ 137341.407261,  137439.358441,  137474.7575  , ...,  130811.331176,\n",
        "        130829.67385 ,  130790.887092])"
       ]
      }
     ],
     "prompt_number": 61
    },
    {
     "cell_type": "code",
     "collapsed": false,
     "input": [
      "np.einsum?"
     ],
     "language": "python",
     "metadata": {},
     "outputs": [],
     "prompt_number": 64
    },
    {
     "cell_type": "code",
     "collapsed": false,
     "input": [
      "np.einsum('ij,ij -> i', shank, thigh)"
     ],
     "language": "python",
     "metadata": {},
     "outputs": [
      {
       "metadata": {},
       "output_type": "pyout",
       "prompt_number": 72,
       "text": [
        "array([ 137341.407261,  137439.358441,  137474.7575  , ...,  130811.331176,\n",
        "        130829.67385 ,  130790.887092])"
       ]
      }
     ],
     "prompt_number": 72
    },
    {
     "cell_type": "code",
     "collapsed": false,
     "input": [
      "from functools import partial\n",
      "\n",
      "row_wise_dot_ein = partial(np.einsum, 'ij,ij -> i')"
     ],
     "language": "python",
     "metadata": {},
     "outputs": [],
     "prompt_number": 75
    },
    {
     "cell_type": "code",
     "collapsed": false,
     "input": [
      "def loop_dot(a, b):\n",
      "    return np.array([\n",
      "        np.dot(row_a, row_b) for row_a, row_b in zip(a, b)\n",
      "])"
     ],
     "language": "python",
     "metadata": {},
     "outputs": [],
     "prompt_number": 78
    },
    {
     "cell_type": "code",
     "collapsed": false,
     "input": [
      "def dot(merged_row):\n",
      "    return np.dot(merged_row[:3], merged_row[3:])\n",
      "\n",
      "def apply_dot(a, b):\n",
      "    return np.apply_along_axis(\n",
      "        dot, 1, np.concatenate((a, b), axis=1))"
     ],
     "language": "python",
     "metadata": {},
     "outputs": [],
     "prompt_number": 96
    },
    {
     "cell_type": "code",
     "collapsed": false,
     "input": [
      "assert np.all(row_wise_dot(shank, thigh) == inner1d(shank, thigh))\n",
      "assert np.all(row_wise_dot(shank, thigh) == row_wise_dot_ein(shank, thigh))\n",
      "assert np.all(row_wise_dot(shank, thigh) == loop_dot(shank, thigh))\n",
      "\n",
      "print('arithmetic ufuncs:')\n",
      "%timeit for _ in range(1000): row_wise_dot(shank, thigh)\n",
      "    \n",
      "print('\\ninner1d:')\n",
      "%timeit for _ in range(1000): inner1d(shank, thigh)\n",
      "    \n",
      "print('\\neinsum:')\n",
      "%timeit for _ in range(1000): row_wise_dot_ein(shank, thigh)\n",
      "    \n",
      "print('\\nloop:')\n",
      "%timeit for _ in range(1000): loop_dot(shank, thigh)\n",
      "    \n",
      "print('\\napply:')\n",
      "%timeit for _ in range(1000): apply_dot(shank, thigh)"
     ],
     "language": "python",
     "metadata": {},
     "outputs": [
      {
       "output_type": "stream",
       "stream": "stdout",
       "text": [
        "arithmetic ufuncs:\n",
        "100 loops, best of 3: 15.7 ms per loop"
       ]
      },
      {
       "output_type": "stream",
       "stream": "stdout",
       "text": [
        "\n",
        "\n",
        "inner1d:\n",
        "100 loops, best of 3: 5.9 ms per loop"
       ]
      },
      {
       "output_type": "stream",
       "stream": "stdout",
       "text": [
        "\n",
        "\n",
        "einsum:\n",
        "100 loops, best of 3: 5.65 ms per loop"
       ]
      },
      {
       "output_type": "stream",
       "stream": "stdout",
       "text": [
        "\n",
        "\n",
        "loop:\n",
        "1 loops, best of 3: 1.81 s per loop"
       ]
      },
      {
       "output_type": "stream",
       "stream": "stdout",
       "text": [
        "\n",
        "\n",
        "apply:\n",
        "1 loops, best of 3: 15.1 s per loop"
       ]
      },
      {
       "output_type": "stream",
       "stream": "stdout",
       "text": [
        "\n"
       ]
      }
     ],
     "prompt_number": 97
    },
    {
     "cell_type": "code",
     "collapsed": false,
     "input": [
      "panel = pd.Panel({marker: data.xs(marker, axis=1, level='marker')\n",
      "          for marker in ('ankle', 'knee', 'hip')})"
     ],
     "language": "python",
     "metadata": {},
     "outputs": [],
     "prompt_number": 103
    },
    {
     "cell_type": "code",
     "collapsed": false,
     "input": [
      "panel['shank'] = panel['knee'] - panel['ankle']"
     ],
     "language": "python",
     "metadata": {},
     "outputs": [],
     "prompt_number": 106
    },
    {
     "cell_type": "code",
     "collapsed": false,
     "input": [
      "panel['shank'].head()"
     ],
     "language": "python",
     "metadata": {},
     "outputs": [
      {
       "html": [
        "<div style=\"max-height:1000px;max-width:1500px;overflow:auto;\">\n",
        "<table border=\"1\" class=\"dataframe\">\n",
        "  <thead>\n",
        "    <tr style=\"text-align: right;\">\n",
        "      <th>dim</th>\n",
        "      <th>x</th>\n",
        "      <th>y</th>\n",
        "      <th>z</th>\n",
        "    </tr>\n",
        "    <tr>\n",
        "      <th>t</th>\n",
        "      <th></th>\n",
        "      <th></th>\n",
        "      <th></th>\n",
        "    </tr>\n",
        "  </thead>\n",
        "  <tbody>\n",
        "    <tr>\n",
        "      <th>0.00417</th>\n",
        "      <td>-3.502</td>\n",
        "      <td>-78.451</td>\n",
        "      <td> 320.484</td>\n",
        "    </tr>\n",
        "    <tr>\n",
        "      <th>0.00833</th>\n",
        "      <td>-3.420</td>\n",
        "      <td>-78.689</td>\n",
        "      <td> 320.327</td>\n",
        "    </tr>\n",
        "    <tr>\n",
        "      <th>0.01250</th>\n",
        "      <td>-3.526</td>\n",
        "      <td>-78.628</td>\n",
        "      <td> 320.332</td>\n",
        "    </tr>\n",
        "    <tr>\n",
        "      <th>0.01667</th>\n",
        "      <td>-3.626</td>\n",
        "      <td>-78.642</td>\n",
        "      <td> 320.186</td>\n",
        "    </tr>\n",
        "    <tr>\n",
        "      <th>0.02083</th>\n",
        "      <td>-3.497</td>\n",
        "      <td>-78.499</td>\n",
        "      <td> 320.188</td>\n",
        "    </tr>\n",
        "  </tbody>\n",
        "</table>\n",
        "</div>"
       ],
       "metadata": {},
       "output_type": "pyout",
       "prompt_number": 107,
       "text": [
        "dim          x       y        z\n",
        "t                              \n",
        "0.00417 -3.502 -78.451  320.484\n",
        "0.00833 -3.420 -78.689  320.327\n",
        "0.01250 -3.526 -78.628  320.332\n",
        "0.01667 -3.626 -78.642  320.186\n",
        "0.02083 -3.497 -78.499  320.188"
       ]
      }
     ],
     "prompt_number": 107
    },
    {
     "cell_type": "code",
     "collapsed": false,
     "input": [
      "def angle_between(a, b):\n",
      "    return np.arctan2(\n",
      "        np.linalg.norm(np.cross(a, b)),\n",
      "        row_wise_dot_ein(a, b)\n",
      "    )"
     ],
     "language": "python",
     "metadata": {},
     "outputs": [],
     "prompt_number": 112
    },
    {
     "cell_type": "code",
     "collapsed": false,
     "input": [
      "knee_angle = angle_between(shank, thigh)"
     ],
     "language": "python",
     "metadata": {},
     "outputs": [],
     "prompt_number": 113
    },
    {
     "cell_type": "code",
     "collapsed": false,
     "input": [
      "time = np.asarray(data.index)\n",
      "time"
     ],
     "language": "python",
     "metadata": {},
     "outputs": [
      {
       "metadata": {},
       "output_type": "pyout",
       "prompt_number": 119,
       "text": [
        "array([  4.17000000e-03,   8.33000000e-03,   1.25000000e-02, ...,\n",
        "         4.99167000e+00,   4.99583000e+00,   5.00000000e+00])"
       ]
      }
     ],
     "prompt_number": 119
    },
    {
     "cell_type": "code",
     "collapsed": false,
     "input": [
      "hip_speed = np.linalg.norm(np.diff(hip, axis=0), axis=1) / np.diff(time)"
     ],
     "language": "python",
     "metadata": {},
     "outputs": [],
     "prompt_number": 125
    },
    {
     "cell_type": "code",
     "collapsed": false,
     "input": [
      "hip_speed"
     ],
     "language": "python",
     "metadata": {},
     "outputs": [
      {
       "metadata": {},
       "output_type": "pyout",
       "prompt_number": 126,
       "text": [
        "array([ 274.49418079,   17.43522372,  272.58772448, ...,   39.46720596,\n",
        "         21.44818176,   36.80332536])"
       ]
      }
     ],
     "prompt_number": 126
    },
    {
     "cell_type": "code",
     "collapsed": false,
     "input": [
      "%matplotlib inline\n",
      "import matplotlib.pyplot as plt"
     ],
     "language": "python",
     "metadata": {},
     "outputs": [],
     "prompt_number": 127
    },
    {
     "cell_type": "code",
     "collapsed": false,
     "input": [
      "plt.plot(time[1:], hip_speed)"
     ],
     "language": "python",
     "metadata": {},
     "outputs": [
      {
       "metadata": {},
       "output_type": "pyout",
       "prompt_number": 130,
       "text": [
        "[<matplotlib.lines.Line2D at 0x7fe9e780c240>]"
       ]
      },
      {
       "metadata": {},
       "output_type": "display_data",
       "png": "[encoded data removed]",
       "text": [
        "<matplotlib.figure.Figure at 0x7fe9e78b8470>"
       ]
      }
     ],
     "prompt_number": 130
    },
    {
     "cell_type": "code",
     "collapsed": false,
     "input": [
      "hip_vert_vel = np.diff(hip[:,-1]) / np.diff(time)\n",
      "plt.plot(time[1:], hip_vert_vel)"
     ],
     "language": "python",
     "metadata": {},
     "outputs": [
      {
       "metadata": {},
       "output_type": "pyout",
       "prompt_number": 132,
       "text": [
        "[<matplotlib.lines.Line2D at 0x7fe9e77bca90>]"
       ]
      },
      {
       "metadata": {},
       "output_type": "display_data",
       "png": "[encoded data removed]",
       "text": [
        "<matplotlib.figure.Figure at 0x7fe9e7867940>"
       ]
      }
     ],
     "prompt_number": 132
    },
    {
     "cell_type": "code",
     "collapsed": false,
     "input": [
      "plt.plot(time, hip[:,-1])"
     ],
     "language": "python",
     "metadata": {},
     "outputs": [
      {
       "metadata": {},
       "output_type": "pyout",
       "prompt_number": 133,
       "text": [
        "[<matplotlib.lines.Line2D at 0x7fe9e7716828>]"
       ]
      },
      {
       "metadata": {},
       "output_type": "display_data",
       "png": "[encoded data removed]",
       "text": [
        "<matplotlib.figure.Figure at 0x7fe9e7759518>"
       ]
      }
     ],
     "prompt_number": 133
    },
    {
     "cell_type": "code",
     "collapsed": false,
     "input": [
      "plt.plot(hip_vert_vel < -240, '.')"
     ],
     "language": "python",
     "metadata": {},
     "outputs": [
      {
       "metadata": {},
       "output_type": "pyout",
       "prompt_number": 138,
       "text": [
        "[<matplotlib.lines.Line2D at 0x7fe9e75fec18>]"
       ]
      },
      {
       "metadata": {},
       "output_type": "display_data",
       "png": "[encoded data removed]",
       "text": [
        "<matplotlib.figure.Figure at 0x7fe9e7633ef0>"
       ]
      }
     ],
     "prompt_number": 138
    },
    {
     "cell_type": "code",
     "collapsed": false,
     "input": [
      "onset_idx = np.argwhere(hip_vert_vel < -240)[0]"
     ],
     "language": "python",
     "metadata": {},
     "outputs": [],
     "prompt_number": 142
    },
    {
     "cell_type": "code",
     "collapsed": false,
     "input": [
      "rel_time = time - time[onset_idx]"
     ],
     "language": "python",
     "metadata": {},
     "outputs": [],
     "prompt_number": 144
    },
    {
     "cell_type": "code",
     "collapsed": false,
     "input": [
      "plt.plot(rel_time, hip[:,-1])"
     ],
     "language": "python",
     "metadata": {},
     "outputs": [
      {
       "metadata": {},
       "output_type": "pyout",
       "prompt_number": 146,
       "text": [
        "[<matplotlib.lines.Line2D at 0x7fe9e7533ac8>]"
       ]
      },
      {
       "metadata": {},
       "output_type": "display_data",
       "png": "[encoded data removed]",
       "text": [
        "<matplotlib.figure.Figure at 0x7fe9e75d4dd8>"
       ]
      }
     ],
     "prompt_number": 146
    },
    {
     "cell_type": "code",
     "collapsed": false,
     "input": [
      "plt.plot(rel_time[1:], hip_vert_vel,\n",
      "         [0, 0], [hip_vert_vel.min(), hip_vert_vel.max()], 'k:')"
     ],
     "language": "python",
     "metadata": {},
     "outputs": [
      {
       "metadata": {},
       "output_type": "pyout",
       "prompt_number": 147,
       "text": [
        "[<matplotlib.lines.Line2D at 0x7fe9e74934e0>,\n",
        " <matplotlib.lines.Line2D at 0x7fe9e7493860>]"
       ]
      },
      {
       "metadata": {},
       "output_type": "display_data",
       "png": "[encoded data removed]",
       "text": [
        "<matplotlib.figure.Figure at 0x7fe9e74ccd68>"
       ]
      }
     ],
     "prompt_number": 147
    },
    {
     "cell_type": "code",
     "collapsed": false,
     "input": [
      "plt.plot(rel_time, hip[:,-1],\n",
      "         [0, 0], [hip[:,-1].min(), hip[:,-1].max()], 'k:')"
     ],
     "language": "python",
     "metadata": {},
     "outputs": [
      {
       "metadata": {},
       "output_type": "pyout",
       "prompt_number": 149,
       "text": [
        "[<matplotlib.lines.Line2D at 0x7fe9e73cdb38>,\n",
        " <matplotlib.lines.Line2D at 0x7fe9e73cdeb8>]"
       ]
      },
      {
       "metadata": {},
       "output_type": "display_data",
       "png": "[encoded data removed]",
       "text": [
        "<matplotlib.figure.Figure at 0x7fe9e744c780>"
       ]
      }
     ],
     "prompt_number": 149
    },
    {
     "cell_type": "code",
     "collapsed": false,
     "input": [
      "takeoff_idx = hip_vert_vel.argmax()\n",
      "takeoff_time = rel_time[takeoff_idx]\n",
      "takeoff_time"
     ],
     "language": "python",
     "metadata": {},
     "outputs": [
      {
       "metadata": {},
       "output_type": "pyout",
       "prompt_number": 153,
       "text": [
        "0.6875"
       ]
      }
     ],
     "prompt_number": 153
    },
    {
     "cell_type": "code",
     "collapsed": false,
     "input": [
      "y_limits = [hip_vert_vel.min(), hip_vert_vel.max()]\n",
      "\n",
      "plt.plot(rel_time[1:], hip_vert_vel,\n",
      "         [0, 0], y_limits, 'k:',\n",
      "         [takeoff_time, takeoff_time], y_limits, 'k:')"
     ],
     "language": "python",
     "metadata": {},
     "outputs": [
      {
       "metadata": {},
       "output_type": "pyout",
       "prompt_number": 155,
       "text": [
        "[<matplotlib.lines.Line2D at 0x7fe9e7312208>,\n",
        " <matplotlib.lines.Line2D at 0x7fe9e7312588>,\n",
        " <matplotlib.lines.Line2D at 0x7fe9e7312e10>]"
       ]
      },
      {
       "metadata": {},
       "output_type": "display_data",
       "png": "[encoded data removed]",
       "text": [
        "<matplotlib.figure.Figure at 0x7fe9e7420dd8>"
       ]
      }
     ],
     "prompt_number": 155
    },
    {
     "cell_type": "code",
     "collapsed": false,
     "input": [
      "y_limits = [hip[:,2].min(), hip[:,2].max()]\n",
      "\n",
      "plt.plot(rel_time, hip[:,2],\n",
      "         [0, 0], y_limits, 'k:',\n",
      "         [takeoff_time, takeoff_time], y_limits, 'k:')"
     ],
     "language": "python",
     "metadata": {},
     "outputs": [
      {
       "metadata": {},
       "output_type": "pyout",
       "prompt_number": 157,
       "text": [
        "[<matplotlib.lines.Line2D at 0x7fe9e724fd68>,\n",
        " <matplotlib.lines.Line2D at 0x7fe9e7254128>,\n",
        " <matplotlib.lines.Line2D at 0x7fe9e72549b0>]"
       ]
      },
      {
       "metadata": {},
       "output_type": "display_data",
       "png": "[encoded data removed]",
       "text": [
        "<matplotlib.figure.Figure at 0x7fe9e73a5ac8>"
       ]
      }
     ],
     "prompt_number": 157
    },
    {
     "cell_type": "code",
     "collapsed": false,
     "input": [
      "def plot_with_vertical_lines(x, y, *x_locations):\n",
      "    y_limits = [y.min(), y.max()]\n",
      "    args = []\n",
      "    for x_loc in x_locations:\n",
      "        args.extend([[x_loc, x_loc], y_limits, 'k:'])\n",
      "    plt.plot(x, y, *args)"
     ],
     "language": "python",
     "metadata": {},
     "outputs": [],
     "prompt_number": 158
    },
    {
     "cell_type": "code",
     "collapsed": false,
     "input": [
      "plot_with_vertical_lines(rel_time, hip[:,2], 0, takeoff_time)"
     ],
     "language": "python",
     "metadata": {},
     "outputs": [
      {
       "metadata": {},
       "output_type": "display_data",
       "png": "[encoded data removed]",
       "text": [
        "<matplotlib.figure.Figure at 0x7fe9e7318f28>"
       ]
      }
     ],
     "prompt_number": 159
    },
    {
     "cell_type": "code",
     "collapsed": false,
     "input": [
      "max_height_idx = takeoff_idx + np.argwhere(hip_vert_vel[takeoff_idx:-1] * hip_vert_vel[takeoff_idx+1] < 0)[0]\n",
      "max_height_time = rel_time[max_height_idx]"
     ],
     "language": "python",
     "metadata": {},
     "outputs": [],
     "prompt_number": 168
    },
    {
     "cell_type": "code",
     "collapsed": false,
     "input": [
      "plot_with_vertical_lines(rel_time, hip[:,2], 0, takeoff_time, max_height_time)"
     ],
     "language": "python",
     "metadata": {},
     "outputs": [
      {
       "metadata": {},
       "output_type": "display_data",
       "png": "[encoded data removed]",
       "text": [
        "<matplotlib.figure.Figure at 0x7fe9e72187b8>"
       ]
      }
     ],
     "prompt_number": 169
    },
    {
     "cell_type": "code",
     "collapsed": false,
     "input": [
      "landing_idx = hip_vert_vel.argmin()\n",
      "landing_time = rel_time[landing_idx]"
     ],
     "language": "python",
     "metadata": {},
     "outputs": [],
     "prompt_number": 170
    },
    {
     "cell_type": "code",
     "collapsed": false,
     "input": [
      "plot_with_vertical_lines(rel_time[1:], hip_vert_vel,\n",
      "                         0, takeoff_time, max_height_time, landing_time)"
     ],
     "language": "python",
     "metadata": {},
     "outputs": [
      {
       "metadata": {},
       "output_type": "display_data",
       "png": "[encoded data removed]",
       "text": [
        "<matplotlib.figure.Figure at 0x7fe9e79a3a58>"
       ]
      }
     ],
     "prompt_number": 171
    },
    {
     "cell_type": "code",
     "collapsed": false,
     "input": [
      "end_idx = np.argwhere(hip_vert_vel[landing_idx:] > -240)[0] + landing_idx\n",
      "end_time = rel_time[end_idx]"
     ],
     "language": "python",
     "metadata": {},
     "outputs": [],
     "prompt_number": 172
    },
    {
     "cell_type": "code",
     "collapsed": false,
     "input": [
      "plot_with_vertical_lines(rel_time[1:], hip_vert_vel,\n",
      "                         0, takeoff_time, max_height_time,\n",
      "                         landing_time, end_time)"
     ],
     "language": "python",
     "metadata": {},
     "outputs": [
      {
       "metadata": {},
       "output_type": "display_data",
       "png": "[encoded data removed]",
       "text": [
        "<matplotlib.figure.Figure at 0x7fe9e732a400>"
       ]
      }
     ],
     "prompt_number": 173
    },
    {
     "cell_type": "code",
     "collapsed": false,
     "input": [
      "plot_with_vertical_lines(rel_time, hip[:,2],\n",
      "                         0, takeoff_time, max_height_time,\n",
      "                         landing_time, end_time)"
     ],
     "language": "python",
     "metadata": {},
     "outputs": [
      {
       "metadata": {},
       "output_type": "display_data",
       "png": "[encoded data removed]",
       "text": [
        "<matplotlib.figure.Figure at 0x7fe9e71ee780>"
       ]
      }
     ],
     "prompt_number": 175
    },
    {
     "cell_type": "code",
     "collapsed": false,
     "input": [
      "hip[max_height_idx, 2] - hip[0,2]"
     ],
     "language": "python",
     "metadata": {},
     "outputs": [
      {
       "metadata": {},
       "output_type": "pyout",
       "prompt_number": 177,
       "text": [
        "array([ 304.351])"
       ]
      }
     ],
     "prompt_number": 177
    },
    {
     "cell_type": "code",
     "collapsed": false,
     "input": [
      "g = 9.81 * 1000"
     ],
     "language": "python",
     "metadata": {},
     "outputs": [],
     "prompt_number": 180
    },
    {
     "cell_type": "code",
     "collapsed": false,
     "input": [
      "hip_vert_vel[takeoff_idx]**2 / (2*g)"
     ],
     "language": "python",
     "metadata": {},
     "outputs": [
      {
       "metadata": {},
       "output_type": "pyout",
       "prompt_number": 181,
       "text": [
        "295.04653011649816"
       ]
      }
     ],
     "prompt_number": 181
    },
    {
     "cell_type": "code",
     "collapsed": false,
     "input": [
      "hip[max_height_idx, 2] - hip[0, 2]"
     ],
     "language": "python",
     "metadata": {},
     "outputs": [
      {
       "metadata": {},
       "output_type": "pyout",
       "prompt_number": 183,
       "text": [
        "array([ 304.351])"
       ]
      }
     ],
     "prompt_number": 183
    },
    {
     "cell_type": "code",
     "collapsed": false,
     "input": [
      "flight_time = landing_time - takeoff_time"
     ],
     "language": "python",
     "metadata": {},
     "outputs": [],
     "prompt_number": 184
    },
    {
     "cell_type": "code",
     "collapsed": false,
     "input": [
      "9.81 * flight_time / 2"
     ],
     "language": "python",
     "metadata": {},
     "outputs": [
      {
       "metadata": {},
       "output_type": "pyout",
       "prompt_number": 186,
       "text": [
        "2.268562500000002"
       ]
      }
     ],
     "prompt_number": 186
    },
    {
     "cell_type": "code",
     "collapsed": false,
     "input": [
      "plot_with_vertical_lines(rel_time, knee[:,2],\n",
      "                         0, takeoff_time, max_height_time,\n",
      "                         landing_time, end_time)"
     ],
     "language": "python",
     "metadata": {},
     "outputs": [
      {
       "metadata": {},
       "output_type": "display_data",
       "png": "[encoded data removed]",
       "text": [
        "<matplotlib.figure.Figure at 0x7fe9e797c400>"
       ]
      }
     ],
     "prompt_number": 189
    },
    {
     "cell_type": "code",
     "collapsed": false,
     "input": [],
     "language": "python",
     "metadata": {},
     "outputs": []
    }
   ],
   "metadata": {}
  }
 ]
}